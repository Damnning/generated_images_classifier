{
 "cells": [
  {
   "cell_type": "code",
   "execution_count": 1,
   "id": "598149d7-dec2-4cc1-adb8-d787de5914fc",
   "metadata": {},
   "outputs": [],
   "source": [
    "import torch\n",
    "import torch.nn as nn\n",
    "import torch.optim as optim\n",
    "from torchvision import models, transforms\n",
    "from torch.utils.data import DataLoader, Dataset\n",
    "from PIL import Image\n",
    "import os\n",
    "from tqdm import tqdm\n",
    "import torch.nn.functional as F\n",
    "from sklearn.metrics import accuracy_score\n",
    "import torchvision"
   ]
  },
  {
   "cell_type": "code",
   "execution_count": 2,
   "id": "dee264b1-adf7-4322-9d9d-d0e640d0b041",
   "metadata": {},
   "outputs": [],
   "source": [
    "# Pretrained feature extractor\n",
    "class FeatureExtractor(nn.Module):\n",
    "    def __init__(self):\n",
    "        super(FeatureExtractor, self).__init__()\n",
    "        self.model = models.resnet50(pretrained=True)\n",
    "        self.model = nn.Sequential(*list(self.model.children())[:-1])  # Remove the last layer\n",
    "\n",
    "    def forward(self, x):\n",
    "        with torch.no_grad():\n",
    "            features = self.model(x)\n",
    "        return features.view(features.size(0), -1)"
   ]
  },
  {
   "cell_type": "code",
   "execution_count": 3,
   "id": "d4df42fc-9257-41e0-8ace-36c376b2e09c",
   "metadata": {},
   "outputs": [],
   "source": [
    "class SimpleNN(nn.Module):\n",
    "    def __init__(self, input_dim, output_dim):\n",
    "        super(SimpleNN, self).__init__()\n",
    "        self.fc1 = nn.Linear(input_dim, 512)\n",
    "        self.fc2 = nn.Linear(512, output_dim)\n",
    "\n",
    "    def forward(self, x):\n",
    "        x = torch.relu(self.fc1(x))\n",
    "        x = self.fc2(x)\n",
    "        return x\n",
    "\n",
    "class TeacherStudentNetworks:\n",
    "    def __init__(self, feature_dim, output_dim):\n",
    "        self.teacher = SimpleNN(feature_dim, output_dim)\n",
    "        self.student = SimpleNN(feature_dim, output_dim)"
   ]
  },
  {
   "cell_type": "code",
   "execution_count": 4,
   "id": "3a35793f-a574-4d59-b868-46e7423a3460",
   "metadata": {},
   "outputs": [],
   "source": [
    "class FeatureAugmenter(nn.Module):\n",
    "    def __init__(self, input_dim):\n",
    "        super(FeatureAugmenter, self).__init__()\n",
    "        self.fc1 = nn.Linear(input_dim, 512)\n",
    "        self.fc2 = nn.Linear(512, input_dim)\n",
    "\n",
    "    def forward(self, x):\n",
    "        x = torch.relu(self.fc1(x))\n",
    "        x = self.fc2(x)\n",
    "        return x"
   ]
  },
  {
   "cell_type": "code",
   "execution_count": 5,
   "id": "f1896dd2-3af2-4267-8461-8fe82bba335e",
   "metadata": {},
   "outputs": [],
   "source": [
    "class BinaryClassifier(nn.Module):\n",
    "    def __init__(self, input_dim):\n",
    "        super(BinaryClassifier, self).__init__()\n",
    "        self.fc1 = nn.Linear(input_dim, 512)\n",
    "        self.fc2 = nn.Linear(512, 2)\n",
    "\n",
    "    def forward(self, x):\n",
    "        x = torch.relu(self.fc1(x))\n",
    "        x = self.fc2(x)\n",
    "        return x"
   ]
  },
  {
   "cell_type": "code",
   "execution_count": 6,
   "id": "86d7df1c-8a53-43ea-b450-2f7341a0e443",
   "metadata": {},
   "outputs": [],
   "source": [
    "class RealFakeDataset(Dataset):\n",
    "    def __init__(self, image_paths, labels, transform=None):\n",
    "        self.image_paths = image_paths\n",
    "        self.labels = labels\n",
    "        self.transform = transform\n",
    "\n",
    "    def __len__(self):\n",
    "        return len(self.image_paths)\n",
    "\n",
    "    def __getitem__(self, idx):\n",
    "        img_path = self.image_paths[idx]\n",
    "        image = Image.open(img_path).convert('RGB')\n",
    "        label = self.labels[idx]\n",
    "        \n",
    "        if self.transform:\n",
    "            image = self.transform(image)\n",
    "        \n",
    "        return image, label\n",
    "\n",
    "def load_image_paths_and_labels(root_dir):\n",
    "    image_paths = []\n",
    "    labels = []\n",
    "    \n",
    "    for model in os.listdir(root_dir):\n",
    "        model_path = os.path.join(root_dir, model)\n",
    "        if os.path.isdir(model_path):\n",
    "            for label in ['0_real', '1_fake']:\n",
    "                label_path = os.path.join(model_path, label)\n",
    "                if os.path.isdir(label_path):\n",
    "                    for img_name in os.listdir(label_path):\n",
    "                        img_path = os.path.join(label_path, img_name)\n",
    "                        image_paths.append(img_path)\n",
    "                        labels.append(0 if '0_real' in label else 1)\n",
    "                else:\n",
    "                    for obj in os.listdir(model_path):\n",
    "                        obj_path = os.path.join(model_path, obj)\n",
    "                        label_path = os.path.join(obj_path, label)\n",
    "                        if os.path.isdir(label_path):\n",
    "                            for img_name in os.listdir(label_path):\n",
    "                                img_path = os.path.join(label_path, img_name)\n",
    "                                image_paths.append(img_path)\n",
    "                                labels.append(0 if '0_real' in label else 1)\n",
    "    \n",
    "    return image_paths, labels"
   ]
  },
  {
   "cell_type": "code",
   "execution_count": 26,
   "id": "a7e0a794-ec5b-4602-bddb-c82bbe8e53a9",
   "metadata": {},
   "outputs": [],
   "source": [
    "def train_teacher(teacher, feature_extractor, dataloader, device, num_epochs=10):\n",
    "    criterion = nn.CrossEntropyLoss()\n",
    "    optimizer = optim.Adam(teacher.parameters(), lr=0.001)\n",
    "    feature_extractor.to(device)\n",
    "    teacher.to(device)\n",
    "    \n",
    "    for epoch in range(num_epochs):\n",
    "        teacher.train()\n",
    "        running_loss = 0.0\n",
    "        for images, labels in tqdm(dataloader, desc=f'Teacher training {epoch+1}/{num_epochs}', unit='batch'):\n",
    "            images, labels = images.to(device), labels.to(device)\n",
    "            features = feature_extractor(images)\n",
    "            \n",
    "            optimizer.zero_grad()\n",
    "            outputs = teacher(features)\n",
    "            loss = criterion(outputs, labels)\n",
    "            loss.backward()\n",
    "            optimizer.step()\n",
    "            \n",
    "            running_loss += loss.item()\n",
    "        \n",
    "        print(f'Epoch {epoch+1}, Loss: {running_loss/len(dataloader)}')\n",
    "    \n",
    "    print('Finished Training Teacher')"
   ]
  },
  {
   "cell_type": "code",
   "execution_count": 27,
   "id": "68e82f31-49e5-4fd2-8946-a1290f776d95",
   "metadata": {},
   "outputs": [],
   "source": [
    "def train_student(teacher, student, feature_extractor, augmenter, dataloader, device, num_epochs=10, margin=1.0):\n",
    "    optimizer = optim.Adam(student.parameters(), lr=0.001)\n",
    "    teacher.to(device)\n",
    "    student.to(device)\n",
    "    augmenter.to(device)\n",
    "    feature_extractor.to(device)\n",
    "    \n",
    "    for epoch in range(num_epochs):\n",
    "        student.train()\n",
    "        running_loss_real = 0.0\n",
    "        running_loss_fake = 0.0\n",
    "        \n",
    "        for images, labels in tqdm(dataloader, desc=f'Student training {epoch+1}/{num_epochs}', unit='batch'):\n",
    "            images, labels = images.to(device), labels.to(device)\n",
    "            features = feature_extractor(images)\n",
    "            \n",
    "            # Real images\n",
    "            real_indices = (labels == 0)\n",
    "            real_features = features[real_indices]\n",
    "            if len(real_features) > 0:\n",
    "                teacher_real = teacher(real_features)\n",
    "                student_real = student(real_features)\n",
    "                loss_real = torch.mean((teacher_real - student_real) ** 2)\n",
    "                \n",
    "                optimizer.zero_grad()\n",
    "                loss_real.backward()\n",
    "                optimizer.step()\n",
    "                \n",
    "                running_loss_real += loss_real.item()\n",
    "            \n",
    "            # Fake images\n",
    "            fake_indices = (labels == 1)\n",
    "            fake_features = features[fake_indices]\n",
    "            if len(fake_features) > 0:\n",
    "                augmented_fake_features = augmenter(fake_features)\n",
    "                teacher_fake = teacher(augmented_fake_features)\n",
    "                student_fake = student(augmented_fake_features)\n",
    "                discrepancy = torch.mean((teacher_fake / teacher_fake.norm(2, dim=1, keepdim=True) - student_fake / student_fake.norm(2, dim=1, keepdim=True)) ** 2)\n",
    "                loss_fake = torch.clamp(margin - discrepancy, min=0.0)\n",
    "                \n",
    "                optimizer.zero_grad()\n",
    "                loss_fake.backward()\n",
    "                optimizer.step()\n",
    "                \n",
    "                running_loss_fake += loss_fake.item()\n",
    "        \n",
    "        print(f'Epoch {epoch+1}, Real Loss: {running_loss_real/len(dataloader)}, Fake Loss: {running_loss_fake/len(dataloader)}')\n",
    "    \n",
    "    print('Finished Training Student')"
   ]
  },
  {
   "cell_type": "code",
   "execution_count": 55,
   "id": "ba76bb7e-8592-4eb6-9668-2b72ef08c359",
   "metadata": {},
   "outputs": [],
   "source": [
    "def train_binary_classifier(teacher, student, classifier, feature_extractor, dataloader, device, num_epochs=10):\n",
    "    criterion = nn.CrossEntropyLoss()\n",
    "    optimizer = optim.Adam(classifier.parameters(), lr=0.001)\n",
    "    teacher.to(device)\n",
    "    student.to(device)\n",
    "    classifier.to(device)\n",
    "    feature_extractor.to(device)\n",
    "    \n",
    "    for epoch in range(num_epochs):\n",
    "        classifier.train()\n",
    "        running_loss = 0.0\n",
    "        \n",
    "        for images, labels in tqdm(dataloader, desc=f'Classifier training {epoch+1}/{num_epochs}', unit='batch'):\n",
    "            images, labels = images.to(device), labels.to(device)\n",
    "            features = feature_extractor(images)\n",
    "            \n",
    "            with torch.no_grad():\n",
    "                teacher_outputs = teacher(features)\n",
    "                student_outputs = student(features)\n",
    "            # print(f\"Teacher outputs shape: {teacher_outputs.shape}\")\n",
    "            # print(f\"Student outputs shape: {student_outputs.shape}\")\n",
    "            discrepancies = (teacher_outputs - student_outputs) ** 2\n",
    "            outputs = classifier(discrepancies)\n",
    "            \n",
    "            optimizer.zero_grad()\n",
    "            loss = criterion(outputs, labels)\n",
    "            loss.backward()\n",
    "            optimizer.step()\n",
    "            \n",
    "            running_loss += loss.item()\n",
    "        \n",
    "        print(f'Epoch {epoch+1}, Loss: {running_loss/len(dataloader)}')\n",
    "    \n",
    "    print('Finished Training Binary Classifier')"
   ]
  },
  {
   "cell_type": "code",
   "execution_count": 76,
   "id": "9b376e1e-ecba-4210-9e81-cca16424db51",
   "metadata": {},
   "outputs": [
    {
     "name": "stderr",
     "output_type": "stream",
     "text": [
      "C:\\Users\\Danila\\anaconda3\\Lib\\site-packages\\torchvision\\models\\_utils.py:208: UserWarning: The parameter 'pretrained' is deprecated since 0.13 and may be removed in the future, please use 'weights' instead.\n",
      "  warnings.warn(\n",
      "C:\\Users\\Danila\\anaconda3\\Lib\\site-packages\\torchvision\\models\\_utils.py:223: UserWarning: Arguments other than a weight enum or `None` for 'weights' are deprecated since 0.13 and may be removed in the future. The current behavior is equivalent to passing `weights=ResNet50_Weights.IMAGENET1K_V1`. You can also use `weights=ResNet50_Weights.DEFAULT` to get the most up-to-date weights.\n",
      "  warnings.warn(msg)\n",
      "Teacher training 1/10: 100%|████████████████████████████████████████████████████| 2259/2259 [15:26<00:00,  2.44batch/s]\n"
     ]
    },
    {
     "name": "stdout",
     "output_type": "stream",
     "text": [
      "Epoch 1, Loss: 0.37265733520295463\n"
     ]
    },
    {
     "name": "stderr",
     "output_type": "stream",
     "text": [
      "Teacher training 2/10: 100%|████████████████████████████████████████████████████| 2259/2259 [16:03<00:00,  2.34batch/s]\n"
     ]
    },
    {
     "name": "stdout",
     "output_type": "stream",
     "text": [
      "Epoch 2, Loss: 0.282593409899802\n"
     ]
    },
    {
     "name": "stderr",
     "output_type": "stream",
     "text": [
      "Teacher training 3/10: 100%|████████████████████████████████████████████████████| 2259/2259 [16:01<00:00,  2.35batch/s]\n"
     ]
    },
    {
     "name": "stdout",
     "output_type": "stream",
     "text": [
      "Epoch 3, Loss: 0.24916053107548414\n"
     ]
    },
    {
     "name": "stderr",
     "output_type": "stream",
     "text": [
      "Teacher training 4/10: 100%|████████████████████████████████████████████████████| 2259/2259 [15:33<00:00,  2.42batch/s]\n"
     ]
    },
    {
     "name": "stdout",
     "output_type": "stream",
     "text": [
      "Epoch 4, Loss: 0.23291326954716757\n"
     ]
    },
    {
     "name": "stderr",
     "output_type": "stream",
     "text": [
      "Teacher training 5/10: 100%|████████████████████████████████████████████████████| 2259/2259 [14:55<00:00,  2.52batch/s]\n"
     ]
    },
    {
     "name": "stdout",
     "output_type": "stream",
     "text": [
      "Epoch 5, Loss: 0.21732931549736306\n"
     ]
    },
    {
     "name": "stderr",
     "output_type": "stream",
     "text": [
      "Teacher training 6/10: 100%|████████████████████████████████████████████████████| 2259/2259 [14:12<00:00,  2.65batch/s]\n"
     ]
    },
    {
     "name": "stdout",
     "output_type": "stream",
     "text": [
      "Epoch 6, Loss: 0.20923572475599367\n"
     ]
    },
    {
     "name": "stderr",
     "output_type": "stream",
     "text": [
      "Teacher training 7/10: 100%|████████████████████████████████████████████████████| 2259/2259 [13:44<00:00,  2.74batch/s]\n"
     ]
    },
    {
     "name": "stdout",
     "output_type": "stream",
     "text": [
      "Epoch 7, Loss: 0.19693267667577852\n"
     ]
    },
    {
     "name": "stderr",
     "output_type": "stream",
     "text": [
      "Teacher training 8/10: 100%|████████████████████████████████████████████████████| 2259/2259 [13:44<00:00,  2.74batch/s]\n"
     ]
    },
    {
     "name": "stdout",
     "output_type": "stream",
     "text": [
      "Epoch 8, Loss: 0.18881297831173333\n"
     ]
    },
    {
     "name": "stderr",
     "output_type": "stream",
     "text": [
      "Teacher training 9/10: 100%|████████████████████████████████████████████████████| 2259/2259 [13:46<00:00,  2.73batch/s]\n"
     ]
    },
    {
     "name": "stdout",
     "output_type": "stream",
     "text": [
      "Epoch 9, Loss: 0.18226603169741226\n"
     ]
    },
    {
     "name": "stderr",
     "output_type": "stream",
     "text": [
      "Teacher training 10/10: 100%|███████████████████████████████████████████████████| 2259/2259 [13:46<00:00,  2.73batch/s]\n"
     ]
    },
    {
     "name": "stdout",
     "output_type": "stream",
     "text": [
      "Epoch 10, Loss: 0.17855071858142185\n",
      "Finished Training Teacher\n"
     ]
    },
    {
     "name": "stderr",
     "output_type": "stream",
     "text": [
      "Student training 1/10: 100%|████████████████████████████████████████████████████| 2259/2259 [13:58<00:00,  2.69batch/s]\n"
     ]
    },
    {
     "name": "stdout",
     "output_type": "stream",
     "text": [
      "Epoch 1, Real Loss: 1.0633452800178802, Fake Loss: 0.00014825815012519368\n"
     ]
    },
    {
     "name": "stderr",
     "output_type": "stream",
     "text": [
      "Student training 2/10: 100%|████████████████████████████████████████████████████| 2259/2259 [13:57<00:00,  2.70batch/s]\n"
     ]
    },
    {
     "name": "stdout",
     "output_type": "stream",
     "text": [
      "Epoch 2, Real Loss: 0.5693289433738308, Fake Loss: 0.0\n"
     ]
    },
    {
     "name": "stderr",
     "output_type": "stream",
     "text": [
      "Student training 3/10: 100%|████████████████████████████████████████████████████| 2259/2259 [13:58<00:00,  2.70batch/s]\n"
     ]
    },
    {
     "name": "stdout",
     "output_type": "stream",
     "text": [
      "Epoch 3, Real Loss: 0.4281926139259085, Fake Loss: 0.0\n"
     ]
    },
    {
     "name": "stderr",
     "output_type": "stream",
     "text": [
      "Student training 4/10: 100%|████████████████████████████████████████████████████| 2259/2259 [14:04<00:00,  2.68batch/s]\n"
     ]
    },
    {
     "name": "stdout",
     "output_type": "stream",
     "text": [
      "Epoch 4, Real Loss: 0.35908669127780496, Fake Loss: 0.0\n"
     ]
    },
    {
     "name": "stderr",
     "output_type": "stream",
     "text": [
      "Student training 5/10: 100%|████████████████████████████████████████████████████| 2259/2259 [13:57<00:00,  2.70batch/s]\n"
     ]
    },
    {
     "name": "stdout",
     "output_type": "stream",
     "text": [
      "Epoch 5, Real Loss: 0.3101700327683598, Fake Loss: 5.339905982420686e-05\n"
     ]
    },
    {
     "name": "stderr",
     "output_type": "stream",
     "text": [
      "Student training 6/10: 100%|████████████████████████████████████████████████████| 2259/2259 [13:55<00:00,  2.70batch/s]\n"
     ]
    },
    {
     "name": "stdout",
     "output_type": "stream",
     "text": [
      "Epoch 6, Real Loss: 0.2926591619776645, Fake Loss: 0.0\n"
     ]
    },
    {
     "name": "stderr",
     "output_type": "stream",
     "text": [
      "Student training 7/10: 100%|████████████████████████████████████████████████████| 2259/2259 [13:55<00:00,  2.71batch/s]\n"
     ]
    },
    {
     "name": "stdout",
     "output_type": "stream",
     "text": [
      "Epoch 7, Real Loss: 0.25773860123165154, Fake Loss: 6.314028992806984e-08\n"
     ]
    },
    {
     "name": "stderr",
     "output_type": "stream",
     "text": [
      "Student training 8/10: 100%|████████████████████████████████████████████████████| 2259/2259 [13:58<00:00,  2.69batch/s]\n"
     ]
    },
    {
     "name": "stdout",
     "output_type": "stream",
     "text": [
      "Epoch 8, Real Loss: 0.25347882691785634, Fake Loss: 0.0\n"
     ]
    },
    {
     "name": "stderr",
     "output_type": "stream",
     "text": [
      "Student training 9/10: 100%|████████████████████████████████████████████████████| 2259/2259 [14:00<00:00,  2.69batch/s]\n"
     ]
    },
    {
     "name": "stdout",
     "output_type": "stream",
     "text": [
      "Epoch 9, Real Loss: 0.23418261849574148, Fake Loss: 0.0\n"
     ]
    },
    {
     "name": "stderr",
     "output_type": "stream",
     "text": [
      "Student training 10/10: 100%|███████████████████████████████████████████████████| 2259/2259 [14:03<00:00,  2.68batch/s]\n"
     ]
    },
    {
     "name": "stdout",
     "output_type": "stream",
     "text": [
      "Epoch 10, Real Loss: 0.2251587930329609, Fake Loss: 0.0\n",
      "Finished Training Student\n"
     ]
    },
    {
     "name": "stderr",
     "output_type": "stream",
     "text": [
      "Classifier training 1/10: 100%|█████████████████████████████████████████████████| 2259/2259 [13:44<00:00,  2.74batch/s]\n"
     ]
    },
    {
     "name": "stdout",
     "output_type": "stream",
     "text": [
      "Epoch 1, Loss: 0.3853370917943686\n"
     ]
    },
    {
     "name": "stderr",
     "output_type": "stream",
     "text": [
      "Classifier training 2/10: 100%|█████████████████████████████████████████████████| 2259/2259 [13:43<00:00,  2.74batch/s]\n"
     ]
    },
    {
     "name": "stdout",
     "output_type": "stream",
     "text": [
      "Epoch 2, Loss: 0.3789268062936885\n"
     ]
    },
    {
     "name": "stderr",
     "output_type": "stream",
     "text": [
      "Classifier training 3/10: 100%|█████████████████████████████████████████████████| 2259/2259 [13:44<00:00,  2.74batch/s]\n"
     ]
    },
    {
     "name": "stdout",
     "output_type": "stream",
     "text": [
      "Epoch 3, Loss: 0.3759599620985109\n"
     ]
    },
    {
     "name": "stderr",
     "output_type": "stream",
     "text": [
      "Classifier training 4/10: 100%|█████████████████████████████████████████████████| 2259/2259 [13:40<00:00,  2.75batch/s]\n"
     ]
    },
    {
     "name": "stdout",
     "output_type": "stream",
     "text": [
      "Epoch 4, Loss: 0.3778783722016705\n"
     ]
    },
    {
     "name": "stderr",
     "output_type": "stream",
     "text": [
      "Classifier training 5/10: 100%|█████████████████████████████████████████████████| 2259/2259 [13:41<00:00,  2.75batch/s]\n"
     ]
    },
    {
     "name": "stdout",
     "output_type": "stream",
     "text": [
      "Epoch 5, Loss: 0.375498255796404\n"
     ]
    },
    {
     "name": "stderr",
     "output_type": "stream",
     "text": [
      "Classifier training 6/10: 100%|█████████████████████████████████████████████████| 2259/2259 [13:42<00:00,  2.75batch/s]\n"
     ]
    },
    {
     "name": "stdout",
     "output_type": "stream",
     "text": [
      "Epoch 6, Loss: 0.37703683886606115\n"
     ]
    },
    {
     "name": "stderr",
     "output_type": "stream",
     "text": [
      "Classifier training 7/10: 100%|█████████████████████████████████████████████████| 2259/2259 [13:42<00:00,  2.75batch/s]\n"
     ]
    },
    {
     "name": "stdout",
     "output_type": "stream",
     "text": [
      "Epoch 7, Loss: 0.3746690488147915\n"
     ]
    },
    {
     "name": "stderr",
     "output_type": "stream",
     "text": [
      "Classifier training 8/10: 100%|█████████████████████████████████████████████████| 2259/2259 [13:43<00:00,  2.74batch/s]\n"
     ]
    },
    {
     "name": "stdout",
     "output_type": "stream",
     "text": [
      "Epoch 8, Loss: 0.3750195799839871\n"
     ]
    },
    {
     "name": "stderr",
     "output_type": "stream",
     "text": [
      "Classifier training 9/10: 100%|█████████████████████████████████████████████████| 2259/2259 [13:42<00:00,  2.75batch/s]\n"
     ]
    },
    {
     "name": "stdout",
     "output_type": "stream",
     "text": [
      "Epoch 9, Loss: 0.37445053246800697\n"
     ]
    },
    {
     "name": "stderr",
     "output_type": "stream",
     "text": [
      "Classifier training 10/10: 100%|████████████████████████████████████████████████| 2259/2259 [13:45<00:00,  2.74batch/s]"
     ]
    },
    {
     "name": "stdout",
     "output_type": "stream",
     "text": [
      "Epoch 10, Loss: 0.37476671759852165\n",
      "Finished Training Binary Classifier\n"
     ]
    },
    {
     "name": "stderr",
     "output_type": "stream",
     "text": [
      "\n"
     ]
    }
   ],
   "source": [
    "\n",
    "transform = transforms.Compose([\n",
    "    transforms.Resize((256, 256)),\n",
    "    transforms.ToTensor(),\n",
    "])\n",
    "\n",
    "# Load image paths and labels\n",
    "image_paths, labels = load_image_paths_and_labels(r'C:\\Users\\Danila\\VSU\\vsu_common_rep\\vsu_common_rep\\2year\\2term\\project\\image_classification\\content\\CNN_synth\\train_set')\n",
    "\n",
    "# Create a dataset instance\n",
    "full_dataset = RealFakeDataset(image_paths, labels, transform=transform)\n",
    "\n",
    "# Define the split ratio\n",
    "train_size = int(0.8 * len(full_dataset))\n",
    "test_size = len(full_dataset) - train_size\n",
    "\n",
    "# Split the dataset\n",
    "train_dataset, test_dataset = torch.utils.data.random_split(full_dataset, [train_size, test_size])\n",
    "\n",
    "# Create data loaders\n",
    "train_loader = DataLoader(train_dataset, batch_size=32, shuffle=True)\n",
    "test_loader = DataLoader(test_dataset, batch_size=32, shuffle=False)\n",
    "\n",
    "# Initialize networks\n",
    "feature_extractor = FeatureExtractor()\n",
    "feature_dim = 2048  # ResNet50 output feature dimension\n",
    "teacher_student = TeacherStudentNetworks(feature_dim, 2)\n",
    "augmenter = FeatureAugmenter(feature_dim)\n",
    "binary_classifier = BinaryClassifier(2)\n",
    "\n",
    "device = torch.device(\"cuda\" if torch.cuda.is_available() else \"cpu\")\n",
    "\n",
    "# Train the teacher network\n",
    "train_teacher(teacher_student.teacher, feature_extractor, train_loader, device)\n",
    "torch.save(teacher_student.teacher.state_dict(), 'models/teacher_10ep.pth')\n",
    "\n",
    "# Train the student network\n",
    "train_student(teacher_student.teacher, teacher_student.student, feature_extractor, augmenter, train_loader, device)\n",
    "torch.save(teacher_student.student.state_dict(), 'models/student_10ep.pth')\n",
    "\n",
    "# Train the binary classifier\n",
    "train_binary_classifier(teacher_student.teacher, teacher_student.student, binary_classifier, feature_extractor, train_loader, device)\n",
    "torch.save(binary_classifier.state_dict(), 'models/classifier_10ep.pth')\n"
   ]
  },
  {
   "cell_type": "code",
   "execution_count": 18,
   "id": "5c407dc2-a9fb-48eb-87d7-1702edb65341",
   "metadata": {},
   "outputs": [
    {
     "name": "stdout",
     "output_type": "stream",
     "text": [
      "cuda\n"
     ]
    }
   ],
   "source": [
    "print(device)"
   ]
  },
  {
   "cell_type": "code",
   "execution_count": null,
   "id": "445afddf-6fbd-4e3a-b92f-6d3e88b65faa",
   "metadata": {},
   "outputs": [],
   "source": [
    "# model saving\n",
    "torch.save(, 'CNN_simple_classifier_76acc_.04loss')"
   ]
  },
  {
   "cell_type": "code",
   "execution_count": 57,
   "id": "48d0b602-bfba-4468-b904-f40aa9ea808e",
   "metadata": {},
   "outputs": [],
   "source": [
    "torch.save(teacher_student.teacher.state_dict(), 'models/teacher_1ep.pth')\n",
    "torch.save(teacher_student.student.state_dict(), 'models/student_1ep.pth')\n",
    "torch.save(binary_classifier.state_dict(), 'models/classifier_1ep.pth')"
   ]
  },
  {
   "cell_type": "code",
   "execution_count": 140,
   "id": "a859a109-2b4b-472f-aa42-704f77b21f9c",
   "metadata": {},
   "outputs": [],
   "source": [
    "mytest_image_paths, mytest_labels = load_image_paths_and_labels(r\"C:\\Users\\Danila\\VSU\\vsu_common_rep\\vsu_common_rep\\2year\\2term\\project\\image_classification\\content\\CNN_synth\\validation\")\n",
    "mytest_dataset = RealFakeDataset(test_image_paths, test_labels, transform=transform)\n",
    "mytest_loader = DataLoader(mytest_dataset, batch_size=32, shuffle=False)"
   ]
  },
  {
   "cell_type": "code",
   "execution_count": 141,
   "id": "99362d35-7eaa-4e29-ae70-f66619973500",
   "metadata": {},
   "outputs": [
    {
     "name": "stdout",
     "output_type": "stream",
     "text": [
      "1394\n"
     ]
    }
   ],
   "source": [
    "print(len(mytest_dataset))"
   ]
  },
  {
   "cell_type": "code",
   "execution_count": 86,
   "id": "504e26ea-e3d9-498c-bf2c-894553edce38",
   "metadata": {},
   "outputs": [],
   "source": [
    "def test_binary_classifier(teacher, student, classifier, feature_extractor, dataloader, device):\n",
    "    classifier.eval()  # Set the classifier to evaluation mode\n",
    "    teacher.eval()\n",
    "    student.eval()\n",
    "    classifier.eval()\n",
    "    \n",
    "    all_labels = []\n",
    "    all_preds = []\n",
    "    \n",
    "    with torch.no_grad():  # Disable gradient calculation for testing\n",
    "        for images, labels in dataloader:\n",
    "            images, labels = images.to(device), labels.to(device)\n",
    "            \n",
    "            # Extract features\n",
    "            features = feature_extractor(images)\n",
    "            \n",
    "            # Get outputs from teacher and student networks\n",
    "            teacher_outputs = teacher(features)\n",
    "            student_outputs = student(features)\n",
    "            \n",
    "            # Calculate discrepancy\n",
    "            discrepancy = (teacher_outputs - student_outputs) ** 2\n",
    "            \n",
    "            # Get predictions from binary classifier\n",
    "            outputs = classifier(discrepancy)\n",
    "            _, preds = torch.max(outputs, 1)\n",
    "            \n",
    "            all_labels.extend(labels.cpu().numpy())\n",
    "            all_preds.extend(preds.cpu().numpy())\n",
    "    \n",
    "    accuracy = accuracy_score(all_labels, all_preds)\n",
    "    print(f'Test Accuracy: {accuracy * 100:.2f}%')\n",
    "    return accuracy"
   ]
  },
  {
   "cell_type": "code",
   "execution_count": 137,
   "id": "c4c4f061-089a-4051-94bb-15694fb401b6",
   "metadata": {},
   "outputs": [
    {
     "ename": "FileNotFoundError",
     "evalue": "[Errno 2] No such file or directory: 'C:\\\\Users\\\\Danila\\\\VSU\\\\vsu_common_rep\\\\vsu_common_rep\\\\2year\\\\2term\\\\project\\\\image_classification\\\\content\\\\CNN_synth\\\\validation\\\\test_model\\\\0_real\\\\.trashed-1717667950-IMG20240507125905_01.jpg'",
     "output_type": "error",
     "traceback": [
      "\u001b[1;31m---------------------------------------------------------------------------\u001b[0m",
      "\u001b[1;31mFileNotFoundError\u001b[0m                         Traceback (most recent call last)",
      "Cell \u001b[1;32mIn[137], line 1\u001b[0m\n\u001b[1;32m----> 1\u001b[0m test_binary_classifier(teacher_student\u001b[38;5;241m.\u001b[39mteacher, teacher_student\u001b[38;5;241m.\u001b[39mstudent, binary_classifier, feature_extractor, mytest_loader, device)\n",
      "Cell \u001b[1;32mIn[86], line 11\u001b[0m, in \u001b[0;36mtest_binary_classifier\u001b[1;34m(teacher, student, classifier, feature_extractor, dataloader, device)\u001b[0m\n\u001b[0;32m      8\u001b[0m all_preds \u001b[38;5;241m=\u001b[39m []\n\u001b[0;32m     10\u001b[0m \u001b[38;5;28;01mwith\u001b[39;00m torch\u001b[38;5;241m.\u001b[39mno_grad():  \u001b[38;5;66;03m# Disable gradient calculation for testing\u001b[39;00m\n\u001b[1;32m---> 11\u001b[0m     \u001b[38;5;28;01mfor\u001b[39;00m images, labels \u001b[38;5;129;01min\u001b[39;00m dataloader:\n\u001b[0;32m     12\u001b[0m         images, labels \u001b[38;5;241m=\u001b[39m images\u001b[38;5;241m.\u001b[39mto(device), labels\u001b[38;5;241m.\u001b[39mto(device)\n\u001b[0;32m     14\u001b[0m         \u001b[38;5;66;03m# Extract features\u001b[39;00m\n",
      "File \u001b[1;32m~\\anaconda3\\Lib\\site-packages\\torch\\utils\\data\\dataloader.py:631\u001b[0m, in \u001b[0;36m_BaseDataLoaderIter.__next__\u001b[1;34m(self)\u001b[0m\n\u001b[0;32m    628\u001b[0m \u001b[38;5;28;01mif\u001b[39;00m \u001b[38;5;28mself\u001b[39m\u001b[38;5;241m.\u001b[39m_sampler_iter \u001b[38;5;129;01mis\u001b[39;00m \u001b[38;5;28;01mNone\u001b[39;00m:\n\u001b[0;32m    629\u001b[0m     \u001b[38;5;66;03m# TODO(https://github.com/pytorch/pytorch/issues/76750)\u001b[39;00m\n\u001b[0;32m    630\u001b[0m     \u001b[38;5;28mself\u001b[39m\u001b[38;5;241m.\u001b[39m_reset()  \u001b[38;5;66;03m# type: ignore[call-arg]\u001b[39;00m\n\u001b[1;32m--> 631\u001b[0m data \u001b[38;5;241m=\u001b[39m \u001b[38;5;28mself\u001b[39m\u001b[38;5;241m.\u001b[39m_next_data()\n\u001b[0;32m    632\u001b[0m \u001b[38;5;28mself\u001b[39m\u001b[38;5;241m.\u001b[39m_num_yielded \u001b[38;5;241m+\u001b[39m\u001b[38;5;241m=\u001b[39m \u001b[38;5;241m1\u001b[39m\n\u001b[0;32m    633\u001b[0m \u001b[38;5;28;01mif\u001b[39;00m \u001b[38;5;28mself\u001b[39m\u001b[38;5;241m.\u001b[39m_dataset_kind \u001b[38;5;241m==\u001b[39m _DatasetKind\u001b[38;5;241m.\u001b[39mIterable \u001b[38;5;129;01mand\u001b[39;00m \\\n\u001b[0;32m    634\u001b[0m         \u001b[38;5;28mself\u001b[39m\u001b[38;5;241m.\u001b[39m_IterableDataset_len_called \u001b[38;5;129;01mis\u001b[39;00m \u001b[38;5;129;01mnot\u001b[39;00m \u001b[38;5;28;01mNone\u001b[39;00m \u001b[38;5;129;01mand\u001b[39;00m \\\n\u001b[0;32m    635\u001b[0m         \u001b[38;5;28mself\u001b[39m\u001b[38;5;241m.\u001b[39m_num_yielded \u001b[38;5;241m>\u001b[39m \u001b[38;5;28mself\u001b[39m\u001b[38;5;241m.\u001b[39m_IterableDataset_len_called:\n",
      "File \u001b[1;32m~\\anaconda3\\Lib\\site-packages\\torch\\utils\\data\\dataloader.py:675\u001b[0m, in \u001b[0;36m_SingleProcessDataLoaderIter._next_data\u001b[1;34m(self)\u001b[0m\n\u001b[0;32m    673\u001b[0m \u001b[38;5;28;01mdef\u001b[39;00m \u001b[38;5;21m_next_data\u001b[39m(\u001b[38;5;28mself\u001b[39m):\n\u001b[0;32m    674\u001b[0m     index \u001b[38;5;241m=\u001b[39m \u001b[38;5;28mself\u001b[39m\u001b[38;5;241m.\u001b[39m_next_index()  \u001b[38;5;66;03m# may raise StopIteration\u001b[39;00m\n\u001b[1;32m--> 675\u001b[0m     data \u001b[38;5;241m=\u001b[39m \u001b[38;5;28mself\u001b[39m\u001b[38;5;241m.\u001b[39m_dataset_fetcher\u001b[38;5;241m.\u001b[39mfetch(index)  \u001b[38;5;66;03m# may raise StopIteration\u001b[39;00m\n\u001b[0;32m    676\u001b[0m     \u001b[38;5;28;01mif\u001b[39;00m \u001b[38;5;28mself\u001b[39m\u001b[38;5;241m.\u001b[39m_pin_memory:\n\u001b[0;32m    677\u001b[0m         data \u001b[38;5;241m=\u001b[39m _utils\u001b[38;5;241m.\u001b[39mpin_memory\u001b[38;5;241m.\u001b[39mpin_memory(data, \u001b[38;5;28mself\u001b[39m\u001b[38;5;241m.\u001b[39m_pin_memory_device)\n",
      "File \u001b[1;32m~\\anaconda3\\Lib\\site-packages\\torch\\utils\\data\\_utils\\fetch.py:51\u001b[0m, in \u001b[0;36m_MapDatasetFetcher.fetch\u001b[1;34m(self, possibly_batched_index)\u001b[0m\n\u001b[0;32m     49\u001b[0m         data \u001b[38;5;241m=\u001b[39m \u001b[38;5;28mself\u001b[39m\u001b[38;5;241m.\u001b[39mdataset\u001b[38;5;241m.\u001b[39m__getitems__(possibly_batched_index)\n\u001b[0;32m     50\u001b[0m     \u001b[38;5;28;01melse\u001b[39;00m:\n\u001b[1;32m---> 51\u001b[0m         data \u001b[38;5;241m=\u001b[39m [\u001b[38;5;28mself\u001b[39m\u001b[38;5;241m.\u001b[39mdataset[idx] \u001b[38;5;28;01mfor\u001b[39;00m idx \u001b[38;5;129;01min\u001b[39;00m possibly_batched_index]\n\u001b[0;32m     52\u001b[0m \u001b[38;5;28;01melse\u001b[39;00m:\n\u001b[0;32m     53\u001b[0m     data \u001b[38;5;241m=\u001b[39m \u001b[38;5;28mself\u001b[39m\u001b[38;5;241m.\u001b[39mdataset[possibly_batched_index]\n",
      "File \u001b[1;32m~\\anaconda3\\Lib\\site-packages\\torch\\utils\\data\\_utils\\fetch.py:51\u001b[0m, in \u001b[0;36m<listcomp>\u001b[1;34m(.0)\u001b[0m\n\u001b[0;32m     49\u001b[0m         data \u001b[38;5;241m=\u001b[39m \u001b[38;5;28mself\u001b[39m\u001b[38;5;241m.\u001b[39mdataset\u001b[38;5;241m.\u001b[39m__getitems__(possibly_batched_index)\n\u001b[0;32m     50\u001b[0m     \u001b[38;5;28;01melse\u001b[39;00m:\n\u001b[1;32m---> 51\u001b[0m         data \u001b[38;5;241m=\u001b[39m [\u001b[38;5;28mself\u001b[39m\u001b[38;5;241m.\u001b[39mdataset[idx] \u001b[38;5;28;01mfor\u001b[39;00m idx \u001b[38;5;129;01min\u001b[39;00m possibly_batched_index]\n\u001b[0;32m     52\u001b[0m \u001b[38;5;28;01melse\u001b[39;00m:\n\u001b[0;32m     53\u001b[0m     data \u001b[38;5;241m=\u001b[39m \u001b[38;5;28mself\u001b[39m\u001b[38;5;241m.\u001b[39mdataset[possibly_batched_index]\n",
      "Cell \u001b[1;32mIn[6], line 12\u001b[0m, in \u001b[0;36mRealFakeDataset.__getitem__\u001b[1;34m(self, idx)\u001b[0m\n\u001b[0;32m     10\u001b[0m \u001b[38;5;28;01mdef\u001b[39;00m \u001b[38;5;21m__getitem__\u001b[39m(\u001b[38;5;28mself\u001b[39m, idx):\n\u001b[0;32m     11\u001b[0m     img_path \u001b[38;5;241m=\u001b[39m \u001b[38;5;28mself\u001b[39m\u001b[38;5;241m.\u001b[39mimage_paths[idx]\n\u001b[1;32m---> 12\u001b[0m     image \u001b[38;5;241m=\u001b[39m Image\u001b[38;5;241m.\u001b[39mopen(img_path)\u001b[38;5;241m.\u001b[39mconvert(\u001b[38;5;124m'\u001b[39m\u001b[38;5;124mRGB\u001b[39m\u001b[38;5;124m'\u001b[39m)\n\u001b[0;32m     13\u001b[0m     label \u001b[38;5;241m=\u001b[39m \u001b[38;5;28mself\u001b[39m\u001b[38;5;241m.\u001b[39mlabels[idx]\n\u001b[0;32m     15\u001b[0m     \u001b[38;5;28;01mif\u001b[39;00m \u001b[38;5;28mself\u001b[39m\u001b[38;5;241m.\u001b[39mtransform:\n",
      "File \u001b[1;32m~\\anaconda3\\Lib\\site-packages\\PIL\\Image.py:3227\u001b[0m, in \u001b[0;36mopen\u001b[1;34m(fp, mode, formats)\u001b[0m\n\u001b[0;32m   3224\u001b[0m     filename \u001b[38;5;241m=\u001b[39m fp\n\u001b[0;32m   3226\u001b[0m \u001b[38;5;28;01mif\u001b[39;00m filename:\n\u001b[1;32m-> 3227\u001b[0m     fp \u001b[38;5;241m=\u001b[39m builtins\u001b[38;5;241m.\u001b[39mopen(filename, \u001b[38;5;124m\"\u001b[39m\u001b[38;5;124mrb\u001b[39m\u001b[38;5;124m\"\u001b[39m)\n\u001b[0;32m   3228\u001b[0m     exclusive_fp \u001b[38;5;241m=\u001b[39m \u001b[38;5;28;01mTrue\u001b[39;00m\n\u001b[0;32m   3230\u001b[0m \u001b[38;5;28;01mtry\u001b[39;00m:\n",
      "\u001b[1;31mFileNotFoundError\u001b[0m: [Errno 2] No such file or directory: 'C:\\\\Users\\\\Danila\\\\VSU\\\\vsu_common_rep\\\\vsu_common_rep\\\\2year\\\\2term\\\\project\\\\image_classification\\\\content\\\\CNN_synth\\\\validation\\\\test_model\\\\0_real\\\\.trashed-1717667950-IMG20240507125905_01.jpg'"
     ]
    }
   ],
   "source": [
    "test_binary_classifier(teacher_student.teacher, teacher_student.student, binary_classifier, feature_extractor, mytest_loader, device)"
   ]
  },
  {
   "cell_type": "code",
   "execution_count": 90,
   "id": "686d48ba-6e4a-4aba-bb86-d881c85d4461",
   "metadata": {},
   "outputs": [
    {
     "name": "stderr",
     "output_type": "stream",
     "text": [
      "100%|████████████████████████████████████████████████████████████████████████████████| 565/565 [03:26<00:00,  2.73it/s]\n"
     ]
    },
    {
     "data": {
      "image/png": "[encoded data removed]",
      "text/plain": [
       "<Figure size 640x480 with 1 Axes>"
      ]
     },
     "metadata": {},
     "output_type": "display_data"
    }
   ],
   "source": [
    "# AUC ROC calculation\n",
    "import numpy as np\n",
    "import matplotlib.pyplot as plt\n",
    "from sklearn.metrics import roc_curve, auc\n",
    "\n",
    "teacher_student.teacher.eval()\n",
    "teacher_student.student.eval()\n",
    "binary_classifier.eval()\n",
    "\n",
    "# Lists to store true labels and predicted probabilities\n",
    "true_labels = []\n",
    "predicted_probs = []\n",
    "\n",
    "# Iterate over test dataset to obtain true labels and predicted probabilities\n",
    "with torch.no_grad():\n",
    "    for images, labels in tqdm(test_loader):\n",
    "         images, labels = images.to(device), labels.to(device)\n",
    "            \n",
    "         # Extract features\n",
    "         features = feature_extractor(images)\n",
    "            \n",
    "         # Get outputs from teacher and student networks\n",
    "         teacher_outputs = teacher_student.teacher(features)\n",
    "         student_outputs = teacher_student.student(features)\n",
    "            \n",
    "         # Calculate discrepancy\n",
    "         discrepancy = (teacher_outputs - student_outputs) ** 2\n",
    "            \n",
    "         # Get predictions from binary classifier\n",
    "         outputs = binary_classifier(discrepancy)\n",
    "         predicted_probs.extend(outputs[:, 1].cpu().numpy())  # Assuming positive class probabilities are in the second column\n",
    "         true_labels.extend(labels.cpu().numpy())\n",
    "\n",
    "# Calculate ROC curve\n",
    "fpr, tpr, _ = roc_curve(true_labels, predicted_probs)\n",
    "\n",
    "# Calculate AUC (Area Under the Curve)\n",
    "roc_auc = auc(fpr, tpr)\n",
    "\n",
    "# Plot ROC curve\n",
    "plt.figure()\n",
    "plt.plot(fpr, tpr, color='darkorange', lw=2, label='ROC curve (area = %0.2f)' % roc_auc)\n",
    "plt.plot([0, 1], [0, 1], color='navy', lw=2, linestyle='--')\n",
    "plt.xlim([0.0, 1.0])\n",
    "plt.ylim([0.0, 1.05])\n",
    "plt.xlabel('False Positive Rate')\n",
    "plt.ylabel('True Positive Rate')\n",
    "plt.title('Receiver Operating Characteristic (ROC) Curve')\n",
    "plt.legend(loc=\"lower right\")\n",
    "plt.show()"
   ]
  },
  {
   "cell_type": "code",
   "execution_count": 119,
   "id": "2da8a75a-78ea-44b0-8d97-e47912bfac2b",
   "metadata": {},
   "outputs": [],
   "source": [
    "\n",
    "def preprocess_image(image_path, transform):\n",
    "    image = Image.open(image_path).convert('RGB')  # Ensure the image is in RGB format\n",
    "    image = transform(image)\n",
    "    image = image.unsqueeze(0)  # Add a batch dimension\n",
    "    return image\n",
    "\n",
    "def test_single_image(image_path, teacher, student, classifier, feature_extractor, device):\n",
    "    # Define the transformation for the image\n",
    "    transform = transforms.Compose([\n",
    "        transforms.Resize((256, 256)),\n",
    "        transforms.ToTensor(),\n",
    "        transforms.Normalize(mean=[0.485, 0.456, 0.406], std=[0.229, 0.224, 0.225]),\n",
    "    ])\n",
    "    \n",
    "    # Preprocess the image\n",
    "    image = preprocess_image(image_path, transform).to(device)\n",
    "    \n",
    "    # Set models to evaluation mode\n",
    "    teacher.eval()\n",
    "    student.eval()\n",
    "    classifier.eval()\n",
    "    feature_extractor.eval()\n",
    "    \n",
    "    with torch.no_grad():\n",
    "        # Extract features from the image\n",
    "        features = feature_extractor(image)\n",
    "        \n",
    "        # Get outputs from teacher and student networks\n",
    "        teacher_output = teacher(features)\n",
    "        student_output = student(features)\n",
    "        \n",
    "        # Calculate discrepancy\n",
    "        discrepancy = (teacher_output - student_output) ** 2\n",
    "        \n",
    "        # Get prediction from binary classifier\n",
    "        output = classifier(discrepancy)\n",
    "        _, pred = torch.max(output, 1)\n",
    "        print(output)\n",
    "    return 'Real' if pred.item() == 0 else 'Fake'"
   ]
  },
  {
   "cell_type": "code",
   "execution_count": 123,
   "id": "f71eb0c8-2a04-4667-ab87-0ef0c4d8ee1d",
   "metadata": {},
   "outputs": [
    {
     "name": "stdout",
     "output_type": "stream",
     "text": [
      "tensor([[ 0.5198, -0.4364]], device='cuda:0')\n"
     ]
    },
    {
     "data": {
      "text/plain": [
       "'Real'"
      ]
     },
     "execution_count": 123,
     "metadata": {},
     "output_type": "execute_result"
    }
   ],
   "source": [
    "test_single_image('test.jpg', teacher_student.teacher, teacher_student.student, binary_classifier, feature_extractor, device)"
   ]
  },
  {
   "cell_type": "code",
   "execution_count": null,
   "id": "11556c43-12c3-45e7-9029-34cb55164ca9",
   "metadata": {},
   "outputs": [],
   "source": []
  }
 ],
 "metadata": {
  "kernelspec": {
   "display_name": "Python 3 (ipykernel)",
   "language": "python",
   "name": "python3"
  },
  "language_info": {
   "codemirror_mode": {
    "name": "ipython",
    "version": 3
   },
   "file_extension": ".py",
   "mimetype": "text/x-python",
   "name": "python",
   "nbconvert_exporter": "python",
   "pygments_lexer": "ipython3",
   "version": "3.11.5"
  }
 },
 "nbformat": 4,
 "nbformat_minor": 5
}
