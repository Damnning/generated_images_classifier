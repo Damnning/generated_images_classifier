{
 "cells": [
  {
   "cell_type": "code",
   "execution_count": 37,
   "id": "f579d577-ed04-44a0-8b43-00ae848bdca1",
   "metadata": {},
   "outputs": [],
   "source": [
    "import torch\n",
    "import torch.nn as nn\n",
    "import torch.optim as optim\n",
    "from torchvision import models, transforms\n",
    "from torch.utils.data import DataLoader, Dataset\n",
    "from PIL import Image\n",
    "import os\n",
    "from tqdm import tqdm\n",
    "import torch.nn.functional as F\n",
    "from sklearn.metrics import accuracy_score\n",
    "import torchvision\n",
    "from time import localtime, strftime\n",
    "from torch.optim.lr_scheduler import StepLR"
   ]
  },
  {
   "cell_type": "code",
   "execution_count": 56,
   "id": "1e3cd8f7-7c0b-4b5a-854d-4ac1d0169d7e",
   "metadata": {},
   "outputs": [],
   "source": [
    "class FeatureExtractor(nn.Module):\n",
    "    def __init__(self):\n",
    "        super(FeatureExtractor, self).__init__()\n",
    "        self.model = models.resnet50(pretrained=True)\n",
    "        self.model = nn.Sequential(*list(self.model.children())[:-1])  # Remove the last layer\n",
    "\n",
    "    def forward(self, x):\n",
    "        with torch.no_grad():\n",
    "            features = self.model(x)\n",
    "        return features.view(features.size(0), -1)\n",
    "        \n",
    "class SimpleNN(nn.Module):\n",
    "    def __init__(self, input_dim, output_dim):\n",
    "        super(SimpleNN, self).__init__()\n",
    "        self.fc1 = nn.Linear(input_dim, 512)\n",
    "        self.dropout = nn.Dropout(0.5)\n",
    "        self.fc2 = nn.Linear(512, output_dim)\n",
    "\n",
    "    def forward(self, x):\n",
    "        x = torch.relu(self.fc1(x))\n",
    "        x = self.dropout(x)\n",
    "        x = self.fc2(x)\n",
    "        return x\n",
    "\n",
    "class TeacherStudentNetworks:\n",
    "    def __init__(self, feature_dim, output_dim):\n",
    "        self.teacher = SimpleNN(feature_dim, output_dim)\n",
    "        self.student = SimpleNN(feature_dim, output_dim)\n",
    "        \n",
    "class FeatureAugmenter:\n",
    "    def __init__(self, input_dim):\n",
    "        self.feature_augmenter = SimpleNN(input_dim, input_dim)\n",
    "        \n",
    "class BinaryClassifier:\n",
    "    def __init__(self, input_dim):\n",
    "        self.binary_classifier = SimpleNN(input_dim, 2)\n",
    "\n",
    "class RealFakeDataset(Dataset):\n",
    "    def __init__(self, image_paths, labels, transform=None):\n",
    "        self.image_paths = image_paths\n",
    "        self.labels = labels\n",
    "        self.transform = transform\n",
    "\n",
    "    def __len__(self):\n",
    "        return len(self.image_paths)\n",
    "\n",
    "    def __getitem__(self, idx):\n",
    "        img_path = self.image_paths[idx]\n",
    "        image = Image.open(img_path).convert('RGB')\n",
    "        label = self.labels[idx]\n",
    "        \n",
    "        if self.transform:\n",
    "            image = self.transform(image)\n",
    "        \n",
    "        return image, label\n",
    "\n"
   ]
  },
  {
   "cell_type": "code",
   "execution_count": 39,
   "id": "a2826414-b555-496b-bfde-493a986e2356",
   "metadata": {},
   "outputs": [],
   "source": [
    "def load_image_paths_and_labels(root_dir):\n",
    "    image_paths = []\n",
    "    labels = []\n",
    "    \n",
    "    for model in os.listdir(root_dir):\n",
    "        model_path = os.path.join(root_dir, model)\n",
    "        if os.path.isdir(model_path):\n",
    "            for label in ['0_real', '1_fake']:\n",
    "                label_path = os.path.join(model_path, label)\n",
    "                if os.path.isdir(label_path):\n",
    "                    for img_name in os.listdir(label_path):\n",
    "                        img_path = os.path.join(label_path, img_name)\n",
    "                        image_paths.append(img_path)\n",
    "                        labels.append(0 if '0_real' in label else 1)\n",
    "                else:\n",
    "                    for obj in os.listdir(model_path):\n",
    "                        obj_path = os.path.join(model_path, obj)\n",
    "                        label_path = os.path.join(obj_path, label)\n",
    "                        if os.path.isdir(label_path):\n",
    "                            for img_name in os.listdir(label_path):\n",
    "                                img_path = os.path.join(label_path, img_name)\n",
    "                                image_paths.append(img_path)\n",
    "                                labels.append(0 if '0_real' in label else 1)\n",
    "    \n",
    "    return image_paths, labels"
   ]
  },
  {
   "cell_type": "code",
   "execution_count": 52,
   "id": "e1aa52a9-955c-4b5b-98d5-e9e2272d9a29",
   "metadata": {},
   "outputs": [],
   "source": [
    "def train_teacher(teacher, feature_extractor, dataloader, device, num_epochs=10):\n",
    "    criterion = nn.CrossEntropyLoss()\n",
    "    optimizer = optim.Adam(teacher.parameters(), lr=0.001, weight_decay=0.0001)\n",
    "    scheduler = StepLR(optimizer, step_size=5, gamma=0.5)\n",
    "    feature_extractor.to(device)\n",
    "    teacher.to(device)\n",
    "    teacher.train()\n",
    "    feature_extractor.eval()\n",
    "    \n",
    "    for epoch in range(num_epochs):\n",
    "        running_loss = 0.0\n",
    "        for images, labels in tqdm(dataloader, desc=f'Teacher training {epoch+1}/{num_epochs}', unit='batch'):\n",
    "            images, labels = images.to(device), labels.to(device)\n",
    "            features = feature_extractor(images)\n",
    "            \n",
    "            optimizer.zero_grad()\n",
    "            outputs = teacher(features)\n",
    "            loss = criterion(outputs, labels)\n",
    "            loss.backward()\n",
    "            optimizer.step()\n",
    "            \n",
    "            running_loss += loss.item()\n",
    "        scheduler.step()\n",
    "        print(f'Epoch {epoch+1}, Loss: {running_loss/len(dataloader)}')\n",
    "        save_checkpoint(teacher, filename='teacher_cpt', epoch=epoch)\n",
    "        add_log(f'Saved teacher_cpt at epoch {epoch}. \\nLoss: {running_loss/len(dataloader)}')\n",
    "    print('Finished Training Teacher')"
   ]
  },
  {
   "cell_type": "code",
   "execution_count": 41,
   "id": "7d3dba0c-a3c4-4723-9344-cdb08c754114",
   "metadata": {},
   "outputs": [],
   "source": [
    "def train_student_augmenter(teacher, student, feature_extractor, augmenter, dataloader, device, num_epochs=10, margin=1.0):\n",
    "    optimizer_student  = optim.Adam(student.parameters(), lr=0.001, weight_decay=0.0001)\n",
    "    optimizer_augmenter = optim.Adam(augmenter.parameters(), lr=0.001, weight_decay=0.0001)\n",
    "    scheduler_student = StepLR(optimizer_student, step_size=5, gamma=0.5)\n",
    "    scheduler_augmenter = StepLR(optimizer_augmenter, step_size=5, gamma=0.5)\n",
    "    teacher.to(device)\n",
    "    student.to(device)\n",
    "    augmenter.to(device)\n",
    "    feature_extractor.to(device)\n",
    "    student.train()\n",
    "    teacher.eval()\n",
    "    feature_extractor.eval()\n",
    "    augmenter.train()\n",
    "\n",
    "    \n",
    "    for epoch in range(num_epochs):\n",
    "\n",
    "        running_loss_real = 0.0\n",
    "        running_loss_fake = 0.0\n",
    "        running_loss_augmenter = 0.0\n",
    "        \n",
    "        for images, labels in tqdm(dataloader, desc=f'Student and Augmenter training {epoch+1}/{num_epochs}', unit='batch'):\n",
    "            images, labels = images.to(device), labels.to(device)\n",
    "            features = feature_extractor(images)\n",
    "            \n",
    "            # Real images\n",
    "            real_indices = (labels == 0)\n",
    "            real_features = features[real_indices]\n",
    "            if len(real_features) > 0:\n",
    "                teacher_real = teacher(real_features)\n",
    "                student_real = student(real_features)\n",
    "                loss_real = F.mse_loss(teacher_real, student_real)\n",
    "                \n",
    "                optimizer_student.zero_grad()\n",
    "                loss_real.backward()\n",
    "                optimizer_student.step()\n",
    "                \n",
    "                running_loss_real += loss_real.item()\n",
    "            \n",
    "            # Fake images\n",
    "            fake_indices = (labels == 1)\n",
    "            fake_features = features[fake_indices]\n",
    "            \n",
    "            if len(fake_features) > 0:\n",
    "                fake_indices = (labels == 1)\n",
    "            fake_features = features[fake_indices]\n",
    "            if fake_features.size(0) > 0:\n",
    "                # Train the student network with fake features\n",
    "                augmented_fake_features = augmenter(fake_features)\n",
    "                teacher_fake = teacher(augmented_fake_features)\n",
    "                student_fake = student(augmented_fake_features)\n",
    "                discrepancy = torch.mean((teacher_fake / teacher_fake.norm(2, dim=1, keepdim=True) - student_fake / student_fake.norm(2, dim=1, keepdim=True)) ** 2)\n",
    "                loss_fake = torch.clamp(margin - discrepancy, min=0.0)\n",
    "                \n",
    "                optimizer_student.zero_grad()\n",
    "                loss_fake.backward()\n",
    "                optimizer_student.step()\n",
    "                \n",
    "                running_loss_fake += loss_fake.item()\n",
    "\n",
    "                # Train the augmenter network\n",
    "                augmented_fake_features = augmenter(fake_features.detach())\n",
    "                teacher_fake = teacher(augmented_fake_features)\n",
    "                student_fake = student(augmented_fake_features.detach())\n",
    "                loss_augmenter = F.mse_loss(teacher_fake, student_fake)\n",
    "                \n",
    "                optimizer_augmenter.zero_grad()\n",
    "                loss_augmenter.backward()\n",
    "                optimizer_augmenter.step()\n",
    "                \n",
    "                running_loss_augmenter += loss_augmenter.item()\n",
    "        scheduler_student.step()\n",
    "        scheduler_augmenter.step()\n",
    "        print(f'Epoch {epoch+1}, Real Loss: {running_loss_real/len(dataloader)}, Fake Loss: {running_loss_fake/len(dataloader)}')\n",
    "        save_checkpoint(student, filename='student_cpt', epoch=epoch)\n",
    "        save_checkpoint(augmenter, filename='augmenter_cpt', epoch=epoch)\n",
    "        add_log(f'Saved student_cpt and augmenter_cpt at epoch {epoch}. \\nLoss student: real: {running_loss_real/len(dataloader)}, fake: {running_loss_fake/len(dataloader)}. \\nLoss augmenter: {running_loss_augmenter/len(dataloader)}')\n",
    "    print('Finished Training Student and Augmenter')"
   ]
  },
  {
   "cell_type": "code",
   "execution_count": 42,
   "id": "ef003ed7-0fa4-4d2c-8bdf-71af2e2fcd32",
   "metadata": {},
   "outputs": [],
   "source": [
    "def train_student(teacher, student, feature_extractor, augmenter, dataloader, device, num_epochs=10, margin=1.0):\n",
    "    optimizer = optim.Adam(student.parameters(), lr=0.001, weight_decay=0.0001)\n",
    "    teacher.to(device)\n",
    "    student.to(device)\n",
    "    augmenter.to(device)\n",
    "    feature_extractor.to(device)\n",
    "    student.train()\n",
    "    teacher.eval()\n",
    "    feature_extractor.eval()\n",
    "    augmenter.eval()\n",
    "    \n",
    "    for epoch in range(num_epochs):\n",
    "\n",
    "        running_loss_real = 0.0\n",
    "        running_loss_fake = 0.0\n",
    "        \n",
    "        for images, labels in tqdm(dataloader, desc=f'Student training {epoch+1}/{num_epochs}', unit='batch'):\n",
    "            images, labels = images.to(device), labels.to(device)\n",
    "            features = feature_extractor(images)\n",
    "            \n",
    "            # Real images\n",
    "            real_indices = (labels == 0)\n",
    "            real_features = features[real_indices]\n",
    "            if len(real_features) > 0:\n",
    "                teacher_real = teacher(real_features)\n",
    "                student_real = student(real_features)\n",
    "                loss_real = torch.mean((teacher_real - student_real) ** 2)\n",
    "                \n",
    "                optimizer.zero_grad()\n",
    "                loss_real.backward()\n",
    "                optimizer.step()\n",
    "                \n",
    "                running_loss_real += loss_real.item()\n",
    "            \n",
    "            # Fake images\n",
    "            fake_indices = (labels == 1)\n",
    "            fake_features = features[fake_indices]\n",
    "            if len(fake_features) > 0:\n",
    "                augmented_fake_features = augmenter(fake_features)\n",
    "                teacher_fake = teacher(augmented_fake_features)\n",
    "                student_fake = student(augmented_fake_features)\n",
    "                discrepancy = torch.mean((teacher_fake / teacher_fake.norm(2, dim=1, keepdim=True) - student_fake / student_fake.norm(2, dim=1, keepdim=True)) ** 2)\n",
    "                loss_fake = torch.clamp(margin - discrepancy, min=0.0)\n",
    "                \n",
    "                optimizer.zero_grad()\n",
    "                loss_fake.backward()\n",
    "                optimizer.step()\n",
    "                \n",
    "                running_loss_fake += loss_fake.item()\n",
    "        \n",
    "        print(f'Epoch {epoch+1}, Real Loss: {running_loss_real/len(dataloader)}, Fake Loss: {running_loss_fake/len(dataloader)}')\n",
    "        save_checkpoint(student, filename='student_cpt', epoch=epoch)\n",
    "        add_log(f'Saved student_cpt at epoch {epoch}. \\nLoss student: real: {running_loss_real/len(dataloader)}, fake: {running_loss_fake/len(dataloader)}.')\n",
    "    print('Finished Training Student')"
   ]
  },
  {
   "cell_type": "code",
   "execution_count": 43,
   "id": "bc879c51-9a6e-480a-b2cd-ddcb126061f1",
   "metadata": {},
   "outputs": [],
   "source": [
    "def train_binary_classifier(teacher, student, classifier, feature_extractor, dataloader, device, num_epochs=10):\n",
    "    criterion = nn.CrossEntropyLoss()\n",
    "    optimizer = optim.Adam(classifier.parameters(), lr=0.001, weight_decay=0.0001)\n",
    "    scheduler = StepLR(optimizer, step_size=5, gamma=0.5)\n",
    "    teacher.to(device)\n",
    "    student.to(device)\n",
    "    classifier.to(device)\n",
    "    feature_extractor.to(device)\n",
    "    classifier.train()\n",
    "    teacher.eval()\n",
    "    student.eval()\n",
    "    feature_extractor.eval()\n",
    "    \n",
    "    for epoch in range(num_epochs):\n",
    "        running_loss = 0.0\n",
    "        \n",
    "        for images, labels in tqdm(dataloader, desc=f'Classifier training {epoch+1}/{num_epochs}', unit='batch'):\n",
    "            images, labels = images.to(device), labels.to(device)\n",
    "            features = feature_extractor(images)\n",
    "            \n",
    "            with torch.no_grad():\n",
    "                teacher_outputs = teacher(features)\n",
    "                student_outputs = student(features)\n",
    "            discrepancies = (teacher_outputs - student_outputs) ** 2\n",
    "            outputs = classifier(discrepancies)\n",
    "            \n",
    "            optimizer.zero_grad()\n",
    "            loss = criterion(outputs, labels)\n",
    "            loss.backward()\n",
    "            optimizer.step()\n",
    "            \n",
    "            running_loss += loss.item()\n",
    "        scheduler.step()    \n",
    "        print(f'Epoch {epoch+1}, Loss: {running_loss/len(dataloader)}')\n",
    "        save_checkpoint(classifier, filename='bin_classifier_cpt', epoch=epoch)\n",
    "        add_log(f'Saved bin_classifier_cpt at epoch {epoch/len(dataloader)}')\n",
    "    print('Finished Training Binary Classifier')"
   ]
  },
  {
   "cell_type": "code",
   "execution_count": 44,
   "id": "02a269c7-7ac5-466e-b4b6-c98618fd86b3",
   "metadata": {},
   "outputs": [],
   "source": [
    "def train_augmenter(teacher, student, feature_extractor, augmenter, dataloader, device, num_epochs=10):\n",
    "    optimizer = optim.Adam(augmenter.parameters(), lr=0.001, weight_decay=0.0001)\n",
    "    teacher.to(device)\n",
    "    student.to(device)\n",
    "    augmenter.to(device)\n",
    "    feature_extractor.to(device)\n",
    "    teacher.eval()\n",
    "    student.eval()\n",
    "    feature_extractor.eval()\n",
    "    augmenter.train()\n",
    "    \n",
    "    for epoch in range(num_epochs):\n",
    "        running_loss = 0.0\n",
    "        \n",
    "        for images, labels in tqdm(dataloader, desc=f'Augmenter training {epoch+1}/{num_epochs}', unit='batch'):\n",
    "            images, labels = images.to(device), labels.to(device)\n",
    "            features = feature_extractor(images)\n",
    "            \n",
    "            # Fake images\n",
    "            fake_indices = (labels == 1)\n",
    "            fake_features = features[fake_indices]\n",
    "            if len(fake_features) > 0:\n",
    "                augmented_fake_features = augmenter(fake_features)\n",
    "                with torch.no_grad:\n",
    "                    teacher_fake = teacher(augmented_fake_features)\n",
    "                    student_fake = student(augmented_fake_features)\n",
    "                loss = torch.mean((teacher_fake - student_fake) ** 2)\n",
    "                \n",
    "                optimizer.zero_grad()\n",
    "                loss.backward()\n",
    "                optimizer.step()\n",
    "                \n",
    "                running_loss+= loss.item()\n",
    "                \n",
    "        print(f'Epoch {epoch+1}, Loss: {running_loss/len(dataloader)}')\n",
    "        save_checkpoint(augmenter, filename='augmenter_cpt', epoch=epoch)\n",
    "        add_log(f'Saved augmenter_cpt at epoch {epoch}. \\nLoss: {running_loss/len(dataloader)}')\n",
    "        \n",
    "    print('Finished Training Augmenter')"
   ]
  },
  {
   "cell_type": "code",
   "execution_count": null,
   "id": "6687c210-5ad5-4eff-bc9d-88daec7bdb9c",
   "metadata": {},
   "outputs": [],
   "source": [
    "transform = transforms.Compose([\n",
    "    transforms.Resize((256, 256)),\n",
    "    transforms.RandomHorizontalFlip(),\n",
    "    transforms.RandomRotation(15),\n",
    "    transforms.ToTensor(),\n",
    "])\n"
   ]
  },
  {
   "cell_type": "code",
   "execution_count": 46,
   "id": "838c28c5-de5d-45a9-af4a-4d181e460200",
   "metadata": {},
   "outputs": [],
   "source": [
    "def save_checkpoint(model, filename='checkpoint', epoch = 0):\n",
    "    modelfilename = filename + f'_epoch{epoch}.pth.tar'\n",
    "    torch.save(model.state_dict(), f'models/{modelfilename}')\n",
    "    print(f'Saved checkpoint as: {modelfilename}')\n",
    "    \n",
    "def load_checkpoint(model, path):\n",
    "    model.load_state_dict(torch.load(path))\n",
    "    print(f'Loaded model: {path}')\n",
    "    \n",
    "def add_log(msg):\n",
    "     with open('log.txt', 'a') as file:\n",
    "        time = strftime(\"%H:%M\", localtime())\n",
    "        file.write(time + ': ' + msg + '\\n')\n",
    "         \n",
    "def init_weights(m):\n",
    "    if isinstance(m, nn.Conv2d):\n",
    "        torch.nn.init.kaiming_normal_(m.weight, mode='fan_out', nonlinearity='relu')\n",
    "        if m.bias is not None:\n",
    "            torch.nn.init.constant_(m.bias, 0)\n",
    "    elif isinstance(m, nn.Linear):\n",
    "        torch.nn.init.kaiming_normal_(m.weight, mode='fan_in', nonlinearity='relu')\n",
    "        torch.nn.init.constant_(m.bias, 0)"
   ]
  },
  {
   "cell_type": "code",
   "execution_count": 54,
   "id": "c12db88d-b139-48b7-868e-5dfa1b414a60",
   "metadata": {},
   "outputs": [],
   "source": [
    "# Load image paths and labels\n",
    "image_paths, labels = load_image_paths_and_labels('D:/CNN_synth/train_set/')\n",
    "\n",
    "# Create a dataset instance \n",
    "full_dataset = RealFakeDataset(image_paths, labels, transform=transform)\n",
    "\n",
    "# Define the split ratio\n",
    "train_size = int(0.6 * len(full_dataset))\n",
    "test_size = len(full_dataset) - train_size\n",
    "\n",
    "# Split the dataset\n",
    "train_dataset, test_dataset = torch.utils.data.random_split(full_dataset, [train_size, test_size])\n",
    "\n",
    "# Create data loaders\n",
    "train_loader = DataLoader(train_dataset, batch_size=32, shuffle=True)\n",
    "test_loader = DataLoader(test_dataset, batch_size=32, shuffle=False)"
   ]
  },
  {
   "cell_type": "code",
   "execution_count": 57,
   "id": "6bc5f542-9d63-4f80-9852-fef692108f1b",
   "metadata": {},
   "outputs": [
    {
     "data": {
      "text/plain": [
       "54197"
      ]
     },
     "execution_count": 57,
     "metadata": {},
     "output_type": "execute_result"
    }
   ],
   "source": [
    "len(train_dataset)"
   ]
  },
  {
   "cell_type": "code",
   "execution_count": 49,
   "id": "1abffd23-bc1d-46a4-a864-6c679cd33d67",
   "metadata": {},
   "outputs": [
    {
     "data": {
      "text/plain": [
       "SimpleNN(\n",
       "  (fc1): Linear(in_features=2, out_features=512, bias=True)\n",
       "  (dropout): Dropout(p=0.5, inplace=False)\n",
       "  (fc2): Linear(in_features=512, out_features=2, bias=True)\n",
       ")"
      ]
     },
     "execution_count": 49,
     "metadata": {},
     "output_type": "execute_result"
    }
   ],
   "source": [
    "# Initialize networks\n",
    "feature_extractor = FeatureExtractor()\n",
    "feature_dim = 2048  # ResNet50 output feature dimension\n",
    "teacher_student = TeacherStudentNetworks(feature_dim, 2)\n",
    "teacher_student.student.apply(init_weights)\n",
    "teacher_student.teacher.apply(init_weights)\n",
    "augmenter = FeatureAugmenter(feature_dim)\n",
    "augmenter.feature_augmenter.apply(init_weights)\n",
    "binary_classifier = BinaryClassifier(2)\n",
    "binary_classifier.binary_classifier.apply(init_weights)"
   ]
  },
  {
   "cell_type": "code",
   "execution_count": 50,
   "id": "51195da8-3663-4922-9f1c-0f709cac1f7a",
   "metadata": {},
   "outputs": [
    {
     "data": {
      "text/plain": [
       "SimpleNN(\n",
       "  (fc1): Linear(in_features=2048, out_features=512, bias=True)\n",
       "  (dropout): Dropout(p=0.5, inplace=False)\n",
       "  (fc2): Linear(in_features=512, out_features=2048, bias=True)\n",
       ")"
      ]
     },
     "execution_count": 50,
     "metadata": {},
     "output_type": "execute_result"
    }
   ],
   "source": [
    "device = torch.device(\"cuda\" if torch.cuda.is_available() else \"cpu\")\n",
    "teacher_student.teacher.to(device)\n",
    "teacher_student.student.to(device)\n",
    "binary_classifier.binary_classifier.to(device)\n",
    "feature_extractor.to(device)\n",
    "augmenter.feature_augmenter.to(device)"
   ]
  },
  {
   "cell_type": "code",
   "execution_count": 55,
   "id": "f9df6a39-a3a4-4e47-b0ec-06818d7b3a6a",
   "metadata": {},
   "outputs": [
    {
     "name": "stderr",
     "output_type": "stream",
     "text": [
      "Teacher training 1/10:   1%|▍                                                     | 12/1694 [00:14<32:43,  1.17s/batch]\n"
     ]
    },
    {
     "ename": "KeyboardInterrupt",
     "evalue": "",
     "output_type": "error",
     "traceback": [
      "\u001b[1;31m---------------------------------------------------------------------------\u001b[0m",
      "\u001b[1;31mKeyboardInterrupt\u001b[0m                         Traceback (most recent call last)",
      "Cell \u001b[1;32mIn[55], line 2\u001b[0m\n\u001b[0;32m      1\u001b[0m \u001b[38;5;66;03m# Train the teacher network\u001b[39;00m\n\u001b[1;32m----> 2\u001b[0m train_teacher(teacher_student\u001b[38;5;241m.\u001b[39mteacher, feature_extractor, train_loader, device, \u001b[38;5;241m10\u001b[39m)\n",
      "Cell \u001b[1;32mIn[52], line 12\u001b[0m, in \u001b[0;36mtrain_teacher\u001b[1;34m(teacher, feature_extractor, dataloader, device, num_epochs)\u001b[0m\n\u001b[0;32m     10\u001b[0m \u001b[38;5;28;01mfor\u001b[39;00m epoch \u001b[38;5;129;01min\u001b[39;00m \u001b[38;5;28mrange\u001b[39m(num_epochs):\n\u001b[0;32m     11\u001b[0m     running_loss \u001b[38;5;241m=\u001b[39m \u001b[38;5;241m0.0\u001b[39m\n\u001b[1;32m---> 12\u001b[0m     \u001b[38;5;28;01mfor\u001b[39;00m images, labels \u001b[38;5;129;01min\u001b[39;00m tqdm(dataloader, desc\u001b[38;5;241m=\u001b[39m\u001b[38;5;124mf\u001b[39m\u001b[38;5;124m'\u001b[39m\u001b[38;5;124mTeacher training \u001b[39m\u001b[38;5;132;01m{\u001b[39;00mepoch\u001b[38;5;241m+\u001b[39m\u001b[38;5;241m1\u001b[39m\u001b[38;5;132;01m}\u001b[39;00m\u001b[38;5;124m/\u001b[39m\u001b[38;5;132;01m{\u001b[39;00mnum_epochs\u001b[38;5;132;01m}\u001b[39;00m\u001b[38;5;124m'\u001b[39m, unit\u001b[38;5;241m=\u001b[39m\u001b[38;5;124m'\u001b[39m\u001b[38;5;124mbatch\u001b[39m\u001b[38;5;124m'\u001b[39m):\n\u001b[0;32m     13\u001b[0m         images, labels \u001b[38;5;241m=\u001b[39m images\u001b[38;5;241m.\u001b[39mto(device), labels\u001b[38;5;241m.\u001b[39mto(device)\n\u001b[0;32m     14\u001b[0m         features \u001b[38;5;241m=\u001b[39m feature_extractor(images)\n",
      "File \u001b[1;32m~\\anaconda3\\Lib\\site-packages\\tqdm\\std.py:1178\u001b[0m, in \u001b[0;36mtqdm.__iter__\u001b[1;34m(self)\u001b[0m\n\u001b[0;32m   1175\u001b[0m time \u001b[38;5;241m=\u001b[39m \u001b[38;5;28mself\u001b[39m\u001b[38;5;241m.\u001b[39m_time\n\u001b[0;32m   1177\u001b[0m \u001b[38;5;28;01mtry\u001b[39;00m:\n\u001b[1;32m-> 1178\u001b[0m     \u001b[38;5;28;01mfor\u001b[39;00m obj \u001b[38;5;129;01min\u001b[39;00m iterable:\n\u001b[0;32m   1179\u001b[0m         \u001b[38;5;28;01myield\u001b[39;00m obj\n\u001b[0;32m   1180\u001b[0m         \u001b[38;5;66;03m# Update and possibly print the progressbar.\u001b[39;00m\n\u001b[0;32m   1181\u001b[0m         \u001b[38;5;66;03m# Note: does not call self.update(1) for speed optimisation.\u001b[39;00m\n",
      "File \u001b[1;32m~\\anaconda3\\Lib\\site-packages\\torch\\utils\\data\\dataloader.py:631\u001b[0m, in \u001b[0;36m_BaseDataLoaderIter.__next__\u001b[1;34m(self)\u001b[0m\n\u001b[0;32m    628\u001b[0m \u001b[38;5;28;01mif\u001b[39;00m \u001b[38;5;28mself\u001b[39m\u001b[38;5;241m.\u001b[39m_sampler_iter \u001b[38;5;129;01mis\u001b[39;00m \u001b[38;5;28;01mNone\u001b[39;00m:\n\u001b[0;32m    629\u001b[0m     \u001b[38;5;66;03m# TODO(https://github.com/pytorch/pytorch/issues/76750)\u001b[39;00m\n\u001b[0;32m    630\u001b[0m     \u001b[38;5;28mself\u001b[39m\u001b[38;5;241m.\u001b[39m_reset()  \u001b[38;5;66;03m# type: ignore[call-arg]\u001b[39;00m\n\u001b[1;32m--> 631\u001b[0m data \u001b[38;5;241m=\u001b[39m \u001b[38;5;28mself\u001b[39m\u001b[38;5;241m.\u001b[39m_next_data()\n\u001b[0;32m    632\u001b[0m \u001b[38;5;28mself\u001b[39m\u001b[38;5;241m.\u001b[39m_num_yielded \u001b[38;5;241m+\u001b[39m\u001b[38;5;241m=\u001b[39m \u001b[38;5;241m1\u001b[39m\n\u001b[0;32m    633\u001b[0m \u001b[38;5;28;01mif\u001b[39;00m \u001b[38;5;28mself\u001b[39m\u001b[38;5;241m.\u001b[39m_dataset_kind \u001b[38;5;241m==\u001b[39m _DatasetKind\u001b[38;5;241m.\u001b[39mIterable \u001b[38;5;129;01mand\u001b[39;00m \\\n\u001b[0;32m    634\u001b[0m         \u001b[38;5;28mself\u001b[39m\u001b[38;5;241m.\u001b[39m_IterableDataset_len_called \u001b[38;5;129;01mis\u001b[39;00m \u001b[38;5;129;01mnot\u001b[39;00m \u001b[38;5;28;01mNone\u001b[39;00m \u001b[38;5;129;01mand\u001b[39;00m \\\n\u001b[0;32m    635\u001b[0m         \u001b[38;5;28mself\u001b[39m\u001b[38;5;241m.\u001b[39m_num_yielded \u001b[38;5;241m>\u001b[39m \u001b[38;5;28mself\u001b[39m\u001b[38;5;241m.\u001b[39m_IterableDataset_len_called:\n",
      "File \u001b[1;32m~\\anaconda3\\Lib\\site-packages\\torch\\utils\\data\\dataloader.py:675\u001b[0m, in \u001b[0;36m_SingleProcessDataLoaderIter._next_data\u001b[1;34m(self)\u001b[0m\n\u001b[0;32m    673\u001b[0m \u001b[38;5;28;01mdef\u001b[39;00m \u001b[38;5;21m_next_data\u001b[39m(\u001b[38;5;28mself\u001b[39m):\n\u001b[0;32m    674\u001b[0m     index \u001b[38;5;241m=\u001b[39m \u001b[38;5;28mself\u001b[39m\u001b[38;5;241m.\u001b[39m_next_index()  \u001b[38;5;66;03m# may raise StopIteration\u001b[39;00m\n\u001b[1;32m--> 675\u001b[0m     data \u001b[38;5;241m=\u001b[39m \u001b[38;5;28mself\u001b[39m\u001b[38;5;241m.\u001b[39m_dataset_fetcher\u001b[38;5;241m.\u001b[39mfetch(index)  \u001b[38;5;66;03m# may raise StopIteration\u001b[39;00m\n\u001b[0;32m    676\u001b[0m     \u001b[38;5;28;01mif\u001b[39;00m \u001b[38;5;28mself\u001b[39m\u001b[38;5;241m.\u001b[39m_pin_memory:\n\u001b[0;32m    677\u001b[0m         data \u001b[38;5;241m=\u001b[39m _utils\u001b[38;5;241m.\u001b[39mpin_memory\u001b[38;5;241m.\u001b[39mpin_memory(data, \u001b[38;5;28mself\u001b[39m\u001b[38;5;241m.\u001b[39m_pin_memory_device)\n",
      "File \u001b[1;32m~\\anaconda3\\Lib\\site-packages\\torch\\utils\\data\\_utils\\fetch.py:49\u001b[0m, in \u001b[0;36m_MapDatasetFetcher.fetch\u001b[1;34m(self, possibly_batched_index)\u001b[0m\n\u001b[0;32m     47\u001b[0m \u001b[38;5;28;01mif\u001b[39;00m \u001b[38;5;28mself\u001b[39m\u001b[38;5;241m.\u001b[39mauto_collation:\n\u001b[0;32m     48\u001b[0m     \u001b[38;5;28;01mif\u001b[39;00m \u001b[38;5;28mhasattr\u001b[39m(\u001b[38;5;28mself\u001b[39m\u001b[38;5;241m.\u001b[39mdataset, \u001b[38;5;124m\"\u001b[39m\u001b[38;5;124m__getitems__\u001b[39m\u001b[38;5;124m\"\u001b[39m) \u001b[38;5;129;01mand\u001b[39;00m \u001b[38;5;28mself\u001b[39m\u001b[38;5;241m.\u001b[39mdataset\u001b[38;5;241m.\u001b[39m__getitems__:\n\u001b[1;32m---> 49\u001b[0m         data \u001b[38;5;241m=\u001b[39m \u001b[38;5;28mself\u001b[39m\u001b[38;5;241m.\u001b[39mdataset\u001b[38;5;241m.\u001b[39m__getitems__(possibly_batched_index)\n\u001b[0;32m     50\u001b[0m     \u001b[38;5;28;01melse\u001b[39;00m:\n\u001b[0;32m     51\u001b[0m         data \u001b[38;5;241m=\u001b[39m [\u001b[38;5;28mself\u001b[39m\u001b[38;5;241m.\u001b[39mdataset[idx] \u001b[38;5;28;01mfor\u001b[39;00m idx \u001b[38;5;129;01min\u001b[39;00m possibly_batched_index]\n",
      "File \u001b[1;32m~\\anaconda3\\Lib\\site-packages\\torch\\utils\\data\\dataset.py:399\u001b[0m, in \u001b[0;36mSubset.__getitems__\u001b[1;34m(self, indices)\u001b[0m\n\u001b[0;32m    397\u001b[0m     \u001b[38;5;28;01mreturn\u001b[39;00m \u001b[38;5;28mself\u001b[39m\u001b[38;5;241m.\u001b[39mdataset\u001b[38;5;241m.\u001b[39m__getitems__([\u001b[38;5;28mself\u001b[39m\u001b[38;5;241m.\u001b[39mindices[idx] \u001b[38;5;28;01mfor\u001b[39;00m idx \u001b[38;5;129;01min\u001b[39;00m indices])  \u001b[38;5;66;03m# type: ignore[attr-defined]\u001b[39;00m\n\u001b[0;32m    398\u001b[0m \u001b[38;5;28;01melse\u001b[39;00m:\n\u001b[1;32m--> 399\u001b[0m     \u001b[38;5;28;01mreturn\u001b[39;00m [\u001b[38;5;28mself\u001b[39m\u001b[38;5;241m.\u001b[39mdataset[\u001b[38;5;28mself\u001b[39m\u001b[38;5;241m.\u001b[39mindices[idx]] \u001b[38;5;28;01mfor\u001b[39;00m idx \u001b[38;5;129;01min\u001b[39;00m indices]\n",
      "File \u001b[1;32m~\\anaconda3\\Lib\\site-packages\\torch\\utils\\data\\dataset.py:399\u001b[0m, in \u001b[0;36m<listcomp>\u001b[1;34m(.0)\u001b[0m\n\u001b[0;32m    397\u001b[0m     \u001b[38;5;28;01mreturn\u001b[39;00m \u001b[38;5;28mself\u001b[39m\u001b[38;5;241m.\u001b[39mdataset\u001b[38;5;241m.\u001b[39m__getitems__([\u001b[38;5;28mself\u001b[39m\u001b[38;5;241m.\u001b[39mindices[idx] \u001b[38;5;28;01mfor\u001b[39;00m idx \u001b[38;5;129;01min\u001b[39;00m indices])  \u001b[38;5;66;03m# type: ignore[attr-defined]\u001b[39;00m\n\u001b[0;32m    398\u001b[0m \u001b[38;5;28;01melse\u001b[39;00m:\n\u001b[1;32m--> 399\u001b[0m     \u001b[38;5;28;01mreturn\u001b[39;00m [\u001b[38;5;28mself\u001b[39m\u001b[38;5;241m.\u001b[39mdataset[\u001b[38;5;28mself\u001b[39m\u001b[38;5;241m.\u001b[39mindices[idx]] \u001b[38;5;28;01mfor\u001b[39;00m idx \u001b[38;5;129;01min\u001b[39;00m indices]\n",
      "Cell \u001b[1;32mIn[38], line 49\u001b[0m, in \u001b[0;36mRealFakeDataset.__getitem__\u001b[1;34m(self, idx)\u001b[0m\n\u001b[0;32m     47\u001b[0m \u001b[38;5;28;01mdef\u001b[39;00m \u001b[38;5;21m__getitem__\u001b[39m(\u001b[38;5;28mself\u001b[39m, idx):\n\u001b[0;32m     48\u001b[0m     img_path \u001b[38;5;241m=\u001b[39m \u001b[38;5;28mself\u001b[39m\u001b[38;5;241m.\u001b[39mimage_paths[idx]\n\u001b[1;32m---> 49\u001b[0m     image \u001b[38;5;241m=\u001b[39m Image\u001b[38;5;241m.\u001b[39mopen(img_path)\u001b[38;5;241m.\u001b[39mconvert(\u001b[38;5;124m'\u001b[39m\u001b[38;5;124mRGB\u001b[39m\u001b[38;5;124m'\u001b[39m)\n\u001b[0;32m     50\u001b[0m     label \u001b[38;5;241m=\u001b[39m \u001b[38;5;28mself\u001b[39m\u001b[38;5;241m.\u001b[39mlabels[idx]\n\u001b[0;32m     52\u001b[0m     \u001b[38;5;28;01mif\u001b[39;00m \u001b[38;5;28mself\u001b[39m\u001b[38;5;241m.\u001b[39mtransform:\n",
      "File \u001b[1;32m~\\anaconda3\\Lib\\site-packages\\PIL\\Image.py:3227\u001b[0m, in \u001b[0;36mopen\u001b[1;34m(fp, mode, formats)\u001b[0m\n\u001b[0;32m   3224\u001b[0m     filename \u001b[38;5;241m=\u001b[39m fp\n\u001b[0;32m   3226\u001b[0m \u001b[38;5;28;01mif\u001b[39;00m filename:\n\u001b[1;32m-> 3227\u001b[0m     fp \u001b[38;5;241m=\u001b[39m builtins\u001b[38;5;241m.\u001b[39mopen(filename, \u001b[38;5;124m\"\u001b[39m\u001b[38;5;124mrb\u001b[39m\u001b[38;5;124m\"\u001b[39m)\n\u001b[0;32m   3228\u001b[0m     exclusive_fp \u001b[38;5;241m=\u001b[39m \u001b[38;5;28;01mTrue\u001b[39;00m\n\u001b[0;32m   3230\u001b[0m \u001b[38;5;28;01mtry\u001b[39;00m:\n",
      "\u001b[1;31mKeyboardInterrupt\u001b[0m: "
     ]
    }
   ],
   "source": [
    "# Train the teacher network\n",
    "train_teacher(teacher_student.teacher, feature_extractor, train_loader, device, 10)"
   ]
  },
  {
   "cell_type": "code",
   "execution_count": null,
   "id": "e5c50a9d-aa5a-488b-94c3-bda521e6a4cc",
   "metadata": {},
   "outputs": [],
   "source": [
    "# Train the student and the augmenter\n",
    "train_student_augmenter(teacher_student.teacher, teacher_student.student, feature_extractor, augmenter.feature_augmenter, train_loader, device, 10)"
   ]
  },
  {
   "cell_type": "code",
   "execution_count": null,
   "id": "4ee8736b-f344-4a29-96c3-16670a1ac92b",
   "metadata": {},
   "outputs": [],
   "source": [
    "# Train the binary classifier\n",
    "train_binary_classifier(teacher_student.teacher, teacher_student.student, binary_classifier.binary_classifier, feature_extractor, train_loader, device, 10)\n",
    "\n",
    "testacc = test_binary_classifier(teacher_student.teacher, teacher_student.student, binary_classifier.binary_classifier, feature_extractor, test_loader, device)\n",
    "mytestacc = test_binary_classifier(teacher_student.teacher, teacher_student.student, binary_classifier.binary_classifier, feature_extractor, mytest_loader, device)\n",
    "add_log(f'Test dataset accuracy: {testacc}')\n",
    "add_log(f'My test dataset accuracy: {mytestacc}')"
   ]
  },
  {
   "cell_type": "code",
   "execution_count": null,
   "id": "8697215a-9264-48a3-ba05-d5d43209eeb4",
   "metadata": {},
   "outputs": [],
   "source": [
    "\n",
    "# for i in range(10):\n",
    "#     # Train the student network\n",
    "#     train_student(teacher_student.teacher, teacher_student.student, feature_extractor, augmenter, train_loader, device, 1, margin= 1.0)\n",
    "#     save_checkpoint(teacher_student.teacher, filename='student_cpt', epoch=i)\n",
    "    \n",
    "#     # Traun the augmenter\n",
    "#     train_augmenter(teacher_student.teacher, teacher_student.student, feature_extractor, augmenter, train_loader, device, 1)\n",
    "#     save_checkpoint(teacher_student.teacher, filename='augmenter_cpt', epoch=i)\n",
    "    "
   ]
  },
  {
   "cell_type": "code",
   "execution_count": 29,
   "id": "9dcb2c2b-e973-486b-a823-0c4fb620f31c",
   "metadata": {},
   "outputs": [],
   "source": [
    "def test_binary_classifier(teacher, student, classifier, feature_extractor, dataloader, device):\n",
    "    classifier.to(device)\n",
    "    teacher.to(device) \n",
    "    student.to(device) \n",
    "    feature_extractor.to(device) \n",
    "    classifier.eval() # Set the classifier to evaluation mode\n",
    "    teacher.eval()\n",
    "    student.eval()\n",
    "    feature_extractor.eval()\n",
    "\n",
    "    all_labels = []\n",
    "    all_preds = []\n",
    "    \n",
    "    with torch.no_grad():  # Disable gradient calculation for testing\n",
    "        for images, labels in dataloader:\n",
    "            images, labels = images.to(device), labels.to(device)\n",
    "            \n",
    "            # Extract features\n",
    "            features = feature_extractor(images)\n",
    "            \n",
    "            # Get outputs from teacher and student networks\n",
    "            teacher_outputs = teacher(features)\n",
    "            student_outputs = student(features)\n",
    "            \n",
    "            # Calculate discrepancy\n",
    "            discrepancy = (teacher_outputs - student_outputs) ** 2\n",
    "            \n",
    "            # Get predictions from binary classifier\n",
    "            outputs = classifier(discrepancy)\n",
    "            _, preds = torch.max(outputs, 1)\n",
    "            \n",
    "            all_labels.extend(labels.cpu().numpy())\n",
    "            all_preds.extend(preds.cpu().numpy())\n",
    "    \n",
    "    accuracy = accuracy_score(all_labels, all_preds)\n",
    "    print(f'Test Accuracy: {accuracy * 100:.2f}%')\n",
    "    return accuracy"
   ]
  },
  {
   "cell_type": "code",
   "execution_count": 25,
   "id": "8b6ab4b9-4b68-419d-bda8-e7339e2e84e9",
   "metadata": {},
   "outputs": [],
   "source": [
    "mytest_image_paths, mytest_labels = load_image_paths_and_labels('C:/Users/Danila/VSU/vsu_common_rep/vsu_common_rep/2year/2term/project/image_classification/content/mytestset/')\n",
    "mytest_dataset = RealFakeDataset(mytest_image_paths, mytest_labels, transform=transform)\n",
    "mytest_loader = DataLoader(mytest_dataset, batch_size=32, shuffle=False)"
   ]
  },
  {
   "cell_type": "code",
   "execution_count": 31,
   "id": "db419e9f-7021-4674-95fa-dba7d66d856b",
   "metadata": {},
   "outputs": [
    {
     "name": "stdout",
     "output_type": "stream",
     "text": [
      "Test Accuracy: 52.95%\n"
     ]
    },
    {
     "data": {
      "text/plain": [
       "0.5294540229885057"
      ]
     },
     "execution_count": 31,
     "metadata": {},
     "output_type": "execute_result"
    }
   ],
   "source": [
    "test_binary_classifier(teacher_student.teacher, teacher_student.student, binary_classifier.binary_classifier, feature_extractor, mytest_loader, device)"
   ]
  },
  {
   "cell_type": "code",
   "execution_count": 27,
   "id": "6c6059f1-58c7-4e97-8b58-73342fdedd52",
   "metadata": {},
   "outputs": [
    {
     "name": "stdout",
     "output_type": "stream",
     "text": [
      "1392\n"
     ]
    }
   ],
   "source": [
    "print(len(mytest_dataset))"
   ]
  },
  {
   "cell_type": "code",
   "execution_count": 229,
   "id": "54016f26-1c27-4b15-92ff-8c5abb71eca6",
   "metadata": {},
   "outputs": [],
   "source": [
    "limage_paths, mytest_labels = load_image_paths_and_labels(\"D:progan_train/progan_train/\")\n",
    "lfull_dataset = RealFakeDataset(mytest_image_paths, mytest_labels, transform=transform)\n",
    "ltrain_size = int(0.7 * len(lfull_dataset))\n",
    "ltest_size = len(lfull_dataset) - ltrain_size\n",
    "ltrain_dataset, ltest_dataset = torch.utils.data.random_split(lfull_dataset, [ltrain_size, ltest_size])\n",
    "ltest_loader = DataLoader(ltest_dataset, batch_size=32, shuffle=False)"
   ]
  },
  {
   "cell_type": "code",
   "execution_count": 105,
   "id": "237887d0-fa3b-4d46-8faf-75af5f56927e",
   "metadata": {},
   "outputs": [
    {
     "name": "stdout",
     "output_type": "stream",
     "text": [
      "Saved checkpoint as: teacher_test_cpt_epoch0.pth.tar\n",
      "Saved checkpoint as: student_test_cpt_epoch0.pth.tar\n",
      "Saved checkpoint as: augmenter_test_cpt_epoch0.pth.tar\n",
      "Saved checkpoint as: bin_classifier_test_cpt_epoch0.pth.tar\n"
     ]
    }
   ],
   "source": [
    "save_checkpoint(teacher_student.teacher, filename='teacher_test_cpt', epoch=0)\n",
    "save_checkpoint(teacher_student.student, filename='student_test_cpt', epoch=0)\n",
    "save_checkpoint(augmenter.feature_augmenter, filename='augmenter_test_cpt', epoch=0)\n",
    "save_checkpoint(binary_classifier.binary_classifier, filename='bin_classifier_test_cpt', epoch=0)"
   ]
  },
  {
   "cell_type": "code",
   "execution_count": 23,
   "id": "81295948-f34b-4b7b-b6ab-519a5086f9aa",
   "metadata": {},
   "outputs": [
    {
     "name": "stdout",
     "output_type": "stream",
     "text": [
      "Loaded model: models_no_random_weights/student_cpt_epoch9.pth.tar\n",
      "Loaded model: models_no_random_weights/teacher_cpt_epoch9.pth.tar\n",
      "Loaded model: models_no_random_weights/augmenter_cpt_epoch9.pth.tar\n",
      "Loaded model: models_no_random_weights/bin_classifier_cpt_epoch9.pth.tar\n"
     ]
    }
   ],
   "source": [
    "load_checkpoint(teacher_student.student, 'models_no_random_weights/student_cpt_epoch9.pth.tar')\n",
    "load_checkpoint(teacher_student.teacher, 'models_no_random_weights/teacher_cpt_epoch9.pth.tar')\n",
    "load_checkpoint(augmenter.feature_augmenter, 'models_no_random_weights/augmenter_cpt_epoch9.pth.tar')\n",
    "load_checkpoint(binary_classifier.binary_classifier, 'models_no_random_weights/bin_classifier_cpt_epoch9.pth.tar')"
   ]
  },
  {
   "cell_type": "code",
   "execution_count": 35,
   "id": "3a33b241-f285-4028-8546-c88871444f58",
   "metadata": {
    "scrolled": true
   },
   "outputs": [
    {
     "name": "stderr",
     "output_type": "stream",
     "text": [
      "Student training 1/1:   1%|▋                                                      | 26/2259 [00:10<14:41,  2.53batch/s]\n"
     ]
    },
    {
     "ename": "KeyboardInterrupt",
     "evalue": "",
     "output_type": "error",
     "traceback": [
      "\u001b[1;31m---------------------------------------------------------------------------\u001b[0m",
      "\u001b[1;31mKeyboardInterrupt\u001b[0m                         Traceback (most recent call last)",
      "Cell \u001b[1;32mIn[35], line 1\u001b[0m\n\u001b[1;32m----> 1\u001b[0m train_augmenter(teacher_student\u001b[38;5;241m.\u001b[39mteacher, teacher_student\u001b[38;5;241m.\u001b[39mstudent, feature_extractor, augmenter, train_loader, device, \u001b[38;5;241m1\u001b[39m)\n",
      "Cell \u001b[1;32mIn[34], line 160\u001b[0m, in \u001b[0;36mtrain_augmenter\u001b[1;34m(teacher, student, feature_extractor, augmenter, dataloader, device, num_epochs)\u001b[0m\n\u001b[0;32m    157\u001b[0m \u001b[38;5;28;01mfor\u001b[39;00m epoch \u001b[38;5;129;01min\u001b[39;00m \u001b[38;5;28mrange\u001b[39m(num_epochs):\n\u001b[0;32m    158\u001b[0m     running_loss \u001b[38;5;241m=\u001b[39m \u001b[38;5;241m0.0\u001b[39m\n\u001b[1;32m--> 160\u001b[0m     \u001b[38;5;28;01mfor\u001b[39;00m images, labels \u001b[38;5;129;01min\u001b[39;00m tqdm(dataloader, desc\u001b[38;5;241m=\u001b[39m\u001b[38;5;124mf\u001b[39m\u001b[38;5;124m'\u001b[39m\u001b[38;5;124mStudent training \u001b[39m\u001b[38;5;132;01m{\u001b[39;00mepoch\u001b[38;5;241m+\u001b[39m\u001b[38;5;241m1\u001b[39m\u001b[38;5;132;01m}\u001b[39;00m\u001b[38;5;124m/\u001b[39m\u001b[38;5;132;01m{\u001b[39;00mnum_epochs\u001b[38;5;132;01m}\u001b[39;00m\u001b[38;5;124m'\u001b[39m, unit\u001b[38;5;241m=\u001b[39m\u001b[38;5;124m'\u001b[39m\u001b[38;5;124mbatch\u001b[39m\u001b[38;5;124m'\u001b[39m):\n\u001b[0;32m    161\u001b[0m         images, labels \u001b[38;5;241m=\u001b[39m images\u001b[38;5;241m.\u001b[39mto(device), labels\u001b[38;5;241m.\u001b[39mto(device)\n\u001b[0;32m    162\u001b[0m         features \u001b[38;5;241m=\u001b[39m feature_extractor(images)\n",
      "File \u001b[1;32m~\\anaconda3\\Lib\\site-packages\\tqdm\\std.py:1178\u001b[0m, in \u001b[0;36mtqdm.__iter__\u001b[1;34m(self)\u001b[0m\n\u001b[0;32m   1175\u001b[0m time \u001b[38;5;241m=\u001b[39m \u001b[38;5;28mself\u001b[39m\u001b[38;5;241m.\u001b[39m_time\n\u001b[0;32m   1177\u001b[0m \u001b[38;5;28;01mtry\u001b[39;00m:\n\u001b[1;32m-> 1178\u001b[0m     \u001b[38;5;28;01mfor\u001b[39;00m obj \u001b[38;5;129;01min\u001b[39;00m iterable:\n\u001b[0;32m   1179\u001b[0m         \u001b[38;5;28;01myield\u001b[39;00m obj\n\u001b[0;32m   1180\u001b[0m         \u001b[38;5;66;03m# Update and possibly print the progressbar.\u001b[39;00m\n\u001b[0;32m   1181\u001b[0m         \u001b[38;5;66;03m# Note: does not call self.update(1) for speed optimisation.\u001b[39;00m\n",
      "File \u001b[1;32m~\\anaconda3\\Lib\\site-packages\\torch\\utils\\data\\dataloader.py:631\u001b[0m, in \u001b[0;36m_BaseDataLoaderIter.__next__\u001b[1;34m(self)\u001b[0m\n\u001b[0;32m    628\u001b[0m \u001b[38;5;28;01mif\u001b[39;00m \u001b[38;5;28mself\u001b[39m\u001b[38;5;241m.\u001b[39m_sampler_iter \u001b[38;5;129;01mis\u001b[39;00m \u001b[38;5;28;01mNone\u001b[39;00m:\n\u001b[0;32m    629\u001b[0m     \u001b[38;5;66;03m# TODO(https://github.com/pytorch/pytorch/issues/76750)\u001b[39;00m\n\u001b[0;32m    630\u001b[0m     \u001b[38;5;28mself\u001b[39m\u001b[38;5;241m.\u001b[39m_reset()  \u001b[38;5;66;03m# type: ignore[call-arg]\u001b[39;00m\n\u001b[1;32m--> 631\u001b[0m data \u001b[38;5;241m=\u001b[39m \u001b[38;5;28mself\u001b[39m\u001b[38;5;241m.\u001b[39m_next_data()\n\u001b[0;32m    632\u001b[0m \u001b[38;5;28mself\u001b[39m\u001b[38;5;241m.\u001b[39m_num_yielded \u001b[38;5;241m+\u001b[39m\u001b[38;5;241m=\u001b[39m \u001b[38;5;241m1\u001b[39m\n\u001b[0;32m    633\u001b[0m \u001b[38;5;28;01mif\u001b[39;00m \u001b[38;5;28mself\u001b[39m\u001b[38;5;241m.\u001b[39m_dataset_kind \u001b[38;5;241m==\u001b[39m _DatasetKind\u001b[38;5;241m.\u001b[39mIterable \u001b[38;5;129;01mand\u001b[39;00m \\\n\u001b[0;32m    634\u001b[0m         \u001b[38;5;28mself\u001b[39m\u001b[38;5;241m.\u001b[39m_IterableDataset_len_called \u001b[38;5;129;01mis\u001b[39;00m \u001b[38;5;129;01mnot\u001b[39;00m \u001b[38;5;28;01mNone\u001b[39;00m \u001b[38;5;129;01mand\u001b[39;00m \\\n\u001b[0;32m    635\u001b[0m         \u001b[38;5;28mself\u001b[39m\u001b[38;5;241m.\u001b[39m_num_yielded \u001b[38;5;241m>\u001b[39m \u001b[38;5;28mself\u001b[39m\u001b[38;5;241m.\u001b[39m_IterableDataset_len_called:\n",
      "File \u001b[1;32m~\\anaconda3\\Lib\\site-packages\\torch\\utils\\data\\dataloader.py:675\u001b[0m, in \u001b[0;36m_SingleProcessDataLoaderIter._next_data\u001b[1;34m(self)\u001b[0m\n\u001b[0;32m    673\u001b[0m \u001b[38;5;28;01mdef\u001b[39;00m \u001b[38;5;21m_next_data\u001b[39m(\u001b[38;5;28mself\u001b[39m):\n\u001b[0;32m    674\u001b[0m     index \u001b[38;5;241m=\u001b[39m \u001b[38;5;28mself\u001b[39m\u001b[38;5;241m.\u001b[39m_next_index()  \u001b[38;5;66;03m# may raise StopIteration\u001b[39;00m\n\u001b[1;32m--> 675\u001b[0m     data \u001b[38;5;241m=\u001b[39m \u001b[38;5;28mself\u001b[39m\u001b[38;5;241m.\u001b[39m_dataset_fetcher\u001b[38;5;241m.\u001b[39mfetch(index)  \u001b[38;5;66;03m# may raise StopIteration\u001b[39;00m\n\u001b[0;32m    676\u001b[0m     \u001b[38;5;28;01mif\u001b[39;00m \u001b[38;5;28mself\u001b[39m\u001b[38;5;241m.\u001b[39m_pin_memory:\n\u001b[0;32m    677\u001b[0m         data \u001b[38;5;241m=\u001b[39m _utils\u001b[38;5;241m.\u001b[39mpin_memory\u001b[38;5;241m.\u001b[39mpin_memory(data, \u001b[38;5;28mself\u001b[39m\u001b[38;5;241m.\u001b[39m_pin_memory_device)\n",
      "File \u001b[1;32m~\\anaconda3\\Lib\\site-packages\\torch\\utils\\data\\_utils\\fetch.py:49\u001b[0m, in \u001b[0;36m_MapDatasetFetcher.fetch\u001b[1;34m(self, possibly_batched_index)\u001b[0m\n\u001b[0;32m     47\u001b[0m \u001b[38;5;28;01mif\u001b[39;00m \u001b[38;5;28mself\u001b[39m\u001b[38;5;241m.\u001b[39mauto_collation:\n\u001b[0;32m     48\u001b[0m     \u001b[38;5;28;01mif\u001b[39;00m \u001b[38;5;28mhasattr\u001b[39m(\u001b[38;5;28mself\u001b[39m\u001b[38;5;241m.\u001b[39mdataset, \u001b[38;5;124m\"\u001b[39m\u001b[38;5;124m__getitems__\u001b[39m\u001b[38;5;124m\"\u001b[39m) \u001b[38;5;129;01mand\u001b[39;00m \u001b[38;5;28mself\u001b[39m\u001b[38;5;241m.\u001b[39mdataset\u001b[38;5;241m.\u001b[39m__getitems__:\n\u001b[1;32m---> 49\u001b[0m         data \u001b[38;5;241m=\u001b[39m \u001b[38;5;28mself\u001b[39m\u001b[38;5;241m.\u001b[39mdataset\u001b[38;5;241m.\u001b[39m__getitems__(possibly_batched_index)\n\u001b[0;32m     50\u001b[0m     \u001b[38;5;28;01melse\u001b[39;00m:\n\u001b[0;32m     51\u001b[0m         data \u001b[38;5;241m=\u001b[39m [\u001b[38;5;28mself\u001b[39m\u001b[38;5;241m.\u001b[39mdataset[idx] \u001b[38;5;28;01mfor\u001b[39;00m idx \u001b[38;5;129;01min\u001b[39;00m possibly_batched_index]\n",
      "File \u001b[1;32m~\\anaconda3\\Lib\\site-packages\\torch\\utils\\data\\dataset.py:399\u001b[0m, in \u001b[0;36mSubset.__getitems__\u001b[1;34m(self, indices)\u001b[0m\n\u001b[0;32m    397\u001b[0m     \u001b[38;5;28;01mreturn\u001b[39;00m \u001b[38;5;28mself\u001b[39m\u001b[38;5;241m.\u001b[39mdataset\u001b[38;5;241m.\u001b[39m__getitems__([\u001b[38;5;28mself\u001b[39m\u001b[38;5;241m.\u001b[39mindices[idx] \u001b[38;5;28;01mfor\u001b[39;00m idx \u001b[38;5;129;01min\u001b[39;00m indices])  \u001b[38;5;66;03m# type: ignore[attr-defined]\u001b[39;00m\n\u001b[0;32m    398\u001b[0m \u001b[38;5;28;01melse\u001b[39;00m:\n\u001b[1;32m--> 399\u001b[0m     \u001b[38;5;28;01mreturn\u001b[39;00m [\u001b[38;5;28mself\u001b[39m\u001b[38;5;241m.\u001b[39mdataset[\u001b[38;5;28mself\u001b[39m\u001b[38;5;241m.\u001b[39mindices[idx]] \u001b[38;5;28;01mfor\u001b[39;00m idx \u001b[38;5;129;01min\u001b[39;00m indices]\n",
      "File \u001b[1;32m~\\anaconda3\\Lib\\site-packages\\torch\\utils\\data\\dataset.py:399\u001b[0m, in \u001b[0;36m<listcomp>\u001b[1;34m(.0)\u001b[0m\n\u001b[0;32m    397\u001b[0m     \u001b[38;5;28;01mreturn\u001b[39;00m \u001b[38;5;28mself\u001b[39m\u001b[38;5;241m.\u001b[39mdataset\u001b[38;5;241m.\u001b[39m__getitems__([\u001b[38;5;28mself\u001b[39m\u001b[38;5;241m.\u001b[39mindices[idx] \u001b[38;5;28;01mfor\u001b[39;00m idx \u001b[38;5;129;01min\u001b[39;00m indices])  \u001b[38;5;66;03m# type: ignore[attr-defined]\u001b[39;00m\n\u001b[0;32m    398\u001b[0m \u001b[38;5;28;01melse\u001b[39;00m:\n\u001b[1;32m--> 399\u001b[0m     \u001b[38;5;28;01mreturn\u001b[39;00m [\u001b[38;5;28mself\u001b[39m\u001b[38;5;241m.\u001b[39mdataset[\u001b[38;5;28mself\u001b[39m\u001b[38;5;241m.\u001b[39mindices[idx]] \u001b[38;5;28;01mfor\u001b[39;00m idx \u001b[38;5;129;01min\u001b[39;00m indices]\n",
      "Cell \u001b[1;32mIn[2], line 65\u001b[0m, in \u001b[0;36mRealFakeDataset.__getitem__\u001b[1;34m(self, idx)\u001b[0m\n\u001b[0;32m     63\u001b[0m \u001b[38;5;28;01mdef\u001b[39;00m \u001b[38;5;21m__getitem__\u001b[39m(\u001b[38;5;28mself\u001b[39m, idx):\n\u001b[0;32m     64\u001b[0m     img_path \u001b[38;5;241m=\u001b[39m \u001b[38;5;28mself\u001b[39m\u001b[38;5;241m.\u001b[39mimage_paths[idx]\n\u001b[1;32m---> 65\u001b[0m     image \u001b[38;5;241m=\u001b[39m Image\u001b[38;5;241m.\u001b[39mopen(img_path)\u001b[38;5;241m.\u001b[39mconvert(\u001b[38;5;124m'\u001b[39m\u001b[38;5;124mRGB\u001b[39m\u001b[38;5;124m'\u001b[39m)\n\u001b[0;32m     66\u001b[0m     label \u001b[38;5;241m=\u001b[39m \u001b[38;5;28mself\u001b[39m\u001b[38;5;241m.\u001b[39mlabels[idx]\n\u001b[0;32m     68\u001b[0m     \u001b[38;5;28;01mif\u001b[39;00m \u001b[38;5;28mself\u001b[39m\u001b[38;5;241m.\u001b[39mtransform:\n",
      "File \u001b[1;32m~\\anaconda3\\Lib\\site-packages\\PIL\\Image.py:937\u001b[0m, in \u001b[0;36mImage.convert\u001b[1;34m(self, mode, matrix, dither, palette, colors)\u001b[0m\n\u001b[0;32m    889\u001b[0m \u001b[38;5;28;01mdef\u001b[39;00m \u001b[38;5;21mconvert\u001b[39m(\n\u001b[0;32m    890\u001b[0m     \u001b[38;5;28mself\u001b[39m, mode\u001b[38;5;241m=\u001b[39m\u001b[38;5;28;01mNone\u001b[39;00m, matrix\u001b[38;5;241m=\u001b[39m\u001b[38;5;28;01mNone\u001b[39;00m, dither\u001b[38;5;241m=\u001b[39m\u001b[38;5;28;01mNone\u001b[39;00m, palette\u001b[38;5;241m=\u001b[39mPalette\u001b[38;5;241m.\u001b[39mWEB, colors\u001b[38;5;241m=\u001b[39m\u001b[38;5;241m256\u001b[39m\n\u001b[0;32m    891\u001b[0m ):\n\u001b[0;32m    892\u001b[0m \u001b[38;5;250m    \u001b[39m\u001b[38;5;124;03m\"\"\"\u001b[39;00m\n\u001b[0;32m    893\u001b[0m \u001b[38;5;124;03m    Returns a converted copy of this image. For the \"P\" mode, this\u001b[39;00m\n\u001b[0;32m    894\u001b[0m \u001b[38;5;124;03m    method translates pixels through the palette.  If mode is\u001b[39;00m\n\u001b[1;32m   (...)\u001b[0m\n\u001b[0;32m    934\u001b[0m \u001b[38;5;124;03m    :returns: An :py:class:`~PIL.Image.Image` object.\u001b[39;00m\n\u001b[0;32m    935\u001b[0m \u001b[38;5;124;03m    \"\"\"\u001b[39;00m\n\u001b[1;32m--> 937\u001b[0m     \u001b[38;5;28mself\u001b[39m\u001b[38;5;241m.\u001b[39mload()\n\u001b[0;32m    939\u001b[0m     has_transparency \u001b[38;5;241m=\u001b[39m \u001b[38;5;28mself\u001b[39m\u001b[38;5;241m.\u001b[39minfo\u001b[38;5;241m.\u001b[39mget(\u001b[38;5;124m\"\u001b[39m\u001b[38;5;124mtransparency\u001b[39m\u001b[38;5;124m\"\u001b[39m) \u001b[38;5;129;01mis\u001b[39;00m \u001b[38;5;129;01mnot\u001b[39;00m \u001b[38;5;28;01mNone\u001b[39;00m\n\u001b[0;32m    940\u001b[0m     \u001b[38;5;28;01mif\u001b[39;00m \u001b[38;5;129;01mnot\u001b[39;00m mode \u001b[38;5;129;01mand\u001b[39;00m \u001b[38;5;28mself\u001b[39m\u001b[38;5;241m.\u001b[39mmode \u001b[38;5;241m==\u001b[39m \u001b[38;5;124m\"\u001b[39m\u001b[38;5;124mP\u001b[39m\u001b[38;5;124m\"\u001b[39m:\n\u001b[0;32m    941\u001b[0m         \u001b[38;5;66;03m# determine default mode\u001b[39;00m\n",
      "File \u001b[1;32m~\\anaconda3\\Lib\\site-packages\\PIL\\ImageFile.py:269\u001b[0m, in \u001b[0;36mImageFile.load\u001b[1;34m(self)\u001b[0m\n\u001b[0;32m    266\u001b[0m         \u001b[38;5;28;01mraise\u001b[39;00m \u001b[38;5;167;01mOSError\u001b[39;00m(msg)\n\u001b[0;32m    268\u001b[0m b \u001b[38;5;241m=\u001b[39m b \u001b[38;5;241m+\u001b[39m s\n\u001b[1;32m--> 269\u001b[0m n, err_code \u001b[38;5;241m=\u001b[39m decoder\u001b[38;5;241m.\u001b[39mdecode(b)\n\u001b[0;32m    270\u001b[0m \u001b[38;5;28;01mif\u001b[39;00m n \u001b[38;5;241m<\u001b[39m \u001b[38;5;241m0\u001b[39m:\n\u001b[0;32m    271\u001b[0m     \u001b[38;5;28;01mbreak\u001b[39;00m\n",
      "\u001b[1;31mKeyboardInterrupt\u001b[0m: "
     ]
    }
   ],
   "source": [
    "train_augmenter(teacher_student.teacher, teacher_student.student, feature_extractor, augmenter, train_loader, device, 1)"
   ]
  },
  {
   "cell_type": "code",
   "execution_count": 159,
   "id": "b9fee0a4-0903-4c8f-a5fb-190fcf24dd02",
   "metadata": {},
   "outputs": [],
   "source": []
  },
  {
   "cell_type": "code",
   "execution_count": null,
   "id": "73ca8cff-f5d5-4c94-92c3-f22e77a13472",
   "metadata": {},
   "outputs": [],
   "source": []
  }
 ],
 "metadata": {
  "kernelspec": {
   "display_name": "Python 3 (ipykernel)",
   "language": "python",
   "name": "python3"
  },
  "language_info": {
   "codemirror_mode": {
    "name": "ipython",
    "version": 3
   },
   "file_extension": ".py",
   "mimetype": "text/x-python",
   "name": "python",
   "nbconvert_exporter": "python",
   "pygments_lexer": "ipython3",
   "version": "3.11.5"
  }
 },
 "nbformat": 4,
 "nbformat_minor": 5
}
