{
 "cells": [
  {
   "cell_type": "code",
   "execution_count": 1,
   "id": "f579d577-ed04-44a0-8b43-00ae848bdca1",
   "metadata": {},
   "outputs": [],
   "source": [
    "import torch\n",
    "import torch.nn as nn\n",
    "import torch.optim as optim\n",
    "from torchvision import models, transforms\n",
    "from torch.utils.data import DataLoader, Dataset\n",
    "from PIL import Image\n",
    "import os\n",
    "from tqdm import tqdm\n",
    "import torch.nn.functional as F\n",
    "from sklearn.metrics import accuracy_score\n",
    "import torchvision\n",
    "from time import localtime, strftime\n",
    "from torch.optim.lr_scheduler import StepLR\n",
    "import matplotlib.pyplot as plt\n",
    "import math\n",
    "import torch_optimizer "
   ]
  },
  {
   "cell_type": "code",
   "execution_count": 2,
   "id": "cd52acc2-e3f5-4bbf-9414-9acb5b6fe6a7",
   "metadata": {},
   "outputs": [],
   "source": [
    "plt.rcParams[\"figure.figsize\"] = (20,20)"
   ]
  },
  {
   "cell_type": "code",
   "execution_count": 3,
   "id": "1e3cd8f7-7c0b-4b5a-854d-4ac1d0169d7e",
   "metadata": {},
   "outputs": [],
   "source": [
    "class FeatureExtractor(nn.Module):\n",
    "    def __init__(self, pretmodel):\n",
    "        super(FeatureExtractor, self).__init__()\n",
    "        self.model = pretmodel\n",
    "        self.model = nn.Sequential(*list(self.model.children())[:-1]) \n",
    "\n",
    "    def forward(self, x):\n",
    "        with torch.no_grad():\n",
    "            features = self.model(x)\n",
    "        return features.view(features.size(0), -1) \n",
    "\n",
    "# Simple Fully Connected Network\n",
    "class SimpleNN(nn.Module):\n",
    "    def __init__(self, input_dim, output_dim):\n",
    "        super(SimpleNN, self).__init__()\n",
    "        self.fc1 = nn.Linear(input_dim, 1152)\n",
    "        self.bn1 = nn.BatchNorm1d(1152)\n",
    "        self.dropout = nn.Dropout(0.5)\n",
    "        self.fc2 = nn.Linear(1152, 768)\n",
    "        self.bn2 = nn.BatchNorm1d(768)\n",
    "        self.fc3 = nn.Linear(768, output_dim)\n",
    "        self.bn3 = nn.BatchNorm1d(output_dim)\n",
    "        # self.fc4 = nn.Linear(384, output_dim)\n",
    "        # self.bn4 = nn.BatchNorm1d(output_dim)\n",
    "\n",
    "    def forward(self, x):\n",
    "        x = self.fc1(x)\n",
    "        x = self.bn1(x)\n",
    "        x = torch.relu(x)\n",
    "        x = self.dropout(x)\n",
    "        x = self.fc2(x)\n",
    "        x = self.bn2(x) \n",
    "        x = torch.relu(x)\n",
    "        x = self.dropout(x)\n",
    "        x = self.fc3(x)\n",
    "        x = self.bn3(x) \n",
    "        # x = torch.relu(x)\n",
    "        # x = self.dropout(x)\n",
    "        # x = self.fc4(x)\n",
    "        # x = self.bn3(x) \n",
    "        return x\n",
    "\n",
    "# Teacher-Student Networks\n",
    "class TeacherStudentNetworks:\n",
    "    def __init__(self, feature_dim, output_dim):\n",
    "        self.teacher = SimpleNN(feature_dim, output_dim)\n",
    "        self.student = SimpleNN(feature_dim, output_dim)\n",
    "\n",
    "# Feature Augmenter\n",
    "class FeatureAugmenter:\n",
    "    def __init__(self, input_dim):\n",
    "        self.feature_augmenter = SimpleNN(input_dim, input_dim)\n",
    "\n",
    "# Binary Classifier\n",
    "class BinaryClassifier:\n",
    "    def __init__(self, input_dim):\n",
    "        self.binary_classifier = SimpleNN(input_dim, 2)\n",
    "\n",
    "# Custom Dataset\n",
    "class RealFakeDataset(Dataset):\n",
    "    def __init__(self, image_paths, labels, transform=None):\n",
    "        self.image_paths = image_paths\n",
    "        self.labels = labels\n",
    "        self.transform = transform\n",
    "\n",
    "    def __len__(self):\n",
    "        return len(self.image_paths)\n",
    "\n",
    "    def __getitem__(self, idx):\n",
    "        img_path = self.image_paths[idx]\n",
    "        image = Image.open(img_path).convert('RGB')\n",
    "        label = self.labels[idx]\n",
    "        \n",
    "        if self.transform:\n",
    "            image = self.transform(image)\n",
    "        \n",
    "        return image, label"
   ]
  },
  {
   "cell_type": "code",
   "execution_count": 4,
   "id": "a2826414-b555-496b-bfde-493a986e2356",
   "metadata": {
    "jupyter": {
     "source_hidden": true
    }
   },
   "outputs": [],
   "source": [
    "# Load Image Paths and Labels\n",
    "def load_image_paths_and_labels(root_dir):\n",
    "    image_paths = []\n",
    "    labels = []\n",
    "    \n",
    "    for model in os.listdir(root_dir):\n",
    "        model_path = os.path.join(root_dir, model)\n",
    "        if os.path.isdir(model_path):\n",
    "            for label in ['0_real', '1_fake']:\n",
    "                label_path = os.path.join(model_path, label)\n",
    "                if os.path.isdir(label_path):\n",
    "                    for img_name in os.listdir(label_path):\n",
    "                        img_path = os.path.join(label_path, img_name)\n",
    "                        image_paths.append(img_path)\n",
    "                        labels.append(0 if '0_real' in label else 1)\n",
    "                else:\n",
    "                    for obj in os.listdir(model_path):\n",
    "                        obj_path = os.path.join(model_path, obj)\n",
    "                        label_path = os.path.join(obj_path, label)\n",
    "                        if os.path.isdir(label_path):\n",
    "                            for img_name in os.listdir(label_path):\n",
    "                                img_path = os.path.join(label_path, img_name)\n",
    "                                image_paths.append(img_path)\n",
    "                                labels.append(0 if '0_real' in label else 1)\n",
    "    \n",
    "    return image_paths, labels"
   ]
  },
  {
   "cell_type": "code",
   "execution_count": 25,
   "id": "e1aa52a9-955c-4b5b-98d5-e9e2272d9a29",
   "metadata": {},
   "outputs": [],
   "source": [
    "# Train Teacher Network\n",
    "def train_teacher(teacher, feature_extractor, dataloader, device, optimizer, num_epochs=10, clip_value=1.0, lrate = 0.25):\n",
    "    criterion = nn.CrossEntropyLoss()\n",
    "    optimizer.param_groups[0]['lr'] = lrate\n",
    "    # scheduler = StepLR(optimizer, step_size=5, gamma=0.25)\n",
    "    # scheduler = CosineAnnealingWarmRestarts(optimizer, T_0=5, T_mult=4)  # Adjusted parameters\n",
    "    feature_extractor.to(device)\n",
    "    teacher.to(device)\n",
    "    teacher.train()\n",
    "    feature_extractor.eval()\n",
    "    # loss_list = []\n",
    "    running_loss_list = []\n",
    "    mult = 0.8\n",
    "    \n",
    "    for epoch in range(num_epochs):\n",
    "        if(epoch % 10 == 0):\n",
    "            optimizer.param_groups[0]['lr'] = lrate\n",
    "        running_loss = 0.0\n",
    "        for images, labels in tqdm(dataloader, desc=f'Teacher training {epoch+1}/{num_epochs}', unit='batch'):\n",
    "            images, labels = images.to(device), labels.to(device)\n",
    "            features = feature_extractor(images)\n",
    "            \n",
    "            optimizer.zero_grad()\n",
    "            outputs = teacher(features)\n",
    "            loss = criterion(outputs, labels)\n",
    "            loss.backward()\n",
    "            torch.nn.utils.clip_grad_norm_(teacher.parameters(), clip_value)\n",
    "            optimizer.step()\n",
    "            \n",
    "            running_loss += loss.item()\n",
    "            # loss_list.append(loss.item())\n",
    "        # scheduler.step()\n",
    "        running_loss_list.append(running_loss/len(dataloader))\n",
    "        print(f'Epoch {epoch}, Loss: {running_loss/len(dataloader)}')\n",
    "        print(optimizer.param_groups[0]['lr'])\n",
    "        l = len(running_loss_list)\n",
    "        if((running_loss_list[l-2]-running_loss_list[l-1])/running_loss_list[l-2]<0.02):\n",
    "            optimizer.param_groups[0]['lr'] = optimizer.param_groups[0]['lr']*mult\n",
    "            print(optimizer.param_groups[0]['lr'])\n",
    "        \n",
    "        save_checkpoint(teacher, filename='teacher_cpt', epoch=epoch)\n",
    "        add_log(f'Saved teacher_cpt at epoch {epoch}. \\nLoss: {running_loss/len(dataloader)}')\n",
    "    print('Finished Training Teacher')\n",
    "    return running_loss_list"
   ]
  },
  {
   "cell_type": "code",
   "execution_count": 6,
   "id": "be2f555b-4c9c-4d71-9320-59b984a13ca7",
   "metadata": {},
   "outputs": [],
   "source": [
    "# Train Teacher Network\n",
    "def train_teacher_const(teacher, feature_extractor, dataloader, device, optimizer, num_epochs=10, clip_value=1.0):\n",
    "    criterion = nn.CrossEntropyLoss()\n",
    "    # scheduler = StepLR(optimizer, step_size=5, gamma=0.25)\n",
    "    # scheduler = CosineAnnealingWarmRestarts(optimizer, T_0=5, T_mult=4)  # Adjusted parameters\n",
    "    feature_extractor.to(device)\n",
    "    teacher.to(device)\n",
    "    teacher.train()\n",
    "    feature_extractor.eval()\n",
    "    # loss_list = []\n",
    "    running_loss_list = []\n",
    "    mult = 0.8\n",
    "    \n",
    "    for epoch in range(num_epochs):\n",
    "        running_loss = 0.0\n",
    "        for images, labels in tqdm(dataloader, desc=f'Teacher training {epoch+1}/{num_epochs}', unit='batch'):\n",
    "            images, labels = images.to(device), labels.to(device)\n",
    "            features = feature_extractor(images)\n",
    "            \n",
    "            optimizer.zero_grad()\n",
    "            outputs = teacher(features)\n",
    "            loss = criterion(outputs, labels)\n",
    "            loss.backward(create_graph = True)\n",
    "            torch.nn.utils.clip_grad_norm_(teacher.parameters(), clip_value)\n",
    "            optimizer.step()\n",
    "            \n",
    "            running_loss += loss.item()\n",
    "            # loss_list.append(loss.item())\n",
    "        # scheduler.step()\n",
    "        running_loss_list.append(running_loss/len(dataloader))\n",
    "        print(f'Epoch {epoch}, Loss: {running_loss/len(dataloader)}')\n",
    "        print(optimizer.param_groups[0]['lr'])      \n",
    "        save_checkpoint(teacher, filename='teacher_cpt', epoch=epoch)\n",
    "        add_log(f'Saved teacher_cpt at epoch {epoch}. \\nLoss: {running_loss/len(dataloader)}')\n",
    "    print('Finished Training Teacher')\n",
    "    return running_loss_list"
   ]
  },
  {
   "cell_type": "code",
   "execution_count": 7,
   "id": "7d3dba0c-a3c4-4723-9344-cdb08c754114",
   "metadata": {},
   "outputs": [],
   "source": [
    "# Train Student and Augmenter Networks\n",
    "def train_student_augmenter(teacher, student, feature_extractor, augmenter, dataloader, device, num_epochs=10, margin=1.0, clip_value=1.0):\n",
    "    optimizer_student = optim.SGD(student.parameters(), lr=0.25, momentum=0.9)\n",
    "    optimizer_augmenter = optim.SGD(augmenter.parameters(), lr=0.25, momentum=0.9)\n",
    "    # scheduler_student = CosineAnnealingWarmRestarts(optimizer_student, T_0=5, T_mult=2)\n",
    "    # scheduler_augmenter = CosineAnnealingWarmRestarts(optimizer_augmenter, T_0=5, T_mult=2)\n",
    "    teacher.to(device)\n",
    "    student.to(device)\n",
    "    augmenter.to(device)\n",
    "    feature_extractor.to(device)\n",
    "    student.train()\n",
    "    teacher.eval()\n",
    "    feature_extractor.eval()\n",
    "    augmenter.train()\n",
    "    loss_real_list = []\n",
    "    loss_fake_list = []\n",
    "    loss_augmenter_list = []\n",
    "    lims = 0.35\n",
    "    lima = 0.35\n",
    "    \n",
    "    for epoch in range(num_epochs):\n",
    "        running_loss_real = 0.0\n",
    "        running_loss_fake = 0.0\n",
    "        running_loss_augmenter = 0.0\n",
    "        \n",
    "        for images, labels in tqdm(dataloader, desc=f'Student and Augmenter training {epoch+1}/{num_epochs}', unit='batch'):\n",
    "            images, labels = images.to(device), labels.to(device)\n",
    "            features = feature_extractor(images)   \n",
    "            \n",
    "            # Real images\n",
    "            real_indices = (labels == 0)\n",
    "            real_features = features[real_indices]\n",
    "            if len(real_features) > 0:\n",
    "                teacher_real = teacher(real_features)\n",
    "                student_real = student(real_features)\n",
    "                loss_real = torch.mean((teacher_real - student_real) ** 2)\n",
    "                optimizer_student.zero_grad()\n",
    "                loss_real.backward()\n",
    "                torch.nn.utils.clip_grad_norm_(student.parameters(), clip_value)  # Clip gradients\n",
    "                optimizer_student.step()\n",
    "                running_loss_real += loss_real.item()\n",
    "                loss_real_list.append(loss_real.item())\n",
    "                # print(loss_real.item())\n",
    "            # Fake images\n",
    "            fake_indices = (labels == 1)\n",
    "            fake_features = features[fake_indices]\n",
    "            \n",
    "            if len(fake_features) > 0:\n",
    "                augmented_fake_features = augmenter(fake_features)\n",
    "                teacher_fake = teacher(augmented_fake_features)\n",
    "                student_fake = student(augmented_fake_features)\n",
    "                discrepancy = torch.mean((teacher_fake / teacher_fake.norm(2, dim=1, keepdim=True) - student_fake / student_fake.norm(2, dim=1, keepdim=True)) ** 2)\n",
    "                loss_fake = torch.clamp(margin - discrepancy, min=0.0)\n",
    "                \n",
    "                optimizer_student.zero_grad()\n",
    "                loss_fake.backward()\n",
    "                torch.nn.utils.clip_grad_norm_(student.parameters(), clip_value)  # Clip gradients\n",
    "                optimizer_student.step()\n",
    "                \n",
    "                running_loss_fake += loss_fake.item()\n",
    "                loss_fake_list.append(loss_fake.item())\n",
    "\n",
    "                # Train the augmenter network\n",
    "                augmented_fake_features = augmenter(fake_features.detach())\n",
    "                teacher_fake = teacher(augmented_fake_features)\n",
    "                student_fake = student(augmented_fake_features.detach())\n",
    "                loss_augmenter = torch.mean((teacher_fake - student_fake) ** 2)\n",
    "                \n",
    "                optimizer_augmenter.zero_grad()\n",
    "                loss_augmenter.backward()\n",
    "                torch.nn.utils.clip_grad_norm_(augmenter.parameters(), clip_value)  # Clip gradients\n",
    "                optimizer_augmenter.step()\n",
    "                \n",
    "                running_loss_augmenter += loss_augmenter.item()\n",
    "                loss_augmenter_list.append(loss_augmenter.item())\n",
    "        if(running_loss_real + running_loss_fake/len(dataloader) < lims):\n",
    "            lims *= 0.5\n",
    "            optimizer_student.param_groups[0]['lr'] = lims\n",
    "            print(optimizer_student.param_groups[0]['lr'])\n",
    "        if(running_loss_augmenter/len(dataloader) < lima):\n",
    "            lima *= 0.5\n",
    "            optimizer_augmenter.param_groups[0]['lr'] = lima\n",
    "            print(optimizer_augmenter.param_groups[0]['lr'])\n",
    "        # scheduler_student.step()\n",
    "        # scheduler_augmenter.step()\n",
    "        print(f'Epoch {epoch}, Real Loss: {running_loss_real/len(dataloader)}, Fake Loss: {running_loss_fake/len(dataloader)}')\n",
    "        save_checkpoint(student, filename='student_cpt', epoch=epoch)\n",
    "        save_checkpoint(augmenter, filename='augmenter_cpt', epoch=epoch)\n",
    "        add_log(f'Saved student_cpt and augmenter_cpt at epoch {epoch}. \\nLoss student: real: {running_loss_real/len(dataloader)}, fake: {running_loss_fake/len(dataloader)}. \\nLoss augmenter: {running_loss_augmenter/len(dataloader)}')\n",
    "    print('Finished Training Student and Augmenter')\n",
    "    return loss_real_list, loss_fake_list, loss_augmenter_list"
   ]
  },
  {
   "cell_type": "code",
   "execution_count": 8,
   "id": "bc879c51-9a6e-480a-b2cd-ddcb126061f1",
   "metadata": {},
   "outputs": [],
   "source": [
    "def train_binary_classifier(teacher, student, classifier, feature_extractor, dataloader, device, num_epochs=10, clip_value=1.0):\n",
    "    criterion = nn.CrossEntropyLoss()\n",
    "    optimizer = optim.SGD(classifier.parameters(), lr=0.01, momentum=0.9)\n",
    "    # scheduler = CosineAnnealingWarmRestarts(optimizer, T_0=5, T_mult=2)\n",
    "    teacher.to(device)\n",
    "    student.to(device)\n",
    "    classifier.to(device)\n",
    "    feature_extractor.to(device)\n",
    "    classifier.train()\n",
    "    teacher.eval()\n",
    "    student.eval()\n",
    "    feature_extractor.eval()\n",
    "    loss_list = []\n",
    "    lim = 0.35\n",
    "    \n",
    "    for epoch in range(num_epochs):\n",
    "        running_loss = 0.0\n",
    "        \n",
    "        for images, labels in tqdm(dataloader, desc=f'Classifier training {epoch+1}/{num_epochs}', unit='batch'):\n",
    "            images, labels = images.to(device), labels.to(device)\n",
    "            features = feature_extractor(images)\n",
    "            \n",
    "            with torch.no_grad():\n",
    "                teacher_outputs = teacher(features)\n",
    "                student_outputs = student(features)\n",
    "            discrepancies = (teacher_outputs - student_outputs) ** 2\n",
    "            outputs = classifier(discrepancies)\n",
    "            \n",
    "            optimizer.zero_grad()\n",
    "            loss = criterion(outputs, labels)\n",
    "            loss.backward()\n",
    "            torch.nn.utils.clip_grad_norm_(classifier.parameters(), clip_value)  # Clip gradients\n",
    "            optimizer.step()\n",
    "            running_loss += loss.item()\n",
    "            loss_list.append(loss.item())\n",
    "        # scheduler.step()    \n",
    "        if(running_loss/len(dataloader) < lim):\n",
    "            lim *= 0.5\n",
    "            optimizer.param_groups[0]['lr'] = lim\n",
    "            print(optimizer.param_groups[0]['lr'])\n",
    "        print(f'Epoch {epoch}, Loss: {running_loss/len(dataloader)}')\n",
    "        save_checkpoint(classifier, filename='bin_classifier_cpt', epoch=epoch)\n",
    "        add_log(f'Saved bin_classifier_cpt at epoch {epoch}, Loss: {running_loss/len(dataloader)}')\n",
    "    print('Finished Training Binary Classifier')\n",
    "    return loss_list"
   ]
  },
  {
   "cell_type": "code",
   "execution_count": 9,
   "id": "9dcb2c2b-e973-486b-a823-0c4fb620f31c",
   "metadata": {},
   "outputs": [],
   "source": [
    "def test_binary_classifier(teacher, student, classifier, feature_extractor, dataloader, device):\n",
    "    classifier.to(device)\n",
    "    teacher.to(device) \n",
    "    student.to(device) \n",
    "    feature_extractor.to(device) \n",
    "    classifier.eval() # Set the classifier to evaluation mode\n",
    "    teacher.eval()\n",
    "    student.eval()\n",
    "    feature_extractor.eval()\n",
    "\n",
    "    all_labels = []\n",
    "    all_preds = []\n",
    "    \n",
    "    with torch.no_grad():  # Disable gradient calculation for testing\n",
    "        for images, labels in dataloader:\n",
    "            images, labels = images.to(device), labels.to(device)\n",
    "            \n",
    "            # Extract features\n",
    "            features = feature_extractor(images)\n",
    "            \n",
    "            # Get outputs from teacher and student networks\n",
    "            teacher_outputs = teacher(features)\n",
    "            student_outputs = student(features)\n",
    "            \n",
    "            # Calculate discrepancy\n",
    "            discrepancy = (teacher_outputs - student_outputs) ** 2\n",
    "            \n",
    "            # Get predictions from binary classifier\n",
    "            outputs = classifier(discrepancy)\n",
    "            _, preds = torch.max(outputs, 1)\n",
    "            \n",
    "            all_labels.extend(labels.cpu().numpy())\n",
    "            all_preds.extend(preds.cpu().numpy())\n",
    "    \n",
    "    accuracy = accuracy_score(all_labels, all_preds)\n",
    "    print(f'Test Accuracy: {accuracy * 100:.2f}%')\n",
    "    return accuracy"
   ]
  },
  {
   "cell_type": "code",
   "execution_count": 10,
   "id": "ddc18f12-a837-4a47-8cd1-f68bb6eb03b6",
   "metadata": {},
   "outputs": [],
   "source": [
    "def test_teacher(teacher, feature_extractor, dataloader, device):\n",
    "    teacher.to(device) \n",
    "    feature_extractor.to(device) \n",
    "    teacher.eval()\n",
    "    feature_extractor.eval()\n",
    "\n",
    "    all_labels = []\n",
    "    all_preds = []\n",
    "    \n",
    "    with torch.no_grad():  # Disable gradient calculation for testing\n",
    "        for images, labels in dataloader:\n",
    "            images, labels = images.to(device), labels.to(device)\n",
    "            \n",
    "            features = feature_extractor(images)\n",
    "            \n",
    "            outputs = teacher(features)\n",
    "            \n",
    "            _, preds = torch.max(outputs, 1)\n",
    "            \n",
    "            all_labels.extend(labels.cpu().numpy())\n",
    "            all_preds.extend(preds.cpu().numpy())\n",
    "    \n",
    "    accuracy = accuracy_score(all_labels, all_preds)\n",
    "    print(f'Test Accuracy: {accuracy * 100:.2f}%')\n",
    "    return accuracy"
   ]
  },
  {
   "cell_type": "code",
   "execution_count": 11,
   "id": "b470817f-9e9d-42c4-a66b-08e27050768c",
   "metadata": {},
   "outputs": [],
   "source": [
    "def draw_loss_graph(loss_data):\n",
    "    plt.grid(True)\n",
    "    plt.ylim((0,2))\n",
    "    plt.plot(loss_data, marker=\"o\", markersize=1)\n",
    "    plt.show()\n",
    "\n",
    "def draw_loss_graphs(loss_data):\n",
    "    plt.grid(True)\n",
    "    plt.ylim((0,1))\n",
    "    for i in loss_data:\n",
    "        plt.plot(i, marker=\"o\", markersize=1)\n",
    "    plt.show()\n",
    "\n",
    "def get_deltas(loss_data):\n",
    "    out = []\n",
    "    for i in range(len(loss_data)-1):\n",
    "        out.append(math.fabs(loss_data[i] - loss_data[i+1]))\n",
    "    return out"
   ]
  },
  {
   "cell_type": "code",
   "execution_count": 12,
   "id": "6687c210-5ad5-4eff-bc9d-88daec7bdb9c",
   "metadata": {},
   "outputs": [],
   "source": [
    "# Define Transformations\n",
    "transform = transforms.Compose([\n",
    "    transforms.Resize((256, 256)),\n",
    "    transforms.RandomHorizontalFlip(),\n",
    "    transforms.RandomRotation(15),\n",
    "    transforms.ColorJitter(brightness=0.5, contrast=0.5, saturation=0.5, hue=0.5),\n",
    "    transforms.RandomResizedCrop(224, scale=(0.8, 1.0)),\n",
    "    transforms.ToTensor(),\n",
    "])"
   ]
  },
  {
   "cell_type": "code",
   "execution_count": 22,
   "id": "838c28c5-de5d-45a9-af4a-4d181e460200",
   "metadata": {},
   "outputs": [],
   "source": [
    "# Save and Load Checkpoints\n",
    "def save_checkpoint(model, filename='checkpoint', epoch=0):\n",
    "    modelfilename = filename + f'_epoch{epoch}.pth.tar'\n",
    "    os.makedirs('models', exist_ok=True)\n",
    "    torch.save(model.state_dict(), f'models/{modelfilename}')\n",
    "    print(f'Saved checkpoint as: {modelfilename}')\n",
    "    \n",
    "def load_checkpoint(model, path):\n",
    "    model.load_state_dict(torch.load(path))\n",
    "    print(f'Loaded model: {path}')\n",
    "\n",
    "# Logging Function\n",
    "def add_log(msg):\n",
    "    with open('log.txt', 'a') as file:\n",
    "        time = strftime(\"%H:%M\", localtime())\n",
    "        file.write(time + ': ' + msg + '\\n')\n",
    "\n",
    "# Initialize Weights\n",
    "def init_weights(m):\n",
    "    if isinstance(m, nn.Linear):\n",
    "        torch.nn.init.kaiming_normal_(m.weight, mode='fan_in', nonlinearity='relu')\n",
    "        torch.nn.init.constant_(m.bias, 0)\n",
    "\n",
    "# Save loss data\n",
    "def save_loss(filename, loss_data):\n",
    "    with open(filename, 'a') as file:\n",
    "        file.write(str(loss_data) + '\\n')\n",
    "\n",
    "def load_loss(filename):\n",
    "    with open(filename) as file:\n",
    "        f = file.read()[1:-2]\n",
    "        l = list(map(float, f.split(', ')))\n",
    "        return l\n",
    "\n",
    "def draw_loss_from_folder(directory):\n",
    "    plt.grid(True)\n",
    "    plt.ylim((0,2))\n",
    "    for filename in os.listdir(directory):\n",
    "        f = os.path.join(directory, filename)\n",
    "        # checking if it is a file\n",
    "        if os.path.isfile(f):\n",
    "            l = load_loss(f)\n",
    "            plt.plot(l, marker=\"o\", markersize=1)\n",
    "    plt.show() "
   ]
  },
  {
   "cell_type": "code",
   "execution_count": 14,
   "id": "c12db88d-b139-48b7-868e-5dfa1b414a60",
   "metadata": {},
   "outputs": [],
   "source": [
    "# Load image paths and labels\n",
    "image_paths, labels = load_image_paths_and_labels('C:/Users/Danila/VSU/vsu_common_rep/vsu_common_rep/2year/2term/project/image_classification/content/CNN_synth/train_set/')\n",
    "\n",
    "# Create a dataset instance \n",
    "\n",
    "#full_dataset  = RealFakeDataset(image_paths, labels, transform=transform)\n",
    "exessive_dataset = RealFakeDataset(image_paths, labels, transform=transform)\n",
    "half1 = int(0.01 * len(exessive_dataset))\n",
    "half2 = len(exessive_dataset) - half1\n",
    "full_dataset, _ = torch.utils.data.random_split(exessive_dataset, [half1, half2])\n",
    "# Define the split ratio\n",
    "train_size = int(0.9 * len(full_dataset))\n",
    "test_size = len(full_dataset) - train_size\n",
    "\n",
    "# Split the dataset\n",
    "train_dataset, test_dataset = torch.utils.data.random_split(full_dataset, [train_size, test_size])\n",
    "\n",
    "# Create data loaders\n",
    "train_loader = DataLoader(train_dataset, batch_size=64, shuffle=True)\n",
    "test_loader = DataLoader(test_dataset, batch_size=64, shuffle=False)"
   ]
  },
  {
   "cell_type": "code",
   "execution_count": 15,
   "id": "6bc5f542-9d63-4f80-9852-fef692108f1b",
   "metadata": {},
   "outputs": [
    {
     "data": {
      "text/plain": [
       "812"
      ]
     },
     "execution_count": 15,
     "metadata": {},
     "output_type": "execute_result"
    }
   ],
   "source": [
    "len(train_dataset)"
   ]
  },
  {
   "cell_type": "code",
   "execution_count": 16,
   "id": "1abffd23-bc1d-46a4-a864-6c679cd33d67",
   "metadata": {},
   "outputs": [
    {
     "name": "stderr",
     "output_type": "stream",
     "text": [
      "C:\\Users\\Danila\\anaconda3\\Lib\\site-packages\\torchvision\\models\\_utils.py:208: UserWarning: The parameter 'pretrained' is deprecated since 0.13 and may be removed in the future, please use 'weights' instead.\n",
      "  warnings.warn(\n",
      "C:\\Users\\Danila\\anaconda3\\Lib\\site-packages\\torchvision\\models\\_utils.py:223: UserWarning: Arguments other than a weight enum or `None` for 'weights' are deprecated since 0.13 and may be removed in the future. The current behavior is equivalent to passing `weights=EfficientNet_B3_Weights.IMAGENET1K_V1`. You can also use `weights=EfficientNet_B3_Weights.DEFAULT` to get the most up-to-date weights.\n",
      "  warnings.warn(msg)\n"
     ]
    }
   ],
   "source": [
    "# Initialize networks\n",
    "feature_extractor = FeatureExtractor(models.efficientnet_b3(pretrained=True))\n",
    "feature_dim = 1536  # efficientnet_b0 output feature dimension\n",
    "teacher_student = TeacherStudentNetworks(feature_dim, 2)\n",
    "teacher_student.student.apply(init_weights)\n",
    "teacher_student.teacher.apply(init_weights)\n",
    "augmenter = FeatureAugmenter(feature_dim)\n",
    "augmenter.feature_augmenter.apply(init_weights)\n",
    "binary_classifier = BinaryClassifier(2)\n",
    "binary_classifier.binary_classifier.apply(init_weights)\n",
    "device = torch.device(\"cuda\" if torch.cuda.is_available() else \"cpu\")"
   ]
  },
  {
   "cell_type": "code",
   "execution_count": 17,
   "id": "51195da8-3663-4922-9f1c-0f709cac1f7a",
   "metadata": {},
   "outputs": [
    {
     "data": {
      "text/plain": [
       "SimpleNN(\n",
       "  (fc1): Linear(in_features=1536, out_features=1152, bias=True)\n",
       "  (bn1): BatchNorm1d(1152, eps=1e-05, momentum=0.1, affine=True, track_running_stats=True)\n",
       "  (dropout): Dropout(p=0.5, inplace=False)\n",
       "  (fc2): Linear(in_features=1152, out_features=768, bias=True)\n",
       "  (bn2): BatchNorm1d(768, eps=1e-05, momentum=0.1, affine=True, track_running_stats=True)\n",
       "  (fc3): Linear(in_features=768, out_features=1536, bias=True)\n",
       "  (bn3): BatchNorm1d(1536, eps=1e-05, momentum=0.1, affine=True, track_running_stats=True)\n",
       ")"
      ]
     },
     "execution_count": 17,
     "metadata": {},
     "output_type": "execute_result"
    }
   ],
   "source": [
    "teacher_student.teacher.to(device)\n",
    "teacher_student.student.to(device)\n",
    "binary_classifier.binary_classifier.to(device)\n",
    "feature_extractor.to(device)\n",
    "augmenter.feature_augmenter.to(device)"
   ]
  },
  {
   "cell_type": "code",
   "execution_count": 18,
   "id": "151195e8-43ea-46c4-8a62-857e6034e0b8",
   "metadata": {},
   "outputs": [],
   "source": [
    "loss_teacher = []\n",
    "running_loss_teacher = []\n",
    "loss_real_student = []\n",
    "loss_fake_student = []\n",
    "loss_augmenter = []\n",
    "loss_classifier = []"
   ]
  },
  {
   "cell_type": "code",
   "execution_count": 19,
   "id": "708456b1-4370-4605-a2e3-02dbf2271658",
   "metadata": {},
   "outputs": [],
   "source": [
    "def reset_teacher_extractor(pretrained):\n",
    "    feature_extractor = FeatureExtractor(pretrained)\n",
    "    feature_dim = 1536 \n",
    "    teacher_student = TeacherStudentNetworks(feature_dim, 2)\n",
    "    teacher_student.student.apply(init_weights)\n",
    "    teacher_student.teacher.apply(init_weights)\n",
    "    return feature_extractor, teacher_student\n",
    "\n",
    "def test_train_teaher(teacher, feature_extractor, train_loader, device, optimizer, epoch, filename):\n",
    "    feature_extractor, teacher_student = reset_teacher_extractor(models.efficientnet_b3(pretrained=True))\n",
    "    rl = train_teacher(teacher_student.teacher, feature_extractor, train_loader, device, optimizer, epoch, lrate= 0.2)\n",
    "\n",
    "    save_loss(f'r{filename}.txt',rl)\n",
    "    return rl"
   ]
  },
  {
   "cell_type": "code",
   "execution_count": null,
   "id": "8c685750-c1bc-4d50-a7c0-f55c6f385003",
   "metadata": {
    "scrolled": true
   },
   "outputs": [],
   "source": [
    "feature_extractor, teacher_student = reset_teacher_extractor(models.efficientnet_b3(pretrained=True))\n",
    "loss_efb3, running_loss_efb3 = train_teacher(teacher_student.teacher, feature_extractor, train_loader, device, 40)"
   ]
  },
  {
   "cell_type": "code",
   "execution_count": null,
   "id": "b30043c9-a078-4736-b83f-6966a0593bb8",
   "metadata": {
    "scrolled": true
   },
   "outputs": [],
   "source": [
    "feature_extractor, teacher_student = reset_teacher_extractor(models.efficientnet_b3(pretrained=True))\n",
    "loss_efb3_3l, running_loss_efb3_3l = train_teacher(teacher_student.teacher, feature_extractor, train_loader, device, 40)"
   ]
  },
  {
   "cell_type": "code",
   "execution_count": null,
   "id": "dbc08647-5be0-4442-b96e-52df686c22e1",
   "metadata": {
    "scrolled": true
   },
   "outputs": [],
   "source": [
    "feature_extractor, teacher_student = reset_teacher_extractor(models.efficientnet_b3(pretrained=True))\n",
    "loss_efb3_4l, running_loss_efb3_4l = train_teacher(teacher_student.teacher, feature_extractor, train_loader, device, 40)"
   ]
  },
  {
   "cell_type": "code",
   "execution_count": null,
   "id": "815cebd2-734d-4226-8f29-db9fb92cab8f",
   "metadata": {
    "scrolled": true
   },
   "outputs": [],
   "source": [
    "feature_extractor, teacher_student = reset_teacher_extractor(models.efficientnet_b3(pretrained=True))\n",
    "A2GradExp, rA2GradExp = train_teacher(teacher_student.teacher, feature_extractor, train_loader, device, torch_optimizer.A2GradExp(\n",
    "    teacher_student.teacher.parameters(),\n",
    "    beta=10.0,\n",
    "    lips=10.0,\n",
    "    rho=0.5,\n",
    "), 60, lrate= 0.2)"
   ]
  },
  {
   "cell_type": "code",
   "execution_count": null,
   "id": "b9d31ad1-c3b1-48a9-9376-3a4b50c04588",
   "metadata": {
    "scrolled": true
   },
   "outputs": [],
   "source": [
    "feature_extractor, teacher_student = reset_teacher_extractor(models.efficientnet_b3(pretrained=True))\n",
    "A2GradExp2, rA2GradExp2 = train_teacher_const(teacher_student.teacher, feature_extractor, train_loader, device, torch_optimizer.A2GradExp(\n",
    "    teacher_student.teacher.parameters(),\n",
    "    beta=10.0,\n",
    "    lips=10.0,\n",
    "    rho=0.5,\n",
    "), 60)"
   ]
  },
  {
   "cell_type": "code",
   "execution_count": null,
   "id": "5cf0de68-581a-4a32-a88f-330f229b36cf",
   "metadata": {
    "scrolled": true
   },
   "outputs": [],
   "source": [
    "feature_extractor, teacher_student = reset_teacher_extractor(models.efficientnet_b3(pretrained=True))\n",
    "A2GradInc, rA2GradInc = train_teacher(teacher_student.teacher, feature_extractor, train_loader, device, torch_optimizer.A2GradInc(\n",
    "    teacher_student.teacher.parameters(),\n",
    "    beta=10.0,\n",
    "    lips=10.0,\n",
    "), 60, lrate= 0.2)"
   ]
  },
  {
   "cell_type": "code",
   "execution_count": null,
   "id": "159efe2e-b29f-48c7-a2af-b0f05ef4ee71",
   "metadata": {
    "scrolled": true
   },
   "outputs": [],
   "source": [
    "feature_extractor, teacher_student = reset_teacher_extractor(models.efficientnet_b3(pretrained=True))\n",
    "A2GradInc2, rA2GradInc2 = train_teacher_const(teacher_student.teacher, feature_extractor, train_loader, device, torch_optimizer.A2GradInc(\n",
    "    teacher_student.teacher.parameters(),\n",
    "    beta=10.0,\n",
    "    lips=10.0,\n",
    "), 60)"
   ]
  },
  {
   "cell_type": "code",
   "execution_count": null,
   "id": "d17016ec-ba44-4472-b32e-04efde71fcd4",
   "metadata": {
    "scrolled": true
   },
   "outputs": [],
   "source": [
    "feature_extractor, teacher_student = reset_teacher_extractor(models.efficientnet_b3(pretrained=True))\n",
    "A2GradUni, rA2GradUni = train_teacher(teacher_student.teacher, feature_extractor, train_loader, device, torch_optimizer.A2GradUni(\n",
    "    teacher_student.teacher.parameters(),\n",
    "    beta=10.0,\n",
    "    lips=10.0,\n",
    "), 60, lrate= 0.2)"
   ]
  },
  {
   "cell_type": "code",
   "execution_count": null,
   "id": "72f84f15-6c05-434c-91f1-45eae4881660",
   "metadata": {
    "scrolled": true
   },
   "outputs": [],
   "source": [
    "feature_extractor, teacher_student = reset_teacher_extractor(models.efficientnet_b3(pretrained=True))\n",
    "A2GradUni2, rA2GradUni2 = train_teacher_const(teacher_student.teacher, feature_extractor, train_loader, device, torch_optimizer.A2GradUni(\n",
    "    teacher_student.teacher.parameters(),\n",
    "    beta=10.0,\n",
    "    lips=10.0,\n",
    "), 60)"
   ]
  },
  {
   "cell_type": "code",
   "execution_count": null,
   "id": "3d98e5ef-070e-4c67-bc2a-4b6dd91fabae",
   "metadata": {
    "scrolled": true
   },
   "outputs": [],
   "source": [
    "feature_extractor, teacher_student = reset_teacher_extractor(models.efficientnet_b3(pretrained=True))\n",
    "AccSGD, rAccSGD = train_teacher(teacher_student.teacher, feature_extractor, train_loader, device, torch_optimizer.AccSGD(\n",
    "    teacher_student.teacher.parameters(),\n",
    "    lr=1e-3,\n",
    "    kappa=1000.0,\n",
    "    xi=10.0,\n",
    "    small_const=0.7,\n",
    "    weight_decay=0\n",
    "), 60, lrate= 0.2)"
   ]
  },
  {
   "cell_type": "code",
   "execution_count": null,
   "id": "90f456e1-61b7-4d31-8b8c-6e5b3864f851",
   "metadata": {
    "scrolled": true
   },
   "outputs": [],
   "source": [
    "feature_extractor, teacher_student = reset_teacher_extractor(models.efficientnet_b3(pretrained=True))\n",
    "AccSGD2, rAccSGD2 = train_teacher_const(teacher_student.teacher, feature_extractor, train_loader, device, torch_optimizer.AccSGD(\n",
    "    teacher_student.teacher.parameters(),\n",
    "    lr=1e-3,\n",
    "    kappa=1000.0,\n",
    "    xi=10.0,\n",
    "    small_const=0.7,\n",
    "    weight_decay=0\n",
    "), 60)"
   ]
  },
  {
   "cell_type": "code",
   "execution_count": null,
   "id": "02379e6c-3f07-4ea3-a6f7-71237d004596",
   "metadata": {
    "scrolled": true
   },
   "outputs": [],
   "source": [
    "AdaBelief, rAdaBelief, AdaBelief2, rAdaBelief2= test_train_teaher(teacher_student.teacher, feature_extractor, train_loader, device, torch_optimizer.AdaBelief(\n",
    "    teacher_student.teacher.parameters(),\n",
    "    lr= 1e-3,\n",
    "    betas=(0.9, 0.999),\n",
    "    eps=1e-3,\n",
    "    weight_decay=0,\n",
    "    amsgrad=False,\n",
    "    weight_decouple=False,\n",
    "    fixed_decay=False,\n",
    "    rectify=False,\n",
    "), 60)"
   ]
  },
  {
   "cell_type": "code",
   "execution_count": null,
   "id": "17230796-2ad0-47a9-af41-a0f23ce23add",
   "metadata": {
    "scrolled": true
   },
   "outputs": [],
   "source": [
    "AdaBound, rAdaBound, AdaBound2, rAdaBound2= test_train_teaher(teacher_student.teacher, feature_extractor, train_loader, device, torch_optimizer.AdaBound(\n",
    "    teacher_student.teacher.parameters(),\n",
    "    lr= 1e-3,\n",
    "    betas= (0.9, 0.999),\n",
    "    final_lr = 0.1,\n",
    "    gamma=1e-3,\n",
    "    eps= 1e-8,\n",
    "    weight_decay=0,\n",
    "    amsbound=False,\n",
    "), 60)"
   ]
  },
  {
   "cell_type": "code",
   "execution_count": null,
   "id": "f6d8c299-9225-46f7-824b-c4e8a7773b17",
   "metadata": {},
   "outputs": [],
   "source": [
    "save_loss('rAdaMod2.txt',rAdaMod2)"
   ]
  },
  {
   "cell_type": "code",
   "execution_count": null,
   "id": "2f9aaab3-4e8f-4920-b472-07ec12ee8a5b",
   "metadata": {
    "scrolled": true
   },
   "outputs": [],
   "source": [
    "AdaMod, rAdaMod, AdaMod2, rAdaMod2= test_train_teaher(teacher_student.teacher, feature_extractor, train_loader, device, torch_optimizer.AdaMod(\n",
    "    teacher_student.teacher.parameters(),\n",
    "    lr= 1e-3,\n",
    "    betas=(0.9, 0.999),\n",
    "    beta3=0.999,\n",
    "    eps=1e-8,\n",
    "    weight_decay=0,\n",
    "), 60)"
   ]
  },
  {
   "cell_type": "code",
   "execution_count": null,
   "id": "9e766edb-cf94-4b8d-be3d-e68c70d776f2",
   "metadata": {
    "scrolled": true
   },
   "outputs": [],
   "source": [
    "Adafactor, rAdafactor, Adafactor2, rAdafactor2= test_train_teaher(teacher_student.teacher, feature_extractor, train_loader, device, torch_optimizer.Adafactor(\n",
    "    teacher_student.teacher.parameters(),\n",
    "    lr= 1e-3,\n",
    "    eps2= (1e-30, 1e-3),\n",
    "    clip_threshold=1.0,\n",
    "    decay_rate=-0.8,\n",
    "    beta1=None,\n",
    "    weight_decay=0.0,\n",
    "    scale_parameter=True,\n",
    "    relative_step=True,\n",
    "    warmup_init=False,\n",
    "), 60, 'Adafactor')"
   ]
  },
  {
   "cell_type": "code",
   "execution_count": null,
   "id": "bebf3886-4780-4900-8df8-6ea20da5ab8b",
   "metadata": {
    "scrolled": true
   },
   "outputs": [],
   "source": [
    "AdamP, rAdamP, AdamP2, rAdamP2= test_train_teaher(teacher_student.teacher, feature_extractor, train_loader, device, torch_optimizer.AdamP(\n",
    "    teacher_student.teacher.parameters(),\n",
    "    lr= 1e-3,\n",
    "    betas=(0.9, 0.999),\n",
    "    eps=1e-8,\n",
    "    weight_decay=0,\n",
    "    delta = 0.1,\n",
    "    wd_ratio = 0.1\n",
    "), 60, 'AdamP')"
   ]
  },
  {
   "cell_type": "code",
   "execution_count": null,
   "id": "9483cea9-f6d2-488d-a483-c46ed1fd8c03",
   "metadata": {
    "scrolled": true
   },
   "outputs": [],
   "source": [
    "test_train_teaher(teacher_student.teacher, feature_extractor, train_loader, device, torch_optimizer.AggMo(\n",
    "    teacher_student.teacher.parameters(),\n",
    "    lr= 1e-3,\n",
    "    betas=(0.0, 0.9, 0.99),\n",
    "    weight_decay=0,\n",
    "), 60, 'AggMo')"
   ]
  },
  {
   "cell_type": "code",
   "execution_count": 20,
   "id": "26514407-e30f-4adf-817a-2c2b755a9ec4",
   "metadata": {
    "editable": true,
    "scrolled": true,
    "slideshow": {
     "slide_type": ""
    },
    "tags": []
   },
   "outputs": [
    {
     "name": "stderr",
     "output_type": "stream",
     "text": [
      "Teacher training 1/60:   0%|                                                                 | 0/13 [00:00<?, ?batch/s]C:\\Users\\Danila\\anaconda3\\Lib\\site-packages\\torch\\autograd\\__init__.py:266: UserWarning: Using backward() with create_graph=True will create a reference cycle between the parameter and its gradient which can cause a memory leak. We recommend using autograd.grad when creating the graph to avoid this. If you have to use this function, make sure to reset the .grad fields of your parameters to None after use to break the cycle and avoid the leak. (Triggered internally at ..\\torch\\csrc\\autograd\\engine.cpp:1182.)\n",
      "  Variable._execution_engine.run_backward(  # Calls into the C++ engine to run the backward pass\n",
      "Teacher training 1/60: 100%|████████████████████████████████████████████████████████| 13/13 [00:15<00:00,  1.21s/batch]\n"
     ]
    },
    {
     "name": "stdout",
     "output_type": "stream",
     "text": [
      "Epoch 0, Loss: 0.8590935881321247\n",
      "0.2\n",
      "0.16000000000000003\n",
      "Saved checkpoint as: teacher_cpt_epoch0.pth.tar\n"
     ]
    },
    {
     "name": "stderr",
     "output_type": "stream",
     "text": [
      "Teacher training 2/60: 100%|████████████████████████████████████████████████████████| 13/13 [00:13<00:00,  1.06s/batch]\n"
     ]
    },
    {
     "name": "stdout",
     "output_type": "stream",
     "text": [
      "Epoch 1, Loss: 0.9125232375585116\n",
      "0.16000000000000003\n",
      "0.12800000000000003\n",
      "Saved checkpoint as: teacher_cpt_epoch1.pth.tar\n"
     ]
    },
    {
     "name": "stderr",
     "output_type": "stream",
     "text": [
      "Teacher training 3/60: 100%|████████████████████████████████████████████████████████| 13/13 [00:13<00:00,  1.06s/batch]\n"
     ]
    },
    {
     "name": "stdout",
     "output_type": "stream",
     "text": [
      "Epoch 2, Loss: 0.9114291897186866\n",
      "0.12800000000000003\n",
      "0.10240000000000003\n",
      "Saved checkpoint as: teacher_cpt_epoch2.pth.tar\n"
     ]
    },
    {
     "name": "stderr",
     "output_type": "stream",
     "text": [
      "Teacher training 4/60: 100%|████████████████████████████████████████████████████████| 13/13 [00:13<00:00,  1.06s/batch]\n"
     ]
    },
    {
     "name": "stdout",
     "output_type": "stream",
     "text": [
      "Epoch 3, Loss: 0.9116574892630944\n",
      "0.10240000000000003\n",
      "0.08192000000000003\n",
      "Saved checkpoint as: teacher_cpt_epoch3.pth.tar\n"
     ]
    },
    {
     "name": "stderr",
     "output_type": "stream",
     "text": [
      "Teacher training 5/60: 100%|████████████████████████████████████████████████████████| 13/13 [00:13<00:00,  1.06s/batch]\n"
     ]
    },
    {
     "name": "stdout",
     "output_type": "stream",
     "text": [
      "Epoch 4, Loss: 0.9008161929937509\n",
      "0.08192000000000003\n",
      "0.06553600000000002\n",
      "Saved checkpoint as: teacher_cpt_epoch4.pth.tar\n"
     ]
    },
    {
     "name": "stderr",
     "output_type": "stream",
     "text": [
      "Teacher training 6/60: 100%|████████████████████████████████████████████████████████| 13/13 [00:13<00:00,  1.07s/batch]\n"
     ]
    },
    {
     "name": "stdout",
     "output_type": "stream",
     "text": [
      "Epoch 5, Loss: 0.9207715483812186\n",
      "0.06553600000000002\n",
      "0.052428800000000025\n",
      "Saved checkpoint as: teacher_cpt_epoch5.pth.tar\n"
     ]
    },
    {
     "name": "stderr",
     "output_type": "stream",
     "text": [
      "Teacher training 7/60: 100%|████████████████████████████████████████████████████████| 13/13 [00:13<00:00,  1.06s/batch]\n"
     ]
    },
    {
     "name": "stdout",
     "output_type": "stream",
     "text": [
      "Epoch 6, Loss: 0.8951875200638404\n",
      "0.052428800000000025\n",
      "Saved checkpoint as: teacher_cpt_epoch6.pth.tar\n"
     ]
    },
    {
     "name": "stderr",
     "output_type": "stream",
     "text": [
      "Teacher training 8/60: 100%|████████████████████████████████████████████████████████| 13/13 [00:14<00:00,  1.08s/batch]\n"
     ]
    },
    {
     "name": "stdout",
     "output_type": "stream",
     "text": [
      "Epoch 7, Loss: 0.9293975188181951\n",
      "0.052428800000000025\n",
      "0.04194304000000002\n",
      "Saved checkpoint as: teacher_cpt_epoch7.pth.tar\n"
     ]
    },
    {
     "name": "stderr",
     "output_type": "stream",
     "text": [
      "Teacher training 9/60: 100%|████████████████████████████████████████████████████████| 13/13 [00:13<00:00,  1.06s/batch]\n"
     ]
    },
    {
     "name": "stdout",
     "output_type": "stream",
     "text": [
      "Epoch 8, Loss: 0.878430398610922\n",
      "0.04194304000000002\n",
      "Saved checkpoint as: teacher_cpt_epoch8.pth.tar\n"
     ]
    },
    {
     "name": "stderr",
     "output_type": "stream",
     "text": [
      "Teacher training 10/60: 100%|███████████████████████████████████████████████████████| 13/13 [00:13<00:00,  1.07s/batch]\n"
     ]
    },
    {
     "name": "stdout",
     "output_type": "stream",
     "text": [
      "Epoch 9, Loss: 0.8988730999139639\n",
      "0.04194304000000002\n",
      "0.033554432000000016\n",
      "Saved checkpoint as: teacher_cpt_epoch9.pth.tar\n"
     ]
    },
    {
     "name": "stderr",
     "output_type": "stream",
     "text": [
      "Teacher training 11/60: 100%|███████████████████████████████████████████████████████| 13/13 [00:13<00:00,  1.07s/batch]\n"
     ]
    },
    {
     "name": "stdout",
     "output_type": "stream",
     "text": [
      "Epoch 10, Loss: 0.9261699869082525\n",
      "0.2\n",
      "0.16000000000000003\n",
      "Saved checkpoint as: teacher_cpt_epoch10.pth.tar\n"
     ]
    },
    {
     "name": "stderr",
     "output_type": "stream",
     "text": [
      "Teacher training 12/60: 100%|███████████████████████████████████████████████████████| 13/13 [00:13<00:00,  1.07s/batch]\n"
     ]
    },
    {
     "name": "stdout",
     "output_type": "stream",
     "text": [
      "Epoch 11, Loss: 0.9002531124995306\n",
      "0.16000000000000003\n",
      "Saved checkpoint as: teacher_cpt_epoch11.pth.tar\n"
     ]
    },
    {
     "name": "stderr",
     "output_type": "stream",
     "text": [
      "Teacher training 13/60: 100%|███████████████████████████████████████████████████████| 13/13 [00:13<00:00,  1.08s/batch]\n"
     ]
    },
    {
     "name": "stdout",
     "output_type": "stream",
     "text": [
      "Epoch 12, Loss: 0.8953193105184115\n",
      "0.16000000000000003\n",
      "0.12800000000000003\n",
      "Saved checkpoint as: teacher_cpt_epoch12.pth.tar\n"
     ]
    },
    {
     "name": "stderr",
     "output_type": "stream",
     "text": [
      "Teacher training 14/60: 100%|███████████████████████████████████████████████████████| 13/13 [00:13<00:00,  1.07s/batch]\n"
     ]
    },
    {
     "name": "stdout",
     "output_type": "stream",
     "text": [
      "Epoch 13, Loss: 0.9115606133754437\n",
      "0.12800000000000003\n",
      "0.10240000000000003\n",
      "Saved checkpoint as: teacher_cpt_epoch13.pth.tar\n"
     ]
    },
    {
     "name": "stderr",
     "output_type": "stream",
     "text": [
      "Teacher training 15/60: 100%|███████████████████████████████████████████████████████| 13/13 [00:13<00:00,  1.06s/batch]\n"
     ]
    },
    {
     "name": "stdout",
     "output_type": "stream",
     "text": [
      "Epoch 14, Loss: 0.944074117220365\n",
      "0.10240000000000003\n",
      "0.08192000000000003\n",
      "Saved checkpoint as: teacher_cpt_epoch14.pth.tar\n"
     ]
    },
    {
     "name": "stderr",
     "output_type": "stream",
     "text": [
      "Teacher training 16/60: 100%|███████████████████████████████████████████████████████| 13/13 [00:13<00:00,  1.06s/batch]\n"
     ]
    },
    {
     "name": "stdout",
     "output_type": "stream",
     "text": [
      "Epoch 15, Loss: 0.900395888548631\n",
      "0.08192000000000003\n",
      "Saved checkpoint as: teacher_cpt_epoch15.pth.tar\n"
     ]
    },
    {
     "name": "stderr",
     "output_type": "stream",
     "text": [
      "Teacher training 17/60: 100%|███████████████████████████████████████████████████████| 13/13 [00:13<00:00,  1.06s/batch]\n"
     ]
    },
    {
     "name": "stdout",
     "output_type": "stream",
     "text": [
      "Epoch 16, Loss: 0.9546839869939364\n",
      "0.08192000000000003\n",
      "0.06553600000000002\n",
      "Saved checkpoint as: teacher_cpt_epoch16.pth.tar\n"
     ]
    },
    {
     "name": "stderr",
     "output_type": "stream",
     "text": [
      "Teacher training 18/60: 100%|███████████████████████████████████████████████████████| 13/13 [00:14<00:00,  1.08s/batch]\n"
     ]
    },
    {
     "name": "stdout",
     "output_type": "stream",
     "text": [
      "Epoch 17, Loss: 0.8921659726362962\n",
      "0.06553600000000002\n",
      "Saved checkpoint as: teacher_cpt_epoch17.pth.tar\n"
     ]
    },
    {
     "name": "stderr",
     "output_type": "stream",
     "text": [
      "Teacher training 19/60: 100%|███████████████████████████████████████████████████████| 13/13 [00:13<00:00,  1.07s/batch]\n"
     ]
    },
    {
     "name": "stdout",
     "output_type": "stream",
     "text": [
      "Epoch 18, Loss: 0.9088934063911438\n",
      "0.06553600000000002\n",
      "0.052428800000000025\n",
      "Saved checkpoint as: teacher_cpt_epoch18.pth.tar\n"
     ]
    },
    {
     "name": "stderr",
     "output_type": "stream",
     "text": [
      "Teacher training 20/60: 100%|███████████████████████████████████████████████████████| 13/13 [00:13<00:00,  1.07s/batch]\n"
     ]
    },
    {
     "name": "stdout",
     "output_type": "stream",
     "text": [
      "Epoch 19, Loss: 0.8793785663751456\n",
      "0.052428800000000025\n",
      "Saved checkpoint as: teacher_cpt_epoch19.pth.tar\n"
     ]
    },
    {
     "name": "stderr",
     "output_type": "stream",
     "text": [
      "Teacher training 21/60: 100%|███████████████████████████████████████████████████████| 13/13 [00:14<00:00,  1.09s/batch]\n"
     ]
    },
    {
     "name": "stdout",
     "output_type": "stream",
     "text": [
      "Epoch 20, Loss: 0.9397881993880639\n",
      "0.2\n",
      "0.16000000000000003\n",
      "Saved checkpoint as: teacher_cpt_epoch20.pth.tar\n"
     ]
    },
    {
     "name": "stderr",
     "output_type": "stream",
     "text": [
      "Teacher training 22/60: 100%|███████████████████████████████████████████████████████| 13/13 [00:14<00:00,  1.09s/batch]\n"
     ]
    },
    {
     "name": "stdout",
     "output_type": "stream",
     "text": [
      "Epoch 21, Loss: 0.8805912366280189\n",
      "0.16000000000000003\n",
      "Saved checkpoint as: teacher_cpt_epoch21.pth.tar\n"
     ]
    },
    {
     "name": "stderr",
     "output_type": "stream",
     "text": [
      "Teacher training 23/60: 100%|███████████████████████████████████████████████████████| 13/13 [00:14<00:00,  1.09s/batch]\n"
     ]
    },
    {
     "name": "stdout",
     "output_type": "stream",
     "text": [
      "Epoch 22, Loss: 0.9308747970140897\n",
      "0.16000000000000003\n",
      "0.12800000000000003\n",
      "Saved checkpoint as: teacher_cpt_epoch22.pth.tar\n"
     ]
    },
    {
     "name": "stderr",
     "output_type": "stream",
     "text": [
      "Teacher training 24/60: 100%|███████████████████████████████████████████████████████| 13/13 [00:14<00:00,  1.10s/batch]\n"
     ]
    },
    {
     "name": "stdout",
     "output_type": "stream",
     "text": [
      "Epoch 23, Loss: 0.8964190162145175\n",
      "0.12800000000000003\n",
      "Saved checkpoint as: teacher_cpt_epoch23.pth.tar\n"
     ]
    },
    {
     "name": "stderr",
     "output_type": "stream",
     "text": [
      "Teacher training 25/60: 100%|███████████████████████████████████████████████████████| 13/13 [00:14<00:00,  1.08s/batch]\n"
     ]
    },
    {
     "name": "stdout",
     "output_type": "stream",
     "text": [
      "Epoch 24, Loss: 0.9152806126154386\n",
      "0.12800000000000003\n",
      "0.10240000000000003\n",
      "Saved checkpoint as: teacher_cpt_epoch24.pth.tar\n"
     ]
    },
    {
     "name": "stderr",
     "output_type": "stream",
     "text": [
      "Teacher training 26/60: 100%|███████████████████████████████████████████████████████| 13/13 [00:14<00:00,  1.09s/batch]\n"
     ]
    },
    {
     "name": "stdout",
     "output_type": "stream",
     "text": [
      "Epoch 25, Loss: 0.9137656413591825\n",
      "0.10240000000000003\n",
      "0.08192000000000003\n",
      "Saved checkpoint as: teacher_cpt_epoch25.pth.tar\n"
     ]
    },
    {
     "name": "stderr",
     "output_type": "stream",
     "text": [
      "Teacher training 27/60: 100%|███████████████████████████████████████████████████████| 13/13 [00:14<00:00,  1.08s/batch]\n"
     ]
    },
    {
     "name": "stdout",
     "output_type": "stream",
     "text": [
      "Epoch 26, Loss: 0.9038863182067871\n",
      "0.08192000000000003\n",
      "0.06553600000000002\n",
      "Saved checkpoint as: teacher_cpt_epoch26.pth.tar\n"
     ]
    },
    {
     "name": "stderr",
     "output_type": "stream",
     "text": [
      "Teacher training 28/60: 100%|███████████████████████████████████████████████████████| 13/13 [00:14<00:00,  1.08s/batch]\n"
     ]
    },
    {
     "name": "stdout",
     "output_type": "stream",
     "text": [
      "Epoch 27, Loss: 0.890270499082712\n",
      "0.06553600000000002\n",
      "0.052428800000000025\n",
      "Saved checkpoint as: teacher_cpt_epoch27.pth.tar\n"
     ]
    },
    {
     "name": "stderr",
     "output_type": "stream",
     "text": [
      "Teacher training 29/60: 100%|███████████████████████████████████████████████████████| 13/13 [00:14<00:00,  1.08s/batch]\n"
     ]
    },
    {
     "name": "stdout",
     "output_type": "stream",
     "text": [
      "Epoch 28, Loss: 0.919836727472452\n",
      "0.052428800000000025\n",
      "0.04194304000000002\n",
      "Saved checkpoint as: teacher_cpt_epoch28.pth.tar\n"
     ]
    },
    {
     "name": "stderr",
     "output_type": "stream",
     "text": [
      "Teacher training 30/60: 100%|███████████████████████████████████████████████████████| 13/13 [00:14<00:00,  1.09s/batch]\n"
     ]
    },
    {
     "name": "stdout",
     "output_type": "stream",
     "text": [
      "Epoch 29, Loss: 0.9145172009101281\n",
      "0.04194304000000002\n",
      "0.033554432000000016\n",
      "Saved checkpoint as: teacher_cpt_epoch29.pth.tar\n"
     ]
    },
    {
     "name": "stderr",
     "output_type": "stream",
     "text": [
      "Teacher training 31/60: 100%|███████████████████████████████████████████████████████| 13/13 [00:14<00:00,  1.09s/batch]\n"
     ]
    },
    {
     "name": "stdout",
     "output_type": "stream",
     "text": [
      "Epoch 30, Loss: 0.8806244410001315\n",
      "0.2\n",
      "Saved checkpoint as: teacher_cpt_epoch30.pth.tar\n"
     ]
    },
    {
     "name": "stderr",
     "output_type": "stream",
     "text": [
      "Teacher training 32/60: 100%|███████████████████████████████████████████████████████| 13/13 [00:14<00:00,  1.10s/batch]\n"
     ]
    },
    {
     "name": "stdout",
     "output_type": "stream",
     "text": [
      "Epoch 31, Loss: 0.8761026171537546\n",
      "0.2\n",
      "0.16000000000000003\n",
      "Saved checkpoint as: teacher_cpt_epoch31.pth.tar\n"
     ]
    },
    {
     "name": "stderr",
     "output_type": "stream",
     "text": [
      "Teacher training 33/60: 100%|███████████████████████████████████████████████████████| 13/13 [00:14<00:00,  1.10s/batch]\n"
     ]
    },
    {
     "name": "stdout",
     "output_type": "stream",
     "text": [
      "Epoch 32, Loss: 0.9196537137031555\n",
      "0.16000000000000003\n",
      "0.12800000000000003\n",
      "Saved checkpoint as: teacher_cpt_epoch32.pth.tar\n"
     ]
    },
    {
     "name": "stderr",
     "output_type": "stream",
     "text": [
      "Teacher training 34/60: 100%|███████████████████████████████████████████████████████| 13/13 [00:14<00:00,  1.10s/batch]\n"
     ]
    },
    {
     "name": "stdout",
     "output_type": "stream",
     "text": [
      "Epoch 33, Loss: 0.9010233924939082\n",
      "0.12800000000000003\n",
      "Saved checkpoint as: teacher_cpt_epoch33.pth.tar\n"
     ]
    },
    {
     "name": "stderr",
     "output_type": "stream",
     "text": [
      "Teacher training 35/60: 100%|███████████████████████████████████████████████████████| 13/13 [00:14<00:00,  1.09s/batch]\n"
     ]
    },
    {
     "name": "stdout",
     "output_type": "stream",
     "text": [
      "Epoch 34, Loss: 0.9176968061006986\n",
      "0.12800000000000003\n",
      "0.10240000000000003\n",
      "Saved checkpoint as: teacher_cpt_epoch34.pth.tar\n"
     ]
    },
    {
     "name": "stderr",
     "output_type": "stream",
     "text": [
      "Teacher training 36/60: 100%|███████████████████████████████████████████████████████| 13/13 [00:14<00:00,  1.08s/batch]\n"
     ]
    },
    {
     "name": "stdout",
     "output_type": "stream",
     "text": [
      "Epoch 35, Loss: 0.9162640846692599\n",
      "0.10240000000000003\n",
      "0.08192000000000003\n",
      "Saved checkpoint as: teacher_cpt_epoch35.pth.tar\n"
     ]
    },
    {
     "name": "stderr",
     "output_type": "stream",
     "text": [
      "Teacher training 37/60: 100%|███████████████████████████████████████████████████████| 13/13 [00:14<00:00,  1.09s/batch]\n"
     ]
    },
    {
     "name": "stdout",
     "output_type": "stream",
     "text": [
      "Epoch 36, Loss: 0.8903991671708914\n",
      "0.08192000000000003\n",
      "Saved checkpoint as: teacher_cpt_epoch36.pth.tar\n"
     ]
    },
    {
     "name": "stderr",
     "output_type": "stream",
     "text": [
      "Teacher training 38/60: 100%|███████████████████████████████████████████████████████| 13/13 [00:14<00:00,  1.09s/batch]\n"
     ]
    },
    {
     "name": "stdout",
     "output_type": "stream",
     "text": [
      "Epoch 37, Loss: 0.881301746918605\n",
      "0.08192000000000003\n",
      "0.06553600000000002\n",
      "Saved checkpoint as: teacher_cpt_epoch37.pth.tar\n"
     ]
    },
    {
     "name": "stderr",
     "output_type": "stream",
     "text": [
      "Teacher training 39/60: 100%|███████████████████████████████████████████████████████| 13/13 [00:13<00:00,  1.07s/batch]\n"
     ]
    },
    {
     "name": "stdout",
     "output_type": "stream",
     "text": [
      "Epoch 38, Loss: 0.8851323173596308\n",
      "0.06553600000000002\n",
      "0.052428800000000025\n",
      "Saved checkpoint as: teacher_cpt_epoch38.pth.tar\n"
     ]
    },
    {
     "name": "stderr",
     "output_type": "stream",
     "text": [
      "Teacher training 40/60: 100%|███████████████████████████████████████████████████████| 13/13 [00:14<00:00,  1.09s/batch]\n"
     ]
    },
    {
     "name": "stdout",
     "output_type": "stream",
     "text": [
      "Epoch 39, Loss: 0.9178417325019836\n",
      "0.052428800000000025\n",
      "0.04194304000000002\n",
      "Saved checkpoint as: teacher_cpt_epoch39.pth.tar\n"
     ]
    },
    {
     "name": "stderr",
     "output_type": "stream",
     "text": [
      "Teacher training 41/60: 100%|███████████████████████████████████████████████████████| 13/13 [00:13<00:00,  1.08s/batch]\n"
     ]
    },
    {
     "name": "stdout",
     "output_type": "stream",
     "text": [
      "Epoch 40, Loss: 0.9480919104356033\n",
      "0.2\n",
      "0.16000000000000003\n",
      "Saved checkpoint as: teacher_cpt_epoch40.pth.tar\n"
     ]
    },
    {
     "name": "stderr",
     "output_type": "stream",
     "text": [
      "Teacher training 42/60: 100%|███████████████████████████████████████████████████████| 13/13 [00:14<00:00,  1.08s/batch]\n"
     ]
    },
    {
     "name": "stdout",
     "output_type": "stream",
     "text": [
      "Epoch 41, Loss: 0.8730246929021982\n",
      "0.16000000000000003\n",
      "Saved checkpoint as: teacher_cpt_epoch41.pth.tar\n"
     ]
    },
    {
     "name": "stderr",
     "output_type": "stream",
     "text": [
      "Teacher training 43/60: 100%|███████████████████████████████████████████████████████| 13/13 [00:14<00:00,  1.10s/batch]\n"
     ]
    },
    {
     "name": "stdout",
     "output_type": "stream",
     "text": [
      "Epoch 42, Loss: 0.8479281663894653\n",
      "0.16000000000000003\n",
      "Saved checkpoint as: teacher_cpt_epoch42.pth.tar\n"
     ]
    },
    {
     "name": "stderr",
     "output_type": "stream",
     "text": [
      "Teacher training 44/60: 100%|███████████████████████████████████████████████████████| 13/13 [00:14<00:00,  1.09s/batch]\n"
     ]
    },
    {
     "name": "stdout",
     "output_type": "stream",
     "text": [
      "Epoch 43, Loss: 0.9332716969343332\n",
      "0.16000000000000003\n",
      "0.12800000000000003\n",
      "Saved checkpoint as: teacher_cpt_epoch43.pth.tar\n"
     ]
    },
    {
     "name": "stderr",
     "output_type": "stream",
     "text": [
      "Teacher training 45/60: 100%|███████████████████████████████████████████████████████| 13/13 [00:14<00:00,  1.10s/batch]\n"
     ]
    },
    {
     "name": "stdout",
     "output_type": "stream",
     "text": [
      "Epoch 44, Loss: 0.9202707088910617\n",
      "0.12800000000000003\n",
      "0.10240000000000003\n",
      "Saved checkpoint as: teacher_cpt_epoch44.pth.tar\n"
     ]
    },
    {
     "name": "stderr",
     "output_type": "stream",
     "text": [
      "Teacher training 46/60: 100%|███████████████████████████████████████████████████████| 13/13 [00:14<00:00,  1.09s/batch]\n"
     ]
    },
    {
     "name": "stdout",
     "output_type": "stream",
     "text": [
      "Epoch 45, Loss: 0.9016995980189397\n",
      "0.10240000000000003\n",
      "Saved checkpoint as: teacher_cpt_epoch45.pth.tar\n"
     ]
    },
    {
     "name": "stderr",
     "output_type": "stream",
     "text": [
      "Teacher training 47/60: 100%|███████████████████████████████████████████████████████| 13/13 [00:14<00:00,  1.09s/batch]\n"
     ]
    },
    {
     "name": "stdout",
     "output_type": "stream",
     "text": [
      "Epoch 46, Loss: 0.8921832121335543\n",
      "0.10240000000000003\n",
      "0.08192000000000003\n",
      "Saved checkpoint as: teacher_cpt_epoch46.pth.tar\n"
     ]
    },
    {
     "name": "stderr",
     "output_type": "stream",
     "text": [
      "Teacher training 48/60: 100%|███████████████████████████████████████████████████████| 13/13 [00:14<00:00,  1.10s/batch]\n"
     ]
    },
    {
     "name": "stdout",
     "output_type": "stream",
     "text": [
      "Epoch 47, Loss: 0.9265667383487408\n",
      "0.08192000000000003\n",
      "0.06553600000000002\n",
      "Saved checkpoint as: teacher_cpt_epoch47.pth.tar\n"
     ]
    },
    {
     "name": "stderr",
     "output_type": "stream",
     "text": [
      "Teacher training 49/60: 100%|███████████████████████████████████████████████████████| 13/13 [00:14<00:00,  1.08s/batch]\n"
     ]
    },
    {
     "name": "stdout",
     "output_type": "stream",
     "text": [
      "Epoch 48, Loss: 0.9566212709133441\n",
      "0.06553600000000002\n",
      "0.052428800000000025\n",
      "Saved checkpoint as: teacher_cpt_epoch48.pth.tar\n"
     ]
    },
    {
     "name": "stderr",
     "output_type": "stream",
     "text": [
      "Teacher training 50/60: 100%|███████████████████████████████████████████████████████| 13/13 [00:14<00:00,  1.10s/batch]\n"
     ]
    },
    {
     "name": "stdout",
     "output_type": "stream",
     "text": [
      "Epoch 49, Loss: 0.89055518920605\n",
      "0.052428800000000025\n",
      "Saved checkpoint as: teacher_cpt_epoch49.pth.tar\n"
     ]
    },
    {
     "name": "stderr",
     "output_type": "stream",
     "text": [
      "Teacher training 51/60: 100%|███████████████████████████████████████████████████████| 13/13 [00:14<00:00,  1.10s/batch]\n"
     ]
    },
    {
     "name": "stdout",
     "output_type": "stream",
     "text": [
      "Epoch 50, Loss: 0.8965988846925589\n",
      "0.2\n",
      "0.16000000000000003\n",
      "Saved checkpoint as: teacher_cpt_epoch50.pth.tar\n"
     ]
    },
    {
     "name": "stderr",
     "output_type": "stream",
     "text": [
      "Teacher training 52/60: 100%|███████████████████████████████████████████████████████| 13/13 [00:14<00:00,  1.09s/batch]\n"
     ]
    },
    {
     "name": "stdout",
     "output_type": "stream",
     "text": [
      "Epoch 51, Loss: 0.9087495941382188\n",
      "0.16000000000000003\n",
      "0.12800000000000003\n",
      "Saved checkpoint as: teacher_cpt_epoch51.pth.tar\n"
     ]
    },
    {
     "name": "stderr",
     "output_type": "stream",
     "text": [
      "Teacher training 53/60: 100%|███████████████████████████████████████████████████████| 13/13 [00:14<00:00,  1.08s/batch]\n"
     ]
    },
    {
     "name": "stdout",
     "output_type": "stream",
     "text": [
      "Epoch 52, Loss: 0.9327380244548504\n",
      "0.12800000000000003\n",
      "0.10240000000000003\n",
      "Saved checkpoint as: teacher_cpt_epoch52.pth.tar\n"
     ]
    },
    {
     "name": "stderr",
     "output_type": "stream",
     "text": [
      "Teacher training 54/60: 100%|███████████████████████████████████████████████████████| 13/13 [00:14<00:00,  1.09s/batch]\n"
     ]
    },
    {
     "name": "stdout",
     "output_type": "stream",
     "text": [
      "Epoch 53, Loss: 0.8605788258405832\n",
      "0.10240000000000003\n",
      "Saved checkpoint as: teacher_cpt_epoch53.pth.tar\n"
     ]
    },
    {
     "name": "stderr",
     "output_type": "stream",
     "text": [
      "Teacher training 55/60: 100%|███████████████████████████████████████████████████████| 13/13 [00:14<00:00,  1.10s/batch]\n"
     ]
    },
    {
     "name": "stdout",
     "output_type": "stream",
     "text": [
      "Epoch 54, Loss: 0.8987482419380775\n",
      "0.10240000000000003\n",
      "0.08192000000000003\n",
      "Saved checkpoint as: teacher_cpt_epoch54.pth.tar\n"
     ]
    },
    {
     "name": "stderr",
     "output_type": "stream",
     "text": [
      "Teacher training 56/60: 100%|███████████████████████████████████████████████████████| 13/13 [00:14<00:00,  1.09s/batch]\n"
     ]
    },
    {
     "name": "stdout",
     "output_type": "stream",
     "text": [
      "Epoch 55, Loss: 0.9466753464478713\n",
      "0.08192000000000003\n",
      "0.06553600000000002\n",
      "Saved checkpoint as: teacher_cpt_epoch55.pth.tar\n"
     ]
    },
    {
     "name": "stderr",
     "output_type": "stream",
     "text": [
      "Teacher training 57/60: 100%|███████████████████████████████████████████████████████| 13/13 [00:14<00:00,  1.09s/batch]\n"
     ]
    },
    {
     "name": "stdout",
     "output_type": "stream",
     "text": [
      "Epoch 56, Loss: 0.9163939723601708\n",
      "0.06553600000000002\n",
      "Saved checkpoint as: teacher_cpt_epoch56.pth.tar\n"
     ]
    },
    {
     "name": "stderr",
     "output_type": "stream",
     "text": [
      "Teacher training 58/60: 100%|███████████████████████████████████████████████████████| 13/13 [00:14<00:00,  1.09s/batch]\n"
     ]
    },
    {
     "name": "stdout",
     "output_type": "stream",
     "text": [
      "Epoch 57, Loss: 0.8986353965905997\n",
      "0.06553600000000002\n",
      "0.052428800000000025\n",
      "Saved checkpoint as: teacher_cpt_epoch57.pth.tar\n"
     ]
    },
    {
     "name": "stderr",
     "output_type": "stream",
     "text": [
      "Teacher training 59/60: 100%|███████████████████████████████████████████████████████| 13/13 [00:14<00:00,  1.10s/batch]\n"
     ]
    },
    {
     "name": "stdout",
     "output_type": "stream",
     "text": [
      "Epoch 58, Loss: 0.9271252017754775\n",
      "0.052428800000000025\n",
      "0.04194304000000002\n",
      "Saved checkpoint as: teacher_cpt_epoch58.pth.tar\n"
     ]
    },
    {
     "name": "stderr",
     "output_type": "stream",
     "text": [
      "Teacher training 60/60: 100%|███████████████████████████████████████████████████████| 13/13 [00:14<00:00,  1.08s/batch]\n"
     ]
    },
    {
     "name": "stdout",
     "output_type": "stream",
     "text": [
      "Epoch 59, Loss: 0.9103867411613464\n",
      "0.04194304000000002\n",
      "0.033554432000000016\n",
      "Saved checkpoint as: teacher_cpt_epoch59.pth.tar\n",
      "Finished Training Teacher\n"
     ]
    },
    {
     "name": "stderr",
     "output_type": "stream",
     "text": [
      "Teacher training 1/60: 100%|████████████████████████████████████████████████████████| 13/13 [00:14<00:00,  1.09s/batch]\n"
     ]
    },
    {
     "name": "stdout",
     "output_type": "stream",
     "text": [
      "Epoch 0, Loss: 0.8934973249068627\n",
      "0.033554432000000016\n",
      "Saved checkpoint as: teacher_cpt_epoch0.pth.tar\n"
     ]
    },
    {
     "name": "stderr",
     "output_type": "stream",
     "text": [
      "Teacher training 2/60: 100%|████████████████████████████████████████████████████████| 13/13 [00:14<00:00,  1.10s/batch]\n"
     ]
    },
    {
     "name": "stdout",
     "output_type": "stream",
     "text": [
      "Epoch 1, Loss: 0.8947081749255841\n",
      "0.033554432000000016\n",
      "Saved checkpoint as: teacher_cpt_epoch1.pth.tar\n"
     ]
    },
    {
     "name": "stderr",
     "output_type": "stream",
     "text": [
      "Teacher training 3/60: 100%|████████████████████████████████████████████████████████| 13/13 [00:14<00:00,  1.09s/batch]\n"
     ]
    },
    {
     "name": "stdout",
     "output_type": "stream",
     "text": [
      "Epoch 2, Loss: 0.8928170800209045\n",
      "0.033554432000000016\n",
      "Saved checkpoint as: teacher_cpt_epoch2.pth.tar\n"
     ]
    },
    {
     "name": "stderr",
     "output_type": "stream",
     "text": [
      "Teacher training 4/60: 100%|████████████████████████████████████████████████████████| 13/13 [00:13<00:00,  1.07s/batch]\n"
     ]
    },
    {
     "name": "stdout",
     "output_type": "stream",
     "text": [
      "Epoch 3, Loss: 0.8622214794158936\n",
      "0.033554432000000016\n",
      "Saved checkpoint as: teacher_cpt_epoch3.pth.tar\n"
     ]
    },
    {
     "name": "stderr",
     "output_type": "stream",
     "text": [
      "Teacher training 5/60: 100%|████████████████████████████████████████████████████████| 13/13 [00:13<00:00,  1.06s/batch]\n"
     ]
    },
    {
     "name": "stdout",
     "output_type": "stream",
     "text": [
      "Epoch 4, Loss: 0.9370965544994061\n",
      "0.033554432000000016\n",
      "Saved checkpoint as: teacher_cpt_epoch4.pth.tar\n"
     ]
    },
    {
     "name": "stderr",
     "output_type": "stream",
     "text": [
      "Teacher training 6/60: 100%|████████████████████████████████████████████████████████| 13/13 [00:13<00:00,  1.07s/batch]\n"
     ]
    },
    {
     "name": "stdout",
     "output_type": "stream",
     "text": [
      "Epoch 5, Loss: 0.9403397991107061\n",
      "0.033554432000000016\n",
      "Saved checkpoint as: teacher_cpt_epoch5.pth.tar\n"
     ]
    },
    {
     "name": "stderr",
     "output_type": "stream",
     "text": [
      "Teacher training 7/60: 100%|████████████████████████████████████████████████████████| 13/13 [00:13<00:00,  1.07s/batch]\n"
     ]
    },
    {
     "name": "stdout",
     "output_type": "stream",
     "text": [
      "Epoch 6, Loss: 0.926626558487232\n",
      "0.033554432000000016\n",
      "Saved checkpoint as: teacher_cpt_epoch6.pth.tar\n"
     ]
    },
    {
     "name": "stderr",
     "output_type": "stream",
     "text": [
      "Teacher training 8/60: 100%|████████████████████████████████████████████████████████| 13/13 [00:13<00:00,  1.07s/batch]\n"
     ]
    },
    {
     "name": "stdout",
     "output_type": "stream",
     "text": [
      "Epoch 7, Loss: 0.8999519210595351\n",
      "0.033554432000000016\n",
      "Saved checkpoint as: teacher_cpt_epoch7.pth.tar\n"
     ]
    },
    {
     "name": "stderr",
     "output_type": "stream",
     "text": [
      "Teacher training 9/60: 100%|████████████████████████████████████████████████████████| 13/13 [00:13<00:00,  1.07s/batch]\n"
     ]
    },
    {
     "name": "stdout",
     "output_type": "stream",
     "text": [
      "Epoch 8, Loss: 0.9251380883730375\n",
      "0.033554432000000016\n",
      "Saved checkpoint as: teacher_cpt_epoch8.pth.tar\n"
     ]
    },
    {
     "name": "stderr",
     "output_type": "stream",
     "text": [
      "Teacher training 10/60: 100%|███████████████████████████████████████████████████████| 13/13 [00:13<00:00,  1.07s/batch]\n"
     ]
    },
    {
     "name": "stdout",
     "output_type": "stream",
     "text": [
      "Epoch 9, Loss: 0.9045439408375666\n",
      "0.033554432000000016\n",
      "Saved checkpoint as: teacher_cpt_epoch9.pth.tar\n"
     ]
    },
    {
     "name": "stderr",
     "output_type": "stream",
     "text": [
      "Teacher training 11/60: 100%|███████████████████████████████████████████████████████| 13/13 [00:13<00:00,  1.06s/batch]\n"
     ]
    },
    {
     "name": "stdout",
     "output_type": "stream",
     "text": [
      "Epoch 10, Loss: 0.9187986529790438\n",
      "0.033554432000000016\n",
      "Saved checkpoint as: teacher_cpt_epoch10.pth.tar\n"
     ]
    },
    {
     "name": "stderr",
     "output_type": "stream",
     "text": [
      "Teacher training 12/60: 100%|███████████████████████████████████████████████████████| 13/13 [00:13<00:00,  1.07s/batch]\n"
     ]
    },
    {
     "name": "stdout",
     "output_type": "stream",
     "text": [
      "Epoch 11, Loss: 0.947941963489239\n",
      "0.033554432000000016\n",
      "Saved checkpoint as: teacher_cpt_epoch11.pth.tar\n"
     ]
    },
    {
     "name": "stderr",
     "output_type": "stream",
     "text": [
      "Teacher training 13/60: 100%|███████████████████████████████████████████████████████| 13/13 [00:13<00:00,  1.07s/batch]\n"
     ]
    },
    {
     "name": "stdout",
     "output_type": "stream",
     "text": [
      "Epoch 12, Loss: 0.8913335525072538\n",
      "0.033554432000000016\n",
      "Saved checkpoint as: teacher_cpt_epoch12.pth.tar\n"
     ]
    },
    {
     "name": "stderr",
     "output_type": "stream",
     "text": [
      "Teacher training 14/60: 100%|███████████████████████████████████████████████████████| 13/13 [00:13<00:00,  1.06s/batch]\n"
     ]
    },
    {
     "name": "stdout",
     "output_type": "stream",
     "text": [
      "Epoch 13, Loss: 0.9098376356638395\n",
      "0.033554432000000016\n",
      "Saved checkpoint as: teacher_cpt_epoch13.pth.tar\n"
     ]
    },
    {
     "name": "stderr",
     "output_type": "stream",
     "text": [
      "Teacher training 15/60: 100%|███████████████████████████████████████████████████████| 13/13 [00:13<00:00,  1.07s/batch]\n"
     ]
    },
    {
     "name": "stdout",
     "output_type": "stream",
     "text": [
      "Epoch 14, Loss: 0.9124411573776832\n",
      "0.033554432000000016\n",
      "Saved checkpoint as: teacher_cpt_epoch14.pth.tar\n"
     ]
    },
    {
     "name": "stderr",
     "output_type": "stream",
     "text": [
      "Teacher training 16/60: 100%|███████████████████████████████████████████████████████| 13/13 [00:14<00:00,  1.08s/batch]\n"
     ]
    },
    {
     "name": "stdout",
     "output_type": "stream",
     "text": [
      "Epoch 15, Loss: 0.9254088814441974\n",
      "0.033554432000000016\n",
      "Saved checkpoint as: teacher_cpt_epoch15.pth.tar\n"
     ]
    },
    {
     "name": "stderr",
     "output_type": "stream",
     "text": [
      "Teacher training 17/60: 100%|███████████████████████████████████████████████████████| 13/13 [00:13<00:00,  1.07s/batch]\n"
     ]
    },
    {
     "name": "stdout",
     "output_type": "stream",
     "text": [
      "Epoch 16, Loss: 0.8849550210512601\n",
      "0.033554432000000016\n",
      "Saved checkpoint as: teacher_cpt_epoch16.pth.tar\n"
     ]
    },
    {
     "name": "stderr",
     "output_type": "stream",
     "text": [
      "Teacher training 18/60: 100%|███████████████████████████████████████████████████████| 13/13 [00:14<00:00,  1.08s/batch]\n"
     ]
    },
    {
     "name": "stdout",
     "output_type": "stream",
     "text": [
      "Epoch 17, Loss: 0.885196369427901\n",
      "0.033554432000000016\n",
      "Saved checkpoint as: teacher_cpt_epoch17.pth.tar\n"
     ]
    },
    {
     "name": "stderr",
     "output_type": "stream",
     "text": [
      "Teacher training 19/60: 100%|███████████████████████████████████████████████████████| 13/13 [00:13<00:00,  1.06s/batch]\n"
     ]
    },
    {
     "name": "stdout",
     "output_type": "stream",
     "text": [
      "Epoch 18, Loss: 0.9099171711848333\n",
      "0.033554432000000016\n",
      "Saved checkpoint as: teacher_cpt_epoch18.pth.tar\n"
     ]
    },
    {
     "name": "stderr",
     "output_type": "stream",
     "text": [
      "Teacher training 20/60: 100%|███████████████████████████████████████████████████████| 13/13 [00:13<00:00,  1.07s/batch]\n"
     ]
    },
    {
     "name": "stdout",
     "output_type": "stream",
     "text": [
      "Epoch 19, Loss: 0.9278889160889846\n",
      "0.033554432000000016\n",
      "Saved checkpoint as: teacher_cpt_epoch19.pth.tar\n"
     ]
    },
    {
     "name": "stderr",
     "output_type": "stream",
     "text": [
      "Teacher training 21/60: 100%|███████████████████████████████████████████████████████| 13/13 [00:14<00:00,  1.08s/batch]\n"
     ]
    },
    {
     "name": "stdout",
     "output_type": "stream",
     "text": [
      "Epoch 20, Loss: 0.9088023213239816\n",
      "0.033554432000000016\n",
      "Saved checkpoint as: teacher_cpt_epoch20.pth.tar\n"
     ]
    },
    {
     "name": "stderr",
     "output_type": "stream",
     "text": [
      "Teacher training 22/60: 100%|███████████████████████████████████████████████████████| 13/13 [00:13<00:00,  1.06s/batch]\n"
     ]
    },
    {
     "name": "stdout",
     "output_type": "stream",
     "text": [
      "Epoch 21, Loss: 0.8885176594440753\n",
      "0.033554432000000016\n",
      "Saved checkpoint as: teacher_cpt_epoch21.pth.tar\n"
     ]
    },
    {
     "name": "stderr",
     "output_type": "stream",
     "text": [
      "Teacher training 23/60: 100%|███████████████████████████████████████████████████████| 13/13 [00:13<00:00,  1.07s/batch]\n"
     ]
    },
    {
     "name": "stdout",
     "output_type": "stream",
     "text": [
      "Epoch 22, Loss: 0.9044575461974511\n",
      "0.033554432000000016\n",
      "Saved checkpoint as: teacher_cpt_epoch22.pth.tar\n"
     ]
    },
    {
     "name": "stderr",
     "output_type": "stream",
     "text": [
      "Teacher training 24/60: 100%|███████████████████████████████████████████████████████| 13/13 [00:14<00:00,  1.08s/batch]\n"
     ]
    },
    {
     "name": "stdout",
     "output_type": "stream",
     "text": [
      "Epoch 23, Loss: 0.9130358054087713\n",
      "0.033554432000000016\n",
      "Saved checkpoint as: teacher_cpt_epoch23.pth.tar\n"
     ]
    },
    {
     "name": "stderr",
     "output_type": "stream",
     "text": [
      "Teacher training 25/60: 100%|███████████████████████████████████████████████████████| 13/13 [00:14<00:00,  1.08s/batch]\n"
     ]
    },
    {
     "name": "stdout",
     "output_type": "stream",
     "text": [
      "Epoch 24, Loss: 0.8778217572432297\n",
      "0.033554432000000016\n",
      "Saved checkpoint as: teacher_cpt_epoch24.pth.tar\n"
     ]
    },
    {
     "name": "stderr",
     "output_type": "stream",
     "text": [
      "Teacher training 26/60: 100%|███████████████████████████████████████████████████████| 13/13 [00:14<00:00,  1.09s/batch]\n"
     ]
    },
    {
     "name": "stdout",
     "output_type": "stream",
     "text": [
      "Epoch 25, Loss: 0.915551809164194\n",
      "0.033554432000000016\n",
      "Saved checkpoint as: teacher_cpt_epoch25.pth.tar\n"
     ]
    },
    {
     "name": "stderr",
     "output_type": "stream",
     "text": [
      "Teacher training 27/60: 100%|███████████████████████████████████████████████████████| 13/13 [00:14<00:00,  1.08s/batch]\n"
     ]
    },
    {
     "name": "stdout",
     "output_type": "stream",
     "text": [
      "Epoch 26, Loss: 0.9189658210827754\n",
      "0.033554432000000016\n",
      "Saved checkpoint as: teacher_cpt_epoch26.pth.tar\n"
     ]
    },
    {
     "name": "stderr",
     "output_type": "stream",
     "text": [
      "Teacher training 28/60: 100%|███████████████████████████████████████████████████████| 13/13 [00:14<00:00,  1.09s/batch]\n"
     ]
    },
    {
     "name": "stdout",
     "output_type": "stream",
     "text": [
      "Epoch 27, Loss: 0.8963209757438073\n",
      "0.033554432000000016\n",
      "Saved checkpoint as: teacher_cpt_epoch27.pth.tar\n"
     ]
    },
    {
     "name": "stderr",
     "output_type": "stream",
     "text": [
      "Teacher training 29/60: 100%|███████████████████████████████████████████████████████| 13/13 [00:14<00:00,  1.09s/batch]\n"
     ]
    },
    {
     "name": "stdout",
     "output_type": "stream",
     "text": [
      "Epoch 28, Loss: 0.9101372544582074\n",
      "0.033554432000000016\n",
      "Saved checkpoint as: teacher_cpt_epoch28.pth.tar\n"
     ]
    },
    {
     "name": "stderr",
     "output_type": "stream",
     "text": [
      "Teacher training 30/60: 100%|███████████████████████████████████████████████████████| 13/13 [00:14<00:00,  1.09s/batch]\n"
     ]
    },
    {
     "name": "stdout",
     "output_type": "stream",
     "text": [
      "Epoch 29, Loss: 0.9015394586783189\n",
      "0.033554432000000016\n",
      "Saved checkpoint as: teacher_cpt_epoch29.pth.tar\n"
     ]
    },
    {
     "name": "stderr",
     "output_type": "stream",
     "text": [
      "Teacher training 31/60: 100%|███████████████████████████████████████████████████████| 13/13 [00:14<00:00,  1.09s/batch]\n"
     ]
    },
    {
     "name": "stdout",
     "output_type": "stream",
     "text": [
      "Epoch 30, Loss: 0.9484406893069928\n",
      "0.033554432000000016\n",
      "Saved checkpoint as: teacher_cpt_epoch30.pth.tar\n"
     ]
    },
    {
     "name": "stderr",
     "output_type": "stream",
     "text": [
      "Teacher training 32/60: 100%|███████████████████████████████████████████████████████| 13/13 [00:14<00:00,  1.10s/batch]\n"
     ]
    },
    {
     "name": "stdout",
     "output_type": "stream",
     "text": [
      "Epoch 31, Loss: 0.912493632389949\n",
      "0.033554432000000016\n",
      "Saved checkpoint as: teacher_cpt_epoch31.pth.tar\n"
     ]
    },
    {
     "name": "stderr",
     "output_type": "stream",
     "text": [
      "Teacher training 33/60: 100%|███████████████████████████████████████████████████████| 13/13 [00:14<00:00,  1.09s/batch]\n"
     ]
    },
    {
     "name": "stdout",
     "output_type": "stream",
     "text": [
      "Epoch 32, Loss: 0.8865719437599182\n",
      "0.033554432000000016\n",
      "Saved checkpoint as: teacher_cpt_epoch32.pth.tar\n"
     ]
    },
    {
     "name": "stderr",
     "output_type": "stream",
     "text": [
      "Teacher training 34/60: 100%|███████████████████████████████████████████████████████| 13/13 [00:14<00:00,  1.08s/batch]\n"
     ]
    },
    {
     "name": "stdout",
     "output_type": "stream",
     "text": [
      "Epoch 33, Loss: 0.9153234041654147\n",
      "0.033554432000000016\n",
      "Saved checkpoint as: teacher_cpt_epoch33.pth.tar\n"
     ]
    },
    {
     "name": "stderr",
     "output_type": "stream",
     "text": [
      "Teacher training 35/60: 100%|███████████████████████████████████████████████████████| 13/13 [00:14<00:00,  1.10s/batch]\n"
     ]
    },
    {
     "name": "stdout",
     "output_type": "stream",
     "text": [
      "Epoch 34, Loss: 0.9065740933785071\n",
      "0.033554432000000016\n",
      "Saved checkpoint as: teacher_cpt_epoch34.pth.tar\n"
     ]
    },
    {
     "name": "stderr",
     "output_type": "stream",
     "text": [
      "Teacher training 36/60: 100%|███████████████████████████████████████████████████████| 13/13 [00:14<00:00,  1.12s/batch]\n"
     ]
    },
    {
     "name": "stdout",
     "output_type": "stream",
     "text": [
      "Epoch 35, Loss: 0.8743743713085468\n",
      "0.033554432000000016\n",
      "Saved checkpoint as: teacher_cpt_epoch35.pth.tar\n"
     ]
    },
    {
     "name": "stderr",
     "output_type": "stream",
     "text": [
      "Teacher training 37/60: 100%|███████████████████████████████████████████████████████| 13/13 [00:14<00:00,  1.11s/batch]\n"
     ]
    },
    {
     "name": "stdout",
     "output_type": "stream",
     "text": [
      "Epoch 36, Loss: 0.9146785048338083\n",
      "0.033554432000000016\n",
      "Saved checkpoint as: teacher_cpt_epoch36.pth.tar\n"
     ]
    },
    {
     "name": "stderr",
     "output_type": "stream",
     "text": [
      "Teacher training 38/60: 100%|███████████████████████████████████████████████████████| 13/13 [00:14<00:00,  1.12s/batch]\n"
     ]
    },
    {
     "name": "stdout",
     "output_type": "stream",
     "text": [
      "Epoch 37, Loss: 0.9334921057407672\n",
      "0.033554432000000016\n",
      "Saved checkpoint as: teacher_cpt_epoch37.pth.tar\n"
     ]
    },
    {
     "name": "stderr",
     "output_type": "stream",
     "text": [
      "Teacher training 39/60: 100%|███████████████████████████████████████████████████████| 13/13 [00:13<00:00,  1.08s/batch]\n"
     ]
    },
    {
     "name": "stdout",
     "output_type": "stream",
     "text": [
      "Epoch 38, Loss: 0.8762414134465731\n",
      "0.033554432000000016\n",
      "Saved checkpoint as: teacher_cpt_epoch38.pth.tar\n"
     ]
    },
    {
     "name": "stderr",
     "output_type": "stream",
     "text": [
      "Teacher training 40/60: 100%|███████████████████████████████████████████████████████| 13/13 [00:14<00:00,  1.11s/batch]\n"
     ]
    },
    {
     "name": "stdout",
     "output_type": "stream",
     "text": [
      "Epoch 39, Loss: 0.8785795661119314\n",
      "0.033554432000000016\n",
      "Saved checkpoint as: teacher_cpt_epoch39.pth.tar\n"
     ]
    },
    {
     "name": "stderr",
     "output_type": "stream",
     "text": [
      "Teacher training 41/60: 100%|███████████████████████████████████████████████████████| 13/13 [00:14<00:00,  1.11s/batch]\n"
     ]
    },
    {
     "name": "stdout",
     "output_type": "stream",
     "text": [
      "Epoch 40, Loss: 0.9038171034592849\n",
      "0.033554432000000016\n",
      "Saved checkpoint as: teacher_cpt_epoch40.pth.tar\n"
     ]
    },
    {
     "name": "stderr",
     "output_type": "stream",
     "text": [
      "Teacher training 42/60: 100%|███████████████████████████████████████████████████████| 13/13 [00:14<00:00,  1.10s/batch]\n"
     ]
    },
    {
     "name": "stdout",
     "output_type": "stream",
     "text": [
      "Epoch 41, Loss: 0.9179740960781391\n",
      "0.033554432000000016\n",
      "Saved checkpoint as: teacher_cpt_epoch41.pth.tar\n"
     ]
    },
    {
     "name": "stderr",
     "output_type": "stream",
     "text": [
      "Teacher training 43/60: 100%|███████████████████████████████████████████████████████| 13/13 [00:14<00:00,  1.09s/batch]\n"
     ]
    },
    {
     "name": "stdout",
     "output_type": "stream",
     "text": [
      "Epoch 42, Loss: 0.9533503972567045\n",
      "0.033554432000000016\n",
      "Saved checkpoint as: teacher_cpt_epoch42.pth.tar\n"
     ]
    },
    {
     "name": "stderr",
     "output_type": "stream",
     "text": [
      "Teacher training 44/60: 100%|███████████████████████████████████████████████████████| 13/13 [00:14<00:00,  1.11s/batch]\n"
     ]
    },
    {
     "name": "stdout",
     "output_type": "stream",
     "text": [
      "Epoch 43, Loss: 0.8441453713637131\n",
      "0.033554432000000016\n",
      "Saved checkpoint as: teacher_cpt_epoch43.pth.tar\n"
     ]
    },
    {
     "name": "stderr",
     "output_type": "stream",
     "text": [
      "Teacher training 45/60: 100%|███████████████████████████████████████████████████████| 13/13 [00:14<00:00,  1.10s/batch]\n"
     ]
    },
    {
     "name": "stdout",
     "output_type": "stream",
     "text": [
      "Epoch 44, Loss: 0.9183955146716192\n",
      "0.033554432000000016\n",
      "Saved checkpoint as: teacher_cpt_epoch44.pth.tar\n"
     ]
    },
    {
     "name": "stderr",
     "output_type": "stream",
     "text": [
      "Teacher training 46/60: 100%|███████████████████████████████████████████████████████| 13/13 [00:14<00:00,  1.10s/batch]\n"
     ]
    },
    {
     "name": "stdout",
     "output_type": "stream",
     "text": [
      "Epoch 45, Loss: 0.8971513555600092\n",
      "0.033554432000000016\n",
      "Saved checkpoint as: teacher_cpt_epoch45.pth.tar\n"
     ]
    },
    {
     "name": "stderr",
     "output_type": "stream",
     "text": [
      "Teacher training 47/60: 100%|███████████████████████████████████████████████████████| 13/13 [00:14<00:00,  1.11s/batch]\n"
     ]
    },
    {
     "name": "stdout",
     "output_type": "stream",
     "text": [
      "Epoch 46, Loss: 0.8708576835118808\n",
      "0.033554432000000016\n",
      "Saved checkpoint as: teacher_cpt_epoch46.pth.tar\n"
     ]
    },
    {
     "name": "stderr",
     "output_type": "stream",
     "text": [
      "Teacher training 48/60: 100%|███████████████████████████████████████████████████████| 13/13 [00:14<00:00,  1.10s/batch]\n"
     ]
    },
    {
     "name": "stdout",
     "output_type": "stream",
     "text": [
      "Epoch 47, Loss: 0.8860915853427007\n",
      "0.033554432000000016\n",
      "Saved checkpoint as: teacher_cpt_epoch47.pth.tar\n"
     ]
    },
    {
     "name": "stderr",
     "output_type": "stream",
     "text": [
      "Teacher training 49/60: 100%|███████████████████████████████████████████████████████| 13/13 [00:14<00:00,  1.09s/batch]\n"
     ]
    },
    {
     "name": "stdout",
     "output_type": "stream",
     "text": [
      "Epoch 48, Loss: 0.9393826310451214\n",
      "0.033554432000000016\n",
      "Saved checkpoint as: teacher_cpt_epoch48.pth.tar\n"
     ]
    },
    {
     "name": "stderr",
     "output_type": "stream",
     "text": [
      "Teacher training 50/60: 100%|███████████████████████████████████████████████████████| 13/13 [00:14<00:00,  1.10s/batch]\n"
     ]
    },
    {
     "name": "stdout",
     "output_type": "stream",
     "text": [
      "Epoch 49, Loss: 0.936721710058359\n",
      "0.033554432000000016\n",
      "Saved checkpoint as: teacher_cpt_epoch49.pth.tar\n"
     ]
    },
    {
     "name": "stderr",
     "output_type": "stream",
     "text": [
      "Teacher training 51/60: 100%|███████████████████████████████████████████████████████| 13/13 [00:14<00:00,  1.08s/batch]\n"
     ]
    },
    {
     "name": "stdout",
     "output_type": "stream",
     "text": [
      "Epoch 50, Loss: 0.9578261192028339\n",
      "0.033554432000000016\n",
      "Saved checkpoint as: teacher_cpt_epoch50.pth.tar\n"
     ]
    },
    {
     "name": "stderr",
     "output_type": "stream",
     "text": [
      "Teacher training 52/60: 100%|███████████████████████████████████████████████████████| 13/13 [00:14<00:00,  1.09s/batch]\n"
     ]
    },
    {
     "name": "stdout",
     "output_type": "stream",
     "text": [
      "Epoch 51, Loss: 0.8989873024133536\n",
      "0.033554432000000016\n",
      "Saved checkpoint as: teacher_cpt_epoch51.pth.tar\n"
     ]
    },
    {
     "name": "stderr",
     "output_type": "stream",
     "text": [
      "Teacher training 53/60: 100%|███████████████████████████████████████████████████████| 13/13 [00:14<00:00,  1.12s/batch]\n"
     ]
    },
    {
     "name": "stdout",
     "output_type": "stream",
     "text": [
      "Epoch 52, Loss: 0.9084009757408729\n",
      "0.033554432000000016\n",
      "Saved checkpoint as: teacher_cpt_epoch52.pth.tar\n"
     ]
    },
    {
     "name": "stderr",
     "output_type": "stream",
     "text": [
      "Teacher training 54/60: 100%|███████████████████████████████████████████████████████| 13/13 [00:14<00:00,  1.10s/batch]\n"
     ]
    },
    {
     "name": "stdout",
     "output_type": "stream",
     "text": [
      "Epoch 53, Loss: 0.9498160068805401\n",
      "0.033554432000000016\n",
      "Saved checkpoint as: teacher_cpt_epoch53.pth.tar\n"
     ]
    },
    {
     "name": "stderr",
     "output_type": "stream",
     "text": [
      "Teacher training 55/60: 100%|███████████████████████████████████████████████████████| 13/13 [00:14<00:00,  1.09s/batch]\n"
     ]
    },
    {
     "name": "stdout",
     "output_type": "stream",
     "text": [
      "Epoch 54, Loss: 0.916701770745791\n",
      "0.033554432000000016\n",
      "Saved checkpoint as: teacher_cpt_epoch54.pth.tar\n"
     ]
    },
    {
     "name": "stderr",
     "output_type": "stream",
     "text": [
      "Teacher training 56/60: 100%|███████████████████████████████████████████████████████| 13/13 [00:14<00:00,  1.10s/batch]\n"
     ]
    },
    {
     "name": "stdout",
     "output_type": "stream",
     "text": [
      "Epoch 55, Loss: 0.9029366007217994\n",
      "0.033554432000000016\n",
      "Saved checkpoint as: teacher_cpt_epoch55.pth.tar\n"
     ]
    },
    {
     "name": "stderr",
     "output_type": "stream",
     "text": [
      "Teacher training 57/60: 100%|███████████████████████████████████████████████████████| 13/13 [00:14<00:00,  1.11s/batch]\n"
     ]
    },
    {
     "name": "stdout",
     "output_type": "stream",
     "text": [
      "Epoch 56, Loss: 0.9635026821723351\n",
      "0.033554432000000016\n",
      "Saved checkpoint as: teacher_cpt_epoch56.pth.tar\n"
     ]
    },
    {
     "name": "stderr",
     "output_type": "stream",
     "text": [
      "Teacher training 58/60: 100%|███████████████████████████████████████████████████████| 13/13 [00:14<00:00,  1.09s/batch]\n"
     ]
    },
    {
     "name": "stdout",
     "output_type": "stream",
     "text": [
      "Epoch 57, Loss: 0.9086415079923776\n",
      "0.033554432000000016\n",
      "Saved checkpoint as: teacher_cpt_epoch57.pth.tar\n"
     ]
    },
    {
     "name": "stderr",
     "output_type": "stream",
     "text": [
      "Teacher training 59/60: 100%|███████████████████████████████████████████████████████| 13/13 [00:14<00:00,  1.09s/batch]\n"
     ]
    },
    {
     "name": "stdout",
     "output_type": "stream",
     "text": [
      "Epoch 58, Loss: 0.9088976429058955\n",
      "0.033554432000000016\n",
      "Saved checkpoint as: teacher_cpt_epoch58.pth.tar\n"
     ]
    },
    {
     "name": "stderr",
     "output_type": "stream",
     "text": [
      "Teacher training 60/60: 100%|███████████████████████████████████████████████████████| 13/13 [00:14<00:00,  1.10s/batch]"
     ]
    },
    {
     "name": "stdout",
     "output_type": "stream",
     "text": [
      "Epoch 59, Loss: 0.8658739695182214\n",
      "0.033554432000000016\n",
      "Saved checkpoint as: teacher_cpt_epoch59.pth.tar\n",
      "Finished Training Teacher\n"
     ]
    },
    {
     "name": "stderr",
     "output_type": "stream",
     "text": [
      "\n"
     ]
    },
    {
     "data": {
      "text/plain": [
       "([0.6737123131752014,\n",
       "  1.0168969631195068,\n",
       "  0.9570521116256714,\n",
       "  0.8208662867546082,\n",
       "  0.8146296739578247,\n",
       "  0.8868765830993652,\n",
       "  0.8531861305236816,\n",
       "  0.8646260499954224,\n",
       "  0.8851001858711243,\n",
       "  0.7802302837371826,\n",
       "  0.9218482375144958,\n",
       "  0.8598029613494873,\n",
       "  0.8333888649940491,\n",
       "  0.8629829287528992,\n",
       "  0.815946102142334,\n",
       "  0.7729753851890564,\n",
       "  0.8328837752342224,\n",
       "  0.9364640712738037,\n",
       "  0.8452367782592773,\n",
       "  0.952250063419342,\n",
       "  0.8489546775817871,\n",
       "  1.0044171810150146,\n",
       "  1.1443344354629517,\n",
       "  0.9286807179450989,\n",
       "  0.9165771007537842,\n",
       "  1.001098871231079,\n",
       "  0.9682894349098206,\n",
       "  0.739294171333313,\n",
       "  0.9291865229606628,\n",
       "  0.9539468288421631,\n",
       "  0.9498103857040405,\n",
       "  0.9349802136421204,\n",
       "  0.8720395565032959,\n",
       "  0.9851032495498657,\n",
       "  0.904920220375061,\n",
       "  0.9629994034767151,\n",
       "  0.8635184168815613,\n",
       "  0.9456398487091064,\n",
       "  0.8388512134552002,\n",
       "  0.8441625833511353,\n",
       "  0.8863718509674072,\n",
       "  1.0237770080566406,\n",
       "  0.9755839705467224,\n",
       "  0.8132402300834656,\n",
       "  0.8762245774269104,\n",
       "  1.0590583086013794,\n",
       "  0.8296030163764954,\n",
       "  1.0013532638549805,\n",
       "  0.936262845993042,\n",
       "  0.8358013033866882,\n",
       "  0.8532379269599915,\n",
       "  0.9168704748153687,\n",
       "  0.8201502561569214,\n",
       "  0.974073052406311,\n",
       "  0.8193164467811584,\n",
       "  0.9001061916351318,\n",
       "  0.8041051030158997,\n",
       "  1.000954031944275,\n",
       "  0.9166154265403748,\n",
       "  0.7984887957572937,\n",
       "  0.8319307565689087,\n",
       "  0.9076824188232422,\n",
       "  0.9660753011703491,\n",
       "  0.9514175653457642,\n",
       "  1.0196951627731323,\n",
       "  0.9500043988227844,\n",
       "  0.8745301365852356,\n",
       "  0.8227658271789551,\n",
       "  0.9296610951423645,\n",
       "  0.8922722935676575,\n",
       "  0.9801937937736511,\n",
       "  0.8619369864463806,\n",
       "  0.8964438438415527,\n",
       "  0.9381107687950134,\n",
       "  1.0901986360549927,\n",
       "  0.8883197903633118,\n",
       "  0.9461296796798706,\n",
       "  0.899462878704071,\n",
       "  0.9719715714454651,\n",
       "  1.0343724489212036,\n",
       "  0.8703790307044983,\n",
       "  0.768302321434021,\n",
       "  0.8870276212692261,\n",
       "  0.7701365947723389,\n",
       "  0.7586442828178406,\n",
       "  0.8505720496177673,\n",
       "  1.1830687522888184,\n",
       "  0.7756744623184204,\n",
       "  0.9484865665435791,\n",
       "  0.8618243932723999,\n",
       "  0.9569776654243469,\n",
       "  1.1481127738952637,\n",
       "  0.8779164552688599,\n",
       "  1.0500233173370361,\n",
       "  0.8986971378326416,\n",
       "  1.0390435457229614,\n",
       "  0.9302951693534851,\n",
       "  0.8659676313400269,\n",
       "  0.7675350904464722,\n",
       "  1.040737509727478,\n",
       "  0.8665121793746948,\n",
       "  0.8739618062973022,\n",
       "  0.8659247756004333,\n",
       "  0.8574403524398804,\n",
       "  0.8450895547866821,\n",
       "  0.9147552251815796,\n",
       "  0.8927159905433655,\n",
       "  0.9330984950065613,\n",
       "  0.906806230545044,\n",
       "  0.864517867565155,\n",
       "  0.8328039646148682,\n",
       "  0.8014519810676575,\n",
       "  0.9641523957252502,\n",
       "  0.7628682851791382,\n",
       "  0.7946703433990479,\n",
       "  0.9513771533966064,\n",
       "  0.9552876949310303,\n",
       "  0.926759660243988,\n",
       "  1.1490156650543213,\n",
       "  0.8893667459487915,\n",
       "  0.915968120098114,\n",
       "  0.9929347038269043,\n",
       "  0.7988747954368591,\n",
       "  0.8630684614181519,\n",
       "  0.7483258843421936,\n",
       "  0.8380752205848694,\n",
       "  0.8349053859710693,\n",
       "  0.7549128532409668,\n",
       "  0.9351955056190491,\n",
       "  1.0379472970962524,\n",
       "  1.0306315422058105,\n",
       "  0.951813280582428,\n",
       "  0.9565203189849854,\n",
       "  0.7900508642196655,\n",
       "  0.8567212820053101,\n",
       "  0.9101369380950928,\n",
       "  0.9305424690246582,\n",
       "  0.9210523366928101,\n",
       "  0.9351696372032166,\n",
       "  1.0330710411071777,\n",
       "  0.7696540355682373,\n",
       "  0.8990657925605774,\n",
       "  1.055780291557312,\n",
       "  1.017005205154419,\n",
       "  0.8993395566940308,\n",
       "  0.8180590867996216,\n",
       "  0.8017278909683228,\n",
       "  1.0275952816009521,\n",
       "  0.9735657572746277,\n",
       "  0.9400231242179871,\n",
       "  0.877267599105835,\n",
       "  1.0255600214004517,\n",
       "  0.7863778471946716,\n",
       "  0.832239031791687,\n",
       "  0.8208276033401489,\n",
       "  0.8837024569511414,\n",
       "  0.9420543313026428,\n",
       "  0.9400218725204468,\n",
       "  0.8922693133354187,\n",
       "  0.9480299353599548,\n",
       "  0.753155529499054,\n",
       "  0.871878981590271,\n",
       "  0.8302263617515564,\n",
       "  0.7944556474685669,\n",
       "  0.946681559085846,\n",
       "  1.0213267803192139,\n",
       "  0.8752480745315552,\n",
       "  0.9871175289154053,\n",
       "  0.8366851210594177,\n",
       "  0.8801543712615967,\n",
       "  0.9157854318618774,\n",
       "  0.9871468544006348,\n",
       "  0.7897369265556335,\n",
       "  0.8855791091918945,\n",
       "  1.0661070346832275,\n",
       "  0.7942952513694763,\n",
       "  0.986051082611084,\n",
       "  0.8138864636421204,\n",
       "  1.0573631525039673,\n",
       "  0.9605612754821777,\n",
       "  0.8170559406280518,\n",
       "  0.8965650796890259,\n",
       "  0.9829181432723999,\n",
       "  1.0184880495071411,\n",
       "  1.0100445747375488,\n",
       "  0.8523781895637512,\n",
       "  1.088434100151062,\n",
       "  0.8288574814796448,\n",
       "  0.9297633767127991,\n",
       "  0.8095798492431641,\n",
       "  1.0049870014190674,\n",
       "  0.8550451397895813,\n",
       "  1.0302739143371582,\n",
       "  0.9566132426261902,\n",
       "  0.905580461025238,\n",
       "  0.9389427900314331,\n",
       "  0.7549880146980286,\n",
       "  1.0510996580123901,\n",
       "  0.7276272773742676,\n",
       "  0.9309471845626831,\n",
       "  0.9012603759765625,\n",
       "  0.8801815509796143,\n",
       "  0.8297886252403259,\n",
       "  1.100581169128418,\n",
       "  0.9595798254013062,\n",
       "  0.9040522575378418,\n",
       "  0.9608903527259827,\n",
       "  0.7652074694633484,\n",
       "  0.8726341128349304,\n",
       "  1.0451040267944336,\n",
       "  0.8866179585456848,\n",
       "  1.0063807964324951,\n",
       "  0.853441059589386,\n",
       "  0.9542897939682007,\n",
       "  1.2288644313812256,\n",
       "  0.8848831653594971,\n",
       "  0.923832893371582,\n",
       "  0.8768488168716431,\n",
       "  0.947468101978302,\n",
       "  0.9242976307868958,\n",
       "  1.006229043006897,\n",
       "  1.0145697593688965,\n",
       "  0.9005720615386963,\n",
       "  0.9792693257331848,\n",
       "  0.935401201248169,\n",
       "  0.9228297472000122,\n",
       "  0.742929995059967,\n",
       "  0.9676740169525146,\n",
       "  0.8396363854408264,\n",
       "  0.9129996299743652,\n",
       "  0.7716880440711975,\n",
       "  0.9021522998809814,\n",
       "  0.7806117534637451,\n",
       "  0.9278234243392944,\n",
       "  0.8934358954429626,\n",
       "  0.8309574723243713,\n",
       "  0.9329033493995667,\n",
       "  1.008182406425476,\n",
       "  0.9782055020332336,\n",
       "  0.8887253403663635,\n",
       "  0.7979556918144226,\n",
       "  0.7684946656227112,\n",
       "  1.0616989135742188,\n",
       "  0.7565612196922302,\n",
       "  0.9600411653518677,\n",
       "  0.9372912049293518,\n",
       "  1.0011614561080933,\n",
       "  0.9703187346458435,\n",
       "  0.9313251972198486,\n",
       "  0.9511255621910095,\n",
       "  0.8027721643447876,\n",
       "  0.8459938168525696,\n",
       "  0.8003066182136536,\n",
       "  0.9216585159301758,\n",
       "  0.8270185589790344,\n",
       "  0.8281072974205017,\n",
       "  0.8252075910568237,\n",
       "  0.9315388202667236,\n",
       "  0.8862910866737366,\n",
       "  0.9102573990821838,\n",
       "  0.9490670561790466,\n",
       "  0.8123030662536621,\n",
       "  0.7826062440872192,\n",
       "  0.9454782605171204,\n",
       "  1.0349714756011963,\n",
       "  0.8562968969345093,\n",
       "  0.998727560043335,\n",
       "  1.1683704853057861,\n",
       "  1.0068696737289429,\n",
       "  0.8272979259490967,\n",
       "  1.0345441102981567,\n",
       "  0.9117461442947388,\n",
       "  0.8889676928520203,\n",
       "  0.8599575757980347,\n",
       "  0.859837532043457,\n",
       "  0.8760848045349121,\n",
       "  0.9343152642250061,\n",
       "  0.7417678833007812,\n",
       "  0.9984707832336426,\n",
       "  0.8612492680549622,\n",
       "  0.8752691149711609,\n",
       "  0.7877616286277771,\n",
       "  0.6788730621337891,\n",
       "  1.0902107954025269,\n",
       "  1.0270802974700928,\n",
       "  0.856808066368103,\n",
       "  1.0115814208984375,\n",
       "  1.0161585807800293,\n",
       "  1.1091142892837524,\n",
       "  0.9013682007789612,\n",
       "  0.9610894918441772,\n",
       "  0.8427367806434631,\n",
       "  0.947945237159729,\n",
       "  0.7299750447273254,\n",
       "  0.7646526098251343,\n",
       "  0.9045301079750061,\n",
       "  0.9817437529563904,\n",
       "  0.8724208474159241,\n",
       "  1.0580559968948364,\n",
       "  0.8418879508972168,\n",
       "  0.8165712356567383,\n",
       "  0.9306640625,\n",
       "  0.8806658983230591,\n",
       "  0.9596846103668213,\n",
       "  0.909747838973999,\n",
       "  0.9339504837989807,\n",
       "  1.0305681228637695,\n",
       "  0.9307612180709839,\n",
       "  0.8074281215667725,\n",
       "  0.8766345381736755,\n",
       "  0.8952559232711792,\n",
       "  0.839627206325531,\n",
       "  0.9362574219703674,\n",
       "  0.8324090838432312,\n",
       "  0.9356625080108643,\n",
       "  0.931094229221344,\n",
       "  0.9558202028274536,\n",
       "  0.9108839631080627,\n",
       "  0.8676843643188477,\n",
       "  0.8952990770339966,\n",
       "  1.001383662223816,\n",
       "  0.9149312376976013,\n",
       "  0.8135719299316406,\n",
       "  0.8086267709732056,\n",
       "  1.095023512840271,\n",
       "  0.8715941309928894,\n",
       "  0.98311448097229,\n",
       "  0.7052217125892639,\n",
       "  0.9502868056297302,\n",
       "  0.7970523834228516,\n",
       "  0.9014105796813965,\n",
       "  0.9715696573257446,\n",
       "  0.8475275635719299,\n",
       "  0.9057307243347168,\n",
       "  1.0010464191436768,\n",
       "  1.1069331169128418,\n",
       "  0.8483085036277771,\n",
       "  0.9891572594642639,\n",
       "  0.7031508684158325,\n",
       "  0.910950243473053,\n",
       "  0.8987647891044617,\n",
       "  0.9288264513015747,\n",
       "  0.8442002534866333,\n",
       "  0.8217285871505737,\n",
       "  1.0697979927062988,\n",
       "  1.1698946952819824,\n",
       "  0.9073914289474487,\n",
       "  0.8964675068855286,\n",
       "  0.8411658406257629,\n",
       "  0.9131245017051697,\n",
       "  0.8450589776039124,\n",
       "  0.8636884689331055,\n",
       "  0.9033200144767761,\n",
       "  0.8142673969268799,\n",
       "  0.9712265729904175,\n",
       "  0.817776620388031,\n",
       "  0.888619601726532,\n",
       "  0.8315772414207458,\n",
       "  0.8368000388145447,\n",
       "  0.8846595287322998,\n",
       "  1.0191231966018677,\n",
       "  0.8623368740081787,\n",
       "  1.0058138370513916,\n",
       "  0.8743070960044861,\n",
       "  0.9353935718536377,\n",
       "  0.9184644222259521,\n",
       "  0.872640073299408,\n",
       "  0.8848171234130859,\n",
       "  0.8680378794670105,\n",
       "  0.9521539211273193,\n",
       "  1.0751094818115234,\n",
       "  0.8632237315177917,\n",
       "  0.892389178276062,\n",
       "  1.0172371864318848,\n",
       "  0.7910017967224121,\n",
       "  0.9189112186431885,\n",
       "  0.9684978723526001,\n",
       "  0.8308132290840149,\n",
       "  0.9905313849449158,\n",
       "  0.9050827622413635,\n",
       "  0.9024621844291687,\n",
       "  0.8821612000465393,\n",
       "  0.9298785924911499,\n",
       "  0.9557939171791077,\n",
       "  0.9837148189544678,\n",
       "  1.010436773300171,\n",
       "  0.8069450259208679,\n",
       "  0.7634401917457581,\n",
       "  1.0210552215576172,\n",
       "  0.9064083099365234,\n",
       "  0.8812352418899536,\n",
       "  0.8780816793441772,\n",
       "  0.8542468547821045,\n",
       "  0.7995944023132324,\n",
       "  0.8255197405815125,\n",
       "  0.9093973636627197,\n",
       "  0.8581610918045044,\n",
       "  0.8748180270195007,\n",
       "  0.8697425723075867,\n",
       "  0.824591875076294,\n",
       "  1.0304962396621704,\n",
       "  0.8666996955871582,\n",
       "  0.9755329489707947,\n",
       "  0.8708660006523132,\n",
       "  0.8489242792129517,\n",
       "  0.8100588321685791,\n",
       "  0.910560131072998,\n",
       "  0.904487133026123,\n",
       "  0.8364060521125793,\n",
       "  0.9201136827468872,\n",
       "  0.8316187262535095,\n",
       "  0.8174746036529541,\n",
       "  0.7232449054718018,\n",
       "  0.8825069665908813,\n",
       "  1.0149539709091187,\n",
       "  1.0181187391281128,\n",
       "  0.9350169897079468,\n",
       "  0.8797101974487305,\n",
       "  1.0735976696014404,\n",
       "  0.9539954662322998,\n",
       "  0.7669662237167358,\n",
       "  0.8841829895973206,\n",
       "  0.8826082944869995,\n",
       "  1.05715012550354,\n",
       "  0.8641685247421265,\n",
       "  0.9485397934913635,\n",
       "  0.9131003022193909,\n",
       "  0.8421173691749573,\n",
       "  0.9543443322181702,\n",
       "  0.7796927094459534,\n",
       "  1.0018633604049683,\n",
       "  0.8922885060310364,\n",
       "  0.911070704460144,\n",
       "  0.794910192489624,\n",
       "  0.8394357562065125,\n",
       "  0.863885760307312,\n",
       "  0.8797111511230469,\n",
       "  1.067344307899475,\n",
       "  0.879305899143219,\n",
       "  0.8987700939178467,\n",
       "  0.9261868000030518,\n",
       "  0.9788388609886169,\n",
       "  0.9270431399345398,\n",
       "  0.798420786857605,\n",
       "  0.9741684794425964,\n",
       "  1.1198650598526,\n",
       "  0.9198581576347351,\n",
       "  0.8641265630722046,\n",
       "  0.7989512085914612,\n",
       "  0.9680016040802002,\n",
       "  0.8947907090187073,\n",
       "  0.8786271810531616,\n",
       "  1.0192980766296387,\n",
       "  0.7793766260147095,\n",
       "  0.9875308871269226,\n",
       "  0.7705938816070557,\n",
       "  0.8026862740516663,\n",
       "  0.8394529223442078,\n",
       "  0.9818418025970459,\n",
       "  1.0786879062652588,\n",
       "  0.9299958944320679,\n",
       "  0.9824234247207642,\n",
       "  0.8879532814025879,\n",
       "  0.9282338619232178,\n",
       "  0.9764969944953918,\n",
       "  0.9390738010406494,\n",
       "  0.9028964042663574,\n",
       "  0.8910966515541077,\n",
       "  0.983522355556488,\n",
       "  0.9035986065864563,\n",
       "  0.9741671085357666,\n",
       "  0.7719265818595886,\n",
       "  0.7822941541671753,\n",
       "  0.9347418546676636,\n",
       "  0.9216476082801819,\n",
       "  1.0277364253997803,\n",
       "  0.8624476194381714,\n",
       "  1.014518141746521,\n",
       "  0.6980368494987488,\n",
       "  0.7836968302726746,\n",
       "  0.9168550372123718,\n",
       "  0.8359081745147705,\n",
       "  0.9948329925537109,\n",
       "  0.6908836364746094,\n",
       "  0.819059431552887,\n",
       "  1.0426729917526245,\n",
       "  0.9453814029693604,\n",
       "  0.7559385299682617,\n",
       "  0.9685521125793457,\n",
       "  0.8335198163986206,\n",
       "  0.7885437607765198,\n",
       "  0.9196438193321228,\n",
       "  0.8832014203071594,\n",
       "  0.9787846207618713,\n",
       "  0.912835419178009,\n",
       "  0.8516691327095032,\n",
       "  0.7762390375137329,\n",
       "  0.8588799834251404,\n",
       "  1.0463649034500122,\n",
       "  0.8388210535049438,\n",
       "  0.8616474866867065,\n",
       "  0.8641765117645264,\n",
       "  0.8943238854408264,\n",
       "  0.8568539023399353,\n",
       "  0.8837509155273438,\n",
       "  0.9427353739738464,\n",
       "  0.918422520160675,\n",
       "  0.9398669600486755,\n",
       "  0.9534057378768921,\n",
       "  1.093774437904358,\n",
       "  0.9226725101470947,\n",
       "  0.8054727911949158,\n",
       "  0.9572861790657043,\n",
       "  0.937877357006073,\n",
       "  0.7991567850112915,\n",
       "  0.970298707485199,\n",
       "  0.8850492238998413,\n",
       "  1.0126341581344604,\n",
       "  0.884750247001648,\n",
       "  0.7696974277496338,\n",
       "  0.8783644437789917,\n",
       "  1.096105694770813,\n",
       "  0.9671104550361633,\n",
       "  1.1141791343688965,\n",
       "  0.8575822114944458,\n",
       "  0.8992916941642761,\n",
       "  0.8465757369995117,\n",
       "  0.907590389251709,\n",
       "  0.9929825663566589,\n",
       "  0.9156708717346191,\n",
       "  0.9720399975776672,\n",
       "  1.0240527391433716,\n",
       "  0.8536489009857178,\n",
       "  0.8776794672012329,\n",
       "  0.8021085262298584,\n",
       "  1.0132323503494263,\n",
       "  0.9082696437835693,\n",
       "  0.8374326229095459,\n",
       "  0.8450474143028259,\n",
       "  0.9467832446098328,\n",
       "  0.72031569480896,\n",
       "  0.9071667790412903,\n",
       "  0.8540510535240173,\n",
       "  0.9594489932060242,\n",
       "  0.9396334290504456,\n",
       "  0.7381517887115479,\n",
       "  0.7116662263870239,\n",
       "  0.7537990808486938,\n",
       "  1.0096192359924316,\n",
       "  0.8222440481185913,\n",
       "  0.8489592671394348,\n",
       "  0.9113674759864807,\n",
       "  0.949449360370636,\n",
       "  0.9097718000411987,\n",
       "  0.7877267003059387,\n",
       "  0.7454243302345276,\n",
       "  0.8324728608131409,\n",
       "  0.8083953261375427,\n",
       "  0.9321704506874084,\n",
       "  0.8400934934616089,\n",
       "  0.9402908682823181,\n",
       "  1.0360283851623535,\n",
       "  0.8797399997711182,\n",
       "  0.9283537268638611,\n",
       "  0.9907546043395996,\n",
       "  0.7796041965484619,\n",
       "  0.9637289047241211,\n",
       "  1.0770429372787476,\n",
       "  1.0808016061782837,\n",
       "  0.8438766598701477,\n",
       "  0.8625554442405701,\n",
       "  0.9096612334251404,\n",
       "  0.8861601948738098,\n",
       "  0.9128138422966003,\n",
       "  0.9204576015472412,\n",
       "  0.9791929721832275,\n",
       "  0.9101791977882385,\n",
       "  0.9842162132263184,\n",
       "  0.875523030757904,\n",
       "  0.913221001625061,\n",
       "  0.9591127634048462,\n",
       "  0.788227915763855,\n",
       "  0.9596927165985107,\n",
       "  0.8576281070709229,\n",
       "  1.0170936584472656,\n",
       "  1.0721944570541382,\n",
       "  0.9924991130828857,\n",
       "  0.8520087599754333,\n",
       "  0.8363826274871826,\n",
       "  0.8851069211959839,\n",
       "  0.9443104863166809,\n",
       "  0.9287110567092896,\n",
       "  0.8079086542129517,\n",
       "  0.8714005351066589,\n",
       "  0.8637386560440063,\n",
       "  0.8049794435501099,\n",
       "  0.9840703010559082,\n",
       "  0.8787837624549866,\n",
       "  0.8172873258590698,\n",
       "  0.8969510793685913,\n",
       "  0.696604311466217,\n",
       "  0.7623635530471802,\n",
       "  0.9343932271003723,\n",
       "  0.9779757261276245,\n",
       "  1.0237641334533691,\n",
       "  0.8404359817504883,\n",
       "  0.947533905506134,\n",
       "  0.9762460589408875,\n",
       "  0.8116443753242493,\n",
       "  0.8775832056999207,\n",
       "  1.035598874092102,\n",
       "  0.8433778882026672,\n",
       "  1.0153391361236572,\n",
       "  1.0273696184158325,\n",
       "  0.9731870889663696,\n",
       "  0.9964828491210938,\n",
       "  0.9390624761581421,\n",
       "  1.0713263750076294,\n",
       "  0.8386637568473816,\n",
       "  1.0091876983642578,\n",
       "  0.7967802286148071,\n",
       "  0.7813345193862915,\n",
       "  0.9144161939620972,\n",
       "  0.8388397693634033,\n",
       "  0.9692413806915283,\n",
       "  1.0377051830291748,\n",
       "  1.0319626331329346,\n",
       "  0.9786509275436401,\n",
       "  0.958615779876709,\n",
       "  0.9738725423812866,\n",
       "  0.8884366750717163,\n",
       "  0.9036051630973816,\n",
       "  0.9264010190963745,\n",
       "  0.915860652923584,\n",
       "  0.8169909119606018,\n",
       "  0.8608421087265015,\n",
       "  1.173891544342041,\n",
       "  0.9583539366722107,\n",
       "  0.9594106674194336,\n",
       "  0.9306233525276184,\n",
       "  0.7907331585884094,\n",
       "  0.926729142665863,\n",
       "  0.7532467246055603,\n",
       "  0.9498540759086609,\n",
       "  0.84894859790802,\n",
       "  0.9364868402481079,\n",
       "  0.8013870716094971,\n",
       "  0.8878099322319031,\n",
       "  1.012084722518921,\n",
       "  0.8215492367744446,\n",
       "  0.8685436248779297,\n",
       "  1.0003154277801514,\n",
       "  0.8535698652267456,\n",
       "  0.9105255603790283,\n",
       "  0.7975240349769592,\n",
       "  0.9003859758377075,\n",
       "  0.7735570669174194,\n",
       "  1.001623272895813,\n",
       "  0.8775529265403748,\n",
       "  0.9228412508964539,\n",
       "  0.7269679307937622,\n",
       "  1.0002080202102661,\n",
       "  1.0221705436706543,\n",
       "  0.9379830956459045,\n",
       "  0.8487963080406189,\n",
       "  0.9145821928977966,\n",
       "  0.9263669848442078,\n",
       "  0.8823665976524353,\n",
       "  0.869247555732727,\n",
       "  0.9901283979415894,\n",
       "  0.8922555446624756,\n",
       "  0.8152486681938171,\n",
       "  1.0149033069610596,\n",
       "  0.9310343861579895,\n",
       "  0.9207608103752136,\n",
       "  0.8700708746910095,\n",
       "  0.9606993198394775,\n",
       "  1.1280932426452637,\n",
       "  0.8531574606895447,\n",
       "  0.8401005864143372,\n",
       "  0.9768124222755432,\n",
       "  0.9868416786193848,\n",
       "  0.8540461659431458,\n",
       "  0.8585038781166077,\n",
       "  0.8836018443107605,\n",
       "  0.9966635704040527,\n",
       "  0.998734712600708,\n",
       "  0.9120895266532898,\n",
       "  0.8762499094009399,\n",
       "  1.0289949178695679,\n",
       "  0.7281495928764343,\n",
       "  0.7719413042068481,\n",
       "  0.718956708908081,\n",
       "  0.9943756461143494,\n",
       "  0.6552271842956543,\n",
       "  0.9730325937271118,\n",
       "  0.7554300427436829,\n",
       "  0.818658709526062,\n",
       "  1.0268725156784058,\n",
       "  0.8848355412483215,\n",
       "  0.9168423414230347,\n",
       "  0.9142076373100281,\n",
       "  0.9413089752197266,\n",
       "  0.978396475315094,\n",
       "  0.89876389503479,\n",
       "  0.9438577890396118,\n",
       "  0.821130096912384,\n",
       "  0.7767308950424194,\n",
       "  0.974637508392334,\n",
       "  0.9882046580314636,\n",
       "  0.8229891657829285,\n",
       "  0.8821936249732971,\n",
       "  0.9219174981117249,\n",
       "  0.8066791296005249,\n",
       "  0.9269174337387085,\n",
       "  0.9074962139129639,\n",
       "  0.93796706199646,\n",
       "  1.0175398588180542,\n",
       "  0.9295088052749634,\n",
       "  0.8936485648155212,\n",
       "  0.9617636203765869,\n",
       "  1.0696771144866943,\n",
       "  0.8942919969558716,\n",
       "  0.900127649307251,\n",
       "  0.8137602806091309,\n",
       "  0.9595881700515747,\n",
       "  0.9850971102714539,\n",
       "  1.0363130569458008,\n",
       "  1.031214714050293,\n",
       "  1.0019358396530151,\n",
       "  0.8683330416679382,\n",
       "  0.8526226878166199,\n",
       "  1.0494475364685059,\n",
       "  1.0118235349655151,\n",
       "  0.87470942735672,\n",
       "  0.8705475330352783,\n",
       "  0.8983896970748901,\n",
       "  1.009986162185669,\n",
       "  0.9044368267059326,\n",
       "  0.8120774626731873,\n",
       "  0.727597177028656,\n",
       "  1.017551302909851,\n",
       "  0.9258469939231873,\n",
       "  0.9577760696411133,\n",
       "  0.8092628717422485,\n",
       "  1.012842059135437,\n",
       "  0.9678887128829956,\n",
       "  0.9196884036064148,\n",
       "  0.8937356472015381,\n",
       "  0.8557205200195312,\n",
       "  0.9042354226112366,\n",
       "  0.8028973937034607,\n",
       "  0.7222020626068115,\n",
       "  0.8926126956939697,\n",
       "  0.8684099316596985,\n",
       "  0.9124888777732849,\n",
       "  1.0044232606887817,\n",
       "  0.6766387224197388,\n",
       "  0.9485771059989929,\n",
       "  1.0161375999450684,\n",
       "  1.0496259927749634,\n",
       "  0.960502028465271,\n",
       "  0.7527236938476562,\n",
       "  0.889303982257843,\n",
       "  1.0693222284317017,\n",
       "  0.9038580060005188,\n",
       "  1.000616192817688,\n",
       "  1.0873932838439941,\n",
       "  0.7952856421470642,\n",
       "  0.8591611385345459,\n",
       "  0.9258341789245605,\n",
       "  0.8886300921440125,\n",
       "  0.7224701046943665,\n",
       "  0.9916195869445801,\n",
       "  1.0859907865524292,\n",
       "  0.8837263584136963,\n",
       "  0.8773280382156372,\n",
       "  0.9471712708473206,\n",
       "  0.853667140007019,\n",
       "  0.9167500138282776],\n",
       " [0.8590935881321247,\n",
       "  0.9125232375585116,\n",
       "  0.9114291897186866,\n",
       "  0.9116574892630944,\n",
       "  0.9008161929937509,\n",
       "  0.9207715483812186,\n",
       "  0.8951875200638404,\n",
       "  0.9293975188181951,\n",
       "  0.878430398610922,\n",
       "  0.8988730999139639,\n",
       "  0.9261699869082525,\n",
       "  0.9002531124995306,\n",
       "  0.8953193105184115,\n",
       "  0.9115606133754437,\n",
       "  0.944074117220365,\n",
       "  0.900395888548631,\n",
       "  0.9546839869939364,\n",
       "  0.8921659726362962,\n",
       "  0.9088934063911438,\n",
       "  0.8793785663751456,\n",
       "  0.9397881993880639,\n",
       "  0.8805912366280189,\n",
       "  0.9308747970140897,\n",
       "  0.8964190162145175,\n",
       "  0.9152806126154386,\n",
       "  0.9137656413591825,\n",
       "  0.9038863182067871,\n",
       "  0.890270499082712,\n",
       "  0.919836727472452,\n",
       "  0.9145172009101281,\n",
       "  0.8806244410001315,\n",
       "  0.8761026171537546,\n",
       "  0.9196537137031555,\n",
       "  0.9010233924939082,\n",
       "  0.9176968061006986,\n",
       "  0.9162640846692599,\n",
       "  0.8903991671708914,\n",
       "  0.881301746918605,\n",
       "  0.8851323173596308,\n",
       "  0.9178417325019836,\n",
       "  0.9480919104356033,\n",
       "  0.8730246929021982,\n",
       "  0.8479281663894653,\n",
       "  0.9332716969343332,\n",
       "  0.9202707088910617,\n",
       "  0.9016995980189397,\n",
       "  0.8921832121335543,\n",
       "  0.9265667383487408,\n",
       "  0.9566212709133441,\n",
       "  0.89055518920605,\n",
       "  0.8965988846925589,\n",
       "  0.9087495941382188,\n",
       "  0.9327380244548504,\n",
       "  0.8605788258405832,\n",
       "  0.8987482419380775,\n",
       "  0.9466753464478713,\n",
       "  0.9163939723601708,\n",
       "  0.8986353965905997,\n",
       "  0.9271252017754775,\n",
       "  0.9103867411613464],\n",
       " [0.9266708493232727,\n",
       "  0.9159302115440369,\n",
       "  0.8426771759986877,\n",
       "  0.9235178232192993,\n",
       "  0.783642590045929,\n",
       "  0.8904570937156677,\n",
       "  0.9947877526283264,\n",
       "  0.8372794985771179,\n",
       "  0.9724736213684082,\n",
       "  0.7141973376274109,\n",
       "  1.006767749786377,\n",
       "  0.7292497754096985,\n",
       "  1.077813744544983,\n",
       "  0.9184027910232544,\n",
       "  0.9699287414550781,\n",
       "  0.9056293964385986,\n",
       "  0.881472647190094,\n",
       "  0.8339338898658752,\n",
       "  0.9079609513282776,\n",
       "  0.9626690745353699,\n",
       "  0.8582107424736023,\n",
       "  0.9231088757514954,\n",
       "  0.8726634979248047,\n",
       "  0.8417589664459229,\n",
       "  0.8664215207099915,\n",
       "  0.8890451788902283,\n",
       "  0.9792768359184265,\n",
       "  0.9129800200462341,\n",
       "  0.966023862361908,\n",
       "  0.8556196093559265,\n",
       "  1.0301321744918823,\n",
       "  0.9263182282447815,\n",
       "  0.9317131042480469,\n",
       "  0.6870878338813782,\n",
       "  0.9605697989463806,\n",
       "  0.7317491769790649,\n",
       "  1.0429844856262207,\n",
       "  0.8184836506843567,\n",
       "  0.7636832594871521,\n",
       "  0.791465163230896,\n",
       "  0.9218690395355225,\n",
       "  0.9197319149971008,\n",
       "  0.8198028206825256,\n",
       "  0.7881115078926086,\n",
       "  0.9363459348678589,\n",
       "  0.7377763390541077,\n",
       "  0.8970206379890442,\n",
       "  0.7669661641120911,\n",
       "  0.8125383853912354,\n",
       "  1.0249364376068115,\n",
       "  0.9626413583755493,\n",
       "  0.8296735286712646,\n",
       "  0.8795276880264282,\n",
       "  0.8935611248016357,\n",
       "  1.1400011777877808,\n",
       "  0.8592796325683594,\n",
       "  0.8754112720489502,\n",
       "  0.9253159761428833,\n",
       "  0.9508389830589294,\n",
       "  0.9394921660423279,\n",
       "  0.8790823221206665,\n",
       "  1.1142902374267578,\n",
       "  0.966721773147583,\n",
       "  0.9493517875671387,\n",
       "  0.8093810677528381,\n",
       "  0.8668173551559448,\n",
       "  1.0192408561706543,\n",
       "  0.937027633190155,\n",
       "  0.8809390664100647,\n",
       "  0.9838324785232544,\n",
       "  1.0045689344406128,\n",
       "  0.9601407051086426,\n",
       "  0.7377080917358398,\n",
       "  1.001664161682129,\n",
       "  1.0101326704025269,\n",
       "  1.0328423976898193,\n",
       "  0.8219642043113708,\n",
       "  0.9675388336181641,\n",
       "  1.0225317478179932,\n",
       "  0.8616856932640076,\n",
       "  0.9894837737083435,\n",
       "  0.8519779443740845,\n",
       "  0.9804927706718445,\n",
       "  0.9735502600669861,\n",
       "  0.9942625761032104,\n",
       "  0.9613959193229675,\n",
       "  0.9003964066505432,\n",
       "  0.8241392970085144,\n",
       "  0.9259244203567505,\n",
       "  0.8855863809585571,\n",
       "  0.8747180700302124,\n",
       "  0.924632728099823,\n",
       "  0.8037095665931702,\n",
       "  0.7404793500900269,\n",
       "  0.9824648499488831,\n",
       "  0.8225587606430054,\n",
       "  0.9511540532112122,\n",
       "  0.9274071455001831,\n",
       "  0.9823155403137207,\n",
       "  0.9495327472686768,\n",
       "  0.9590076804161072,\n",
       "  0.959385335445404,\n",
       "  0.8436664938926697,\n",
       "  0.8530607223510742,\n",
       "  0.8595467805862427,\n",
       "  0.9011589288711548,\n",
       "  0.8409726619720459,\n",
       "  0.9965459108352661,\n",
       "  1.0465296506881714,\n",
       "  0.8496237993240356,\n",
       "  1.1132326126098633,\n",
       "  0.9724648594856262,\n",
       "  0.9333343505859375,\n",
       "  0.8506647944450378,\n",
       "  0.9669867753982544,\n",
       "  0.93593829870224,\n",
       "  0.7597957253456116,\n",
       "  0.8810307383537292,\n",
       "  0.9119967222213745,\n",
       "  0.7693360447883606,\n",
       "  0.9940454959869385,\n",
       "  0.7613142728805542,\n",
       "  0.9011623859405518,\n",
       "  0.878504753112793,\n",
       "  0.9125667810440063,\n",
       "  0.9098833799362183,\n",
       "  1.00580894947052,\n",
       "  0.9968209266662598,\n",
       "  0.9436354041099548,\n",
       "  0.8929653763771057,\n",
       "  0.9258023500442505,\n",
       "  1.000167965888977,\n",
       "  0.9351126551628113,\n",
       "  1.060372233390808,\n",
       "  0.9099919199943542,\n",
       "  0.8333508372306824,\n",
       "  0.8705434799194336,\n",
       "  1.0693460702896118,\n",
       "  0.9659523367881775,\n",
       "  0.9725705981254578,\n",
       "  0.9185976982116699,\n",
       "  0.7005331516265869,\n",
       "  0.7820411920547485,\n",
       "  0.926830530166626,\n",
       "  0.9265018701553345,\n",
       "  1.0048587322235107,\n",
       "  0.8154152631759644,\n",
       "  0.8826225399971008,\n",
       "  1.02693772315979,\n",
       "  1.0450369119644165,\n",
       "  1.0788263082504272,\n",
       "  0.791236162185669,\n",
       "  1.0228352546691895,\n",
       "  0.9727162718772888,\n",
       "  0.9285103678703308,\n",
       "  0.9009175896644592,\n",
       "  0.8598009943962097,\n",
       "  0.8852691650390625,\n",
       "  0.9833270311355591,\n",
       "  0.8328179717063904,\n",
       "  0.8101039528846741,\n",
       "  0.9623903036117554,\n",
       "  0.9056050777435303,\n",
       "  1.0356650352478027,\n",
       "  0.7941173911094666,\n",
       "  0.9518438577651978,\n",
       "  0.8373972177505493,\n",
       "  0.9093639850616455,\n",
       "  0.819634199142456,\n",
       "  0.882721483707428,\n",
       "  0.8485552072525024,\n",
       "  0.8650801181793213,\n",
       "  0.9803959131240845,\n",
       "  0.9577808380126953,\n",
       "  0.8647916913032532,\n",
       "  0.8865010738372803,\n",
       "  0.9755148887634277,\n",
       "  1.076296091079712,\n",
       "  0.8424412608146667,\n",
       "  0.8218883872032166,\n",
       "  0.8885976076126099,\n",
       "  0.9373247027397156,\n",
       "  0.7479801774024963,\n",
       "  0.8665868043899536,\n",
       "  0.9464210867881775,\n",
       "  0.9060754776000977,\n",
       "  0.9455196857452393,\n",
       "  0.9704118371009827,\n",
       "  0.8130460381507874,\n",
       "  0.9409132599830627,\n",
       "  0.887794017791748,\n",
       "  1.0058317184448242,\n",
       "  0.9643377065658569,\n",
       "  0.9008480906486511,\n",
       "  0.9659691452980042,\n",
       "  0.9393227100372314,\n",
       "  1.0026211738586426,\n",
       "  0.7654322385787964,\n",
       "  0.9358074069023132,\n",
       "  0.9182710647583008,\n",
       "  0.8811642527580261,\n",
       "  0.8627515435218811,\n",
       "  1.0916284322738647,\n",
       "  0.8090970516204834,\n",
       "  0.953494668006897,\n",
       "  0.9441455006599426,\n",
       "  0.8873693346977234,\n",
       "  1.0392100811004639,\n",
       "  0.953648567199707,\n",
       "  0.8316202163696289,\n",
       "  0.854760468006134,\n",
       "  0.8482282757759094,\n",
       "  0.8076914548873901,\n",
       "  0.8487949967384338,\n",
       "  0.8583794236183167,\n",
       "  1.0035910606384277,\n",
       "  0.8927937746047974,\n",
       "  0.9932221174240112,\n",
       "  0.8370693922042847,\n",
       "  1.009501338005066,\n",
       "  0.7651141881942749,\n",
       "  0.868513286113739,\n",
       "  0.8971616625785828,\n",
       "  0.8587210178375244,\n",
       "  0.825728714466095,\n",
       "  0.8896334171295166,\n",
       "  0.8905940651893616,\n",
       "  1.0306918621063232,\n",
       "  0.7844210267066956,\n",
       "  0.9784670472145081,\n",
       "  0.9062299728393555,\n",
       "  0.9784460067749023,\n",
       "  0.845661461353302,\n",
       "  0.7532832622528076,\n",
       "  0.954863429069519,\n",
       "  0.9792266488075256,\n",
       "  0.8689284324645996,\n",
       "  0.8332539200782776,\n",
       "  0.8864989280700684,\n",
       "  0.9904473423957825,\n",
       "  0.9687544107437134,\n",
       "  0.8999322056770325,\n",
       "  0.900444507598877,\n",
       "  0.9987673163414001,\n",
       "  0.8064592480659485,\n",
       "  0.9692837595939636,\n",
       "  0.7720630764961243,\n",
       "  0.806142270565033,\n",
       "  0.9942290186882019,\n",
       "  0.9264114499092102,\n",
       "  0.9014299511909485,\n",
       "  0.881523847579956,\n",
       "  0.8713794350624084,\n",
       "  0.8507371544837952,\n",
       "  0.7861440777778625,\n",
       "  0.9512253999710083,\n",
       "  1.156966209411621,\n",
       "  1.0555949211120605,\n",
       "  0.9059190154075623,\n",
       "  0.9748531579971313,\n",
       "  0.7607207894325256,\n",
       "  0.9085082411766052,\n",
       "  0.8440349102020264,\n",
       "  0.8287147283554077,\n",
       "  0.8948546648025513,\n",
       "  1.0095338821411133,\n",
       "  0.8513741493225098,\n",
       "  1.0058140754699707,\n",
       "  0.9575508832931519,\n",
       "  0.9662953615188599,\n",
       "  0.9388168454170227,\n",
       "  1.0407733917236328,\n",
       "  0.8074382543563843,\n",
       "  0.8589155077934265,\n",
       "  1.041973352432251,\n",
       "  0.9484771490097046,\n",
       "  0.7736781239509583,\n",
       "  0.920889139175415,\n",
       "  0.6091280579566956,\n",
       "  0.9833588004112244,\n",
       "  1.0395323038101196,\n",
       "  0.7930927872657776,\n",
       "  1.037277340888977,\n",
       "  0.7723473906517029,\n",
       "  0.8102037310600281,\n",
       "  0.9618558883666992,\n",
       "  0.937126100063324,\n",
       "  0.9091978669166565,\n",
       "  0.8022516369819641,\n",
       "  0.7845156788825989,\n",
       "  0.9109286665916443,\n",
       "  0.8494065403938293,\n",
       "  0.9355512857437134,\n",
       "  0.9919693470001221,\n",
       "  0.8156518936157227,\n",
       "  0.9292349815368652,\n",
       "  0.9205580353736877,\n",
       "  1.0497971773147583,\n",
       "  0.9217588901519775,\n",
       "  0.8834123015403748,\n",
       "  0.8778167963027954,\n",
       "  0.8373150825500488,\n",
       "  0.994315505027771,\n",
       "  0.9862030148506165,\n",
       "  0.8991145491600037,\n",
       "  0.9655203223228455,\n",
       "  0.9702868461608887,\n",
       "  0.9784864783287048,\n",
       "  0.9728113412857056,\n",
       "  0.8766795992851257,\n",
       "  0.8273706436157227,\n",
       "  0.8001329898834229,\n",
       "  0.9073583483695984,\n",
       "  0.9961504340171814,\n",
       "  0.8582422137260437,\n",
       "  0.9422098398208618,\n",
       "  0.8427327871322632,\n",
       "  0.8032314777374268,\n",
       "  0.8979867100715637,\n",
       "  0.8131826519966125,\n",
       "  0.9046419858932495,\n",
       "  0.7894483208656311,\n",
       "  0.8536815643310547,\n",
       "  0.9417954683303833,\n",
       "  0.8610210418701172,\n",
       "  0.88728266954422,\n",
       "  0.8377110958099365,\n",
       "  0.9244425296783447,\n",
       "  0.8911588191986084,\n",
       "  0.8755804300308228,\n",
       "  0.8216878175735474,\n",
       "  1.006103277206421,\n",
       "  0.9477554559707642,\n",
       "  1.0027382373809814,\n",
       "  0.9263694286346436,\n",
       "  0.9088153839111328,\n",
       "  1.0010141134262085,\n",
       "  0.8715142607688904,\n",
       "  1.1105746030807495,\n",
       "  0.8519042730331421,\n",
       "  0.9651621580123901,\n",
       "  0.9053847789764404,\n",
       "  0.9806357026100159,\n",
       "  0.9241973757743835,\n",
       "  0.8440982103347778,\n",
       "  0.8084198832511902,\n",
       "  0.9328299760818481,\n",
       "  0.830298900604248,\n",
       "  1.0103092193603516,\n",
       "  0.8498802781105042,\n",
       "  0.9328603148460388,\n",
       "  0.9330315589904785,\n",
       "  1.0262303352355957,\n",
       "  0.9047145247459412,\n",
       "  0.8265302181243896,\n",
       "  0.857740044593811,\n",
       "  0.8010317087173462,\n",
       "  0.8759027123451233,\n",
       "  0.8932626843452454,\n",
       "  0.8534486889839172,\n",
       "  0.9479157328605652,\n",
       "  0.862520158290863,\n",
       "  0.8958157896995544,\n",
       "  0.9740285277366638,\n",
       "  0.8914008736610413,\n",
       "  0.9652342200279236,\n",
       "  0.8135510683059692,\n",
       "  1.024239182472229,\n",
       "  0.9631620049476624,\n",
       "  0.7083511352539062,\n",
       "  1.0661818981170654,\n",
       "  1.0463895797729492,\n",
       "  0.8437882661819458,\n",
       "  0.8337842226028442,\n",
       "  0.9830050468444824,\n",
       "  0.8146926760673523,\n",
       "  0.8780041337013245,\n",
       "  0.9474604725837708,\n",
       "  0.7972591519355774,\n",
       "  0.985933780670166,\n",
       "  0.8530853390693665,\n",
       "  0.7815601229667664,\n",
       "  0.8435899019241333,\n",
       "  0.9997943043708801,\n",
       "  0.9449005126953125,\n",
       "  0.8890145421028137,\n",
       "  0.9727055430412292,\n",
       "  0.9064131379127502,\n",
       "  0.9221637845039368,\n",
       "  0.8761323690414429,\n",
       "  1.008240818977356,\n",
       "  0.9190249443054199,\n",
       "  0.8459831476211548,\n",
       "  0.8615610599517822,\n",
       "  0.9810183048248291,\n",
       "  0.8492804169654846,\n",
       "  0.9702262282371521,\n",
       "  0.984210729598999,\n",
       "  1.1054189205169678,\n",
       "  0.8287743330001831,\n",
       "  1.0903130769729614,\n",
       "  0.8254847526550293,\n",
       "  1.0601922273635864,\n",
       "  0.8289415836334229,\n",
       "  0.875281035900116,\n",
       "  0.9394535422325134,\n",
       "  0.9938804507255554,\n",
       "  0.7644025087356567,\n",
       "  0.918473482131958,\n",
       "  1.12950599193573,\n",
       "  1.054062843322754,\n",
       "  0.9024896621704102,\n",
       "  0.6980901956558228,\n",
       "  0.9702339768409729,\n",
       "  0.8457911610603333,\n",
       "  0.9418107867240906,\n",
       "  0.9203124046325684,\n",
       "  0.885823667049408,\n",
       "  0.8241544961929321,\n",
       "  0.8729172945022583,\n",
       "  0.8816015720367432,\n",
       "  0.7965415716171265,\n",
       "  0.8302943706512451,\n",
       "  0.874643862247467,\n",
       "  0.9941300749778748,\n",
       "  0.9351034164428711,\n",
       "  0.9627509713172913,\n",
       "  0.8622952103614807,\n",
       "  0.8848663568496704,\n",
       "  0.880550742149353,\n",
       "  0.8581377863883972,\n",
       "  0.9103979468345642,\n",
       "  0.9388881921768188,\n",
       "  0.84505295753479,\n",
       "  1.0389574766159058,\n",
       "  0.8370481729507446,\n",
       "  0.852465033531189,\n",
       "  0.9921813011169434,\n",
       "  0.9116365909576416,\n",
       "  1.0127838850021362,\n",
       "  0.9482913017272949,\n",
       "  0.8728128671646118,\n",
       "  0.9308048486709595,\n",
       "  0.9546576142311096,\n",
       "  0.8579571843147278,\n",
       "  0.9949806332588196,\n",
       "  0.9197790026664734,\n",
       "  0.8270369172096252,\n",
       "  0.8763818144798279,\n",
       "  0.897426426410675,\n",
       "  0.9272782802581787,\n",
       "  0.9622822403907776,\n",
       "  0.8435990214347839,\n",
       "  0.9523833394050598,\n",
       "  0.8408958911895752,\n",
       "  0.9205974340438843,\n",
       "  0.8134666085243225,\n",
       "  0.894586443901062,\n",
       "  0.7340460419654846,\n",
       "  0.9368868470191956,\n",
       "  0.8960874676704407,\n",
       "  0.8338127136230469,\n",
       "  0.8282309770584106,\n",
       "  0.8485084176063538,\n",
       "  0.9183412194252014,\n",
       "  0.8859637975692749,\n",
       "  0.8822427988052368,\n",
       "  0.9740960597991943,\n",
       "  0.8504635095596313,\n",
       "  1.0034023523330688,\n",
       "  0.8370755910873413,\n",
       "  0.9666475653648376,\n",
       "  0.8740317225456238,\n",
       "  0.7751302719116211,\n",
       "  0.8343522548675537,\n",
       "  0.9381597638130188,\n",
       "  1.0411744117736816,\n",
       "  1.0291361808776855,\n",
       "  0.8752415776252747,\n",
       "  1.010867714881897,\n",
       "  0.8551376461982727,\n",
       "  0.8869450092315674,\n",
       "  0.9643552899360657,\n",
       "  0.8474138975143433,\n",
       "  1.0686955451965332,\n",
       "  0.7472448945045471,\n",
       "  0.9927532076835632,\n",
       "  0.8980116844177246,\n",
       "  0.9753915667533875,\n",
       "  0.9884294867515564,\n",
       "  1.0276657342910767,\n",
       "  1.0115458965301514,\n",
       "  0.8513393402099609,\n",
       "  0.8756058216094971,\n",
       "  0.8237029910087585,\n",
       "  0.7238415479660034,\n",
       "  0.9545758962631226,\n",
       "  0.9270458221435547,\n",
       "  1.0046794414520264,\n",
       "  0.8225756287574768,\n",
       "  0.8754032850265503,\n",
       "  0.8750411868095398,\n",
       "  0.857219398021698,\n",
       "  0.8777987360954285,\n",
       "  0.8777397871017456,\n",
       "  0.9837688207626343,\n",
       "  0.7877458333969116,\n",
       "  0.8438716530799866,\n",
       "  1.0086843967437744,\n",
       "  0.8914886116981506,\n",
       "  0.9086753726005554,\n",
       "  0.7606660723686218,\n",
       "  0.6239981055259705,\n",
       "  1.01614248752594,\n",
       "  0.9343533515930176,\n",
       "  0.8590683341026306,\n",
       "  0.8266735672950745,\n",
       "  0.9059323668479919,\n",
       "  0.7276914715766907,\n",
       "  1.114288568496704,\n",
       "  0.7939460277557373,\n",
       "  0.8586409687995911,\n",
       "  0.8905941247940063,\n",
       "  0.8991400003433228,\n",
       "  1.0059919357299805,\n",
       "  0.9893029928207397,\n",
       "  0.8879656791687012,\n",
       "  0.8091186285018921,\n",
       "  0.755524754524231,\n",
       "  0.9736210703849792,\n",
       "  0.6334949731826782,\n",
       "  1.139481544494629,\n",
       "  1.1127996444702148,\n",
       "  0.9667648077011108,\n",
       "  1.0777534246444702,\n",
       "  0.9562095403671265,\n",
       "  0.992840051651001,\n",
       "  0.7847201228141785,\n",
       "  0.8722591996192932,\n",
       "  0.8346979022026062,\n",
       "  0.9106079339981079,\n",
       "  0.8717564940452576,\n",
       "  0.9306955933570862,\n",
       "  0.8390508890151978,\n",
       "  1.0320852994918823,\n",
       "  0.86422199010849,\n",
       "  0.9920738935470581,\n",
       "  0.9505586624145508,\n",
       "  0.9829535484313965,\n",
       "  0.914688229560852,\n",
       "  0.9421225190162659,\n",
       "  1.0768427848815918,\n",
       "  0.794865608215332,\n",
       "  0.9693201780319214,\n",
       "  1.0399372577667236,\n",
       "  1.01583993434906,\n",
       "  1.040148377418518,\n",
       "  0.9488300085067749,\n",
       "  0.725374162197113,\n",
       "  0.9566755890846252,\n",
       "  0.6684264540672302,\n",
       "  0.9331558346748352,\n",
       "  0.9289971590042114,\n",
       "  0.9169610142707825,\n",
       "  0.8271444439888,\n",
       "  0.7813689112663269,\n",
       "  0.9027701020240784,\n",
       "  0.7851470708847046,\n",
       "  0.9107914566993713,\n",
       "  0.7491375207901001,\n",
       "  0.7803619503974915,\n",
       "  0.8329523205757141,\n",
       "  0.9427759051322937,\n",
       "  0.9224106669425964,\n",
       "  0.9626250267028809,\n",
       "  0.8452135324478149,\n",
       "  0.9469980001449585,\n",
       "  0.9643768072128296,\n",
       "  0.8936021327972412,\n",
       "  0.8323748111724854,\n",
       "  0.8998351693153381,\n",
       "  0.9045779705047607,\n",
       "  0.7917452454566956,\n",
       "  0.895541250705719,\n",
       "  1.1370651721954346,\n",
       "  0.9425320029258728,\n",
       "  0.8464474081993103,\n",
       "  0.9222784638404846,\n",
       "  0.9481298923492432,\n",
       "  0.835206151008606,\n",
       "  1.0269737243652344,\n",
       "  0.9064751863479614,\n",
       "  0.9486981630325317,\n",
       "  0.8854854106903076,\n",
       "  0.9131628274917603,\n",
       "  0.7562222480773926,\n",
       "  0.845935583114624,\n",
       "  0.885420560836792,\n",
       "  0.8550769686698914,\n",
       "  0.9360882639884949,\n",
       "  0.7362496256828308,\n",
       "  0.8524227738380432,\n",
       "  0.8521458506584167,\n",
       "  0.8199659585952759,\n",
       "  0.7976614236831665,\n",
       "  0.8271369934082031,\n",
       "  1.0786648988723755,\n",
       "  0.9788863062858582,\n",
       "  0.8150482177734375,\n",
       "  0.835021436214447,\n",
       "  0.9367811679840088,\n",
       "  0.9172303676605225,\n",
       "  0.9056203961372375,\n",
       "  0.8101199865341187,\n",
       "  1.004642367362976,\n",
       "  0.9098531603813171,\n",
       "  0.804344117641449,\n",
       "  0.9000544548034668,\n",
       "  0.893893837928772,\n",
       "  0.9149045944213867,\n",
       "  0.867707371711731,\n",
       "  0.902672529220581,\n",
       "  0.8265865445137024,\n",
       "  0.8615608811378479,\n",
       "  0.9062007665634155,\n",
       "  0.8796670436859131,\n",
       "  0.8976817727088928,\n",
       "  0.8820708990097046,\n",
       "  1.0140068531036377,\n",
       "  0.8421830534934998,\n",
       "  0.902065634727478,\n",
       "  0.9748032689094543,\n",
       "  1.020803451538086,\n",
       "  0.8668038249015808,\n",
       "  0.8888937830924988,\n",
       "  1.0758466720581055,\n",
       "  1.0609471797943115,\n",
       "  0.7643119096755981,\n",
       "  1.0146197080612183,\n",
       "  0.8857958316802979,\n",
       "  0.9594755172729492,\n",
       "  1.0222491025924683,\n",
       "  1.0192070007324219,\n",
       "  0.9982621669769287,\n",
       "  1.1592084169387817,\n",
       "  0.8018825054168701,\n",
       "  0.808356523513794,\n",
       "  0.8979831337928772,\n",
       "  0.8825918436050415,\n",
       "  0.9634385704994202,\n",
       "  1.1193244457244873,\n",
       "  1.0361965894699097,\n",
       "  1.045421838760376,\n",
       "  1.1469295024871826,\n",
       "  0.9004085659980774,\n",
       "  0.7888209223747253,\n",
       "  0.9053912162780762,\n",
       "  0.781024694442749,\n",
       "  0.9162666201591492,\n",
       "  0.8029922246932983,\n",
       "  1.0493195056915283,\n",
       "  0.9927191138267517,\n",
       "  0.9669243097305298,\n",
       "  1.0215175151824951,\n",
       "  0.8368619680404663,\n",
       "  0.8815088868141174,\n",
       "  0.7407091856002808,\n",
       "  0.8572118878364563,\n",
       "  0.9532656073570251,\n",
       "  1.0002809762954712,\n",
       "  0.9861516952514648,\n",
       "  0.8093573451042175,\n",
       "  1.0425465106964111,\n",
       "  0.9273028373718262,\n",
       "  0.8139449954032898,\n",
       "  0.8161755204200745,\n",
       "  0.8364097476005554,\n",
       "  0.890778124332428,\n",
       "  0.9598890542984009,\n",
       "  0.8515225648880005,\n",
       "  0.8999934196472168,\n",
       "  0.766387403011322,\n",
       "  1.0354188680648804,\n",
       "  0.9209873676300049,\n",
       "  0.9960693717002869,\n",
       "  0.9042960405349731,\n",
       "  0.8593189716339111,\n",
       "  1.0583337545394897,\n",
       "  0.8298079967498779,\n",
       "  0.9554620981216431,\n",
       "  0.9066371917724609,\n",
       "  0.9346524477005005,\n",
       "  1.0157949924468994,\n",
       "  1.1380503177642822,\n",
       "  1.029382348060608,\n",
       "  1.0220482349395752,\n",
       "  0.941741406917572,\n",
       "  0.9327250719070435,\n",
       "  0.7459582090377808,\n",
       "  0.8873077034950256,\n",
       "  0.7098854780197144,\n",
       "  1.127962589263916,\n",
       "  0.925500750541687,\n",
       "  0.8957303166389465,\n",
       "  0.8920800685882568,\n",
       "  1.0148876905441284,\n",
       "  0.8167390823364258,\n",
       "  0.927394449710846,\n",
       "  0.8697240352630615,\n",
       "  0.9308461546897888,\n",
       "  0.8259939551353455,\n",
       "  0.9774267673492432,\n",
       "  0.9522661566734314,\n",
       "  0.8881223201751709,\n",
       "  1.0004112720489502,\n",
       "  0.958375096321106,\n",
       "  1.0222432613372803,\n",
       "  0.8766125440597534,\n",
       "  0.9182515144348145,\n",
       "  0.8404911756515503,\n",
       "  0.6863883137702942,\n",
       "  0.8438742160797119,\n",
       "  0.9616347551345825,\n",
       "  0.8781291842460632,\n",
       "  1.0227223634719849,\n",
       "  0.7680308818817139,\n",
       "  0.9548807740211487,\n",
       "  1.0065417289733887,\n",
       "  0.9118545651435852,\n",
       "  1.0169748067855835,\n",
       "  1.0616878271102905,\n",
       "  0.8643113374710083,\n",
       "  1.0374268293380737,\n",
       "  0.9806044101715088,\n",
       "  0.9053940773010254,\n",
       "  0.9266231060028076,\n",
       "  0.9975382089614868,\n",
       "  1.1019455194473267,\n",
       "  0.889124870300293,\n",
       "  0.8904501795768738,\n",
       "  0.9415991306304932,\n",
       "  0.9267055988311768,\n",
       "  0.9283607006072998,\n",
       "  0.9086854457855225,\n",
       "  0.8882123827934265,\n",
       "  0.9171410202980042,\n",
       "  0.9451918005943298,\n",
       "  0.8622845411300659,\n",
       "  0.8306514620780945,\n",
       "  1.0259637832641602,\n",
       "  0.8069095611572266,\n",
       "  0.8611571788787842,\n",
       "  0.9648017287254333,\n",
       "  0.9462743997573853,\n",
       "  1.0052688121795654,\n",
       "  1.1024919748306274,\n",
       "  0.861833930015564,\n",
       "  0.8234106302261353,\n",
       "  0.959693968296051,\n",
       "  0.8177555203437805,\n",
       "  0.8638784885406494,\n",
       "  0.7942364811897278,\n",
       "  0.850490152835846,\n",
       "  0.8384103178977966,\n",
       "  0.8269060850143433,\n",
       "  0.9230793714523315,\n",
       "  1.1482136249542236,\n",
       "  0.9275302290916443,\n",
       "  0.9714711308479309,\n",
       "  0.9841446876525879,\n",
       "  0.7575929164886475,\n",
       "  0.9044389724731445,\n",
       "  0.8942145705223083,\n",
       "  0.8715907335281372,\n",
       "  0.7092618346214294,\n",
       "  0.8591921329498291,\n",
       "  0.6380232572555542,\n",
       "  0.8666982650756836,\n",
       "  0.906654417514801,\n",
       "  0.9655484557151794],\n",
       " [0.8934973249068627,\n",
       "  0.8947081749255841,\n",
       "  0.8928170800209045,\n",
       "  0.8622214794158936,\n",
       "  0.9370965544994061,\n",
       "  0.9403397991107061,\n",
       "  0.926626558487232,\n",
       "  0.8999519210595351,\n",
       "  0.9251380883730375,\n",
       "  0.9045439408375666,\n",
       "  0.9187986529790438,\n",
       "  0.947941963489239,\n",
       "  0.8913335525072538,\n",
       "  0.9098376356638395,\n",
       "  0.9124411573776832,\n",
       "  0.9254088814441974,\n",
       "  0.8849550210512601,\n",
       "  0.885196369427901,\n",
       "  0.9099171711848333,\n",
       "  0.9278889160889846,\n",
       "  0.9088023213239816,\n",
       "  0.8885176594440753,\n",
       "  0.9044575461974511,\n",
       "  0.9130358054087713,\n",
       "  0.8778217572432297,\n",
       "  0.915551809164194,\n",
       "  0.9189658210827754,\n",
       "  0.8963209757438073,\n",
       "  0.9101372544582074,\n",
       "  0.9015394586783189,\n",
       "  0.9484406893069928,\n",
       "  0.912493632389949,\n",
       "  0.8865719437599182,\n",
       "  0.9153234041654147,\n",
       "  0.9065740933785071,\n",
       "  0.8743743713085468,\n",
       "  0.9146785048338083,\n",
       "  0.9334921057407672,\n",
       "  0.8762414134465731,\n",
       "  0.8785795661119314,\n",
       "  0.9038171034592849,\n",
       "  0.9179740960781391,\n",
       "  0.9533503972567045,\n",
       "  0.8441453713637131,\n",
       "  0.9183955146716192,\n",
       "  0.8971513555600092,\n",
       "  0.8708576835118808,\n",
       "  0.8860915853427007,\n",
       "  0.9393826310451214,\n",
       "  0.936721710058359,\n",
       "  0.9578261192028339,\n",
       "  0.8989873024133536,\n",
       "  0.9084009757408729,\n",
       "  0.9498160068805401,\n",
       "  0.916701770745791,\n",
       "  0.9029366007217994,\n",
       "  0.9635026821723351,\n",
       "  0.9086415079923776,\n",
       "  0.9088976429058955,\n",
       "  0.8658739695182214])"
      ]
     },
     "execution_count": 20,
     "metadata": {},
     "output_type": "execute_result"
    }
   ],
   "source": [
    "test_train_teaher(teacher_student.teacher, feature_extractor, train_loader, device, torch_optimizer.Apollo(\n",
    "    teacher_student.teacher.parameters(),\n",
    "    lr= 1e-2,\n",
    "    beta=0.9,\n",
    "    eps=1e-4,\n",
    "    warmup=0,\n",
    "    init_lr=0.01,\n",
    "    weight_decay=0,\n",
    "), 60, 'Apollo')"
   ]
  },
  {
   "cell_type": "code",
   "execution_count": 20,
   "id": "0f4052bb-9e50-41c4-af74-618e3613b1e9",
   "metadata": {
    "scrolled": true
   },
   "outputs": [
    {
     "name": "stderr",
     "output_type": "stream",
     "text": [
      "Teacher training 1/60:   0%|                                                                 | 0/13 [00:00<?, ?batch/s]C:\\Users\\Danila\\anaconda3\\Lib\\site-packages\\torch\\autograd\\__init__.py:266: UserWarning: Using backward() with create_graph=True will create a reference cycle between the parameter and its gradient which can cause a memory leak. We recommend using autograd.grad when creating the graph to avoid this. If you have to use this function, make sure to reset the .grad fields of your parameters to None after use to break the cycle and avoid the leak. (Triggered internally at ..\\torch\\csrc\\autograd\\engine.cpp:1182.)\n",
      "  Variable._execution_engine.run_backward(  # Calls into the C++ engine to run the backward pass\n",
      "Teacher training 1/60: 100%|████████████████████████████████████████████████████████| 13/13 [00:14<00:00,  1.12s/batch]\n"
     ]
    },
    {
     "name": "stdout",
     "output_type": "stream",
     "text": [
      "Epoch 0, Loss: 0.8722181824537424\n",
      "0.2\n",
      "0.16000000000000003\n",
      "Saved checkpoint as: teacher_cpt_epoch0.pth.tar\n"
     ]
    },
    {
     "name": "stderr",
     "output_type": "stream",
     "text": [
      "Teacher training 2/60: 100%|████████████████████████████████████████████████████████| 13/13 [00:12<00:00,  1.01batch/s]\n"
     ]
    },
    {
     "name": "stdout",
     "output_type": "stream",
     "text": [
      "Epoch 1, Loss: 0.9203102542803838\n",
      "0.16000000000000003\n",
      "0.12800000000000003\n",
      "Saved checkpoint as: teacher_cpt_epoch1.pth.tar\n"
     ]
    },
    {
     "name": "stderr",
     "output_type": "stream",
     "text": [
      "Teacher training 3/60: 100%|████████████████████████████████████████████████████████| 13/13 [00:12<00:00,  1.02batch/s]\n"
     ]
    },
    {
     "name": "stdout",
     "output_type": "stream",
     "text": [
      "Epoch 2, Loss: 0.9475965866675744\n",
      "0.12800000000000003\n",
      "0.10240000000000003\n",
      "Saved checkpoint as: teacher_cpt_epoch2.pth.tar\n"
     ]
    },
    {
     "name": "stderr",
     "output_type": "stream",
     "text": [
      "Teacher training 4/60: 100%|████████████████████████████████████████████████████████| 13/13 [00:12<00:00,  1.01batch/s]\n"
     ]
    },
    {
     "name": "stdout",
     "output_type": "stream",
     "text": [
      "Epoch 3, Loss: 0.9014139909010667\n",
      "0.10240000000000003\n",
      "Saved checkpoint as: teacher_cpt_epoch3.pth.tar\n"
     ]
    },
    {
     "name": "stderr",
     "output_type": "stream",
     "text": [
      "Teacher training 5/60: 100%|████████████████████████████████████████████████████████| 13/13 [00:12<00:00,  1.01batch/s]\n"
     ]
    },
    {
     "name": "stdout",
     "output_type": "stream",
     "text": [
      "Epoch 4, Loss: 0.860344648361206\n",
      "0.10240000000000003\n",
      "Saved checkpoint as: teacher_cpt_epoch4.pth.tar\n"
     ]
    },
    {
     "name": "stderr",
     "output_type": "stream",
     "text": [
      "Teacher training 6/60: 100%|████████████████████████████████████████████████████████| 13/13 [00:12<00:00,  1.01batch/s]\n"
     ]
    },
    {
     "name": "stdout",
     "output_type": "stream",
     "text": [
      "Epoch 5, Loss: 0.8886350072347201\n",
      "0.10240000000000003\n",
      "0.08192000000000003\n",
      "Saved checkpoint as: teacher_cpt_epoch5.pth.tar\n"
     ]
    },
    {
     "name": "stderr",
     "output_type": "stream",
     "text": [
      "Teacher training 7/60: 100%|████████████████████████████████████████████████████████| 13/13 [00:13<00:00,  1.02s/batch]\n"
     ]
    },
    {
     "name": "stdout",
     "output_type": "stream",
     "text": [
      "Epoch 6, Loss: 0.8984671189234807\n",
      "0.08192000000000003\n",
      "0.06553600000000002\n",
      "Saved checkpoint as: teacher_cpt_epoch6.pth.tar\n"
     ]
    },
    {
     "name": "stderr",
     "output_type": "stream",
     "text": [
      "Teacher training 8/60: 100%|████████████████████████████████████████████████████████| 13/13 [00:12<00:00,  1.01batch/s]\n"
     ]
    },
    {
     "name": "stdout",
     "output_type": "stream",
     "text": [
      "Epoch 7, Loss: 0.9023835246379559\n",
      "0.06553600000000002\n",
      "0.052428800000000025\n",
      "Saved checkpoint as: teacher_cpt_epoch7.pth.tar\n"
     ]
    },
    {
     "name": "stderr",
     "output_type": "stream",
     "text": [
      "Teacher training 9/60: 100%|████████████████████████████████████████████████████████| 13/13 [00:12<00:00,  1.01batch/s]\n"
     ]
    },
    {
     "name": "stdout",
     "output_type": "stream",
     "text": [
      "Epoch 8, Loss: 0.9373537852213933\n",
      "0.052428800000000025\n",
      "0.04194304000000002\n",
      "Saved checkpoint as: teacher_cpt_epoch8.pth.tar\n"
     ]
    },
    {
     "name": "stderr",
     "output_type": "stream",
     "text": [
      "Teacher training 10/60: 100%|███████████████████████████████████████████████████████| 13/13 [00:12<00:00,  1.01batch/s]\n"
     ]
    },
    {
     "name": "stdout",
     "output_type": "stream",
     "text": [
      "Epoch 9, Loss: 0.900632395194127\n",
      "0.04194304000000002\n",
      "Saved checkpoint as: teacher_cpt_epoch9.pth.tar\n"
     ]
    },
    {
     "name": "stderr",
     "output_type": "stream",
     "text": [
      "Teacher training 11/60: 100%|███████████████████████████████████████████████████████| 13/13 [00:13<00:00,  1.01s/batch]\n"
     ]
    },
    {
     "name": "stdout",
     "output_type": "stream",
     "text": [
      "Epoch 10, Loss: 0.915576499242049\n",
      "0.2\n",
      "0.16000000000000003\n",
      "Saved checkpoint as: teacher_cpt_epoch10.pth.tar\n"
     ]
    },
    {
     "name": "stderr",
     "output_type": "stream",
     "text": [
      "Teacher training 12/60: 100%|███████████████████████████████████████████████████████| 13/13 [00:12<00:00,  1.00batch/s]\n"
     ]
    },
    {
     "name": "stdout",
     "output_type": "stream",
     "text": [
      "Epoch 11, Loss: 0.9329296808976394\n",
      "0.16000000000000003\n",
      "0.12800000000000003\n",
      "Saved checkpoint as: teacher_cpt_epoch11.pth.tar\n"
     ]
    },
    {
     "name": "stderr",
     "output_type": "stream",
     "text": [
      "Teacher training 13/60: 100%|███████████████████████████████████████████████████████| 13/13 [00:12<00:00,  1.01batch/s]\n"
     ]
    },
    {
     "name": "stdout",
     "output_type": "stream",
     "text": [
      "Epoch 12, Loss: 0.8833324313163757\n",
      "0.12800000000000003\n",
      "Saved checkpoint as: teacher_cpt_epoch12.pth.tar\n"
     ]
    },
    {
     "name": "stderr",
     "output_type": "stream",
     "text": [
      "Teacher training 14/60: 100%|███████████████████████████████████████████████████████| 13/13 [00:12<00:00,  1.01batch/s]\n"
     ]
    },
    {
     "name": "stdout",
     "output_type": "stream",
     "text": [
      "Epoch 13, Loss: 0.9240583502329313\n",
      "0.12800000000000003\n",
      "0.10240000000000003\n",
      "Saved checkpoint as: teacher_cpt_epoch13.pth.tar\n"
     ]
    },
    {
     "name": "stderr",
     "output_type": "stream",
     "text": [
      "Teacher training 15/60: 100%|███████████████████████████████████████████████████████| 13/13 [00:12<00:00,  1.01batch/s]\n"
     ]
    },
    {
     "name": "stdout",
     "output_type": "stream",
     "text": [
      "Epoch 14, Loss: 0.9190899271231431\n",
      "0.10240000000000003\n",
      "0.08192000000000003\n",
      "Saved checkpoint as: teacher_cpt_epoch14.pth.tar\n"
     ]
    },
    {
     "name": "stderr",
     "output_type": "stream",
     "text": [
      "Teacher training 16/60: 100%|███████████████████████████████████████████████████████| 13/13 [00:12<00:00,  1.01batch/s]\n"
     ]
    },
    {
     "name": "stdout",
     "output_type": "stream",
     "text": [
      "Epoch 15, Loss: 0.8740561925447904\n",
      "0.08192000000000003\n",
      "Saved checkpoint as: teacher_cpt_epoch15.pth.tar\n"
     ]
    },
    {
     "name": "stderr",
     "output_type": "stream",
     "text": [
      "Teacher training 17/60: 100%|███████████████████████████████████████████████████████| 13/13 [00:12<00:00,  1.02batch/s]\n"
     ]
    },
    {
     "name": "stdout",
     "output_type": "stream",
     "text": [
      "Epoch 16, Loss: 0.9273647665977478\n",
      "0.08192000000000003\n",
      "0.06553600000000002\n",
      "Saved checkpoint as: teacher_cpt_epoch16.pth.tar\n"
     ]
    },
    {
     "name": "stderr",
     "output_type": "stream",
     "text": [
      "Teacher training 18/60: 100%|███████████████████████████████████████████████████████| 13/13 [00:12<00:00,  1.02batch/s]\n"
     ]
    },
    {
     "name": "stdout",
     "output_type": "stream",
     "text": [
      "Epoch 17, Loss: 0.8671501508125892\n",
      "0.06553600000000002\n",
      "Saved checkpoint as: teacher_cpt_epoch17.pth.tar\n"
     ]
    },
    {
     "name": "stderr",
     "output_type": "stream",
     "text": [
      "Teacher training 19/60: 100%|███████████████████████████████████████████████████████| 13/13 [00:12<00:00,  1.01batch/s]\n"
     ]
    },
    {
     "name": "stdout",
     "output_type": "stream",
     "text": [
      "Epoch 18, Loss: 0.8991670608520508\n",
      "0.06553600000000002\n",
      "0.052428800000000025\n",
      "Saved checkpoint as: teacher_cpt_epoch18.pth.tar\n"
     ]
    },
    {
     "name": "stderr",
     "output_type": "stream",
     "text": [
      "Teacher training 20/60: 100%|███████████████████████████████████████████████████████| 13/13 [00:13<00:00,  1.00s/batch]\n"
     ]
    },
    {
     "name": "stdout",
     "output_type": "stream",
     "text": [
      "Epoch 19, Loss: 0.9165366888046265\n",
      "0.052428800000000025\n",
      "0.04194304000000002\n",
      "Saved checkpoint as: teacher_cpt_epoch19.pth.tar\n"
     ]
    },
    {
     "name": "stderr",
     "output_type": "stream",
     "text": [
      "Teacher training 21/60: 100%|███████████████████████████████████████████████████████| 13/13 [00:13<00:00,  1.01s/batch]\n"
     ]
    },
    {
     "name": "stdout",
     "output_type": "stream",
     "text": [
      "Epoch 20, Loss: 0.8842311318104084\n",
      "0.2\n",
      "Saved checkpoint as: teacher_cpt_epoch20.pth.tar\n"
     ]
    },
    {
     "name": "stderr",
     "output_type": "stream",
     "text": [
      "Teacher training 22/60: 100%|███████████████████████████████████████████████████████| 13/13 [00:13<00:00,  1.01s/batch]\n"
     ]
    },
    {
     "name": "stdout",
     "output_type": "stream",
     "text": [
      "Epoch 21, Loss: 0.9181558123001685\n",
      "0.2\n",
      "0.16000000000000003\n",
      "Saved checkpoint as: teacher_cpt_epoch21.pth.tar\n"
     ]
    },
    {
     "name": "stderr",
     "output_type": "stream",
     "text": [
      "Teacher training 23/60: 100%|███████████████████████████████████████████████████████| 13/13 [00:13<00:00,  1.00s/batch]\n"
     ]
    },
    {
     "name": "stdout",
     "output_type": "stream",
     "text": [
      "Epoch 22, Loss: 0.8841778223331158\n",
      "0.16000000000000003\n",
      "Saved checkpoint as: teacher_cpt_epoch22.pth.tar\n"
     ]
    },
    {
     "name": "stderr",
     "output_type": "stream",
     "text": [
      "Teacher training 24/60: 100%|███████████████████████████████████████████████████████| 13/13 [00:13<00:00,  1.01s/batch]\n"
     ]
    },
    {
     "name": "stdout",
     "output_type": "stream",
     "text": [
      "Epoch 23, Loss: 0.8905969766470102\n",
      "0.16000000000000003\n",
      "0.12800000000000003\n",
      "Saved checkpoint as: teacher_cpt_epoch23.pth.tar\n"
     ]
    },
    {
     "name": "stderr",
     "output_type": "stream",
     "text": [
      "Teacher training 25/60: 100%|███████████████████████████████████████████████████████| 13/13 [00:13<00:00,  1.02s/batch]\n"
     ]
    },
    {
     "name": "stdout",
     "output_type": "stream",
     "text": [
      "Epoch 24, Loss: 0.9247675859011136\n",
      "0.12800000000000003\n",
      "0.10240000000000003\n",
      "Saved checkpoint as: teacher_cpt_epoch24.pth.tar\n"
     ]
    },
    {
     "name": "stderr",
     "output_type": "stream",
     "text": [
      "Teacher training 26/60: 100%|███████████████████████████████████████████████████████| 13/13 [00:13<00:00,  1.01s/batch]\n"
     ]
    },
    {
     "name": "stdout",
     "output_type": "stream",
     "text": [
      "Epoch 25, Loss: 0.877985206934122\n",
      "0.10240000000000003\n",
      "Saved checkpoint as: teacher_cpt_epoch25.pth.tar\n"
     ]
    },
    {
     "name": "stderr",
     "output_type": "stream",
     "text": [
      "Teacher training 27/60: 100%|███████████████████████████████████████████████████████| 13/13 [00:12<00:00,  1.00batch/s]\n"
     ]
    },
    {
     "name": "stdout",
     "output_type": "stream",
     "text": [
      "Epoch 26, Loss: 0.8987059547350957\n",
      "0.10240000000000003\n",
      "0.08192000000000003\n",
      "Saved checkpoint as: teacher_cpt_epoch26.pth.tar\n"
     ]
    },
    {
     "name": "stderr",
     "output_type": "stream",
     "text": [
      "Teacher training 28/60: 100%|███████████████████████████████████████████████████████| 13/13 [00:13<00:00,  1.01s/batch]\n"
     ]
    },
    {
     "name": "stdout",
     "output_type": "stream",
     "text": [
      "Epoch 27, Loss: 0.8919721154066232\n",
      "0.08192000000000003\n",
      "0.06553600000000002\n",
      "Saved checkpoint as: teacher_cpt_epoch27.pth.tar\n"
     ]
    },
    {
     "name": "stderr",
     "output_type": "stream",
     "text": [
      "Teacher training 29/60: 100%|███████████████████████████████████████████████████████| 13/13 [00:13<00:00,  1.00s/batch]\n"
     ]
    },
    {
     "name": "stdout",
     "output_type": "stream",
     "text": [
      "Epoch 28, Loss: 0.9042861553338858\n",
      "0.06553600000000002\n",
      "0.052428800000000025\n",
      "Saved checkpoint as: teacher_cpt_epoch28.pth.tar\n"
     ]
    },
    {
     "name": "stderr",
     "output_type": "stream",
     "text": [
      "Teacher training 30/60: 100%|███████████████████████████████████████████████████████| 13/13 [00:12<00:00,  1.00batch/s]\n"
     ]
    },
    {
     "name": "stdout",
     "output_type": "stream",
     "text": [
      "Epoch 29, Loss: 0.9217795546238239\n",
      "0.052428800000000025\n",
      "0.04194304000000002\n",
      "Saved checkpoint as: teacher_cpt_epoch29.pth.tar\n"
     ]
    },
    {
     "name": "stderr",
     "output_type": "stream",
     "text": [
      "Teacher training 31/60: 100%|███████████████████████████████████████████████████████| 13/13 [00:13<00:00,  1.04s/batch]\n"
     ]
    },
    {
     "name": "stdout",
     "output_type": "stream",
     "text": [
      "Epoch 30, Loss: 0.8776049017906189\n",
      "0.2\n",
      "Saved checkpoint as: teacher_cpt_epoch30.pth.tar\n"
     ]
    },
    {
     "name": "stderr",
     "output_type": "stream",
     "text": [
      "Teacher training 32/60: 100%|███████████████████████████████████████████████████████| 13/13 [00:13<00:00,  1.01s/batch]\n"
     ]
    },
    {
     "name": "stdout",
     "output_type": "stream",
     "text": [
      "Epoch 31, Loss: 0.9017409544724685\n",
      "0.2\n",
      "0.16000000000000003\n",
      "Saved checkpoint as: teacher_cpt_epoch31.pth.tar\n"
     ]
    },
    {
     "name": "stderr",
     "output_type": "stream",
     "text": [
      "Teacher training 33/60: 100%|███████████████████████████████████████████████████████| 13/13 [00:13<00:00,  1.00s/batch]\n"
     ]
    },
    {
     "name": "stdout",
     "output_type": "stream",
     "text": [
      "Epoch 32, Loss: 0.8596778832949125\n",
      "0.16000000000000003\n",
      "Saved checkpoint as: teacher_cpt_epoch32.pth.tar\n"
     ]
    },
    {
     "name": "stderr",
     "output_type": "stream",
     "text": [
      "Teacher training 34/60: 100%|███████████████████████████████████████████████████████| 13/13 [00:13<00:00,  1.01s/batch]\n"
     ]
    },
    {
     "name": "stdout",
     "output_type": "stream",
     "text": [
      "Epoch 33, Loss: 0.8529082215749301\n",
      "0.16000000000000003\n",
      "0.12800000000000003\n",
      "Saved checkpoint as: teacher_cpt_epoch33.pth.tar\n"
     ]
    },
    {
     "name": "stderr",
     "output_type": "stream",
     "text": [
      "Teacher training 35/60: 100%|███████████████████████████████████████████████████████| 13/13 [00:13<00:00,  1.01s/batch]\n"
     ]
    },
    {
     "name": "stdout",
     "output_type": "stream",
     "text": [
      "Epoch 34, Loss: 0.913943717112908\n",
      "0.12800000000000003\n",
      "0.10240000000000003\n",
      "Saved checkpoint as: teacher_cpt_epoch34.pth.tar\n"
     ]
    },
    {
     "name": "stderr",
     "output_type": "stream",
     "text": [
      "Teacher training 36/60: 100%|███████████████████████████████████████████████████████| 13/13 [00:13<00:00,  1.01s/batch]\n"
     ]
    },
    {
     "name": "stdout",
     "output_type": "stream",
     "text": [
      "Epoch 35, Loss: 0.9295259209779593\n",
      "0.10240000000000003\n",
      "0.08192000000000003\n",
      "Saved checkpoint as: teacher_cpt_epoch35.pth.tar\n"
     ]
    },
    {
     "name": "stderr",
     "output_type": "stream",
     "text": [
      "Teacher training 37/60: 100%|███████████████████████████████████████████████████████| 13/13 [00:13<00:00,  1.01s/batch]\n"
     ]
    },
    {
     "name": "stdout",
     "output_type": "stream",
     "text": [
      "Epoch 36, Loss: 0.8557651272186866\n",
      "0.08192000000000003\n",
      "Saved checkpoint as: teacher_cpt_epoch36.pth.tar\n"
     ]
    },
    {
     "name": "stderr",
     "output_type": "stream",
     "text": [
      "Teacher training 38/60: 100%|███████████████████████████████████████████████████████| 13/13 [00:13<00:00,  1.01s/batch]\n"
     ]
    },
    {
     "name": "stdout",
     "output_type": "stream",
     "text": [
      "Epoch 37, Loss: 0.9294777375001174\n",
      "0.08192000000000003\n",
      "0.06553600000000002\n",
      "Saved checkpoint as: teacher_cpt_epoch37.pth.tar\n"
     ]
    },
    {
     "name": "stderr",
     "output_type": "stream",
     "text": [
      "Teacher training 39/60: 100%|███████████████████████████████████████████████████████| 13/13 [00:13<00:00,  1.02s/batch]\n"
     ]
    },
    {
     "name": "stdout",
     "output_type": "stream",
     "text": [
      "Epoch 38, Loss: 0.8794901737800012\n",
      "0.06553600000000002\n",
      "Saved checkpoint as: teacher_cpt_epoch38.pth.tar\n"
     ]
    },
    {
     "name": "stderr",
     "output_type": "stream",
     "text": [
      "Teacher training 40/60: 100%|███████████████████████████████████████████████████████| 13/13 [00:13<00:00,  1.03s/batch]\n"
     ]
    },
    {
     "name": "stdout",
     "output_type": "stream",
     "text": [
      "Epoch 39, Loss: 0.8691660532584558\n",
      "0.06553600000000002\n",
      "0.052428800000000025\n",
      "Saved checkpoint as: teacher_cpt_epoch39.pth.tar\n"
     ]
    },
    {
     "name": "stderr",
     "output_type": "stream",
     "text": [
      "Teacher training 41/60: 100%|███████████████████████████████████████████████████████| 13/13 [00:13<00:00,  1.02s/batch]\n"
     ]
    },
    {
     "name": "stdout",
     "output_type": "stream",
     "text": [
      "Epoch 40, Loss: 0.9072463420721201\n",
      "0.2\n",
      "0.16000000000000003\n",
      "Saved checkpoint as: teacher_cpt_epoch40.pth.tar\n"
     ]
    },
    {
     "name": "stderr",
     "output_type": "stream",
     "text": [
      "Teacher training 42/60: 100%|███████████████████████████████████████████████████████| 13/13 [00:13<00:00,  1.02s/batch]\n"
     ]
    },
    {
     "name": "stdout",
     "output_type": "stream",
     "text": [
      "Epoch 41, Loss: 0.9235198360223037\n",
      "0.16000000000000003\n",
      "0.12800000000000003\n",
      "Saved checkpoint as: teacher_cpt_epoch41.pth.tar\n"
     ]
    },
    {
     "name": "stderr",
     "output_type": "stream",
     "text": [
      "Teacher training 43/60: 100%|███████████████████████████████████████████████████████| 13/13 [00:13<00:00,  1.02s/batch]\n"
     ]
    },
    {
     "name": "stdout",
     "output_type": "stream",
     "text": [
      "Epoch 42, Loss: 0.9175224900245667\n",
      "0.12800000000000003\n",
      "0.10240000000000003\n",
      "Saved checkpoint as: teacher_cpt_epoch42.pth.tar\n"
     ]
    },
    {
     "name": "stderr",
     "output_type": "stream",
     "text": [
      "Teacher training 44/60: 100%|███████████████████████████████████████████████████████| 13/13 [00:13<00:00,  1.02s/batch]\n"
     ]
    },
    {
     "name": "stdout",
     "output_type": "stream",
     "text": [
      "Epoch 43, Loss: 0.9066667648462149\n",
      "0.10240000000000003\n",
      "0.08192000000000003\n",
      "Saved checkpoint as: teacher_cpt_epoch43.pth.tar\n"
     ]
    },
    {
     "name": "stderr",
     "output_type": "stream",
     "text": [
      "Teacher training 45/60: 100%|███████████████████████████████████████████████████████| 13/13 [00:14<00:00,  1.08s/batch]\n"
     ]
    },
    {
     "name": "stdout",
     "output_type": "stream",
     "text": [
      "Epoch 44, Loss: 0.9016129420353816\n",
      "0.08192000000000003\n",
      "0.06553600000000002\n",
      "Saved checkpoint as: teacher_cpt_epoch44.pth.tar\n"
     ]
    },
    {
     "name": "stderr",
     "output_type": "stream",
     "text": [
      "Teacher training 46/60: 100%|███████████████████████████████████████████████████████| 13/13 [00:13<00:00,  1.03s/batch]\n"
     ]
    },
    {
     "name": "stdout",
     "output_type": "stream",
     "text": [
      "Epoch 45, Loss: 0.8820353104518011\n",
      "0.06553600000000002\n",
      "Saved checkpoint as: teacher_cpt_epoch45.pth.tar\n"
     ]
    },
    {
     "name": "stderr",
     "output_type": "stream",
     "text": [
      "Teacher training 47/60: 100%|███████████████████████████████████████████████████████| 13/13 [00:13<00:00,  1.02s/batch]\n"
     ]
    },
    {
     "name": "stdout",
     "output_type": "stream",
     "text": [
      "Epoch 46, Loss: 0.9214852543977591\n",
      "0.06553600000000002\n",
      "0.052428800000000025\n",
      "Saved checkpoint as: teacher_cpt_epoch46.pth.tar\n"
     ]
    },
    {
     "name": "stderr",
     "output_type": "stream",
     "text": [
      "Teacher training 48/60: 100%|███████████████████████████████████████████████████████| 13/13 [00:13<00:00,  1.02s/batch]\n"
     ]
    },
    {
     "name": "stdout",
     "output_type": "stream",
     "text": [
      "Epoch 47, Loss: 0.8954105789844806\n",
      "0.052428800000000025\n",
      "Saved checkpoint as: teacher_cpt_epoch47.pth.tar\n"
     ]
    },
    {
     "name": "stderr",
     "output_type": "stream",
     "text": [
      "Teacher training 49/60: 100%|███████████████████████████████████████████████████████| 13/13 [00:13<00:00,  1.01s/batch]\n"
     ]
    },
    {
     "name": "stdout",
     "output_type": "stream",
     "text": [
      "Epoch 48, Loss: 0.9215278533788828\n",
      "0.052428800000000025\n",
      "0.04194304000000002\n",
      "Saved checkpoint as: teacher_cpt_epoch48.pth.tar\n"
     ]
    },
    {
     "name": "stderr",
     "output_type": "stream",
     "text": [
      "Teacher training 50/60: 100%|███████████████████████████████████████████████████████| 13/13 [00:13<00:00,  1.01s/batch]\n"
     ]
    },
    {
     "name": "stdout",
     "output_type": "stream",
     "text": [
      "Epoch 49, Loss: 0.9251716732978821\n",
      "0.04194304000000002\n",
      "0.033554432000000016\n",
      "Saved checkpoint as: teacher_cpt_epoch49.pth.tar\n"
     ]
    },
    {
     "name": "stderr",
     "output_type": "stream",
     "text": [
      "Teacher training 51/60: 100%|███████████████████████████████████████████████████████| 13/13 [00:13<00:00,  1.03s/batch]\n"
     ]
    },
    {
     "name": "stdout",
     "output_type": "stream",
     "text": [
      "Epoch 50, Loss: 0.9142877963873056\n",
      "0.2\n",
      "0.16000000000000003\n",
      "Saved checkpoint as: teacher_cpt_epoch50.pth.tar\n"
     ]
    },
    {
     "name": "stderr",
     "output_type": "stream",
     "text": [
      "Teacher training 52/60: 100%|███████████████████████████████████████████████████████| 13/13 [00:13<00:00,  1.03s/batch]\n"
     ]
    },
    {
     "name": "stdout",
     "output_type": "stream",
     "text": [
      "Epoch 51, Loss: 0.8843133174456083\n",
      "0.16000000000000003\n",
      "Saved checkpoint as: teacher_cpt_epoch51.pth.tar\n"
     ]
    },
    {
     "name": "stderr",
     "output_type": "stream",
     "text": [
      "Teacher training 53/60: 100%|███████████████████████████████████████████████████████| 13/13 [00:13<00:00,  1.04s/batch]\n"
     ]
    },
    {
     "name": "stdout",
     "output_type": "stream",
     "text": [
      "Epoch 52, Loss: 0.9362993194506719\n",
      "0.16000000000000003\n",
      "0.12800000000000003\n",
      "Saved checkpoint as: teacher_cpt_epoch52.pth.tar\n"
     ]
    },
    {
     "name": "stderr",
     "output_type": "stream",
     "text": [
      "Teacher training 54/60: 100%|███████████████████████████████████████████████████████| 13/13 [00:13<00:00,  1.03s/batch]\n"
     ]
    },
    {
     "name": "stdout",
     "output_type": "stream",
     "text": [
      "Epoch 53, Loss: 0.8914387134405283\n",
      "0.12800000000000003\n",
      "Saved checkpoint as: teacher_cpt_epoch53.pth.tar\n"
     ]
    },
    {
     "name": "stderr",
     "output_type": "stream",
     "text": [
      "Teacher training 55/60: 100%|███████████████████████████████████████████████████████| 13/13 [00:13<00:00,  1.03s/batch]\n"
     ]
    },
    {
     "name": "stdout",
     "output_type": "stream",
     "text": [
      "Epoch 54, Loss: 0.8821814839656537\n",
      "0.12800000000000003\n",
      "0.10240000000000003\n",
      "Saved checkpoint as: teacher_cpt_epoch54.pth.tar\n"
     ]
    },
    {
     "name": "stderr",
     "output_type": "stream",
     "text": [
      "Teacher training 56/60: 100%|███████████████████████████████████████████████████████| 13/13 [00:13<00:00,  1.03s/batch]\n"
     ]
    },
    {
     "name": "stdout",
     "output_type": "stream",
     "text": [
      "Epoch 55, Loss: 0.9125793255292453\n",
      "0.10240000000000003\n",
      "0.08192000000000003\n",
      "Saved checkpoint as: teacher_cpt_epoch55.pth.tar\n"
     ]
    },
    {
     "name": "stderr",
     "output_type": "stream",
     "text": [
      "Teacher training 57/60: 100%|███████████████████████████████████████████████████████| 13/13 [00:13<00:00,  1.03s/batch]\n"
     ]
    },
    {
     "name": "stdout",
     "output_type": "stream",
     "text": [
      "Epoch 56, Loss: 0.8820196023354163\n",
      "0.08192000000000003\n",
      "Saved checkpoint as: teacher_cpt_epoch56.pth.tar\n"
     ]
    },
    {
     "name": "stderr",
     "output_type": "stream",
     "text": [
      "Teacher training 58/60: 100%|███████████████████████████████████████████████████████| 13/13 [00:13<00:00,  1.01s/batch]\n"
     ]
    },
    {
     "name": "stdout",
     "output_type": "stream",
     "text": [
      "Epoch 57, Loss: 0.9477294821005601\n",
      "0.08192000000000003\n",
      "0.06553600000000002\n",
      "Saved checkpoint as: teacher_cpt_epoch57.pth.tar\n"
     ]
    },
    {
     "name": "stderr",
     "output_type": "stream",
     "text": [
      "Teacher training 59/60: 100%|███████████████████████████████████████████████████████| 13/13 [00:13<00:00,  1.01s/batch]\n"
     ]
    },
    {
     "name": "stdout",
     "output_type": "stream",
     "text": [
      "Epoch 58, Loss: 0.8890770903000464\n",
      "0.06553600000000002\n",
      "Saved checkpoint as: teacher_cpt_epoch58.pth.tar\n"
     ]
    },
    {
     "name": "stderr",
     "output_type": "stream",
     "text": [
      "Teacher training 60/60: 100%|███████████████████████████████████████████████████████| 13/13 [00:13<00:00,  1.01s/batch]\n"
     ]
    },
    {
     "name": "stdout",
     "output_type": "stream",
     "text": [
      "Epoch 59, Loss: 0.9323793237025921\n",
      "0.06553600000000002\n",
      "0.052428800000000025\n",
      "Saved checkpoint as: teacher_cpt_epoch59.pth.tar\n",
      "Finished Training Teacher\n"
     ]
    },
    {
     "name": "stderr",
     "output_type": "stream",
     "text": [
      "Teacher training 1/60: 100%|████████████████████████████████████████████████████████| 13/13 [00:13<00:00,  1.01s/batch]\n"
     ]
    },
    {
     "name": "stdout",
     "output_type": "stream",
     "text": [
      "Epoch 0, Loss: 0.9505651318109952\n",
      "0.052428800000000025\n",
      "Saved checkpoint as: teacher_cpt_epoch0.pth.tar\n"
     ]
    },
    {
     "name": "stderr",
     "output_type": "stream",
     "text": [
      "Teacher training 2/60: 100%|████████████████████████████████████████████████████████| 13/13 [00:13<00:00,  1.01s/batch]\n"
     ]
    },
    {
     "name": "stdout",
     "output_type": "stream",
     "text": [
      "Epoch 1, Loss: 0.8861338450358465\n",
      "0.052428800000000025\n",
      "Saved checkpoint as: teacher_cpt_epoch1.pth.tar\n"
     ]
    },
    {
     "name": "stderr",
     "output_type": "stream",
     "text": [
      "Teacher training 3/60: 100%|████████████████████████████████████████████████████████| 13/13 [00:13<00:00,  1.01s/batch]\n"
     ]
    },
    {
     "name": "stdout",
     "output_type": "stream",
     "text": [
      "Epoch 2, Loss: 0.8590945234665504\n",
      "0.052428800000000025\n",
      "Saved checkpoint as: teacher_cpt_epoch2.pth.tar\n"
     ]
    },
    {
     "name": "stderr",
     "output_type": "stream",
     "text": [
      "Teacher training 4/60: 100%|████████████████████████████████████████████████████████| 13/13 [00:12<00:00,  1.00batch/s]\n"
     ]
    },
    {
     "name": "stdout",
     "output_type": "stream",
     "text": [
      "Epoch 3, Loss: 0.9007087441591116\n",
      "0.052428800000000025\n",
      "Saved checkpoint as: teacher_cpt_epoch3.pth.tar\n"
     ]
    },
    {
     "name": "stderr",
     "output_type": "stream",
     "text": [
      "Teacher training 5/60: 100%|████████████████████████████████████████████████████████| 13/13 [00:12<00:00,  1.00batch/s]\n"
     ]
    },
    {
     "name": "stdout",
     "output_type": "stream",
     "text": [
      "Epoch 4, Loss: 0.9169211983680725\n",
      "0.052428800000000025\n",
      "Saved checkpoint as: teacher_cpt_epoch4.pth.tar\n"
     ]
    },
    {
     "name": "stderr",
     "output_type": "stream",
     "text": [
      "Teacher training 6/60: 100%|████████████████████████████████████████████████████████| 13/13 [00:13<00:00,  1.01s/batch]\n"
     ]
    },
    {
     "name": "stdout",
     "output_type": "stream",
     "text": [
      "Epoch 5, Loss: 0.9481242344929621\n",
      "0.052428800000000025\n",
      "Saved checkpoint as: teacher_cpt_epoch5.pth.tar\n"
     ]
    },
    {
     "name": "stderr",
     "output_type": "stream",
     "text": [
      "Teacher training 7/60: 100%|████████████████████████████████████████████████████████| 13/13 [00:12<00:00,  1.00batch/s]\n"
     ]
    },
    {
     "name": "stdout",
     "output_type": "stream",
     "text": [
      "Epoch 6, Loss: 0.8810997972121606\n",
      "0.052428800000000025\n",
      "Saved checkpoint as: teacher_cpt_epoch6.pth.tar\n"
     ]
    },
    {
     "name": "stderr",
     "output_type": "stream",
     "text": [
      "Teacher training 8/60: 100%|████████████████████████████████████████████████████████| 13/13 [00:12<00:00,  1.01batch/s]\n"
     ]
    },
    {
     "name": "stdout",
     "output_type": "stream",
     "text": [
      "Epoch 7, Loss: 0.8905515074729919\n",
      "0.052428800000000025\n",
      "Saved checkpoint as: teacher_cpt_epoch7.pth.tar\n"
     ]
    },
    {
     "name": "stderr",
     "output_type": "stream",
     "text": [
      "Teacher training 9/60: 100%|████████████████████████████████████████████████████████| 13/13 [00:12<00:00,  1.01batch/s]\n"
     ]
    },
    {
     "name": "stdout",
     "output_type": "stream",
     "text": [
      "Epoch 8, Loss: 0.9133305962269123\n",
      "0.052428800000000025\n",
      "Saved checkpoint as: teacher_cpt_epoch8.pth.tar\n"
     ]
    },
    {
     "name": "stderr",
     "output_type": "stream",
     "text": [
      "Teacher training 10/60: 100%|███████████████████████████████████████████████████████| 13/13 [00:12<00:00,  1.00batch/s]\n"
     ]
    },
    {
     "name": "stdout",
     "output_type": "stream",
     "text": [
      "Epoch 9, Loss: 0.8350640810452975\n",
      "0.052428800000000025\n",
      "Saved checkpoint as: teacher_cpt_epoch9.pth.tar\n"
     ]
    },
    {
     "name": "stderr",
     "output_type": "stream",
     "text": [
      "Teacher training 11/60: 100%|███████████████████████████████████████████████████████| 13/13 [00:13<00:00,  1.00s/batch]\n"
     ]
    },
    {
     "name": "stdout",
     "output_type": "stream",
     "text": [
      "Epoch 10, Loss: 0.891065776348114\n",
      "0.052428800000000025\n",
      "Saved checkpoint as: teacher_cpt_epoch10.pth.tar\n"
     ]
    },
    {
     "name": "stderr",
     "output_type": "stream",
     "text": [
      "Teacher training 12/60: 100%|███████████████████████████████████████████████████████| 13/13 [00:12<00:00,  1.00batch/s]\n"
     ]
    },
    {
     "name": "stdout",
     "output_type": "stream",
     "text": [
      "Epoch 11, Loss: 0.89143928197714\n",
      "0.052428800000000025\n",
      "Saved checkpoint as: teacher_cpt_epoch11.pth.tar\n"
     ]
    },
    {
     "name": "stderr",
     "output_type": "stream",
     "text": [
      "Teacher training 13/60: 100%|███████████████████████████████████████████████████████| 13/13 [00:13<00:00,  1.01s/batch]\n"
     ]
    },
    {
     "name": "stdout",
     "output_type": "stream",
     "text": [
      "Epoch 12, Loss: 0.913220593562493\n",
      "0.052428800000000025\n",
      "Saved checkpoint as: teacher_cpt_epoch12.pth.tar\n"
     ]
    },
    {
     "name": "stderr",
     "output_type": "stream",
     "text": [
      "Teacher training 14/60: 100%|███████████████████████████████████████████████████████| 13/13 [00:13<00:00,  1.00s/batch]\n"
     ]
    },
    {
     "name": "stdout",
     "output_type": "stream",
     "text": [
      "Epoch 13, Loss: 0.9345267231647785\n",
      "0.052428800000000025\n",
      "Saved checkpoint as: teacher_cpt_epoch13.pth.tar\n"
     ]
    },
    {
     "name": "stderr",
     "output_type": "stream",
     "text": [
      "Teacher training 15/60: 100%|███████████████████████████████████████████████████████| 13/13 [00:13<00:00,  1.00s/batch]\n"
     ]
    },
    {
     "name": "stdout",
     "output_type": "stream",
     "text": [
      "Epoch 14, Loss: 0.9205137399526743\n",
      "0.052428800000000025\n",
      "Saved checkpoint as: teacher_cpt_epoch14.pth.tar\n"
     ]
    },
    {
     "name": "stderr",
     "output_type": "stream",
     "text": [
      "Teacher training 16/60: 100%|███████████████████████████████████████████████████████| 13/13 [00:12<00:00,  1.00batch/s]\n"
     ]
    },
    {
     "name": "stdout",
     "output_type": "stream",
     "text": [
      "Epoch 15, Loss: 0.9293580834682171\n",
      "0.052428800000000025\n",
      "Saved checkpoint as: teacher_cpt_epoch15.pth.tar\n"
     ]
    },
    {
     "name": "stderr",
     "output_type": "stream",
     "text": [
      "Teacher training 17/60: 100%|███████████████████████████████████████████████████████| 13/13 [00:13<00:00,  1.00s/batch]\n"
     ]
    },
    {
     "name": "stdout",
     "output_type": "stream",
     "text": [
      "Epoch 16, Loss: 0.8887704840073218\n",
      "0.052428800000000025\n",
      "Saved checkpoint as: teacher_cpt_epoch16.pth.tar\n"
     ]
    },
    {
     "name": "stderr",
     "output_type": "stream",
     "text": [
      "Teacher training 18/60: 100%|███████████████████████████████████████████████████████| 13/13 [00:12<00:00,  1.00batch/s]\n"
     ]
    },
    {
     "name": "stdout",
     "output_type": "stream",
     "text": [
      "Epoch 17, Loss: 0.8916421074133652\n",
      "0.052428800000000025\n",
      "Saved checkpoint as: teacher_cpt_epoch17.pth.tar\n"
     ]
    },
    {
     "name": "stderr",
     "output_type": "stream",
     "text": [
      "Teacher training 19/60: 100%|███████████████████████████████████████████████████████| 13/13 [00:12<00:00,  1.00batch/s]\n"
     ]
    },
    {
     "name": "stdout",
     "output_type": "stream",
     "text": [
      "Epoch 18, Loss: 0.890148612169119\n",
      "0.052428800000000025\n",
      "Saved checkpoint as: teacher_cpt_epoch18.pth.tar\n"
     ]
    },
    {
     "name": "stderr",
     "output_type": "stream",
     "text": [
      "Teacher training 20/60: 100%|███████████████████████████████████████████████████████| 13/13 [00:12<00:00,  1.00batch/s]\n"
     ]
    },
    {
     "name": "stdout",
     "output_type": "stream",
     "text": [
      "Epoch 19, Loss: 0.9029343449152433\n",
      "0.052428800000000025\n",
      "Saved checkpoint as: teacher_cpt_epoch19.pth.tar\n"
     ]
    },
    {
     "name": "stderr",
     "output_type": "stream",
     "text": [
      "Teacher training 21/60: 100%|███████████████████████████████████████████████████████| 13/13 [00:13<00:00,  1.01s/batch]\n"
     ]
    },
    {
     "name": "stdout",
     "output_type": "stream",
     "text": [
      "Epoch 20, Loss: 0.8817739899341877\n",
      "0.052428800000000025\n",
      "Saved checkpoint as: teacher_cpt_epoch20.pth.tar\n"
     ]
    },
    {
     "name": "stderr",
     "output_type": "stream",
     "text": [
      "Teacher training 22/60: 100%|███████████████████████████████████████████████████████| 13/13 [00:13<00:00,  1.00s/batch]\n"
     ]
    },
    {
     "name": "stdout",
     "output_type": "stream",
     "text": [
      "Epoch 21, Loss: 0.9409238008352426\n",
      "0.052428800000000025\n",
      "Saved checkpoint as: teacher_cpt_epoch21.pth.tar\n"
     ]
    },
    {
     "name": "stderr",
     "output_type": "stream",
     "text": [
      "Teacher training 23/60: 100%|███████████████████████████████████████████████████████| 13/13 [00:12<00:00,  1.01batch/s]\n"
     ]
    },
    {
     "name": "stdout",
     "output_type": "stream",
     "text": [
      "Epoch 22, Loss: 0.9264549062802241\n",
      "0.052428800000000025\n",
      "Saved checkpoint as: teacher_cpt_epoch22.pth.tar\n"
     ]
    },
    {
     "name": "stderr",
     "output_type": "stream",
     "text": [
      "Teacher training 24/60: 100%|███████████████████████████████████████████████████████| 13/13 [00:12<00:00,  1.01batch/s]\n"
     ]
    },
    {
     "name": "stdout",
     "output_type": "stream",
     "text": [
      "Epoch 23, Loss: 0.9178298299129193\n",
      "0.052428800000000025\n",
      "Saved checkpoint as: teacher_cpt_epoch23.pth.tar\n"
     ]
    },
    {
     "name": "stderr",
     "output_type": "stream",
     "text": [
      "Teacher training 25/60: 100%|███████████████████████████████████████████████████████| 13/13 [00:13<00:00,  1.01s/batch]\n"
     ]
    },
    {
     "name": "stdout",
     "output_type": "stream",
     "text": [
      "Epoch 24, Loss: 0.879805748279278\n",
      "0.052428800000000025\n",
      "Saved checkpoint as: teacher_cpt_epoch24.pth.tar\n"
     ]
    },
    {
     "name": "stderr",
     "output_type": "stream",
     "text": [
      "Teacher training 26/60: 100%|███████████████████████████████████████████████████████| 13/13 [00:13<00:00,  1.02s/batch]\n"
     ]
    },
    {
     "name": "stdout",
     "output_type": "stream",
     "text": [
      "Epoch 25, Loss: 0.8607266866243802\n",
      "0.052428800000000025\n",
      "Saved checkpoint as: teacher_cpt_epoch25.pth.tar\n"
     ]
    },
    {
     "name": "stderr",
     "output_type": "stream",
     "text": [
      "Teacher training 27/60: 100%|███████████████████████████████████████████████████████| 13/13 [00:13<00:00,  1.02s/batch]\n"
     ]
    },
    {
     "name": "stdout",
     "output_type": "stream",
     "text": [
      "Epoch 26, Loss: 0.8771159282097449\n",
      "0.052428800000000025\n",
      "Saved checkpoint as: teacher_cpt_epoch26.pth.tar\n"
     ]
    },
    {
     "name": "stderr",
     "output_type": "stream",
     "text": [
      "Teacher training 28/60: 100%|███████████████████████████████████████████████████████| 13/13 [00:13<00:00,  1.02s/batch]\n"
     ]
    },
    {
     "name": "stdout",
     "output_type": "stream",
     "text": [
      "Epoch 27, Loss: 0.9083890593968905\n",
      "0.052428800000000025\n",
      "Saved checkpoint as: teacher_cpt_epoch27.pth.tar\n"
     ]
    },
    {
     "name": "stderr",
     "output_type": "stream",
     "text": [
      "Teacher training 29/60: 100%|███████████████████████████████████████████████████████| 13/13 [00:13<00:00,  1.03s/batch]\n"
     ]
    },
    {
     "name": "stdout",
     "output_type": "stream",
     "text": [
      "Epoch 28, Loss: 0.8846255357448871\n",
      "0.052428800000000025\n",
      "Saved checkpoint as: teacher_cpt_epoch28.pth.tar\n"
     ]
    },
    {
     "name": "stderr",
     "output_type": "stream",
     "text": [
      "Teacher training 30/60: 100%|███████████████████████████████████████████████████████| 13/13 [00:13<00:00,  1.02s/batch]\n"
     ]
    },
    {
     "name": "stdout",
     "output_type": "stream",
     "text": [
      "Epoch 29, Loss: 0.9493200687261728\n",
      "0.052428800000000025\n",
      "Saved checkpoint as: teacher_cpt_epoch29.pth.tar\n"
     ]
    },
    {
     "name": "stderr",
     "output_type": "stream",
     "text": [
      "Teacher training 31/60: 100%|███████████████████████████████████████████████████████| 13/13 [00:13<00:00,  1.02s/batch]\n"
     ]
    },
    {
     "name": "stdout",
     "output_type": "stream",
     "text": [
      "Epoch 30, Loss: 0.9013851881027222\n",
      "0.052428800000000025\n",
      "Saved checkpoint as: teacher_cpt_epoch30.pth.tar\n"
     ]
    },
    {
     "name": "stderr",
     "output_type": "stream",
     "text": [
      "Teacher training 32/60: 100%|███████████████████████████████████████████████████████| 13/13 [00:13<00:00,  1.01s/batch]\n"
     ]
    },
    {
     "name": "stdout",
     "output_type": "stream",
     "text": [
      "Epoch 31, Loss: 0.9494239550370437\n",
      "0.052428800000000025\n",
      "Saved checkpoint as: teacher_cpt_epoch31.pth.tar\n"
     ]
    },
    {
     "name": "stderr",
     "output_type": "stream",
     "text": [
      "Teacher training 33/60: 100%|███████████████████████████████████████████████████████| 13/13 [00:13<00:00,  1.02s/batch]\n"
     ]
    },
    {
     "name": "stdout",
     "output_type": "stream",
     "text": [
      "Epoch 32, Loss: 0.8454303787304804\n",
      "0.052428800000000025\n",
      "Saved checkpoint as: teacher_cpt_epoch32.pth.tar\n"
     ]
    },
    {
     "name": "stderr",
     "output_type": "stream",
     "text": [
      "Teacher training 34/60: 100%|███████████████████████████████████████████████████████| 13/13 [00:13<00:00,  1.02s/batch]\n"
     ]
    },
    {
     "name": "stdout",
     "output_type": "stream",
     "text": [
      "Epoch 33, Loss: 0.9556944461969229\n",
      "0.052428800000000025\n",
      "Saved checkpoint as: teacher_cpt_epoch33.pth.tar\n"
     ]
    },
    {
     "name": "stderr",
     "output_type": "stream",
     "text": [
      "Teacher training 35/60: 100%|███████████████████████████████████████████████████████| 13/13 [00:13<00:00,  1.03s/batch]\n"
     ]
    },
    {
     "name": "stdout",
     "output_type": "stream",
     "text": [
      "Epoch 34, Loss: 0.8858349139873798\n",
      "0.052428800000000025\n",
      "Saved checkpoint as: teacher_cpt_epoch34.pth.tar\n"
     ]
    },
    {
     "name": "stderr",
     "output_type": "stream",
     "text": [
      "Teacher training 36/60: 100%|███████████████████████████████████████████████████████| 13/13 [00:13<00:00,  1.01s/batch]\n"
     ]
    },
    {
     "name": "stdout",
     "output_type": "stream",
     "text": [
      "Epoch 35, Loss: 0.8980665527857267\n",
      "0.052428800000000025\n",
      "Saved checkpoint as: teacher_cpt_epoch35.pth.tar\n"
     ]
    },
    {
     "name": "stderr",
     "output_type": "stream",
     "text": [
      "Teacher training 37/60: 100%|███████████████████████████████████████████████████████| 13/13 [00:12<00:00,  1.00batch/s]\n"
     ]
    },
    {
     "name": "stdout",
     "output_type": "stream",
     "text": [
      "Epoch 36, Loss: 0.9095252706454351\n",
      "0.052428800000000025\n",
      "Saved checkpoint as: teacher_cpt_epoch36.pth.tar\n"
     ]
    },
    {
     "name": "stderr",
     "output_type": "stream",
     "text": [
      "Teacher training 38/60: 100%|███████████████████████████████████████████████████████| 13/13 [00:13<00:00,  1.02s/batch]\n"
     ]
    },
    {
     "name": "stdout",
     "output_type": "stream",
     "text": [
      "Epoch 37, Loss: 0.8789563591663654\n",
      "0.052428800000000025\n",
      "Saved checkpoint as: teacher_cpt_epoch37.pth.tar\n"
     ]
    },
    {
     "name": "stderr",
     "output_type": "stream",
     "text": [
      "Teacher training 39/60: 100%|███████████████████████████████████████████████████████| 13/13 [00:13<00:00,  1.03s/batch]\n"
     ]
    },
    {
     "name": "stdout",
     "output_type": "stream",
     "text": [
      "Epoch 38, Loss: 0.901152280660776\n",
      "0.052428800000000025\n",
      "Saved checkpoint as: teacher_cpt_epoch38.pth.tar\n"
     ]
    },
    {
     "name": "stderr",
     "output_type": "stream",
     "text": [
      "Teacher training 40/60: 100%|███████████████████████████████████████████████████████| 13/13 [00:13<00:00,  1.02s/batch]\n"
     ]
    },
    {
     "name": "stdout",
     "output_type": "stream",
     "text": [
      "Epoch 39, Loss: 0.8670754295129043\n",
      "0.052428800000000025\n",
      "Saved checkpoint as: teacher_cpt_epoch39.pth.tar\n"
     ]
    },
    {
     "name": "stderr",
     "output_type": "stream",
     "text": [
      "Teacher training 41/60: 100%|███████████████████████████████████████████████████████| 13/13 [00:13<00:00,  1.03s/batch]\n"
     ]
    },
    {
     "name": "stdout",
     "output_type": "stream",
     "text": [
      "Epoch 40, Loss: 0.9030598631271949\n",
      "0.052428800000000025\n",
      "Saved checkpoint as: teacher_cpt_epoch40.pth.tar\n"
     ]
    },
    {
     "name": "stderr",
     "output_type": "stream",
     "text": [
      "Teacher training 42/60: 100%|███████████████████████████████████████████████████████| 13/13 [00:13<00:00,  1.03s/batch]\n"
     ]
    },
    {
     "name": "stdout",
     "output_type": "stream",
     "text": [
      "Epoch 41, Loss: 0.9256727787164541\n",
      "0.052428800000000025\n",
      "Saved checkpoint as: teacher_cpt_epoch41.pth.tar\n"
     ]
    },
    {
     "name": "stderr",
     "output_type": "stream",
     "text": [
      "Teacher training 43/60: 100%|███████████████████████████████████████████████████████| 13/13 [00:13<00:00,  1.02s/batch]\n"
     ]
    },
    {
     "name": "stdout",
     "output_type": "stream",
     "text": [
      "Epoch 42, Loss: 0.931944374854748\n",
      "0.052428800000000025\n",
      "Saved checkpoint as: teacher_cpt_epoch42.pth.tar\n"
     ]
    },
    {
     "name": "stderr",
     "output_type": "stream",
     "text": [
      "Teacher training 44/60: 100%|███████████████████████████████████████████████████████| 13/13 [00:13<00:00,  1.02s/batch]\n"
     ]
    },
    {
     "name": "stdout",
     "output_type": "stream",
     "text": [
      "Epoch 43, Loss: 0.8873310547608596\n",
      "0.052428800000000025\n",
      "Saved checkpoint as: teacher_cpt_epoch43.pth.tar\n"
     ]
    },
    {
     "name": "stderr",
     "output_type": "stream",
     "text": [
      "Teacher training 45/60: 100%|███████████████████████████████████████████████████████| 13/13 [00:13<00:00,  1.02s/batch]\n"
     ]
    },
    {
     "name": "stdout",
     "output_type": "stream",
     "text": [
      "Epoch 44, Loss: 0.8847159284811753\n",
      "0.052428800000000025\n",
      "Saved checkpoint as: teacher_cpt_epoch44.pth.tar\n"
     ]
    },
    {
     "name": "stderr",
     "output_type": "stream",
     "text": [
      "Teacher training 46/60: 100%|███████████████████████████████████████████████████████| 13/13 [00:13<00:00,  1.02s/batch]\n"
     ]
    },
    {
     "name": "stdout",
     "output_type": "stream",
     "text": [
      "Epoch 45, Loss: 0.9082178794420682\n",
      "0.052428800000000025\n",
      "Saved checkpoint as: teacher_cpt_epoch45.pth.tar\n"
     ]
    },
    {
     "name": "stderr",
     "output_type": "stream",
     "text": [
      "Teacher training 47/60: 100%|███████████████████████████████████████████████████████| 13/13 [00:13<00:00,  1.02s/batch]\n"
     ]
    },
    {
     "name": "stdout",
     "output_type": "stream",
     "text": [
      "Epoch 46, Loss: 0.8642074740850009\n",
      "0.052428800000000025\n",
      "Saved checkpoint as: teacher_cpt_epoch46.pth.tar\n"
     ]
    },
    {
     "name": "stderr",
     "output_type": "stream",
     "text": [
      "Teacher training 48/60: 100%|███████████████████████████████████████████████████████| 13/13 [00:13<00:00,  1.02s/batch]\n"
     ]
    },
    {
     "name": "stdout",
     "output_type": "stream",
     "text": [
      "Epoch 47, Loss: 0.9270696960962735\n",
      "0.052428800000000025\n",
      "Saved checkpoint as: teacher_cpt_epoch47.pth.tar\n"
     ]
    },
    {
     "name": "stderr",
     "output_type": "stream",
     "text": [
      "Teacher training 49/60: 100%|███████████████████████████████████████████████████████| 13/13 [00:13<00:00,  1.02s/batch]\n"
     ]
    },
    {
     "name": "stdout",
     "output_type": "stream",
     "text": [
      "Epoch 48, Loss: 0.8717782634955186\n",
      "0.052428800000000025\n",
      "Saved checkpoint as: teacher_cpt_epoch48.pth.tar\n"
     ]
    },
    {
     "name": "stderr",
     "output_type": "stream",
     "text": [
      "Teacher training 50/60: 100%|███████████████████████████████████████████████████████| 13/13 [00:13<00:00,  1.02s/batch]\n"
     ]
    },
    {
     "name": "stdout",
     "output_type": "stream",
     "text": [
      "Epoch 49, Loss: 0.9010264690105731\n",
      "0.052428800000000025\n",
      "Saved checkpoint as: teacher_cpt_epoch49.pth.tar\n"
     ]
    },
    {
     "name": "stderr",
     "output_type": "stream",
     "text": [
      "Teacher training 51/60: 100%|███████████████████████████████████████████████████████| 13/13 [00:13<00:00,  1.02s/batch]\n"
     ]
    },
    {
     "name": "stdout",
     "output_type": "stream",
     "text": [
      "Epoch 50, Loss: 0.8769777371333196\n",
      "0.052428800000000025\n",
      "Saved checkpoint as: teacher_cpt_epoch50.pth.tar\n"
     ]
    },
    {
     "name": "stderr",
     "output_type": "stream",
     "text": [
      "Teacher training 52/60: 100%|███████████████████████████████████████████████████████| 13/13 [00:13<00:00,  1.02s/batch]\n"
     ]
    },
    {
     "name": "stdout",
     "output_type": "stream",
     "text": [
      "Epoch 51, Loss: 0.8957788302348211\n",
      "0.052428800000000025\n",
      "Saved checkpoint as: teacher_cpt_epoch51.pth.tar\n"
     ]
    },
    {
     "name": "stderr",
     "output_type": "stream",
     "text": [
      "Teacher training 53/60: 100%|███████████████████████████████████████████████████████| 13/13 [00:13<00:00,  1.02s/batch]\n"
     ]
    },
    {
     "name": "stdout",
     "output_type": "stream",
     "text": [
      "Epoch 52, Loss: 0.8842915479953473\n",
      "0.052428800000000025\n",
      "Saved checkpoint as: teacher_cpt_epoch52.pth.tar\n"
     ]
    },
    {
     "name": "stderr",
     "output_type": "stream",
     "text": [
      "Teacher training 54/60: 100%|███████████████████████████████████████████████████████| 13/13 [00:13<00:00,  1.02s/batch]\n"
     ]
    },
    {
     "name": "stdout",
     "output_type": "stream",
     "text": [
      "Epoch 53, Loss: 0.9176780673173758\n",
      "0.052428800000000025\n",
      "Saved checkpoint as: teacher_cpt_epoch53.pth.tar\n"
     ]
    },
    {
     "name": "stderr",
     "output_type": "stream",
     "text": [
      "Teacher training 55/60: 100%|███████████████████████████████████████████████████████| 13/13 [00:13<00:00,  1.02s/batch]\n"
     ]
    },
    {
     "name": "stdout",
     "output_type": "stream",
     "text": [
      "Epoch 54, Loss: 0.8951785518572881\n",
      "0.052428800000000025\n",
      "Saved checkpoint as: teacher_cpt_epoch54.pth.tar\n"
     ]
    },
    {
     "name": "stderr",
     "output_type": "stream",
     "text": [
      "Teacher training 56/60: 100%|███████████████████████████████████████████████████████| 13/13 [00:13<00:00,  1.02s/batch]\n"
     ]
    },
    {
     "name": "stdout",
     "output_type": "stream",
     "text": [
      "Epoch 55, Loss: 0.921304675248953\n",
      "0.052428800000000025\n",
      "Saved checkpoint as: teacher_cpt_epoch55.pth.tar\n"
     ]
    },
    {
     "name": "stderr",
     "output_type": "stream",
     "text": [
      "Teacher training 57/60: 100%|███████████████████████████████████████████████████████| 13/13 [00:13<00:00,  1.02s/batch]\n"
     ]
    },
    {
     "name": "stdout",
     "output_type": "stream",
     "text": [
      "Epoch 56, Loss: 0.8861464720505935\n",
      "0.052428800000000025\n",
      "Saved checkpoint as: teacher_cpt_epoch56.pth.tar\n"
     ]
    },
    {
     "name": "stderr",
     "output_type": "stream",
     "text": [
      "Teacher training 58/60: 100%|███████████████████████████████████████████████████████| 13/13 [00:13<00:00,  1.02s/batch]\n"
     ]
    },
    {
     "name": "stdout",
     "output_type": "stream",
     "text": [
      "Epoch 57, Loss: 0.853083440890679\n",
      "0.052428800000000025\n",
      "Saved checkpoint as: teacher_cpt_epoch57.pth.tar\n"
     ]
    },
    {
     "name": "stderr",
     "output_type": "stream",
     "text": [
      "Teacher training 59/60: 100%|███████████████████████████████████████████████████████| 13/13 [00:13<00:00,  1.03s/batch]\n"
     ]
    },
    {
     "name": "stdout",
     "output_type": "stream",
     "text": [
      "Epoch 58, Loss: 0.8927646967080923\n",
      "0.052428800000000025\n",
      "Saved checkpoint as: teacher_cpt_epoch58.pth.tar\n"
     ]
    },
    {
     "name": "stderr",
     "output_type": "stream",
     "text": [
      "Teacher training 60/60: 100%|███████████████████████████████████████████████████████| 13/13 [00:13<00:00,  1.02s/batch]\n"
     ]
    },
    {
     "name": "stdout",
     "output_type": "stream",
     "text": [
      "Epoch 59, Loss: 0.9217445804522588\n",
      "0.052428800000000025\n",
      "Saved checkpoint as: teacher_cpt_epoch59.pth.tar\n",
      "Finished Training Teacher\n"
     ]
    },
    {
     "ename": "NameError",
     "evalue": "name 'l' is not defined",
     "output_type": "error",
     "traceback": [
      "\u001b[1;31m---------------------------------------------------------------------------\u001b[0m",
      "\u001b[1;31mNameError\u001b[0m                                 Traceback (most recent call last)",
      "Cell \u001b[1;32mIn[20], line 1\u001b[0m\n\u001b[1;32m----> 1\u001b[0m test_train_teaher(teacher_student\u001b[38;5;241m.\u001b[39mteacher, feature_extractor, train_loader, device, torch_optimizer\u001b[38;5;241m.\u001b[39mDiffGrad(\n\u001b[0;32m      2\u001b[0m     teacher_student\u001b[38;5;241m.\u001b[39mteacher\u001b[38;5;241m.\u001b[39mparameters(),\n\u001b[0;32m      3\u001b[0m     lr\u001b[38;5;241m=\u001b[39m \u001b[38;5;241m1e-3\u001b[39m,\n\u001b[0;32m      4\u001b[0m     betas\u001b[38;5;241m=\u001b[39m(\u001b[38;5;241m0.9\u001b[39m, \u001b[38;5;241m0.999\u001b[39m),\n\u001b[0;32m      5\u001b[0m     eps\u001b[38;5;241m=\u001b[39m\u001b[38;5;241m1e-8\u001b[39m,\n\u001b[0;32m      6\u001b[0m     weight_decay\u001b[38;5;241m=\u001b[39m\u001b[38;5;241m0\u001b[39m,\n\u001b[0;32m      7\u001b[0m ), \u001b[38;5;241m60\u001b[39m, \u001b[38;5;124m'\u001b[39m\u001b[38;5;124mDiffGrad\u001b[39m\u001b[38;5;124m'\u001b[39m)\n",
      "Cell \u001b[1;32mIn[19], line 16\u001b[0m, in \u001b[0;36mtest_train_teaher\u001b[1;34m(teacher, feature_extractor, train_loader, device, optimizer, epoch, filename)\u001b[0m\n\u001b[0;32m     14\u001b[0m save_loss(\u001b[38;5;124mf\u001b[39m\u001b[38;5;124m'\u001b[39m\u001b[38;5;124mr\u001b[39m\u001b[38;5;132;01m{\u001b[39;00mfilename\u001b[38;5;132;01m}\u001b[39;00m\u001b[38;5;124m.txt\u001b[39m\u001b[38;5;124m'\u001b[39m,rl)\n\u001b[0;32m     15\u001b[0m save_loss(\u001b[38;5;124mf\u001b[39m\u001b[38;5;124m'\u001b[39m\u001b[38;5;124mr\u001b[39m\u001b[38;5;132;01m{\u001b[39;00mfilename\u001b[38;5;132;01m}\u001b[39;00m\u001b[38;5;124m2.txt\u001b[39m\u001b[38;5;124m'\u001b[39m,rl2)\n\u001b[1;32m---> 16\u001b[0m \u001b[38;5;28;01mreturn\u001b[39;00m l, rl, l2, rl2\n",
      "\u001b[1;31mNameError\u001b[0m: name 'l' is not defined"
     ]
    }
   ],
   "source": [
    "test_train_teaher(teacher_student.teacher, feature_extractor, train_loader, device, torch_optimizer.DiffGrad(\n",
    "    teacher_student.teacher.parameters(),\n",
    "    lr= 1e-3,\n",
    "    betas=(0.9, 0.999),\n",
    "    eps=1e-8,\n",
    "    weight_decay=0,\n",
    "), 60, 'DiffGrad')"
   ]
  },
  {
   "cell_type": "code",
   "execution_count": 22,
   "id": "b6f286e7-5fcd-477a-866e-deb08f1c0b5a",
   "metadata": {
    "scrolled": true
   },
   "outputs": [
    {
     "name": "stderr",
     "output_type": "stream",
     "text": [
      "Teacher training 1/60: 100%|████████████████████████████████████████████████████████| 13/13 [00:14<00:00,  1.14s/batch]\n"
     ]
    },
    {
     "name": "stdout",
     "output_type": "stream",
     "text": [
      "Epoch 0, Loss: 0.8491066877658551\n",
      "0.2\n",
      "0.16000000000000003\n",
      "Saved checkpoint as: teacher_cpt_epoch0.pth.tar\n"
     ]
    },
    {
     "name": "stderr",
     "output_type": "stream",
     "text": [
      "Teacher training 2/60: 100%|████████████████████████████████████████████████████████| 13/13 [00:14<00:00,  1.08s/batch]\n"
     ]
    },
    {
     "name": "stdout",
     "output_type": "stream",
     "text": [
      "Epoch 1, Loss: 0.8568818477483896\n",
      "0.16000000000000003\n",
      "0.12800000000000003\n",
      "Saved checkpoint as: teacher_cpt_epoch1.pth.tar\n"
     ]
    },
    {
     "name": "stderr",
     "output_type": "stream",
     "text": [
      "Teacher training 3/60: 100%|████████████████████████████████████████████████████████| 13/13 [00:13<00:00,  1.07s/batch]\n"
     ]
    },
    {
     "name": "stdout",
     "output_type": "stream",
     "text": [
      "Epoch 2, Loss: 0.8582267669531015\n",
      "0.12800000000000003\n",
      "0.10240000000000003\n",
      "Saved checkpoint as: teacher_cpt_epoch2.pth.tar\n"
     ]
    },
    {
     "name": "stderr",
     "output_type": "stream",
     "text": [
      "Teacher training 4/60: 100%|████████████████████████████████████████████████████████| 13/13 [00:13<00:00,  1.07s/batch]\n"
     ]
    },
    {
     "name": "stdout",
     "output_type": "stream",
     "text": [
      "Epoch 3, Loss: 0.914669889670152\n",
      "0.10240000000000003\n",
      "0.08192000000000003\n",
      "Saved checkpoint as: teacher_cpt_epoch3.pth.tar\n"
     ]
    },
    {
     "name": "stderr",
     "output_type": "stream",
     "text": [
      "Teacher training 5/60: 100%|████████████████████████████████████████████████████████| 13/13 [00:13<00:00,  1.07s/batch]\n"
     ]
    },
    {
     "name": "stdout",
     "output_type": "stream",
     "text": [
      "Epoch 4, Loss: 0.9098274157597468\n",
      "0.08192000000000003\n",
      "0.06553600000000002\n",
      "Saved checkpoint as: teacher_cpt_epoch4.pth.tar\n"
     ]
    },
    {
     "name": "stderr",
     "output_type": "stream",
     "text": [
      "Teacher training 6/60: 100%|████████████████████████████████████████████████████████| 13/13 [00:13<00:00,  1.06s/batch]\n"
     ]
    },
    {
     "name": "stdout",
     "output_type": "stream",
     "text": [
      "Epoch 5, Loss: 0.874449257667248\n",
      "0.06553600000000002\n",
      "Saved checkpoint as: teacher_cpt_epoch5.pth.tar\n"
     ]
    },
    {
     "name": "stderr",
     "output_type": "stream",
     "text": [
      "Teacher training 7/60: 100%|████████████████████████████████████████████████████████| 13/13 [00:13<00:00,  1.06s/batch]\n"
     ]
    },
    {
     "name": "stdout",
     "output_type": "stream",
     "text": [
      "Epoch 6, Loss: 0.8786655435195336\n",
      "0.06553600000000002\n",
      "0.052428800000000025\n",
      "Saved checkpoint as: teacher_cpt_epoch6.pth.tar\n"
     ]
    },
    {
     "name": "stderr",
     "output_type": "stream",
     "text": [
      "Teacher training 8/60: 100%|████████████████████████████████████████████████████████| 13/13 [00:13<00:00,  1.06s/batch]\n"
     ]
    },
    {
     "name": "stdout",
     "output_type": "stream",
     "text": [
      "Epoch 7, Loss: 0.8440828415063711\n",
      "0.052428800000000025\n",
      "Saved checkpoint as: teacher_cpt_epoch7.pth.tar\n"
     ]
    },
    {
     "name": "stderr",
     "output_type": "stream",
     "text": [
      "Teacher training 9/60: 100%|████████████████████████████████████████████████████████| 13/13 [00:13<00:00,  1.06s/batch]\n"
     ]
    },
    {
     "name": "stdout",
     "output_type": "stream",
     "text": [
      "Epoch 8, Loss: 0.8816291368924655\n",
      "0.052428800000000025\n",
      "0.04194304000000002\n",
      "Saved checkpoint as: teacher_cpt_epoch8.pth.tar\n"
     ]
    },
    {
     "name": "stderr",
     "output_type": "stream",
     "text": [
      "Teacher training 10/60: 100%|███████████████████████████████████████████████████████| 13/13 [00:14<00:00,  1.13s/batch]\n"
     ]
    },
    {
     "name": "stdout",
     "output_type": "stream",
     "text": [
      "Epoch 9, Loss: 0.8805809341944181\n",
      "0.04194304000000002\n",
      "0.033554432000000016\n",
      "Saved checkpoint as: teacher_cpt_epoch9.pth.tar\n"
     ]
    },
    {
     "name": "stderr",
     "output_type": "stream",
     "text": [
      "Teacher training 11/60: 100%|███████████████████████████████████████████████████████| 13/13 [00:13<00:00,  1.06s/batch]\n"
     ]
    },
    {
     "name": "stdout",
     "output_type": "stream",
     "text": [
      "Epoch 10, Loss: 0.8701169536663935\n",
      "0.2\n",
      "0.16000000000000003\n",
      "Saved checkpoint as: teacher_cpt_epoch10.pth.tar\n"
     ]
    },
    {
     "name": "stderr",
     "output_type": "stream",
     "text": [
      "Teacher training 12/60: 100%|███████████████████████████████████████████████████████| 13/13 [00:15<00:00,  1.16s/batch]\n"
     ]
    },
    {
     "name": "stdout",
     "output_type": "stream",
     "text": [
      "Epoch 11, Loss: 0.8593525978235098\n",
      "0.16000000000000003\n",
      "0.12800000000000003\n",
      "Saved checkpoint as: teacher_cpt_epoch11.pth.tar\n"
     ]
    },
    {
     "name": "stderr",
     "output_type": "stream",
     "text": [
      "Teacher training 13/60: 100%|███████████████████████████████████████████████████████| 13/13 [00:14<00:00,  1.10s/batch]\n"
     ]
    },
    {
     "name": "stdout",
     "output_type": "stream",
     "text": [
      "Epoch 12, Loss: 0.8994779449242812\n",
      "0.12800000000000003\n",
      "0.10240000000000003\n",
      "Saved checkpoint as: teacher_cpt_epoch12.pth.tar\n"
     ]
    },
    {
     "name": "stderr",
     "output_type": "stream",
     "text": [
      "Teacher training 14/60: 100%|███████████████████████████████████████████████████████| 13/13 [00:14<00:00,  1.08s/batch]\n"
     ]
    },
    {
     "name": "stdout",
     "output_type": "stream",
     "text": [
      "Epoch 13, Loss: 0.9365179859674894\n",
      "0.10240000000000003\n",
      "0.08192000000000003\n",
      "Saved checkpoint as: teacher_cpt_epoch13.pth.tar\n"
     ]
    },
    {
     "name": "stderr",
     "output_type": "stream",
     "text": [
      "Teacher training 15/60: 100%|███████████████████████████████████████████████████████| 13/13 [00:13<00:00,  1.06s/batch]\n"
     ]
    },
    {
     "name": "stdout",
     "output_type": "stream",
     "text": [
      "Epoch 14, Loss: 0.9044458178373483\n",
      "0.08192000000000003\n",
      "Saved checkpoint as: teacher_cpt_epoch14.pth.tar\n"
     ]
    },
    {
     "name": "stderr",
     "output_type": "stream",
     "text": [
      "Teacher training 16/60: 100%|███████████████████████████████████████████████████████| 13/13 [00:13<00:00,  1.06s/batch]\n"
     ]
    },
    {
     "name": "stdout",
     "output_type": "stream",
     "text": [
      "Epoch 15, Loss: 0.9045645319498502\n",
      "0.08192000000000003\n",
      "0.06553600000000002\n",
      "Saved checkpoint as: teacher_cpt_epoch15.pth.tar\n"
     ]
    },
    {
     "name": "stderr",
     "output_type": "stream",
     "text": [
      "Teacher training 17/60: 100%|███████████████████████████████████████████████████████| 13/13 [00:13<00:00,  1.06s/batch]\n"
     ]
    },
    {
     "name": "stdout",
     "output_type": "stream",
     "text": [
      "Epoch 16, Loss: 0.879253089427948\n",
      "0.06553600000000002\n",
      "Saved checkpoint as: teacher_cpt_epoch16.pth.tar\n"
     ]
    },
    {
     "name": "stderr",
     "output_type": "stream",
     "text": [
      "Teacher training 18/60: 100%|███████████████████████████████████████████████████████| 13/13 [00:13<00:00,  1.07s/batch]\n"
     ]
    },
    {
     "name": "stdout",
     "output_type": "stream",
     "text": [
      "Epoch 17, Loss: 0.9321330785751343\n",
      "0.06553600000000002\n",
      "0.052428800000000025\n",
      "Saved checkpoint as: teacher_cpt_epoch17.pth.tar\n"
     ]
    },
    {
     "name": "stderr",
     "output_type": "stream",
     "text": [
      "Teacher training 19/60: 100%|███████████████████████████████████████████████████████| 13/13 [00:13<00:00,  1.07s/batch]\n"
     ]
    },
    {
     "name": "stdout",
     "output_type": "stream",
     "text": [
      "Epoch 18, Loss: 0.9021291641088632\n",
      "0.052428800000000025\n",
      "Saved checkpoint as: teacher_cpt_epoch18.pth.tar\n"
     ]
    },
    {
     "name": "stderr",
     "output_type": "stream",
     "text": [
      "Teacher training 20/60: 100%|███████████████████████████████████████████████████████| 13/13 [00:13<00:00,  1.07s/batch]\n"
     ]
    },
    {
     "name": "stdout",
     "output_type": "stream",
     "text": [
      "Epoch 19, Loss: 0.9077611382190998\n",
      "0.052428800000000025\n",
      "0.04194304000000002\n",
      "Saved checkpoint as: teacher_cpt_epoch19.pth.tar\n"
     ]
    },
    {
     "name": "stderr",
     "output_type": "stream",
     "text": [
      "Teacher training 21/60: 100%|███████████████████████████████████████████████████████| 13/13 [00:14<00:00,  1.08s/batch]\n"
     ]
    },
    {
     "name": "stdout",
     "output_type": "stream",
     "text": [
      "Epoch 20, Loss: 0.8798251152038574\n",
      "0.2\n",
      "Saved checkpoint as: teacher_cpt_epoch20.pth.tar\n"
     ]
    },
    {
     "name": "stderr",
     "output_type": "stream",
     "text": [
      "Teacher training 22/60: 100%|███████████████████████████████████████████████████████| 13/13 [00:14<00:00,  1.08s/batch]\n"
     ]
    },
    {
     "name": "stdout",
     "output_type": "stream",
     "text": [
      "Epoch 21, Loss: 0.8653237452873817\n",
      "0.2\n",
      "0.16000000000000003\n",
      "Saved checkpoint as: teacher_cpt_epoch21.pth.tar\n"
     ]
    },
    {
     "name": "stderr",
     "output_type": "stream",
     "text": [
      "Teacher training 23/60: 100%|███████████████████████████████████████████████████████| 13/13 [00:13<00:00,  1.07s/batch]\n"
     ]
    },
    {
     "name": "stdout",
     "output_type": "stream",
     "text": [
      "Epoch 22, Loss: 0.9382840074025668\n",
      "0.16000000000000003\n",
      "0.12800000000000003\n",
      "Saved checkpoint as: teacher_cpt_epoch22.pth.tar\n"
     ]
    },
    {
     "name": "stderr",
     "output_type": "stream",
     "text": [
      "Teacher training 24/60: 100%|███████████████████████████████████████████████████████| 13/13 [00:13<00:00,  1.06s/batch]\n"
     ]
    },
    {
     "name": "stdout",
     "output_type": "stream",
     "text": [
      "Epoch 23, Loss: 0.8917575020056504\n",
      "0.12800000000000003\n",
      "Saved checkpoint as: teacher_cpt_epoch23.pth.tar\n"
     ]
    },
    {
     "name": "stderr",
     "output_type": "stream",
     "text": [
      "Teacher training 25/60: 100%|███████████████████████████████████████████████████████| 13/13 [00:13<00:00,  1.05s/batch]\n"
     ]
    },
    {
     "name": "stdout",
     "output_type": "stream",
     "text": [
      "Epoch 24, Loss: 0.8974771683032696\n",
      "0.12800000000000003\n",
      "0.10240000000000003\n",
      "Saved checkpoint as: teacher_cpt_epoch24.pth.tar\n"
     ]
    },
    {
     "name": "stderr",
     "output_type": "stream",
     "text": [
      "Teacher training 26/60: 100%|███████████████████████████████████████████████████████| 13/13 [00:13<00:00,  1.06s/batch]\n"
     ]
    },
    {
     "name": "stdout",
     "output_type": "stream",
     "text": [
      "Epoch 25, Loss: 0.9143291069911077\n",
      "0.10240000000000003\n",
      "0.08192000000000003\n",
      "Saved checkpoint as: teacher_cpt_epoch25.pth.tar\n"
     ]
    },
    {
     "name": "stderr",
     "output_type": "stream",
     "text": [
      "Teacher training 27/60: 100%|███████████████████████████████████████████████████████| 13/13 [00:13<00:00,  1.07s/batch]\n"
     ]
    },
    {
     "name": "stdout",
     "output_type": "stream",
     "text": [
      "Epoch 26, Loss: 0.935591656428117\n",
      "0.08192000000000003\n",
      "0.06553600000000002\n",
      "Saved checkpoint as: teacher_cpt_epoch26.pth.tar\n"
     ]
    },
    {
     "name": "stderr",
     "output_type": "stream",
     "text": [
      "Teacher training 28/60: 100%|███████████████████████████████████████████████████████| 13/13 [00:13<00:00,  1.07s/batch]\n"
     ]
    },
    {
     "name": "stdout",
     "output_type": "stream",
     "text": [
      "Epoch 27, Loss: 0.8972795926607572\n",
      "0.06553600000000002\n",
      "Saved checkpoint as: teacher_cpt_epoch27.pth.tar\n"
     ]
    },
    {
     "name": "stderr",
     "output_type": "stream",
     "text": [
      "Teacher training 29/60: 100%|███████████████████████████████████████████████████████| 13/13 [00:13<00:00,  1.06s/batch]\n"
     ]
    },
    {
     "name": "stdout",
     "output_type": "stream",
     "text": [
      "Epoch 28, Loss: 0.8595060660288885\n",
      "0.06553600000000002\n",
      "Saved checkpoint as: teacher_cpt_epoch28.pth.tar\n"
     ]
    },
    {
     "name": "stderr",
     "output_type": "stream",
     "text": [
      "Teacher training 30/60: 100%|███████████████████████████████████████████████████████| 13/13 [00:13<00:00,  1.06s/batch]\n"
     ]
    },
    {
     "name": "stdout",
     "output_type": "stream",
     "text": [
      "Epoch 29, Loss: 0.8948760445301349\n",
      "0.06553600000000002\n",
      "0.052428800000000025\n",
      "Saved checkpoint as: teacher_cpt_epoch29.pth.tar\n"
     ]
    },
    {
     "name": "stderr",
     "output_type": "stream",
     "text": [
      "Teacher training 31/60: 100%|███████████████████████████████████████████████████████| 13/13 [00:14<00:00,  1.09s/batch]\n"
     ]
    },
    {
     "name": "stdout",
     "output_type": "stream",
     "text": [
      "Epoch 30, Loss: 0.8660880373074458\n",
      "0.2\n",
      "Saved checkpoint as: teacher_cpt_epoch30.pth.tar\n"
     ]
    },
    {
     "name": "stderr",
     "output_type": "stream",
     "text": [
      "Teacher training 32/60: 100%|███████████████████████████████████████████████████████| 13/13 [00:13<00:00,  1.07s/batch]\n"
     ]
    },
    {
     "name": "stdout",
     "output_type": "stream",
     "text": [
      "Epoch 31, Loss: 0.8728658740337079\n",
      "0.2\n",
      "0.16000000000000003\n",
      "Saved checkpoint as: teacher_cpt_epoch31.pth.tar\n"
     ]
    },
    {
     "name": "stderr",
     "output_type": "stream",
     "text": [
      "Teacher training 33/60: 100%|███████████████████████████████████████████████████████| 13/13 [00:13<00:00,  1.05s/batch]\n"
     ]
    },
    {
     "name": "stdout",
     "output_type": "stream",
     "text": [
      "Epoch 32, Loss: 0.8859276267198416\n",
      "0.16000000000000003\n",
      "0.12800000000000003\n",
      "Saved checkpoint as: teacher_cpt_epoch32.pth.tar\n"
     ]
    },
    {
     "name": "stderr",
     "output_type": "stream",
     "text": [
      "Teacher training 34/60: 100%|███████████████████████████████████████████████████████| 13/13 [00:13<00:00,  1.07s/batch]\n"
     ]
    },
    {
     "name": "stdout",
     "output_type": "stream",
     "text": [
      "Epoch 33, Loss: 0.8641575299776517\n",
      "0.12800000000000003\n",
      "Saved checkpoint as: teacher_cpt_epoch33.pth.tar\n"
     ]
    },
    {
     "name": "stderr",
     "output_type": "stream",
     "text": [
      "Teacher training 35/60: 100%|███████████████████████████████████████████████████████| 13/13 [00:13<00:00,  1.07s/batch]\n"
     ]
    },
    {
     "name": "stdout",
     "output_type": "stream",
     "text": [
      "Epoch 34, Loss: 0.8952564138632554\n",
      "0.12800000000000003\n",
      "0.10240000000000003\n",
      "Saved checkpoint as: teacher_cpt_epoch34.pth.tar\n"
     ]
    },
    {
     "name": "stderr",
     "output_type": "stream",
     "text": [
      "Teacher training 36/60: 100%|███████████████████████████████████████████████████████| 13/13 [00:13<00:00,  1.07s/batch]\n"
     ]
    },
    {
     "name": "stdout",
     "output_type": "stream",
     "text": [
      "Epoch 35, Loss: 0.8628036379814148\n",
      "0.10240000000000003\n",
      "Saved checkpoint as: teacher_cpt_epoch35.pth.tar\n"
     ]
    },
    {
     "name": "stderr",
     "output_type": "stream",
     "text": [
      "Teacher training 37/60: 100%|███████████████████████████████████████████████████████| 13/13 [00:13<00:00,  1.07s/batch]\n"
     ]
    },
    {
     "name": "stdout",
     "output_type": "stream",
     "text": [
      "Epoch 36, Loss: 0.8783454711620624\n",
      "0.10240000000000003\n",
      "0.08192000000000003\n",
      "Saved checkpoint as: teacher_cpt_epoch36.pth.tar\n"
     ]
    },
    {
     "name": "stderr",
     "output_type": "stream",
     "text": [
      "Teacher training 38/60: 100%|███████████████████████████████████████████████████████| 13/13 [00:13<00:00,  1.07s/batch]\n"
     ]
    },
    {
     "name": "stdout",
     "output_type": "stream",
     "text": [
      "Epoch 37, Loss: 0.8864460816750159\n",
      "0.08192000000000003\n",
      "0.06553600000000002\n",
      "Saved checkpoint as: teacher_cpt_epoch37.pth.tar\n"
     ]
    },
    {
     "name": "stderr",
     "output_type": "stream",
     "text": [
      "Teacher training 39/60: 100%|███████████████████████████████████████████████████████| 13/13 [00:13<00:00,  1.07s/batch]\n"
     ]
    },
    {
     "name": "stdout",
     "output_type": "stream",
     "text": [
      "Epoch 38, Loss: 0.8404792593075678\n",
      "0.06553600000000002\n",
      "Saved checkpoint as: teacher_cpt_epoch38.pth.tar\n"
     ]
    },
    {
     "name": "stderr",
     "output_type": "stream",
     "text": [
      "Teacher training 40/60: 100%|███████████████████████████████████████████████████████| 13/13 [00:13<00:00,  1.07s/batch]\n"
     ]
    },
    {
     "name": "stdout",
     "output_type": "stream",
     "text": [
      "Epoch 39, Loss: 0.8783732331716098\n",
      "0.06553600000000002\n",
      "0.052428800000000025\n",
      "Saved checkpoint as: teacher_cpt_epoch39.pth.tar\n"
     ]
    },
    {
     "name": "stderr",
     "output_type": "stream",
     "text": [
      "Teacher training 41/60: 100%|███████████████████████████████████████████████████████| 13/13 [00:13<00:00,  1.07s/batch]\n"
     ]
    },
    {
     "name": "stdout",
     "output_type": "stream",
     "text": [
      "Epoch 40, Loss: 0.896117274577801\n",
      "0.2\n",
      "0.16000000000000003\n",
      "Saved checkpoint as: teacher_cpt_epoch40.pth.tar\n"
     ]
    },
    {
     "name": "stderr",
     "output_type": "stream",
     "text": [
      "Teacher training 42/60: 100%|███████████████████████████████████████████████████████| 13/13 [00:13<00:00,  1.07s/batch]\n"
     ]
    },
    {
     "name": "stdout",
     "output_type": "stream",
     "text": [
      "Epoch 41, Loss: 0.852624943623176\n",
      "0.16000000000000003\n",
      "Saved checkpoint as: teacher_cpt_epoch41.pth.tar\n"
     ]
    },
    {
     "name": "stderr",
     "output_type": "stream",
     "text": [
      "Teacher training 43/60: 100%|███████████████████████████████████████████████████████| 13/13 [00:13<00:00,  1.07s/batch]\n"
     ]
    },
    {
     "name": "stdout",
     "output_type": "stream",
     "text": [
      "Epoch 42, Loss: 0.8652290518467243\n",
      "0.16000000000000003\n",
      "0.12800000000000003\n",
      "Saved checkpoint as: teacher_cpt_epoch42.pth.tar\n"
     ]
    },
    {
     "name": "stderr",
     "output_type": "stream",
     "text": [
      "Teacher training 44/60: 100%|███████████████████████████████████████████████████████| 13/13 [00:14<00:00,  1.09s/batch]\n"
     ]
    },
    {
     "name": "stdout",
     "output_type": "stream",
     "text": [
      "Epoch 43, Loss: 0.917204315845783\n",
      "0.12800000000000003\n",
      "0.10240000000000003\n",
      "Saved checkpoint as: teacher_cpt_epoch43.pth.tar\n"
     ]
    },
    {
     "name": "stderr",
     "output_type": "stream",
     "text": [
      "Teacher training 45/60: 100%|███████████████████████████████████████████████████████| 13/13 [00:13<00:00,  1.07s/batch]\n"
     ]
    },
    {
     "name": "stdout",
     "output_type": "stream",
     "text": [
      "Epoch 44, Loss: 0.8440866470336914\n",
      "0.10240000000000003\n",
      "Saved checkpoint as: teacher_cpt_epoch44.pth.tar\n"
     ]
    },
    {
     "name": "stderr",
     "output_type": "stream",
     "text": [
      "Teacher training 46/60: 100%|███████████████████████████████████████████████████████| 13/13 [00:13<00:00,  1.07s/batch]\n"
     ]
    },
    {
     "name": "stdout",
     "output_type": "stream",
     "text": [
      "Epoch 45, Loss: 0.8772749167222244\n",
      "0.10240000000000003\n",
      "0.08192000000000003\n",
      "Saved checkpoint as: teacher_cpt_epoch45.pth.tar\n"
     ]
    },
    {
     "name": "stderr",
     "output_type": "stream",
     "text": [
      "Teacher training 47/60: 100%|███████████████████████████████████████████████████████| 13/13 [00:14<00:00,  1.14s/batch]\n"
     ]
    },
    {
     "name": "stdout",
     "output_type": "stream",
     "text": [
      "Epoch 46, Loss: 0.8513984680175781\n",
      "0.08192000000000003\n",
      "Saved checkpoint as: teacher_cpt_epoch46.pth.tar\n"
     ]
    },
    {
     "name": "stderr",
     "output_type": "stream",
     "text": [
      "Teacher training 48/60: 100%|███████████████████████████████████████████████████████| 13/13 [00:13<00:00,  1.07s/batch]\n"
     ]
    },
    {
     "name": "stdout",
     "output_type": "stream",
     "text": [
      "Epoch 47, Loss: 0.8611769309410682\n",
      "0.08192000000000003\n",
      "0.06553600000000002\n",
      "Saved checkpoint as: teacher_cpt_epoch47.pth.tar\n"
     ]
    },
    {
     "name": "stderr",
     "output_type": "stream",
     "text": [
      "Teacher training 49/60: 100%|███████████████████████████████████████████████████████| 13/13 [00:13<00:00,  1.06s/batch]\n"
     ]
    },
    {
     "name": "stdout",
     "output_type": "stream",
     "text": [
      "Epoch 48, Loss: 0.8411037921905518\n",
      "0.06553600000000002\n",
      "Saved checkpoint as: teacher_cpt_epoch48.pth.tar\n"
     ]
    },
    {
     "name": "stderr",
     "output_type": "stream",
     "text": [
      "Teacher training 50/60: 100%|███████████████████████████████████████████████████████| 13/13 [00:13<00:00,  1.08s/batch]\n"
     ]
    },
    {
     "name": "stdout",
     "output_type": "stream",
     "text": [
      "Epoch 49, Loss: 0.9046527193142817\n",
      "0.06553600000000002\n",
      "0.052428800000000025\n",
      "Saved checkpoint as: teacher_cpt_epoch49.pth.tar\n"
     ]
    },
    {
     "name": "stderr",
     "output_type": "stream",
     "text": [
      "Teacher training 51/60: 100%|███████████████████████████████████████████████████████| 13/13 [00:13<00:00,  1.07s/batch]\n"
     ]
    },
    {
     "name": "stdout",
     "output_type": "stream",
     "text": [
      "Epoch 50, Loss: 0.9175497476871197\n",
      "0.2\n",
      "0.16000000000000003\n",
      "Saved checkpoint as: teacher_cpt_epoch50.pth.tar\n"
     ]
    },
    {
     "name": "stderr",
     "output_type": "stream",
     "text": [
      "Teacher training 52/60: 100%|███████████████████████████████████████████████████████| 13/13 [00:15<00:00,  1.16s/batch]\n"
     ]
    },
    {
     "name": "stdout",
     "output_type": "stream",
     "text": [
      "Epoch 51, Loss: 0.9101800872729375\n",
      "0.16000000000000003\n",
      "0.12800000000000003\n",
      "Saved checkpoint as: teacher_cpt_epoch51.pth.tar\n"
     ]
    },
    {
     "name": "stderr",
     "output_type": "stream",
     "text": [
      "Teacher training 53/60: 100%|███████████████████████████████████████████████████████| 13/13 [00:13<00:00,  1.07s/batch]\n"
     ]
    },
    {
     "name": "stdout",
     "output_type": "stream",
     "text": [
      "Epoch 52, Loss: 0.8653020354417654\n",
      "0.12800000000000003\n",
      "Saved checkpoint as: teacher_cpt_epoch52.pth.tar\n"
     ]
    },
    {
     "name": "stderr",
     "output_type": "stream",
     "text": [
      "Teacher training 54/60: 100%|███████████████████████████████████████████████████████| 13/13 [00:13<00:00,  1.07s/batch]\n"
     ]
    },
    {
     "name": "stdout",
     "output_type": "stream",
     "text": [
      "Epoch 53, Loss: 0.8659281042905954\n",
      "0.12800000000000003\n",
      "0.10240000000000003\n",
      "Saved checkpoint as: teacher_cpt_epoch53.pth.tar\n"
     ]
    },
    {
     "name": "stderr",
     "output_type": "stream",
     "text": [
      "Teacher training 55/60: 100%|███████████████████████████████████████████████████████| 13/13 [00:14<00:00,  1.09s/batch]\n"
     ]
    },
    {
     "name": "stdout",
     "output_type": "stream",
     "text": [
      "Epoch 54, Loss: 0.8815758595099816\n",
      "0.10240000000000003\n",
      "0.08192000000000003\n",
      "Saved checkpoint as: teacher_cpt_epoch54.pth.tar\n"
     ]
    },
    {
     "name": "stderr",
     "output_type": "stream",
     "text": [
      "Teacher training 56/60: 100%|███████████████████████████████████████████████████████| 13/13 [00:15<00:00,  1.20s/batch]\n"
     ]
    },
    {
     "name": "stdout",
     "output_type": "stream",
     "text": [
      "Epoch 55, Loss: 0.876081828887646\n",
      "0.08192000000000003\n",
      "0.06553600000000002\n",
      "Saved checkpoint as: teacher_cpt_epoch55.pth.tar\n"
     ]
    },
    {
     "name": "stderr",
     "output_type": "stream",
     "text": [
      "Teacher training 57/60: 100%|███████████████████████████████████████████████████████| 13/13 [00:14<00:00,  1.14s/batch]\n"
     ]
    },
    {
     "name": "stdout",
     "output_type": "stream",
     "text": [
      "Epoch 56, Loss: 0.9058763430668757\n",
      "0.06553600000000002\n",
      "0.052428800000000025\n",
      "Saved checkpoint as: teacher_cpt_epoch56.pth.tar\n"
     ]
    },
    {
     "name": "stderr",
     "output_type": "stream",
     "text": [
      "Teacher training 58/60: 100%|███████████████████████████████████████████████████████| 13/13 [00:13<00:00,  1.07s/batch]\n"
     ]
    },
    {
     "name": "stdout",
     "output_type": "stream",
     "text": [
      "Epoch 57, Loss: 0.8672048174417936\n",
      "0.052428800000000025\n",
      "Saved checkpoint as: teacher_cpt_epoch57.pth.tar\n"
     ]
    },
    {
     "name": "stderr",
     "output_type": "stream",
     "text": [
      "Teacher training 59/60: 100%|███████████████████████████████████████████████████████| 13/13 [00:14<00:00,  1.08s/batch]\n"
     ]
    },
    {
     "name": "stdout",
     "output_type": "stream",
     "text": [
      "Epoch 58, Loss: 0.9315808552962083\n",
      "0.052428800000000025\n",
      "0.04194304000000002\n",
      "Saved checkpoint as: teacher_cpt_epoch58.pth.tar\n"
     ]
    },
    {
     "name": "stderr",
     "output_type": "stream",
     "text": [
      "Teacher training 60/60: 100%|███████████████████████████████████████████████████████| 13/13 [00:15<00:00,  1.18s/batch]\n"
     ]
    },
    {
     "name": "stdout",
     "output_type": "stream",
     "text": [
      "Epoch 59, Loss: 0.8355700969696045\n",
      "0.04194304000000002\n",
      "Saved checkpoint as: teacher_cpt_epoch59.pth.tar\n",
      "Finished Training Teacher\n"
     ]
    },
    {
     "name": "stderr",
     "output_type": "stream",
     "text": [
      "Teacher training 1/60: 100%|████████████████████████████████████████████████████████| 13/13 [00:14<00:00,  1.13s/batch]\n"
     ]
    },
    {
     "name": "stdout",
     "output_type": "stream",
     "text": [
      "Epoch 0, Loss: 0.9349367114213797\n",
      "0.04194304000000002\n",
      "Saved checkpoint as: teacher_cpt_epoch0.pth.tar\n"
     ]
    },
    {
     "name": "stderr",
     "output_type": "stream",
     "text": [
      "Teacher training 2/60: 100%|████████████████████████████████████████████████████████| 13/13 [00:14<00:00,  1.12s/batch]\n"
     ]
    },
    {
     "name": "stdout",
     "output_type": "stream",
     "text": [
      "Epoch 1, Loss: 0.9215546754690317\n",
      "0.04194304000000002\n",
      "Saved checkpoint as: teacher_cpt_epoch1.pth.tar\n"
     ]
    },
    {
     "name": "stderr",
     "output_type": "stream",
     "text": [
      "Teacher training 3/60: 100%|████████████████████████████████████████████████████████| 13/13 [00:15<00:00,  1.16s/batch]\n"
     ]
    },
    {
     "name": "stdout",
     "output_type": "stream",
     "text": [
      "Epoch 2, Loss: 0.8362065920462975\n",
      "0.04194304000000002\n",
      "Saved checkpoint as: teacher_cpt_epoch2.pth.tar\n"
     ]
    },
    {
     "name": "stderr",
     "output_type": "stream",
     "text": [
      "Teacher training 4/60: 100%|████████████████████████████████████████████████████████| 13/13 [00:14<00:00,  1.11s/batch]\n"
     ]
    },
    {
     "name": "stdout",
     "output_type": "stream",
     "text": [
      "Epoch 3, Loss: 0.9161943105550913\n",
      "0.04194304000000002\n",
      "Saved checkpoint as: teacher_cpt_epoch3.pth.tar\n"
     ]
    },
    {
     "name": "stderr",
     "output_type": "stream",
     "text": [
      "Teacher training 5/60: 100%|████████████████████████████████████████████████████████| 13/13 [00:15<00:00,  1.16s/batch]\n"
     ]
    },
    {
     "name": "stdout",
     "output_type": "stream",
     "text": [
      "Epoch 4, Loss: 0.9226934359623835\n",
      "0.04194304000000002\n",
      "Saved checkpoint as: teacher_cpt_epoch4.pth.tar\n"
     ]
    },
    {
     "name": "stderr",
     "output_type": "stream",
     "text": [
      "Teacher training 6/60: 100%|████████████████████████████████████████████████████████| 13/13 [00:14<00:00,  1.09s/batch]\n"
     ]
    },
    {
     "name": "stdout",
     "output_type": "stream",
     "text": [
      "Epoch 5, Loss: 0.934535223704118\n",
      "0.04194304000000002\n",
      "Saved checkpoint as: teacher_cpt_epoch5.pth.tar\n"
     ]
    },
    {
     "name": "stderr",
     "output_type": "stream",
     "text": [
      "Teacher training 7/60: 100%|████████████████████████████████████████████████████████| 13/13 [00:14<00:00,  1.08s/batch]\n"
     ]
    },
    {
     "name": "stdout",
     "output_type": "stream",
     "text": [
      "Epoch 6, Loss: 0.9580413699150085\n",
      "0.04194304000000002\n",
      "Saved checkpoint as: teacher_cpt_epoch6.pth.tar\n"
     ]
    },
    {
     "name": "stderr",
     "output_type": "stream",
     "text": [
      "Teacher training 8/60: 100%|████████████████████████████████████████████████████████| 13/13 [00:14<00:00,  1.12s/batch]\n"
     ]
    },
    {
     "name": "stdout",
     "output_type": "stream",
     "text": [
      "Epoch 7, Loss: 0.9183803705068735\n",
      "0.04194304000000002\n",
      "Saved checkpoint as: teacher_cpt_epoch7.pth.tar\n"
     ]
    },
    {
     "name": "stderr",
     "output_type": "stream",
     "text": [
      "Teacher training 9/60: 100%|████████████████████████████████████████████████████████| 13/13 [00:15<00:00,  1.20s/batch]\n"
     ]
    },
    {
     "name": "stdout",
     "output_type": "stream",
     "text": [
      "Epoch 8, Loss: 0.9138582394673274\n",
      "0.04194304000000002\n",
      "Saved checkpoint as: teacher_cpt_epoch8.pth.tar\n"
     ]
    },
    {
     "name": "stderr",
     "output_type": "stream",
     "text": [
      "Teacher training 10/60: 100%|███████████████████████████████████████████████████████| 13/13 [00:14<00:00,  1.10s/batch]\n"
     ]
    },
    {
     "name": "stdout",
     "output_type": "stream",
     "text": [
      "Epoch 9, Loss: 0.8865443468093872\n",
      "0.04194304000000002\n",
      "Saved checkpoint as: teacher_cpt_epoch9.pth.tar\n"
     ]
    },
    {
     "name": "stderr",
     "output_type": "stream",
     "text": [
      "Teacher training 11/60: 100%|███████████████████████████████████████████████████████| 13/13 [00:15<00:00,  1.21s/batch]\n"
     ]
    },
    {
     "name": "stdout",
     "output_type": "stream",
     "text": [
      "Epoch 10, Loss: 0.8799937000641456\n",
      "0.04194304000000002\n",
      "Saved checkpoint as: teacher_cpt_epoch10.pth.tar\n"
     ]
    },
    {
     "name": "stderr",
     "output_type": "stream",
     "text": [
      "Teacher training 12/60: 100%|███████████████████████████████████████████████████████| 13/13 [00:14<00:00,  1.13s/batch]\n"
     ]
    },
    {
     "name": "stdout",
     "output_type": "stream",
     "text": [
      "Epoch 11, Loss: 0.8539658509767972\n",
      "0.04194304000000002\n",
      "Saved checkpoint as: teacher_cpt_epoch11.pth.tar\n"
     ]
    },
    {
     "name": "stderr",
     "output_type": "stream",
     "text": [
      "Teacher training 13/60: 100%|███████████████████████████████████████████████████████| 13/13 [00:14<00:00,  1.14s/batch]\n"
     ]
    },
    {
     "name": "stdout",
     "output_type": "stream",
     "text": [
      "Epoch 12, Loss: 0.9397925596970779\n",
      "0.04194304000000002\n",
      "Saved checkpoint as: teacher_cpt_epoch12.pth.tar\n"
     ]
    },
    {
     "name": "stderr",
     "output_type": "stream",
     "text": [
      "Teacher training 14/60: 100%|███████████████████████████████████████████████████████| 13/13 [00:14<00:00,  1.12s/batch]\n"
     ]
    },
    {
     "name": "stdout",
     "output_type": "stream",
     "text": [
      "Epoch 13, Loss: 0.9117169242638808\n",
      "0.04194304000000002\n",
      "Saved checkpoint as: teacher_cpt_epoch13.pth.tar\n"
     ]
    },
    {
     "name": "stderr",
     "output_type": "stream",
     "text": [
      "Teacher training 15/60: 100%|███████████████████████████████████████████████████████| 13/13 [00:14<00:00,  1.10s/batch]\n"
     ]
    },
    {
     "name": "stdout",
     "output_type": "stream",
     "text": [
      "Epoch 14, Loss: 0.926636686691871\n",
      "0.04194304000000002\n",
      "Saved checkpoint as: teacher_cpt_epoch14.pth.tar\n"
     ]
    },
    {
     "name": "stderr",
     "output_type": "stream",
     "text": [
      "Teacher training 16/60: 100%|███████████████████████████████████████████████████████| 13/13 [00:14<00:00,  1.13s/batch]\n"
     ]
    },
    {
     "name": "stdout",
     "output_type": "stream",
     "text": [
      "Epoch 15, Loss: 0.9552412124780508\n",
      "0.04194304000000002\n",
      "Saved checkpoint as: teacher_cpt_epoch15.pth.tar\n"
     ]
    },
    {
     "name": "stderr",
     "output_type": "stream",
     "text": [
      "Teacher training 17/60: 100%|███████████████████████████████████████████████████████| 13/13 [00:15<00:00,  1.18s/batch]\n"
     ]
    },
    {
     "name": "stdout",
     "output_type": "stream",
     "text": [
      "Epoch 16, Loss: 0.8957323248569782\n",
      "0.04194304000000002\n",
      "Saved checkpoint as: teacher_cpt_epoch16.pth.tar\n"
     ]
    },
    {
     "name": "stderr",
     "output_type": "stream",
     "text": [
      "Teacher training 18/60: 100%|███████████████████████████████████████████████████████| 13/13 [00:14<00:00,  1.10s/batch]\n"
     ]
    },
    {
     "name": "stdout",
     "output_type": "stream",
     "text": [
      "Epoch 17, Loss: 0.9253315650499784\n",
      "0.04194304000000002\n",
      "Saved checkpoint as: teacher_cpt_epoch17.pth.tar\n"
     ]
    },
    {
     "name": "stderr",
     "output_type": "stream",
     "text": [
      "Teacher training 19/60: 100%|███████████████████████████████████████████████████████| 13/13 [00:15<00:00,  1.19s/batch]\n"
     ]
    },
    {
     "name": "stdout",
     "output_type": "stream",
     "text": [
      "Epoch 18, Loss: 0.8694994633014386\n",
      "0.04194304000000002\n",
      "Saved checkpoint as: teacher_cpt_epoch18.pth.tar\n"
     ]
    },
    {
     "name": "stderr",
     "output_type": "stream",
     "text": [
      "Teacher training 20/60: 100%|███████████████████████████████████████████████████████| 13/13 [00:14<00:00,  1.12s/batch]\n"
     ]
    },
    {
     "name": "stdout",
     "output_type": "stream",
     "text": [
      "Epoch 19, Loss: 0.9526783778117254\n",
      "0.04194304000000002\n",
      "Saved checkpoint as: teacher_cpt_epoch19.pth.tar\n"
     ]
    },
    {
     "name": "stderr",
     "output_type": "stream",
     "text": [
      "Teacher training 21/60: 100%|███████████████████████████████████████████████████████| 13/13 [00:14<00:00,  1.10s/batch]\n"
     ]
    },
    {
     "name": "stdout",
     "output_type": "stream",
     "text": [
      "Epoch 20, Loss: 0.922906219959259\n",
      "0.04194304000000002\n",
      "Saved checkpoint as: teacher_cpt_epoch20.pth.tar\n"
     ]
    },
    {
     "name": "stderr",
     "output_type": "stream",
     "text": [
      "Teacher training 22/60: 100%|███████████████████████████████████████████████████████| 13/13 [00:14<00:00,  1.08s/batch]\n"
     ]
    },
    {
     "name": "stdout",
     "output_type": "stream",
     "text": [
      "Epoch 21, Loss: 0.957759426190303\n",
      "0.04194304000000002\n",
      "Saved checkpoint as: teacher_cpt_epoch21.pth.tar\n"
     ]
    },
    {
     "name": "stderr",
     "output_type": "stream",
     "text": [
      "Teacher training 23/60: 100%|███████████████████████████████████████████████████████| 13/13 [00:14<00:00,  1.09s/batch]\n"
     ]
    },
    {
     "name": "stdout",
     "output_type": "stream",
     "text": [
      "Epoch 22, Loss: 0.9313935866722693\n",
      "0.04194304000000002\n",
      "Saved checkpoint as: teacher_cpt_epoch22.pth.tar\n"
     ]
    },
    {
     "name": "stderr",
     "output_type": "stream",
     "text": [
      "Teacher training 24/60: 100%|███████████████████████████████████████████████████████| 13/13 [00:14<00:00,  1.10s/batch]\n"
     ]
    },
    {
     "name": "stdout",
     "output_type": "stream",
     "text": [
      "Epoch 23, Loss: 0.9004880419144263\n",
      "0.04194304000000002\n",
      "Saved checkpoint as: teacher_cpt_epoch23.pth.tar\n"
     ]
    },
    {
     "name": "stderr",
     "output_type": "stream",
     "text": [
      "Teacher training 25/60: 100%|███████████████████████████████████████████████████████| 13/13 [00:14<00:00,  1.14s/batch]\n"
     ]
    },
    {
     "name": "stdout",
     "output_type": "stream",
     "text": [
      "Epoch 24, Loss: 0.9210587418996371\n",
      "0.04194304000000002\n",
      "Saved checkpoint as: teacher_cpt_epoch24.pth.tar\n"
     ]
    },
    {
     "name": "stderr",
     "output_type": "stream",
     "text": [
      "Teacher training 26/60: 100%|███████████████████████████████████████████████████████| 13/13 [00:14<00:00,  1.10s/batch]\n"
     ]
    },
    {
     "name": "stdout",
     "output_type": "stream",
     "text": [
      "Epoch 25, Loss: 0.9039259828053988\n",
      "0.04194304000000002\n",
      "Saved checkpoint as: teacher_cpt_epoch25.pth.tar\n"
     ]
    },
    {
     "name": "stderr",
     "output_type": "stream",
     "text": [
      "Teacher training 27/60: 100%|███████████████████████████████████████████████████████| 13/13 [00:14<00:00,  1.09s/batch]\n"
     ]
    },
    {
     "name": "stdout",
     "output_type": "stream",
     "text": [
      "Epoch 26, Loss: 0.8980567409442022\n",
      "0.04194304000000002\n",
      "Saved checkpoint as: teacher_cpt_epoch26.pth.tar\n"
     ]
    },
    {
     "name": "stderr",
     "output_type": "stream",
     "text": [
      "Teacher training 28/60: 100%|███████████████████████████████████████████████████████| 13/13 [00:14<00:00,  1.13s/batch]\n"
     ]
    },
    {
     "name": "stdout",
     "output_type": "stream",
     "text": [
      "Epoch 27, Loss: 0.8975606835805453\n",
      "0.04194304000000002\n",
      "Saved checkpoint as: teacher_cpt_epoch27.pth.tar\n"
     ]
    },
    {
     "name": "stderr",
     "output_type": "stream",
     "text": [
      "Teacher training 29/60: 100%|███████████████████████████████████████████████████████| 13/13 [00:14<00:00,  1.12s/batch]\n"
     ]
    },
    {
     "name": "stdout",
     "output_type": "stream",
     "text": [
      "Epoch 28, Loss: 0.9185059987581693\n",
      "0.04194304000000002\n",
      "Saved checkpoint as: teacher_cpt_epoch28.pth.tar\n"
     ]
    },
    {
     "name": "stderr",
     "output_type": "stream",
     "text": [
      "Teacher training 30/60: 100%|███████████████████████████████████████████████████████| 13/13 [00:14<00:00,  1.13s/batch]\n"
     ]
    },
    {
     "name": "stdout",
     "output_type": "stream",
     "text": [
      "Epoch 29, Loss: 0.8962939977645874\n",
      "0.04194304000000002\n",
      "Saved checkpoint as: teacher_cpt_epoch29.pth.tar\n"
     ]
    },
    {
     "name": "stderr",
     "output_type": "stream",
     "text": [
      "Teacher training 31/60: 100%|███████████████████████████████████████████████████████| 13/13 [00:14<00:00,  1.12s/batch]\n"
     ]
    },
    {
     "name": "stdout",
     "output_type": "stream",
     "text": [
      "Epoch 30, Loss: 0.8953267748539264\n",
      "0.04194304000000002\n",
      "Saved checkpoint as: teacher_cpt_epoch30.pth.tar\n"
     ]
    },
    {
     "name": "stderr",
     "output_type": "stream",
     "text": [
      "Teacher training 32/60: 100%|███████████████████████████████████████████████████████| 13/13 [00:14<00:00,  1.13s/batch]\n"
     ]
    },
    {
     "name": "stdout",
     "output_type": "stream",
     "text": [
      "Epoch 31, Loss: 0.8986908334952134\n",
      "0.04194304000000002\n",
      "Saved checkpoint as: teacher_cpt_epoch31.pth.tar\n"
     ]
    },
    {
     "name": "stderr",
     "output_type": "stream",
     "text": [
      "Teacher training 33/60: 100%|███████████████████████████████████████████████████████| 13/13 [00:14<00:00,  1.11s/batch]\n"
     ]
    },
    {
     "name": "stdout",
     "output_type": "stream",
     "text": [
      "Epoch 32, Loss: 0.9080470846249507\n",
      "0.04194304000000002\n",
      "Saved checkpoint as: teacher_cpt_epoch32.pth.tar\n"
     ]
    },
    {
     "name": "stderr",
     "output_type": "stream",
     "text": [
      "Teacher training 34/60: 100%|███████████████████████████████████████████████████████| 13/13 [00:14<00:00,  1.09s/batch]\n"
     ]
    },
    {
     "name": "stdout",
     "output_type": "stream",
     "text": [
      "Epoch 33, Loss: 0.9252111178178054\n",
      "0.04194304000000002\n",
      "Saved checkpoint as: teacher_cpt_epoch33.pth.tar\n"
     ]
    },
    {
     "name": "stderr",
     "output_type": "stream",
     "text": [
      "Teacher training 35/60: 100%|███████████████████████████████████████████████████████| 13/13 [00:14<00:00,  1.13s/batch]\n"
     ]
    },
    {
     "name": "stdout",
     "output_type": "stream",
     "text": [
      "Epoch 34, Loss: 0.8718855839509231\n",
      "0.04194304000000002\n",
      "Saved checkpoint as: teacher_cpt_epoch34.pth.tar\n"
     ]
    },
    {
     "name": "stderr",
     "output_type": "stream",
     "text": [
      "Teacher training 36/60:  15%|████████▌                                               | 2/13 [00:02<00:12,  1.13s/batch]\n"
     ]
    },
    {
     "ename": "KeyboardInterrupt",
     "evalue": "",
     "output_type": "error",
     "traceback": [
      "\u001b[1;31m---------------------------------------------------------------------------\u001b[0m",
      "\u001b[1;31mKeyboardInterrupt\u001b[0m                         Traceback (most recent call last)",
      "Cell \u001b[1;32mIn[22], line 1\u001b[0m\n\u001b[1;32m----> 1\u001b[0m test_train_teaher(teacher_student\u001b[38;5;241m.\u001b[39mteacher, feature_extractor, train_loader, device, torch_optimizer\u001b[38;5;241m.\u001b[39mLamb(\n\u001b[0;32m      2\u001b[0m     teacher_student\u001b[38;5;241m.\u001b[39mteacher\u001b[38;5;241m.\u001b[39mparameters(),\n\u001b[0;32m      3\u001b[0m     lr\u001b[38;5;241m=\u001b[39m \u001b[38;5;241m1e-3\u001b[39m,\n\u001b[0;32m      4\u001b[0m     betas\u001b[38;5;241m=\u001b[39m(\u001b[38;5;241m0.9\u001b[39m, \u001b[38;5;241m0.999\u001b[39m),\n\u001b[0;32m      5\u001b[0m     eps\u001b[38;5;241m=\u001b[39m\u001b[38;5;241m1e-8\u001b[39m,\n\u001b[0;32m      6\u001b[0m     weight_decay\u001b[38;5;241m=\u001b[39m\u001b[38;5;241m0\u001b[39m,\n\u001b[0;32m      7\u001b[0m ), \u001b[38;5;241m60\u001b[39m, \u001b[38;5;124m'\u001b[39m\u001b[38;5;124mLamb\u001b[39m\u001b[38;5;124m'\u001b[39m)\n",
      "Cell \u001b[1;32mIn[21], line 13\u001b[0m, in \u001b[0;36mtest_train_teaher\u001b[1;34m(teacher, feature_extractor, train_loader, device, optimizer, epoch, filename)\u001b[0m\n\u001b[0;32m     11\u001b[0m rl \u001b[38;5;241m=\u001b[39m train_teacher(teacher_student\u001b[38;5;241m.\u001b[39mteacher, feature_extractor, train_loader, device, optimizer, epoch, lrate\u001b[38;5;241m=\u001b[39m \u001b[38;5;241m0.2\u001b[39m)\n\u001b[0;32m     12\u001b[0m feature_extractor, teacher_student \u001b[38;5;241m=\u001b[39m reset_teacher_extractor(models\u001b[38;5;241m.\u001b[39mefficientnet_b3(pretrained\u001b[38;5;241m=\u001b[39m\u001b[38;5;28;01mTrue\u001b[39;00m))\n\u001b[1;32m---> 13\u001b[0m rl2 \u001b[38;5;241m=\u001b[39m train_teacher_const(teacher_student\u001b[38;5;241m.\u001b[39mteacher, feature_extractor, train_loader, device, optimizer, epoch)\n\u001b[0;32m     14\u001b[0m save_loss(\u001b[38;5;124mf\u001b[39m\u001b[38;5;124m'\u001b[39m\u001b[38;5;124mr\u001b[39m\u001b[38;5;132;01m{\u001b[39;00mfilename\u001b[38;5;132;01m}\u001b[39;00m\u001b[38;5;124m.txt\u001b[39m\u001b[38;5;124m'\u001b[39m,rl)\n\u001b[0;32m     15\u001b[0m save_loss(\u001b[38;5;124mf\u001b[39m\u001b[38;5;124m'\u001b[39m\u001b[38;5;124mr\u001b[39m\u001b[38;5;132;01m{\u001b[39;00mfilename\u001b[38;5;132;01m}\u001b[39;00m\u001b[38;5;124m2.txt\u001b[39m\u001b[38;5;124m'\u001b[39m,rl2)\n",
      "Cell \u001b[1;32mIn[6], line 16\u001b[0m, in \u001b[0;36mtrain_teacher_const\u001b[1;34m(teacher, feature_extractor, dataloader, device, optimizer, num_epochs, clip_value)\u001b[0m\n\u001b[0;32m     14\u001b[0m \u001b[38;5;28;01mfor\u001b[39;00m epoch \u001b[38;5;129;01min\u001b[39;00m \u001b[38;5;28mrange\u001b[39m(num_epochs):\n\u001b[0;32m     15\u001b[0m     running_loss \u001b[38;5;241m=\u001b[39m \u001b[38;5;241m0.0\u001b[39m\n\u001b[1;32m---> 16\u001b[0m     \u001b[38;5;28;01mfor\u001b[39;00m images, labels \u001b[38;5;129;01min\u001b[39;00m tqdm(dataloader, desc\u001b[38;5;241m=\u001b[39m\u001b[38;5;124mf\u001b[39m\u001b[38;5;124m'\u001b[39m\u001b[38;5;124mTeacher training \u001b[39m\u001b[38;5;132;01m{\u001b[39;00mepoch\u001b[38;5;241m+\u001b[39m\u001b[38;5;241m1\u001b[39m\u001b[38;5;132;01m}\u001b[39;00m\u001b[38;5;124m/\u001b[39m\u001b[38;5;132;01m{\u001b[39;00mnum_epochs\u001b[38;5;132;01m}\u001b[39;00m\u001b[38;5;124m'\u001b[39m, unit\u001b[38;5;241m=\u001b[39m\u001b[38;5;124m'\u001b[39m\u001b[38;5;124mbatch\u001b[39m\u001b[38;5;124m'\u001b[39m):\n\u001b[0;32m     17\u001b[0m         images, labels \u001b[38;5;241m=\u001b[39m images\u001b[38;5;241m.\u001b[39mto(device), labels\u001b[38;5;241m.\u001b[39mto(device)\n\u001b[0;32m     18\u001b[0m         features \u001b[38;5;241m=\u001b[39m feature_extractor(images)\n",
      "File \u001b[1;32m~\\anaconda3\\Lib\\site-packages\\tqdm\\std.py:1178\u001b[0m, in \u001b[0;36mtqdm.__iter__\u001b[1;34m(self)\u001b[0m\n\u001b[0;32m   1175\u001b[0m time \u001b[38;5;241m=\u001b[39m \u001b[38;5;28mself\u001b[39m\u001b[38;5;241m.\u001b[39m_time\n\u001b[0;32m   1177\u001b[0m \u001b[38;5;28;01mtry\u001b[39;00m:\n\u001b[1;32m-> 1178\u001b[0m     \u001b[38;5;28;01mfor\u001b[39;00m obj \u001b[38;5;129;01min\u001b[39;00m iterable:\n\u001b[0;32m   1179\u001b[0m         \u001b[38;5;28;01myield\u001b[39;00m obj\n\u001b[0;32m   1180\u001b[0m         \u001b[38;5;66;03m# Update and possibly print the progressbar.\u001b[39;00m\n\u001b[0;32m   1181\u001b[0m         \u001b[38;5;66;03m# Note: does not call self.update(1) for speed optimisation.\u001b[39;00m\n",
      "File \u001b[1;32m~\\anaconda3\\Lib\\site-packages\\torch\\utils\\data\\dataloader.py:631\u001b[0m, in \u001b[0;36m_BaseDataLoaderIter.__next__\u001b[1;34m(self)\u001b[0m\n\u001b[0;32m    628\u001b[0m \u001b[38;5;28;01mif\u001b[39;00m \u001b[38;5;28mself\u001b[39m\u001b[38;5;241m.\u001b[39m_sampler_iter \u001b[38;5;129;01mis\u001b[39;00m \u001b[38;5;28;01mNone\u001b[39;00m:\n\u001b[0;32m    629\u001b[0m     \u001b[38;5;66;03m# TODO(https://github.com/pytorch/pytorch/issues/76750)\u001b[39;00m\n\u001b[0;32m    630\u001b[0m     \u001b[38;5;28mself\u001b[39m\u001b[38;5;241m.\u001b[39m_reset()  \u001b[38;5;66;03m# type: ignore[call-arg]\u001b[39;00m\n\u001b[1;32m--> 631\u001b[0m data \u001b[38;5;241m=\u001b[39m \u001b[38;5;28mself\u001b[39m\u001b[38;5;241m.\u001b[39m_next_data()\n\u001b[0;32m    632\u001b[0m \u001b[38;5;28mself\u001b[39m\u001b[38;5;241m.\u001b[39m_num_yielded \u001b[38;5;241m+\u001b[39m\u001b[38;5;241m=\u001b[39m \u001b[38;5;241m1\u001b[39m\n\u001b[0;32m    633\u001b[0m \u001b[38;5;28;01mif\u001b[39;00m \u001b[38;5;28mself\u001b[39m\u001b[38;5;241m.\u001b[39m_dataset_kind \u001b[38;5;241m==\u001b[39m _DatasetKind\u001b[38;5;241m.\u001b[39mIterable \u001b[38;5;129;01mand\u001b[39;00m \\\n\u001b[0;32m    634\u001b[0m         \u001b[38;5;28mself\u001b[39m\u001b[38;5;241m.\u001b[39m_IterableDataset_len_called \u001b[38;5;129;01mis\u001b[39;00m \u001b[38;5;129;01mnot\u001b[39;00m \u001b[38;5;28;01mNone\u001b[39;00m \u001b[38;5;129;01mand\u001b[39;00m \\\n\u001b[0;32m    635\u001b[0m         \u001b[38;5;28mself\u001b[39m\u001b[38;5;241m.\u001b[39m_num_yielded \u001b[38;5;241m>\u001b[39m \u001b[38;5;28mself\u001b[39m\u001b[38;5;241m.\u001b[39m_IterableDataset_len_called:\n",
      "File \u001b[1;32m~\\anaconda3\\Lib\\site-packages\\torch\\utils\\data\\dataloader.py:675\u001b[0m, in \u001b[0;36m_SingleProcessDataLoaderIter._next_data\u001b[1;34m(self)\u001b[0m\n\u001b[0;32m    673\u001b[0m \u001b[38;5;28;01mdef\u001b[39;00m \u001b[38;5;21m_next_data\u001b[39m(\u001b[38;5;28mself\u001b[39m):\n\u001b[0;32m    674\u001b[0m     index \u001b[38;5;241m=\u001b[39m \u001b[38;5;28mself\u001b[39m\u001b[38;5;241m.\u001b[39m_next_index()  \u001b[38;5;66;03m# may raise StopIteration\u001b[39;00m\n\u001b[1;32m--> 675\u001b[0m     data \u001b[38;5;241m=\u001b[39m \u001b[38;5;28mself\u001b[39m\u001b[38;5;241m.\u001b[39m_dataset_fetcher\u001b[38;5;241m.\u001b[39mfetch(index)  \u001b[38;5;66;03m# may raise StopIteration\u001b[39;00m\n\u001b[0;32m    676\u001b[0m     \u001b[38;5;28;01mif\u001b[39;00m \u001b[38;5;28mself\u001b[39m\u001b[38;5;241m.\u001b[39m_pin_memory:\n\u001b[0;32m    677\u001b[0m         data \u001b[38;5;241m=\u001b[39m _utils\u001b[38;5;241m.\u001b[39mpin_memory\u001b[38;5;241m.\u001b[39mpin_memory(data, \u001b[38;5;28mself\u001b[39m\u001b[38;5;241m.\u001b[39m_pin_memory_device)\n",
      "File \u001b[1;32m~\\anaconda3\\Lib\\site-packages\\torch\\utils\\data\\_utils\\fetch.py:49\u001b[0m, in \u001b[0;36m_MapDatasetFetcher.fetch\u001b[1;34m(self, possibly_batched_index)\u001b[0m\n\u001b[0;32m     47\u001b[0m \u001b[38;5;28;01mif\u001b[39;00m \u001b[38;5;28mself\u001b[39m\u001b[38;5;241m.\u001b[39mauto_collation:\n\u001b[0;32m     48\u001b[0m     \u001b[38;5;28;01mif\u001b[39;00m \u001b[38;5;28mhasattr\u001b[39m(\u001b[38;5;28mself\u001b[39m\u001b[38;5;241m.\u001b[39mdataset, \u001b[38;5;124m\"\u001b[39m\u001b[38;5;124m__getitems__\u001b[39m\u001b[38;5;124m\"\u001b[39m) \u001b[38;5;129;01mand\u001b[39;00m \u001b[38;5;28mself\u001b[39m\u001b[38;5;241m.\u001b[39mdataset\u001b[38;5;241m.\u001b[39m__getitems__:\n\u001b[1;32m---> 49\u001b[0m         data \u001b[38;5;241m=\u001b[39m \u001b[38;5;28mself\u001b[39m\u001b[38;5;241m.\u001b[39mdataset\u001b[38;5;241m.\u001b[39m__getitems__(possibly_batched_index)\n\u001b[0;32m     50\u001b[0m     \u001b[38;5;28;01melse\u001b[39;00m:\n\u001b[0;32m     51\u001b[0m         data \u001b[38;5;241m=\u001b[39m [\u001b[38;5;28mself\u001b[39m\u001b[38;5;241m.\u001b[39mdataset[idx] \u001b[38;5;28;01mfor\u001b[39;00m idx \u001b[38;5;129;01min\u001b[39;00m possibly_batched_index]\n",
      "File \u001b[1;32m~\\anaconda3\\Lib\\site-packages\\torch\\utils\\data\\dataset.py:397\u001b[0m, in \u001b[0;36mSubset.__getitems__\u001b[1;34m(self, indices)\u001b[0m\n\u001b[0;32m    393\u001b[0m \u001b[38;5;28;01mdef\u001b[39;00m \u001b[38;5;21m__getitems__\u001b[39m(\u001b[38;5;28mself\u001b[39m, indices: List[\u001b[38;5;28mint\u001b[39m]) \u001b[38;5;241m-\u001b[39m\u001b[38;5;241m>\u001b[39m List[T_co]:\n\u001b[0;32m    394\u001b[0m     \u001b[38;5;66;03m# add batched sampling support when parent dataset supports it.\u001b[39;00m\n\u001b[0;32m    395\u001b[0m     \u001b[38;5;66;03m# see torch.utils.data._utils.fetch._MapDatasetFetcher\u001b[39;00m\n\u001b[0;32m    396\u001b[0m     \u001b[38;5;28;01mif\u001b[39;00m \u001b[38;5;28mcallable\u001b[39m(\u001b[38;5;28mgetattr\u001b[39m(\u001b[38;5;28mself\u001b[39m\u001b[38;5;241m.\u001b[39mdataset, \u001b[38;5;124m\"\u001b[39m\u001b[38;5;124m__getitems__\u001b[39m\u001b[38;5;124m\"\u001b[39m, \u001b[38;5;28;01mNone\u001b[39;00m)):\n\u001b[1;32m--> 397\u001b[0m         \u001b[38;5;28;01mreturn\u001b[39;00m \u001b[38;5;28mself\u001b[39m\u001b[38;5;241m.\u001b[39mdataset\u001b[38;5;241m.\u001b[39m__getitems__([\u001b[38;5;28mself\u001b[39m\u001b[38;5;241m.\u001b[39mindices[idx] \u001b[38;5;28;01mfor\u001b[39;00m idx \u001b[38;5;129;01min\u001b[39;00m indices])  \u001b[38;5;66;03m# type: ignore[attr-defined]\u001b[39;00m\n\u001b[0;32m    398\u001b[0m     \u001b[38;5;28;01melse\u001b[39;00m:\n\u001b[0;32m    399\u001b[0m         \u001b[38;5;28;01mreturn\u001b[39;00m [\u001b[38;5;28mself\u001b[39m\u001b[38;5;241m.\u001b[39mdataset[\u001b[38;5;28mself\u001b[39m\u001b[38;5;241m.\u001b[39mindices[idx]] \u001b[38;5;28;01mfor\u001b[39;00m idx \u001b[38;5;129;01min\u001b[39;00m indices]\n",
      "File \u001b[1;32m~\\anaconda3\\Lib\\site-packages\\torch\\utils\\data\\dataset.py:399\u001b[0m, in \u001b[0;36mSubset.__getitems__\u001b[1;34m(self, indices)\u001b[0m\n\u001b[0;32m    397\u001b[0m     \u001b[38;5;28;01mreturn\u001b[39;00m \u001b[38;5;28mself\u001b[39m\u001b[38;5;241m.\u001b[39mdataset\u001b[38;5;241m.\u001b[39m__getitems__([\u001b[38;5;28mself\u001b[39m\u001b[38;5;241m.\u001b[39mindices[idx] \u001b[38;5;28;01mfor\u001b[39;00m idx \u001b[38;5;129;01min\u001b[39;00m indices])  \u001b[38;5;66;03m# type: ignore[attr-defined]\u001b[39;00m\n\u001b[0;32m    398\u001b[0m \u001b[38;5;28;01melse\u001b[39;00m:\n\u001b[1;32m--> 399\u001b[0m     \u001b[38;5;28;01mreturn\u001b[39;00m [\u001b[38;5;28mself\u001b[39m\u001b[38;5;241m.\u001b[39mdataset[\u001b[38;5;28mself\u001b[39m\u001b[38;5;241m.\u001b[39mindices[idx]] \u001b[38;5;28;01mfor\u001b[39;00m idx \u001b[38;5;129;01min\u001b[39;00m indices]\n",
      "File \u001b[1;32m~\\anaconda3\\Lib\\site-packages\\torch\\utils\\data\\dataset.py:399\u001b[0m, in \u001b[0;36m<listcomp>\u001b[1;34m(.0)\u001b[0m\n\u001b[0;32m    397\u001b[0m     \u001b[38;5;28;01mreturn\u001b[39;00m \u001b[38;5;28mself\u001b[39m\u001b[38;5;241m.\u001b[39mdataset\u001b[38;5;241m.\u001b[39m__getitems__([\u001b[38;5;28mself\u001b[39m\u001b[38;5;241m.\u001b[39mindices[idx] \u001b[38;5;28;01mfor\u001b[39;00m idx \u001b[38;5;129;01min\u001b[39;00m indices])  \u001b[38;5;66;03m# type: ignore[attr-defined]\u001b[39;00m\n\u001b[0;32m    398\u001b[0m \u001b[38;5;28;01melse\u001b[39;00m:\n\u001b[1;32m--> 399\u001b[0m     \u001b[38;5;28;01mreturn\u001b[39;00m [\u001b[38;5;28mself\u001b[39m\u001b[38;5;241m.\u001b[39mdataset[\u001b[38;5;28mself\u001b[39m\u001b[38;5;241m.\u001b[39mindices[idx]] \u001b[38;5;28;01mfor\u001b[39;00m idx \u001b[38;5;129;01min\u001b[39;00m indices]\n",
      "Cell \u001b[1;32mIn[3], line 75\u001b[0m, in \u001b[0;36mRealFakeDataset.__getitem__\u001b[1;34m(self, idx)\u001b[0m\n\u001b[0;32m     72\u001b[0m label \u001b[38;5;241m=\u001b[39m \u001b[38;5;28mself\u001b[39m\u001b[38;5;241m.\u001b[39mlabels[idx]\n\u001b[0;32m     74\u001b[0m \u001b[38;5;28;01mif\u001b[39;00m \u001b[38;5;28mself\u001b[39m\u001b[38;5;241m.\u001b[39mtransform:\n\u001b[1;32m---> 75\u001b[0m     image \u001b[38;5;241m=\u001b[39m \u001b[38;5;28mself\u001b[39m\u001b[38;5;241m.\u001b[39mtransform(image)\n\u001b[0;32m     77\u001b[0m \u001b[38;5;28;01mreturn\u001b[39;00m image, label\n",
      "File \u001b[1;32m~\\anaconda3\\Lib\\site-packages\\torchvision\\transforms\\transforms.py:95\u001b[0m, in \u001b[0;36mCompose.__call__\u001b[1;34m(self, img)\u001b[0m\n\u001b[0;32m     93\u001b[0m \u001b[38;5;28;01mdef\u001b[39;00m \u001b[38;5;21m__call__\u001b[39m(\u001b[38;5;28mself\u001b[39m, img):\n\u001b[0;32m     94\u001b[0m     \u001b[38;5;28;01mfor\u001b[39;00m t \u001b[38;5;129;01min\u001b[39;00m \u001b[38;5;28mself\u001b[39m\u001b[38;5;241m.\u001b[39mtransforms:\n\u001b[1;32m---> 95\u001b[0m         img \u001b[38;5;241m=\u001b[39m t(img)\n\u001b[0;32m     96\u001b[0m     \u001b[38;5;28;01mreturn\u001b[39;00m img\n",
      "File \u001b[1;32m~\\anaconda3\\Lib\\site-packages\\torch\\nn\\modules\\module.py:1511\u001b[0m, in \u001b[0;36mModule._wrapped_call_impl\u001b[1;34m(self, *args, **kwargs)\u001b[0m\n\u001b[0;32m   1509\u001b[0m     \u001b[38;5;28;01mreturn\u001b[39;00m \u001b[38;5;28mself\u001b[39m\u001b[38;5;241m.\u001b[39m_compiled_call_impl(\u001b[38;5;241m*\u001b[39margs, \u001b[38;5;241m*\u001b[39m\u001b[38;5;241m*\u001b[39mkwargs)  \u001b[38;5;66;03m# type: ignore[misc]\u001b[39;00m\n\u001b[0;32m   1510\u001b[0m \u001b[38;5;28;01melse\u001b[39;00m:\n\u001b[1;32m-> 1511\u001b[0m     \u001b[38;5;28;01mreturn\u001b[39;00m \u001b[38;5;28mself\u001b[39m\u001b[38;5;241m.\u001b[39m_call_impl(\u001b[38;5;241m*\u001b[39margs, \u001b[38;5;241m*\u001b[39m\u001b[38;5;241m*\u001b[39mkwargs)\n",
      "File \u001b[1;32m~\\anaconda3\\Lib\\site-packages\\torch\\nn\\modules\\module.py:1520\u001b[0m, in \u001b[0;36mModule._call_impl\u001b[1;34m(self, *args, **kwargs)\u001b[0m\n\u001b[0;32m   1515\u001b[0m \u001b[38;5;66;03m# If we don't have any hooks, we want to skip the rest of the logic in\u001b[39;00m\n\u001b[0;32m   1516\u001b[0m \u001b[38;5;66;03m# this function, and just call forward.\u001b[39;00m\n\u001b[0;32m   1517\u001b[0m \u001b[38;5;28;01mif\u001b[39;00m \u001b[38;5;129;01mnot\u001b[39;00m (\u001b[38;5;28mself\u001b[39m\u001b[38;5;241m.\u001b[39m_backward_hooks \u001b[38;5;129;01mor\u001b[39;00m \u001b[38;5;28mself\u001b[39m\u001b[38;5;241m.\u001b[39m_backward_pre_hooks \u001b[38;5;129;01mor\u001b[39;00m \u001b[38;5;28mself\u001b[39m\u001b[38;5;241m.\u001b[39m_forward_hooks \u001b[38;5;129;01mor\u001b[39;00m \u001b[38;5;28mself\u001b[39m\u001b[38;5;241m.\u001b[39m_forward_pre_hooks\n\u001b[0;32m   1518\u001b[0m         \u001b[38;5;129;01mor\u001b[39;00m _global_backward_pre_hooks \u001b[38;5;129;01mor\u001b[39;00m _global_backward_hooks\n\u001b[0;32m   1519\u001b[0m         \u001b[38;5;129;01mor\u001b[39;00m _global_forward_hooks \u001b[38;5;129;01mor\u001b[39;00m _global_forward_pre_hooks):\n\u001b[1;32m-> 1520\u001b[0m     \u001b[38;5;28;01mreturn\u001b[39;00m forward_call(\u001b[38;5;241m*\u001b[39margs, \u001b[38;5;241m*\u001b[39m\u001b[38;5;241m*\u001b[39mkwargs)\n\u001b[0;32m   1522\u001b[0m \u001b[38;5;28;01mtry\u001b[39;00m:\n\u001b[0;32m   1523\u001b[0m     result \u001b[38;5;241m=\u001b[39m \u001b[38;5;28;01mNone\u001b[39;00m\n",
      "File \u001b[1;32m~\\anaconda3\\Lib\\site-packages\\torchvision\\transforms\\transforms.py:972\u001b[0m, in \u001b[0;36mRandomResizedCrop.forward\u001b[1;34m(self, img)\u001b[0m\n\u001b[0;32m    964\u001b[0m \u001b[38;5;28;01mdef\u001b[39;00m \u001b[38;5;21mforward\u001b[39m(\u001b[38;5;28mself\u001b[39m, img):\n\u001b[0;32m    965\u001b[0m \u001b[38;5;250m    \u001b[39m\u001b[38;5;124;03m\"\"\"\u001b[39;00m\n\u001b[0;32m    966\u001b[0m \u001b[38;5;124;03m    Args:\u001b[39;00m\n\u001b[0;32m    967\u001b[0m \u001b[38;5;124;03m        img (PIL Image or Tensor): Image to be cropped and resized.\u001b[39;00m\n\u001b[1;32m   (...)\u001b[0m\n\u001b[0;32m    970\u001b[0m \u001b[38;5;124;03m        PIL Image or Tensor: Randomly cropped and resized image.\u001b[39;00m\n\u001b[0;32m    971\u001b[0m \u001b[38;5;124;03m    \"\"\"\u001b[39;00m\n\u001b[1;32m--> 972\u001b[0m     i, j, h, w \u001b[38;5;241m=\u001b[39m \u001b[38;5;28mself\u001b[39m\u001b[38;5;241m.\u001b[39mget_params(img, \u001b[38;5;28mself\u001b[39m\u001b[38;5;241m.\u001b[39mscale, \u001b[38;5;28mself\u001b[39m\u001b[38;5;241m.\u001b[39mratio)\n\u001b[0;32m    973\u001b[0m     \u001b[38;5;28;01mreturn\u001b[39;00m F\u001b[38;5;241m.\u001b[39mresized_crop(img, i, j, h, w, \u001b[38;5;28mself\u001b[39m\u001b[38;5;241m.\u001b[39msize, \u001b[38;5;28mself\u001b[39m\u001b[38;5;241m.\u001b[39minterpolation, antialias\u001b[38;5;241m=\u001b[39m\u001b[38;5;28mself\u001b[39m\u001b[38;5;241m.\u001b[39mantialias)\n",
      "File \u001b[1;32m~\\anaconda3\\Lib\\site-packages\\torchvision\\transforms\\transforms.py:936\u001b[0m, in \u001b[0;36mRandomResizedCrop.get_params\u001b[1;34m(img, scale, ratio)\u001b[0m\n\u001b[0;32m    933\u001b[0m _, height, width \u001b[38;5;241m=\u001b[39m F\u001b[38;5;241m.\u001b[39mget_dimensions(img)\n\u001b[0;32m    934\u001b[0m area \u001b[38;5;241m=\u001b[39m height \u001b[38;5;241m*\u001b[39m width\n\u001b[1;32m--> 936\u001b[0m log_ratio \u001b[38;5;241m=\u001b[39m torch\u001b[38;5;241m.\u001b[39mlog(torch\u001b[38;5;241m.\u001b[39mtensor(ratio))\n\u001b[0;32m    937\u001b[0m \u001b[38;5;28;01mfor\u001b[39;00m _ \u001b[38;5;129;01min\u001b[39;00m \u001b[38;5;28mrange\u001b[39m(\u001b[38;5;241m10\u001b[39m):\n\u001b[0;32m    938\u001b[0m     target_area \u001b[38;5;241m=\u001b[39m area \u001b[38;5;241m*\u001b[39m torch\u001b[38;5;241m.\u001b[39mempty(\u001b[38;5;241m1\u001b[39m)\u001b[38;5;241m.\u001b[39muniform_(scale[\u001b[38;5;241m0\u001b[39m], scale[\u001b[38;5;241m1\u001b[39m])\u001b[38;5;241m.\u001b[39mitem()\n",
      "\u001b[1;31mKeyboardInterrupt\u001b[0m: "
     ]
    }
   ],
   "source": [
    "test_train_teaher(teacher_student.teacher, feature_extractor, train_loader, device, torch_optimizer.Lamb(\n",
    "    teacher_student.teacher.parameters(),\n",
    "    lr= 1e-3,\n",
    "    betas=(0.9, 0.999),\n",
    "    eps=1e-8,\n",
    "    weight_decay=0,\n",
    "), 60, 'Lamb')"
   ]
  },
  {
   "cell_type": "code",
   "execution_count": 23,
   "id": "a11a9a1e-3964-4cdf-a5bc-cb18fb097e47",
   "metadata": {
    "scrolled": true
   },
   "outputs": [
    {
     "name": "stderr",
     "output_type": "stream",
     "text": [
      "Teacher training 1/60:   0%|                                                                 | 0/13 [00:00<?, ?batch/s]C:\\Users\\Danila\\anaconda3\\Lib\\site-packages\\torch\\autograd\\__init__.py:266: UserWarning: Using backward() with create_graph=True will create a reference cycle between the parameter and its gradient which can cause a memory leak. We recommend using autograd.grad when creating the graph to avoid this. If you have to use this function, make sure to reset the .grad fields of your parameters to None after use to break the cycle and avoid the leak. (Triggered internally at ..\\torch\\csrc\\autograd\\engine.cpp:1182.)\n",
      "  Variable._execution_engine.run_backward(  # Calls into the C++ engine to run the backward pass\n",
      "Teacher training 1/60: 100%|████████████████████████████████████████████████████████| 13/13 [00:15<00:00,  1.16s/batch]\n"
     ]
    },
    {
     "name": "stdout",
     "output_type": "stream",
     "text": [
      "Epoch 0, Loss: 0.931872124855335\n",
      "0.2\n",
      "0.16000000000000003\n",
      "Saved checkpoint as: teacher_cpt_epoch0.pth.tar\n"
     ]
    },
    {
     "name": "stderr",
     "output_type": "stream",
     "text": [
      "Teacher training 2/60: 100%|████████████████████████████████████████████████████████| 13/13 [00:13<00:00,  1.02s/batch]\n"
     ]
    },
    {
     "name": "stdout",
     "output_type": "stream",
     "text": [
      "Epoch 1, Loss: 0.9193383546975943\n",
      "0.16000000000000003\n",
      "0.12800000000000003\n",
      "Saved checkpoint as: teacher_cpt_epoch1.pth.tar\n"
     ]
    },
    {
     "name": "stderr",
     "output_type": "stream",
     "text": [
      "Teacher training 3/60: 100%|████████████████████████████████████████████████████████| 13/13 [00:13<00:00,  1.02s/batch]\n"
     ]
    },
    {
     "name": "stdout",
     "output_type": "stream",
     "text": [
      "Epoch 2, Loss: 0.8744064431924087\n",
      "0.12800000000000003\n",
      "Saved checkpoint as: teacher_cpt_epoch2.pth.tar\n"
     ]
    },
    {
     "name": "stderr",
     "output_type": "stream",
     "text": [
      "Teacher training 4/60: 100%|████████████████████████████████████████████████████████| 13/13 [00:13<00:00,  1.02s/batch]\n"
     ]
    },
    {
     "name": "stdout",
     "output_type": "stream",
     "text": [
      "Epoch 3, Loss: 0.8403244293653048\n",
      "0.12800000000000003\n",
      "Saved checkpoint as: teacher_cpt_epoch3.pth.tar\n"
     ]
    },
    {
     "name": "stderr",
     "output_type": "stream",
     "text": [
      "Teacher training 5/60: 100%|████████████████████████████████████████████████████████| 13/13 [00:13<00:00,  1.02s/batch]\n"
     ]
    },
    {
     "name": "stdout",
     "output_type": "stream",
     "text": [
      "Epoch 4, Loss: 0.9063066381674546\n",
      "0.12800000000000003\n",
      "0.10240000000000003\n",
      "Saved checkpoint as: teacher_cpt_epoch4.pth.tar\n"
     ]
    },
    {
     "name": "stderr",
     "output_type": "stream",
     "text": [
      "Teacher training 6/60: 100%|████████████████████████████████████████████████████████| 13/13 [00:13<00:00,  1.02s/batch]\n"
     ]
    },
    {
     "name": "stdout",
     "output_type": "stream",
     "text": [
      "Epoch 5, Loss: 0.8702577856870798\n",
      "0.10240000000000003\n",
      "Saved checkpoint as: teacher_cpt_epoch5.pth.tar\n"
     ]
    },
    {
     "name": "stderr",
     "output_type": "stream",
     "text": [
      "Teacher training 7/60: 100%|████████████████████████████████████████████████████████| 13/13 [00:13<00:00,  1.03s/batch]\n"
     ]
    },
    {
     "name": "stdout",
     "output_type": "stream",
     "text": [
      "Epoch 6, Loss: 0.8891166998789861\n",
      "0.10240000000000003\n",
      "0.08192000000000003\n",
      "Saved checkpoint as: teacher_cpt_epoch6.pth.tar\n"
     ]
    },
    {
     "name": "stderr",
     "output_type": "stream",
     "text": [
      "Teacher training 8/60: 100%|████████████████████████████████████████████████████████| 13/13 [00:13<00:00,  1.02s/batch]\n"
     ]
    },
    {
     "name": "stdout",
     "output_type": "stream",
     "text": [
      "Epoch 7, Loss: 0.8724096371577337\n",
      "0.08192000000000003\n",
      "0.06553600000000002\n",
      "Saved checkpoint as: teacher_cpt_epoch7.pth.tar\n"
     ]
    },
    {
     "name": "stderr",
     "output_type": "stream",
     "text": [
      "Teacher training 9/60: 100%|████████████████████████████████████████████████████████| 13/13 [00:13<00:00,  1.02s/batch]\n"
     ]
    },
    {
     "name": "stdout",
     "output_type": "stream",
     "text": [
      "Epoch 8, Loss: 0.9217994809150696\n",
      "0.06553600000000002\n",
      "0.052428800000000025\n",
      "Saved checkpoint as: teacher_cpt_epoch8.pth.tar\n"
     ]
    },
    {
     "name": "stderr",
     "output_type": "stream",
     "text": [
      "Teacher training 10/60: 100%|███████████████████████████████████████████████████████| 13/13 [00:13<00:00,  1.02s/batch]\n"
     ]
    },
    {
     "name": "stdout",
     "output_type": "stream",
     "text": [
      "Epoch 9, Loss: 0.8445405639134921\n",
      "0.052428800000000025\n",
      "Saved checkpoint as: teacher_cpt_epoch9.pth.tar\n"
     ]
    },
    {
     "name": "stderr",
     "output_type": "stream",
     "text": [
      "Teacher training 11/60: 100%|███████████████████████████████████████████████████████| 13/13 [00:13<00:00,  1.01s/batch]\n"
     ]
    },
    {
     "name": "stdout",
     "output_type": "stream",
     "text": [
      "Epoch 10, Loss: 0.897252266223614\n",
      "0.2\n",
      "0.16000000000000003\n",
      "Saved checkpoint as: teacher_cpt_epoch10.pth.tar\n"
     ]
    },
    {
     "name": "stderr",
     "output_type": "stream",
     "text": [
      "Teacher training 12/60: 100%|███████████████████████████████████████████████████████| 13/13 [00:13<00:00,  1.02s/batch]\n"
     ]
    },
    {
     "name": "stdout",
     "output_type": "stream",
     "text": [
      "Epoch 11, Loss: 0.9287415697024419\n",
      "0.16000000000000003\n",
      "0.12800000000000003\n",
      "Saved checkpoint as: teacher_cpt_epoch11.pth.tar\n"
     ]
    },
    {
     "name": "stderr",
     "output_type": "stream",
     "text": [
      "Teacher training 13/60: 100%|███████████████████████████████████████████████████████| 13/13 [00:13<00:00,  1.04s/batch]\n"
     ]
    },
    {
     "name": "stdout",
     "output_type": "stream",
     "text": [
      "Epoch 12, Loss: 0.8826719293227563\n",
      "0.12800000000000003\n",
      "Saved checkpoint as: teacher_cpt_epoch12.pth.tar\n"
     ]
    },
    {
     "name": "stderr",
     "output_type": "stream",
     "text": [
      "Teacher training 14/60: 100%|███████████████████████████████████████████████████████| 13/13 [00:13<00:00,  1.03s/batch]\n"
     ]
    },
    {
     "name": "stdout",
     "output_type": "stream",
     "text": [
      "Epoch 13, Loss: 0.8884087617580707\n",
      "0.12800000000000003\n",
      "0.10240000000000003\n",
      "Saved checkpoint as: teacher_cpt_epoch13.pth.tar\n"
     ]
    },
    {
     "name": "stderr",
     "output_type": "stream",
     "text": [
      "Teacher training 15/60: 100%|███████████████████████████████████████████████████████| 13/13 [00:13<00:00,  1.02s/batch]\n"
     ]
    },
    {
     "name": "stdout",
     "output_type": "stream",
     "text": [
      "Epoch 14, Loss: 0.8960513518406794\n",
      "0.10240000000000003\n",
      "0.08192000000000003\n",
      "Saved checkpoint as: teacher_cpt_epoch14.pth.tar\n"
     ]
    },
    {
     "name": "stderr",
     "output_type": "stream",
     "text": [
      "Teacher training 16/60: 100%|███████████████████████████████████████████████████████| 13/13 [00:13<00:00,  1.02s/batch]\n"
     ]
    },
    {
     "name": "stdout",
     "output_type": "stream",
     "text": [
      "Epoch 15, Loss: 0.9004826041368338\n",
      "0.08192000000000003\n",
      "0.06553600000000002\n",
      "Saved checkpoint as: teacher_cpt_epoch15.pth.tar\n"
     ]
    },
    {
     "name": "stderr",
     "output_type": "stream",
     "text": [
      "Teacher training 17/60: 100%|███████████████████████████████████████████████████████| 13/13 [00:13<00:00,  1.01s/batch]\n"
     ]
    },
    {
     "name": "stdout",
     "output_type": "stream",
     "text": [
      "Epoch 16, Loss: 0.8813395133385291\n",
      "0.06553600000000002\n",
      "Saved checkpoint as: teacher_cpt_epoch16.pth.tar\n"
     ]
    },
    {
     "name": "stderr",
     "output_type": "stream",
     "text": [
      "Teacher training 18/60: 100%|███████████████████████████████████████████████████████| 13/13 [00:13<00:00,  1.01s/batch]\n"
     ]
    },
    {
     "name": "stdout",
     "output_type": "stream",
     "text": [
      "Epoch 17, Loss: 0.8795961462534391\n",
      "0.06553600000000002\n",
      "0.052428800000000025\n",
      "Saved checkpoint as: teacher_cpt_epoch17.pth.tar\n"
     ]
    },
    {
     "name": "stderr",
     "output_type": "stream",
     "text": [
      "Teacher training 19/60: 100%|███████████████████████████████████████████████████████| 13/13 [00:13<00:00,  1.02s/batch]\n"
     ]
    },
    {
     "name": "stdout",
     "output_type": "stream",
     "text": [
      "Epoch 18, Loss: 0.939319894864009\n",
      "0.052428800000000025\n",
      "0.04194304000000002\n",
      "Saved checkpoint as: teacher_cpt_epoch18.pth.tar\n"
     ]
    },
    {
     "name": "stderr",
     "output_type": "stream",
     "text": [
      "Teacher training 20/60: 100%|███████████████████████████████████████████████████████| 13/13 [00:13<00:00,  1.03s/batch]\n"
     ]
    },
    {
     "name": "stdout",
     "output_type": "stream",
     "text": [
      "Epoch 19, Loss: 0.874710697394151\n",
      "0.04194304000000002\n",
      "Saved checkpoint as: teacher_cpt_epoch19.pth.tar\n"
     ]
    },
    {
     "name": "stderr",
     "output_type": "stream",
     "text": [
      "Teacher training 21/60: 100%|███████████████████████████████████████████████████████| 13/13 [00:13<00:00,  1.04s/batch]\n"
     ]
    },
    {
     "name": "stdout",
     "output_type": "stream",
     "text": [
      "Epoch 20, Loss: 0.9258613494726328\n",
      "0.2\n",
      "0.16000000000000003\n",
      "Saved checkpoint as: teacher_cpt_epoch20.pth.tar\n"
     ]
    },
    {
     "name": "stderr",
     "output_type": "stream",
     "text": [
      "Teacher training 22/60: 100%|███████████████████████████████████████████████████████| 13/13 [00:13<00:00,  1.04s/batch]\n"
     ]
    },
    {
     "name": "stdout",
     "output_type": "stream",
     "text": [
      "Epoch 21, Loss: 0.9047938585281372\n",
      "0.16000000000000003\n",
      "Saved checkpoint as: teacher_cpt_epoch21.pth.tar\n"
     ]
    },
    {
     "name": "stderr",
     "output_type": "stream",
     "text": [
      "Teacher training 23/60: 100%|███████████████████████████████████████████████████████| 13/13 [00:13<00:00,  1.03s/batch]\n"
     ]
    },
    {
     "name": "stdout",
     "output_type": "stream",
     "text": [
      "Epoch 22, Loss: 0.8651635509270889\n",
      "0.16000000000000003\n",
      "Saved checkpoint as: teacher_cpt_epoch22.pth.tar\n"
     ]
    },
    {
     "name": "stderr",
     "output_type": "stream",
     "text": [
      "Teacher training 24/60: 100%|███████████████████████████████████████████████████████| 13/13 [00:13<00:00,  1.02s/batch]\n"
     ]
    },
    {
     "name": "stdout",
     "output_type": "stream",
     "text": [
      "Epoch 23, Loss: 0.8740327495795029\n",
      "0.16000000000000003\n",
      "0.12800000000000003\n",
      "Saved checkpoint as: teacher_cpt_epoch23.pth.tar\n"
     ]
    },
    {
     "name": "stderr",
     "output_type": "stream",
     "text": [
      "Teacher training 25/60: 100%|███████████████████████████████████████████████████████| 13/13 [00:13<00:00,  1.04s/batch]\n"
     ]
    },
    {
     "name": "stdout",
     "output_type": "stream",
     "text": [
      "Epoch 24, Loss: 0.9204526406068069\n",
      "0.12800000000000003\n",
      "0.10240000000000003\n",
      "Saved checkpoint as: teacher_cpt_epoch24.pth.tar\n"
     ]
    },
    {
     "name": "stderr",
     "output_type": "stream",
     "text": [
      "Teacher training 26/60: 100%|███████████████████████████████████████████████████████| 13/13 [00:13<00:00,  1.04s/batch]\n"
     ]
    },
    {
     "name": "stdout",
     "output_type": "stream",
     "text": [
      "Epoch 25, Loss: 0.8549760213265052\n",
      "0.10240000000000003\n",
      "Saved checkpoint as: teacher_cpt_epoch25.pth.tar\n"
     ]
    },
    {
     "name": "stderr",
     "output_type": "stream",
     "text": [
      "Teacher training 27/60: 100%|███████████████████████████████████████████████████████| 13/13 [00:13<00:00,  1.06s/batch]\n"
     ]
    },
    {
     "name": "stdout",
     "output_type": "stream",
     "text": [
      "Epoch 26, Loss: 0.9102248870409452\n",
      "0.10240000000000003\n",
      "0.08192000000000003\n",
      "Saved checkpoint as: teacher_cpt_epoch26.pth.tar\n"
     ]
    },
    {
     "name": "stderr",
     "output_type": "stream",
     "text": [
      "Teacher training 28/60: 100%|███████████████████████████████████████████████████████| 13/13 [00:13<00:00,  1.05s/batch]\n"
     ]
    },
    {
     "name": "stdout",
     "output_type": "stream",
     "text": [
      "Epoch 27, Loss: 0.898308799817012\n",
      "0.08192000000000003\n",
      "0.06553600000000002\n",
      "Saved checkpoint as: teacher_cpt_epoch27.pth.tar\n"
     ]
    },
    {
     "name": "stderr",
     "output_type": "stream",
     "text": [
      "Teacher training 29/60: 100%|███████████████████████████████████████████████████████| 13/13 [00:13<00:00,  1.04s/batch]\n"
     ]
    },
    {
     "name": "stdout",
     "output_type": "stream",
     "text": [
      "Epoch 28, Loss: 0.9386710707957928\n",
      "0.06553600000000002\n",
      "0.052428800000000025\n",
      "Saved checkpoint as: teacher_cpt_epoch28.pth.tar\n"
     ]
    },
    {
     "name": "stderr",
     "output_type": "stream",
     "text": [
      "Teacher training 30/60:  46%|█████████████████████████▊                              | 6/13 [00:06<00:07,  1.08s/batch]\n"
     ]
    },
    {
     "ename": "KeyboardInterrupt",
     "evalue": "",
     "output_type": "error",
     "traceback": [
      "\u001b[1;31m---------------------------------------------------------------------------\u001b[0m",
      "\u001b[1;31mKeyboardInterrupt\u001b[0m                         Traceback (most recent call last)",
      "Cell \u001b[1;32mIn[23], line 1\u001b[0m\n\u001b[1;32m----> 1\u001b[0m test_train_teaher(teacher_student\u001b[38;5;241m.\u001b[39mteacher, feature_extractor, train_loader, device, torch_optimizer\u001b[38;5;241m.\u001b[39mMADGRAD(\n\u001b[0;32m      2\u001b[0m     teacher_student\u001b[38;5;241m.\u001b[39mteacher\u001b[38;5;241m.\u001b[39mparameters(),\n\u001b[0;32m      3\u001b[0m     lr\u001b[38;5;241m=\u001b[39m\u001b[38;5;241m1e-2\u001b[39m,\n\u001b[0;32m      4\u001b[0m     momentum\u001b[38;5;241m=\u001b[39m\u001b[38;5;241m0.9\u001b[39m,\n\u001b[0;32m      5\u001b[0m     weight_decay\u001b[38;5;241m=\u001b[39m\u001b[38;5;241m0\u001b[39m,\n\u001b[0;32m      6\u001b[0m     eps\u001b[38;5;241m=\u001b[39m\u001b[38;5;241m1e-6\u001b[39m,\n\u001b[0;32m      7\u001b[0m ), \u001b[38;5;241m60\u001b[39m, \u001b[38;5;124m'\u001b[39m\u001b[38;5;124mMADGRAD\u001b[39m\u001b[38;5;124m'\u001b[39m)\n",
      "Cell \u001b[1;32mIn[22], line 11\u001b[0m, in \u001b[0;36mtest_train_teaher\u001b[1;34m(teacher, feature_extractor, train_loader, device, optimizer, epoch, filename)\u001b[0m\n\u001b[0;32m      9\u001b[0m \u001b[38;5;28;01mdef\u001b[39;00m \u001b[38;5;21mtest_train_teaher\u001b[39m(teacher, feature_extractor, train_loader, device, optimizer, epoch, filename):\n\u001b[0;32m     10\u001b[0m     feature_extractor, teacher_student \u001b[38;5;241m=\u001b[39m reset_teacher_extractor(models\u001b[38;5;241m.\u001b[39mefficientnet_b3(pretrained\u001b[38;5;241m=\u001b[39m\u001b[38;5;28;01mTrue\u001b[39;00m))\n\u001b[1;32m---> 11\u001b[0m     rl \u001b[38;5;241m=\u001b[39m train_teacher(teacher_student\u001b[38;5;241m.\u001b[39mteacher, feature_extractor, train_loader, device, optimizer, epoch, lrate\u001b[38;5;241m=\u001b[39m \u001b[38;5;241m0.2\u001b[39m)\n\u001b[0;32m     13\u001b[0m     save_loss(\u001b[38;5;124mf\u001b[39m\u001b[38;5;124m'\u001b[39m\u001b[38;5;124mr\u001b[39m\u001b[38;5;132;01m{\u001b[39;00mfilename\u001b[38;5;132;01m}\u001b[39;00m\u001b[38;5;124m.txt\u001b[39m\u001b[38;5;124m'\u001b[39m,rl)\n\u001b[0;32m     14\u001b[0m     \u001b[38;5;28;01mreturn\u001b[39;00m rl\n",
      "Cell \u001b[1;32mIn[8], line 19\u001b[0m, in \u001b[0;36mtrain_teacher\u001b[1;34m(teacher, feature_extractor, dataloader, device, optimizer, num_epochs, clip_value, lrate)\u001b[0m\n\u001b[0;32m     17\u001b[0m     optimizer\u001b[38;5;241m.\u001b[39mparam_groups[\u001b[38;5;241m0\u001b[39m][\u001b[38;5;124m'\u001b[39m\u001b[38;5;124mlr\u001b[39m\u001b[38;5;124m'\u001b[39m] \u001b[38;5;241m=\u001b[39m lrate\n\u001b[0;32m     18\u001b[0m running_loss \u001b[38;5;241m=\u001b[39m \u001b[38;5;241m0.0\u001b[39m\n\u001b[1;32m---> 19\u001b[0m \u001b[38;5;28;01mfor\u001b[39;00m images, labels \u001b[38;5;129;01min\u001b[39;00m tqdm(dataloader, desc\u001b[38;5;241m=\u001b[39m\u001b[38;5;124mf\u001b[39m\u001b[38;5;124m'\u001b[39m\u001b[38;5;124mTeacher training \u001b[39m\u001b[38;5;132;01m{\u001b[39;00mepoch\u001b[38;5;241m+\u001b[39m\u001b[38;5;241m1\u001b[39m\u001b[38;5;132;01m}\u001b[39;00m\u001b[38;5;124m/\u001b[39m\u001b[38;5;132;01m{\u001b[39;00mnum_epochs\u001b[38;5;132;01m}\u001b[39;00m\u001b[38;5;124m'\u001b[39m, unit\u001b[38;5;241m=\u001b[39m\u001b[38;5;124m'\u001b[39m\u001b[38;5;124mbatch\u001b[39m\u001b[38;5;124m'\u001b[39m):\n\u001b[0;32m     20\u001b[0m     images, labels \u001b[38;5;241m=\u001b[39m images\u001b[38;5;241m.\u001b[39mto(device), labels\u001b[38;5;241m.\u001b[39mto(device)\n\u001b[0;32m     21\u001b[0m     features \u001b[38;5;241m=\u001b[39m feature_extractor(images)\n",
      "File \u001b[1;32m~\\anaconda3\\Lib\\site-packages\\tqdm\\std.py:1178\u001b[0m, in \u001b[0;36mtqdm.__iter__\u001b[1;34m(self)\u001b[0m\n\u001b[0;32m   1175\u001b[0m time \u001b[38;5;241m=\u001b[39m \u001b[38;5;28mself\u001b[39m\u001b[38;5;241m.\u001b[39m_time\n\u001b[0;32m   1177\u001b[0m \u001b[38;5;28;01mtry\u001b[39;00m:\n\u001b[1;32m-> 1178\u001b[0m     \u001b[38;5;28;01mfor\u001b[39;00m obj \u001b[38;5;129;01min\u001b[39;00m iterable:\n\u001b[0;32m   1179\u001b[0m         \u001b[38;5;28;01myield\u001b[39;00m obj\n\u001b[0;32m   1180\u001b[0m         \u001b[38;5;66;03m# Update and possibly print the progressbar.\u001b[39;00m\n\u001b[0;32m   1181\u001b[0m         \u001b[38;5;66;03m# Note: does not call self.update(1) for speed optimisation.\u001b[39;00m\n",
      "File \u001b[1;32m~\\anaconda3\\Lib\\site-packages\\torch\\utils\\data\\dataloader.py:631\u001b[0m, in \u001b[0;36m_BaseDataLoaderIter.__next__\u001b[1;34m(self)\u001b[0m\n\u001b[0;32m    628\u001b[0m \u001b[38;5;28;01mif\u001b[39;00m \u001b[38;5;28mself\u001b[39m\u001b[38;5;241m.\u001b[39m_sampler_iter \u001b[38;5;129;01mis\u001b[39;00m \u001b[38;5;28;01mNone\u001b[39;00m:\n\u001b[0;32m    629\u001b[0m     \u001b[38;5;66;03m# TODO(https://github.com/pytorch/pytorch/issues/76750)\u001b[39;00m\n\u001b[0;32m    630\u001b[0m     \u001b[38;5;28mself\u001b[39m\u001b[38;5;241m.\u001b[39m_reset()  \u001b[38;5;66;03m# type: ignore[call-arg]\u001b[39;00m\n\u001b[1;32m--> 631\u001b[0m data \u001b[38;5;241m=\u001b[39m \u001b[38;5;28mself\u001b[39m\u001b[38;5;241m.\u001b[39m_next_data()\n\u001b[0;32m    632\u001b[0m \u001b[38;5;28mself\u001b[39m\u001b[38;5;241m.\u001b[39m_num_yielded \u001b[38;5;241m+\u001b[39m\u001b[38;5;241m=\u001b[39m \u001b[38;5;241m1\u001b[39m\n\u001b[0;32m    633\u001b[0m \u001b[38;5;28;01mif\u001b[39;00m \u001b[38;5;28mself\u001b[39m\u001b[38;5;241m.\u001b[39m_dataset_kind \u001b[38;5;241m==\u001b[39m _DatasetKind\u001b[38;5;241m.\u001b[39mIterable \u001b[38;5;129;01mand\u001b[39;00m \\\n\u001b[0;32m    634\u001b[0m         \u001b[38;5;28mself\u001b[39m\u001b[38;5;241m.\u001b[39m_IterableDataset_len_called \u001b[38;5;129;01mis\u001b[39;00m \u001b[38;5;129;01mnot\u001b[39;00m \u001b[38;5;28;01mNone\u001b[39;00m \u001b[38;5;129;01mand\u001b[39;00m \\\n\u001b[0;32m    635\u001b[0m         \u001b[38;5;28mself\u001b[39m\u001b[38;5;241m.\u001b[39m_num_yielded \u001b[38;5;241m>\u001b[39m \u001b[38;5;28mself\u001b[39m\u001b[38;5;241m.\u001b[39m_IterableDataset_len_called:\n",
      "File \u001b[1;32m~\\anaconda3\\Lib\\site-packages\\torch\\utils\\data\\dataloader.py:675\u001b[0m, in \u001b[0;36m_SingleProcessDataLoaderIter._next_data\u001b[1;34m(self)\u001b[0m\n\u001b[0;32m    673\u001b[0m \u001b[38;5;28;01mdef\u001b[39;00m \u001b[38;5;21m_next_data\u001b[39m(\u001b[38;5;28mself\u001b[39m):\n\u001b[0;32m    674\u001b[0m     index \u001b[38;5;241m=\u001b[39m \u001b[38;5;28mself\u001b[39m\u001b[38;5;241m.\u001b[39m_next_index()  \u001b[38;5;66;03m# may raise StopIteration\u001b[39;00m\n\u001b[1;32m--> 675\u001b[0m     data \u001b[38;5;241m=\u001b[39m \u001b[38;5;28mself\u001b[39m\u001b[38;5;241m.\u001b[39m_dataset_fetcher\u001b[38;5;241m.\u001b[39mfetch(index)  \u001b[38;5;66;03m# may raise StopIteration\u001b[39;00m\n\u001b[0;32m    676\u001b[0m     \u001b[38;5;28;01mif\u001b[39;00m \u001b[38;5;28mself\u001b[39m\u001b[38;5;241m.\u001b[39m_pin_memory:\n\u001b[0;32m    677\u001b[0m         data \u001b[38;5;241m=\u001b[39m _utils\u001b[38;5;241m.\u001b[39mpin_memory\u001b[38;5;241m.\u001b[39mpin_memory(data, \u001b[38;5;28mself\u001b[39m\u001b[38;5;241m.\u001b[39m_pin_memory_device)\n",
      "File \u001b[1;32m~\\anaconda3\\Lib\\site-packages\\torch\\utils\\data\\_utils\\fetch.py:49\u001b[0m, in \u001b[0;36m_MapDatasetFetcher.fetch\u001b[1;34m(self, possibly_batched_index)\u001b[0m\n\u001b[0;32m     47\u001b[0m \u001b[38;5;28;01mif\u001b[39;00m \u001b[38;5;28mself\u001b[39m\u001b[38;5;241m.\u001b[39mauto_collation:\n\u001b[0;32m     48\u001b[0m     \u001b[38;5;28;01mif\u001b[39;00m \u001b[38;5;28mhasattr\u001b[39m(\u001b[38;5;28mself\u001b[39m\u001b[38;5;241m.\u001b[39mdataset, \u001b[38;5;124m\"\u001b[39m\u001b[38;5;124m__getitems__\u001b[39m\u001b[38;5;124m\"\u001b[39m) \u001b[38;5;129;01mand\u001b[39;00m \u001b[38;5;28mself\u001b[39m\u001b[38;5;241m.\u001b[39mdataset\u001b[38;5;241m.\u001b[39m__getitems__:\n\u001b[1;32m---> 49\u001b[0m         data \u001b[38;5;241m=\u001b[39m \u001b[38;5;28mself\u001b[39m\u001b[38;5;241m.\u001b[39mdataset\u001b[38;5;241m.\u001b[39m__getitems__(possibly_batched_index)\n\u001b[0;32m     50\u001b[0m     \u001b[38;5;28;01melse\u001b[39;00m:\n\u001b[0;32m     51\u001b[0m         data \u001b[38;5;241m=\u001b[39m [\u001b[38;5;28mself\u001b[39m\u001b[38;5;241m.\u001b[39mdataset[idx] \u001b[38;5;28;01mfor\u001b[39;00m idx \u001b[38;5;129;01min\u001b[39;00m possibly_batched_index]\n",
      "File \u001b[1;32m~\\anaconda3\\Lib\\site-packages\\torch\\utils\\data\\dataset.py:397\u001b[0m, in \u001b[0;36mSubset.__getitems__\u001b[1;34m(self, indices)\u001b[0m\n\u001b[0;32m    393\u001b[0m \u001b[38;5;28;01mdef\u001b[39;00m \u001b[38;5;21m__getitems__\u001b[39m(\u001b[38;5;28mself\u001b[39m, indices: List[\u001b[38;5;28mint\u001b[39m]) \u001b[38;5;241m-\u001b[39m\u001b[38;5;241m>\u001b[39m List[T_co]:\n\u001b[0;32m    394\u001b[0m     \u001b[38;5;66;03m# add batched sampling support when parent dataset supports it.\u001b[39;00m\n\u001b[0;32m    395\u001b[0m     \u001b[38;5;66;03m# see torch.utils.data._utils.fetch._MapDatasetFetcher\u001b[39;00m\n\u001b[0;32m    396\u001b[0m     \u001b[38;5;28;01mif\u001b[39;00m \u001b[38;5;28mcallable\u001b[39m(\u001b[38;5;28mgetattr\u001b[39m(\u001b[38;5;28mself\u001b[39m\u001b[38;5;241m.\u001b[39mdataset, \u001b[38;5;124m\"\u001b[39m\u001b[38;5;124m__getitems__\u001b[39m\u001b[38;5;124m\"\u001b[39m, \u001b[38;5;28;01mNone\u001b[39;00m)):\n\u001b[1;32m--> 397\u001b[0m         \u001b[38;5;28;01mreturn\u001b[39;00m \u001b[38;5;28mself\u001b[39m\u001b[38;5;241m.\u001b[39mdataset\u001b[38;5;241m.\u001b[39m__getitems__([\u001b[38;5;28mself\u001b[39m\u001b[38;5;241m.\u001b[39mindices[idx] \u001b[38;5;28;01mfor\u001b[39;00m idx \u001b[38;5;129;01min\u001b[39;00m indices])  \u001b[38;5;66;03m# type: ignore[attr-defined]\u001b[39;00m\n\u001b[0;32m    398\u001b[0m     \u001b[38;5;28;01melse\u001b[39;00m:\n\u001b[0;32m    399\u001b[0m         \u001b[38;5;28;01mreturn\u001b[39;00m [\u001b[38;5;28mself\u001b[39m\u001b[38;5;241m.\u001b[39mdataset[\u001b[38;5;28mself\u001b[39m\u001b[38;5;241m.\u001b[39mindices[idx]] \u001b[38;5;28;01mfor\u001b[39;00m idx \u001b[38;5;129;01min\u001b[39;00m indices]\n",
      "File \u001b[1;32m~\\anaconda3\\Lib\\site-packages\\torch\\utils\\data\\dataset.py:399\u001b[0m, in \u001b[0;36mSubset.__getitems__\u001b[1;34m(self, indices)\u001b[0m\n\u001b[0;32m    397\u001b[0m     \u001b[38;5;28;01mreturn\u001b[39;00m \u001b[38;5;28mself\u001b[39m\u001b[38;5;241m.\u001b[39mdataset\u001b[38;5;241m.\u001b[39m__getitems__([\u001b[38;5;28mself\u001b[39m\u001b[38;5;241m.\u001b[39mindices[idx] \u001b[38;5;28;01mfor\u001b[39;00m idx \u001b[38;5;129;01min\u001b[39;00m indices])  \u001b[38;5;66;03m# type: ignore[attr-defined]\u001b[39;00m\n\u001b[0;32m    398\u001b[0m \u001b[38;5;28;01melse\u001b[39;00m:\n\u001b[1;32m--> 399\u001b[0m     \u001b[38;5;28;01mreturn\u001b[39;00m [\u001b[38;5;28mself\u001b[39m\u001b[38;5;241m.\u001b[39mdataset[\u001b[38;5;28mself\u001b[39m\u001b[38;5;241m.\u001b[39mindices[idx]] \u001b[38;5;28;01mfor\u001b[39;00m idx \u001b[38;5;129;01min\u001b[39;00m indices]\n",
      "File \u001b[1;32m~\\anaconda3\\Lib\\site-packages\\torch\\utils\\data\\dataset.py:399\u001b[0m, in \u001b[0;36m<listcomp>\u001b[1;34m(.0)\u001b[0m\n\u001b[0;32m    397\u001b[0m     \u001b[38;5;28;01mreturn\u001b[39;00m \u001b[38;5;28mself\u001b[39m\u001b[38;5;241m.\u001b[39mdataset\u001b[38;5;241m.\u001b[39m__getitems__([\u001b[38;5;28mself\u001b[39m\u001b[38;5;241m.\u001b[39mindices[idx] \u001b[38;5;28;01mfor\u001b[39;00m idx \u001b[38;5;129;01min\u001b[39;00m indices])  \u001b[38;5;66;03m# type: ignore[attr-defined]\u001b[39;00m\n\u001b[0;32m    398\u001b[0m \u001b[38;5;28;01melse\u001b[39;00m:\n\u001b[1;32m--> 399\u001b[0m     \u001b[38;5;28;01mreturn\u001b[39;00m [\u001b[38;5;28mself\u001b[39m\u001b[38;5;241m.\u001b[39mdataset[\u001b[38;5;28mself\u001b[39m\u001b[38;5;241m.\u001b[39mindices[idx]] \u001b[38;5;28;01mfor\u001b[39;00m idx \u001b[38;5;129;01min\u001b[39;00m indices]\n",
      "Cell \u001b[1;32mIn[6], line 71\u001b[0m, in \u001b[0;36mRealFakeDataset.__getitem__\u001b[1;34m(self, idx)\u001b[0m\n\u001b[0;32m     69\u001b[0m \u001b[38;5;28;01mdef\u001b[39;00m \u001b[38;5;21m__getitem__\u001b[39m(\u001b[38;5;28mself\u001b[39m, idx):\n\u001b[0;32m     70\u001b[0m     img_path \u001b[38;5;241m=\u001b[39m \u001b[38;5;28mself\u001b[39m\u001b[38;5;241m.\u001b[39mimage_paths[idx]\n\u001b[1;32m---> 71\u001b[0m     image \u001b[38;5;241m=\u001b[39m Image\u001b[38;5;241m.\u001b[39mopen(img_path)\u001b[38;5;241m.\u001b[39mconvert(\u001b[38;5;124m'\u001b[39m\u001b[38;5;124mRGB\u001b[39m\u001b[38;5;124m'\u001b[39m)\n\u001b[0;32m     72\u001b[0m     label \u001b[38;5;241m=\u001b[39m \u001b[38;5;28mself\u001b[39m\u001b[38;5;241m.\u001b[39mlabels[idx]\n\u001b[0;32m     74\u001b[0m     \u001b[38;5;28;01mif\u001b[39;00m \u001b[38;5;28mself\u001b[39m\u001b[38;5;241m.\u001b[39mtransform:\n",
      "File \u001b[1;32m~\\anaconda3\\Lib\\site-packages\\PIL\\Image.py:937\u001b[0m, in \u001b[0;36mImage.convert\u001b[1;34m(self, mode, matrix, dither, palette, colors)\u001b[0m\n\u001b[0;32m    889\u001b[0m \u001b[38;5;28;01mdef\u001b[39;00m \u001b[38;5;21mconvert\u001b[39m(\n\u001b[0;32m    890\u001b[0m     \u001b[38;5;28mself\u001b[39m, mode\u001b[38;5;241m=\u001b[39m\u001b[38;5;28;01mNone\u001b[39;00m, matrix\u001b[38;5;241m=\u001b[39m\u001b[38;5;28;01mNone\u001b[39;00m, dither\u001b[38;5;241m=\u001b[39m\u001b[38;5;28;01mNone\u001b[39;00m, palette\u001b[38;5;241m=\u001b[39mPalette\u001b[38;5;241m.\u001b[39mWEB, colors\u001b[38;5;241m=\u001b[39m\u001b[38;5;241m256\u001b[39m\n\u001b[0;32m    891\u001b[0m ):\n\u001b[0;32m    892\u001b[0m \u001b[38;5;250m    \u001b[39m\u001b[38;5;124;03m\"\"\"\u001b[39;00m\n\u001b[0;32m    893\u001b[0m \u001b[38;5;124;03m    Returns a converted copy of this image. For the \"P\" mode, this\u001b[39;00m\n\u001b[0;32m    894\u001b[0m \u001b[38;5;124;03m    method translates pixels through the palette.  If mode is\u001b[39;00m\n\u001b[1;32m   (...)\u001b[0m\n\u001b[0;32m    934\u001b[0m \u001b[38;5;124;03m    :returns: An :py:class:`~PIL.Image.Image` object.\u001b[39;00m\n\u001b[0;32m    935\u001b[0m \u001b[38;5;124;03m    \"\"\"\u001b[39;00m\n\u001b[1;32m--> 937\u001b[0m     \u001b[38;5;28mself\u001b[39m\u001b[38;5;241m.\u001b[39mload()\n\u001b[0;32m    939\u001b[0m     has_transparency \u001b[38;5;241m=\u001b[39m \u001b[38;5;28mself\u001b[39m\u001b[38;5;241m.\u001b[39minfo\u001b[38;5;241m.\u001b[39mget(\u001b[38;5;124m\"\u001b[39m\u001b[38;5;124mtransparency\u001b[39m\u001b[38;5;124m\"\u001b[39m) \u001b[38;5;129;01mis\u001b[39;00m \u001b[38;5;129;01mnot\u001b[39;00m \u001b[38;5;28;01mNone\u001b[39;00m\n\u001b[0;32m    940\u001b[0m     \u001b[38;5;28;01mif\u001b[39;00m \u001b[38;5;129;01mnot\u001b[39;00m mode \u001b[38;5;129;01mand\u001b[39;00m \u001b[38;5;28mself\u001b[39m\u001b[38;5;241m.\u001b[39mmode \u001b[38;5;241m==\u001b[39m \u001b[38;5;124m\"\u001b[39m\u001b[38;5;124mP\u001b[39m\u001b[38;5;124m\"\u001b[39m:\n\u001b[0;32m    941\u001b[0m         \u001b[38;5;66;03m# determine default mode\u001b[39;00m\n",
      "File \u001b[1;32m~\\anaconda3\\Lib\\site-packages\\PIL\\ImageFile.py:269\u001b[0m, in \u001b[0;36mImageFile.load\u001b[1;34m(self)\u001b[0m\n\u001b[0;32m    266\u001b[0m         \u001b[38;5;28;01mraise\u001b[39;00m \u001b[38;5;167;01mOSError\u001b[39;00m(msg)\n\u001b[0;32m    268\u001b[0m b \u001b[38;5;241m=\u001b[39m b \u001b[38;5;241m+\u001b[39m s\n\u001b[1;32m--> 269\u001b[0m n, err_code \u001b[38;5;241m=\u001b[39m decoder\u001b[38;5;241m.\u001b[39mdecode(b)\n\u001b[0;32m    270\u001b[0m \u001b[38;5;28;01mif\u001b[39;00m n \u001b[38;5;241m<\u001b[39m \u001b[38;5;241m0\u001b[39m:\n\u001b[0;32m    271\u001b[0m     \u001b[38;5;28;01mbreak\u001b[39;00m\n",
      "\u001b[1;31mKeyboardInterrupt\u001b[0m: "
     ]
    }
   ],
   "source": [
    "test_train_teaher(teacher_student.teacher, feature_extractor, train_loader, device, torch_optimizer.MADGRAD(\n",
    "    teacher_student.teacher.parameters(),\n",
    "    lr=1e-2,\n",
    "    momentum=0.9,\n",
    "    weight_decay=0,\n",
    "    eps=1e-6,\n",
    "), 60, 'MADGRAD')"
   ]
  },
  {
   "cell_type": "code",
   "execution_count": 24,
   "id": "d9ef5b69-d115-4656-996e-1325a5f702df",
   "metadata": {
    "scrolled": true
   },
   "outputs": [
    {
     "name": "stderr",
     "output_type": "stream",
     "text": [
      "Teacher training 1/30: 100%|████████████████████████████████████████████████████████| 13/13 [00:13<00:00,  1.06s/batch]\n"
     ]
    },
    {
     "name": "stdout",
     "output_type": "stream",
     "text": [
      "Epoch 0, Loss: 0.9309324484605056\n",
      "0.2\n",
      "0.16000000000000003\n",
      "Saved checkpoint as: teacher_cpt_epoch0.pth.tar\n"
     ]
    },
    {
     "name": "stderr",
     "output_type": "stream",
     "text": [
      "Teacher training 2/30: 100%|████████████████████████████████████████████████████████| 13/13 [00:13<00:00,  1.04s/batch]\n"
     ]
    },
    {
     "name": "stdout",
     "output_type": "stream",
     "text": [
      "Epoch 1, Loss: 0.9048870114179758\n",
      "0.16000000000000003\n",
      "Saved checkpoint as: teacher_cpt_epoch1.pth.tar\n"
     ]
    },
    {
     "name": "stderr",
     "output_type": "stream",
     "text": [
      "Teacher training 3/30: 100%|████████████████████████████████████████████████████████| 13/13 [00:13<00:00,  1.04s/batch]\n"
     ]
    },
    {
     "name": "stdout",
     "output_type": "stream",
     "text": [
      "Epoch 2, Loss: 0.916037733738239\n",
      "0.16000000000000003\n",
      "0.12800000000000003\n",
      "Saved checkpoint as: teacher_cpt_epoch2.pth.tar\n"
     ]
    },
    {
     "name": "stderr",
     "output_type": "stream",
     "text": [
      "Teacher training 4/30: 100%|████████████████████████████████████████████████████████| 13/13 [00:14<00:00,  1.09s/batch]\n"
     ]
    },
    {
     "name": "stdout",
     "output_type": "stream",
     "text": [
      "Epoch 3, Loss: 0.9461117249268752\n",
      "0.12800000000000003\n",
      "0.10240000000000003\n",
      "Saved checkpoint as: teacher_cpt_epoch3.pth.tar\n"
     ]
    },
    {
     "name": "stderr",
     "output_type": "stream",
     "text": [
      "Teacher training 5/30: 100%|████████████████████████████████████████████████████████| 13/13 [00:14<00:00,  1.15s/batch]\n"
     ]
    },
    {
     "name": "stdout",
     "output_type": "stream",
     "text": [
      "Epoch 4, Loss: 0.9066048906399653\n",
      "0.10240000000000003\n",
      "Saved checkpoint as: teacher_cpt_epoch4.pth.tar\n"
     ]
    },
    {
     "name": "stderr",
     "output_type": "stream",
     "text": [
      "Teacher training 6/30: 100%|████████████████████████████████████████████████████████| 13/13 [00:14<00:00,  1.11s/batch]\n"
     ]
    },
    {
     "name": "stdout",
     "output_type": "stream",
     "text": [
      "Epoch 5, Loss: 0.9129062845156743\n",
      "0.10240000000000003\n",
      "0.08192000000000003\n",
      "Saved checkpoint as: teacher_cpt_epoch5.pth.tar\n"
     ]
    },
    {
     "name": "stderr",
     "output_type": "stream",
     "text": [
      "Teacher training 7/30: 100%|████████████████████████████████████████████████████████| 13/13 [00:14<00:00,  1.10s/batch]\n"
     ]
    },
    {
     "name": "stdout",
     "output_type": "stream",
     "text": [
      "Epoch 6, Loss: 0.9473911477969243\n",
      "0.08192000000000003\n",
      "0.06553600000000002\n",
      "Saved checkpoint as: teacher_cpt_epoch6.pth.tar\n"
     ]
    },
    {
     "name": "stderr",
     "output_type": "stream",
     "text": [
      "Teacher training 8/30: 100%|████████████████████████████████████████████████████████| 13/13 [00:14<00:00,  1.10s/batch]\n"
     ]
    },
    {
     "name": "stdout",
     "output_type": "stream",
     "text": [
      "Epoch 7, Loss: 0.9305558250500605\n",
      "0.06553600000000002\n",
      "0.052428800000000025\n",
      "Saved checkpoint as: teacher_cpt_epoch7.pth.tar\n"
     ]
    },
    {
     "name": "stderr",
     "output_type": "stream",
     "text": [
      "Teacher training 9/30: 100%|████████████████████████████████████████████████████████| 13/13 [00:14<00:00,  1.11s/batch]\n"
     ]
    },
    {
     "name": "stdout",
     "output_type": "stream",
     "text": [
      "Epoch 8, Loss: 0.9127581761433528\n",
      "0.052428800000000025\n",
      "0.04194304000000002\n",
      "Saved checkpoint as: teacher_cpt_epoch8.pth.tar\n"
     ]
    },
    {
     "name": "stderr",
     "output_type": "stream",
     "text": [
      "Teacher training 10/30: 100%|███████████████████████████████████████████████████████| 13/13 [00:14<00:00,  1.10s/batch]\n"
     ]
    },
    {
     "name": "stdout",
     "output_type": "stream",
     "text": [
      "Epoch 9, Loss: 0.9387812843689551\n",
      "0.04194304000000002\n",
      "0.033554432000000016\n",
      "Saved checkpoint as: teacher_cpt_epoch9.pth.tar\n"
     ]
    },
    {
     "name": "stderr",
     "output_type": "stream",
     "text": [
      "Teacher training 11/30: 100%|███████████████████████████████████████████████████████| 13/13 [00:13<00:00,  1.08s/batch]\n"
     ]
    },
    {
     "name": "stdout",
     "output_type": "stream",
     "text": [
      "Epoch 10, Loss: 0.9187215291536771\n",
      "0.2\n",
      "Saved checkpoint as: teacher_cpt_epoch10.pth.tar\n"
     ]
    },
    {
     "name": "stderr",
     "output_type": "stream",
     "text": [
      "Teacher training 12/30: 100%|███████████████████████████████████████████████████████| 13/13 [00:13<00:00,  1.07s/batch]\n"
     ]
    },
    {
     "name": "stdout",
     "output_type": "stream",
     "text": [
      "Epoch 11, Loss: 0.926487569625561\n",
      "0.2\n",
      "0.16000000000000003\n",
      "Saved checkpoint as: teacher_cpt_epoch11.pth.tar\n"
     ]
    },
    {
     "name": "stderr",
     "output_type": "stream",
     "text": [
      "Teacher training 13/30: 100%|███████████████████████████████████████████████████████| 13/13 [00:14<00:00,  1.09s/batch]\n"
     ]
    },
    {
     "name": "stdout",
     "output_type": "stream",
     "text": [
      "Epoch 12, Loss: 0.9080602205716647\n",
      "0.16000000000000003\n",
      "0.12800000000000003\n",
      "Saved checkpoint as: teacher_cpt_epoch12.pth.tar\n"
     ]
    },
    {
     "name": "stderr",
     "output_type": "stream",
     "text": [
      "Teacher training 14/30: 100%|███████████████████████████████████████████████████████| 13/13 [00:14<00:00,  1.11s/batch]\n"
     ]
    },
    {
     "name": "stdout",
     "output_type": "stream",
     "text": [
      "Epoch 13, Loss: 0.9119133490782517\n",
      "0.12800000000000003\n",
      "0.10240000000000003\n",
      "Saved checkpoint as: teacher_cpt_epoch13.pth.tar\n"
     ]
    },
    {
     "name": "stderr",
     "output_type": "stream",
     "text": [
      "Teacher training 15/30: 100%|███████████████████████████████████████████████████████| 13/13 [00:13<00:00,  1.06s/batch]\n"
     ]
    },
    {
     "name": "stdout",
     "output_type": "stream",
     "text": [
      "Epoch 14, Loss: 0.8910804941104009\n",
      "0.10240000000000003\n",
      "Saved checkpoint as: teacher_cpt_epoch14.pth.tar\n"
     ]
    },
    {
     "name": "stderr",
     "output_type": "stream",
     "text": [
      "Teacher training 16/30: 100%|███████████████████████████████████████████████████████| 13/13 [00:14<00:00,  1.10s/batch]\n"
     ]
    },
    {
     "name": "stdout",
     "output_type": "stream",
     "text": [
      "Epoch 15, Loss: 0.8921115948603704\n",
      "0.10240000000000003\n",
      "0.08192000000000003\n",
      "Saved checkpoint as: teacher_cpt_epoch15.pth.tar\n"
     ]
    },
    {
     "name": "stderr",
     "output_type": "stream",
     "text": [
      "Teacher training 17/30: 100%|███████████████████████████████████████████████████████| 13/13 [00:14<00:00,  1.10s/batch]\n"
     ]
    },
    {
     "name": "stdout",
     "output_type": "stream",
     "text": [
      "Epoch 16, Loss: 0.8998681077590356\n",
      "0.08192000000000003\n",
      "0.06553600000000002\n",
      "Saved checkpoint as: teacher_cpt_epoch16.pth.tar\n"
     ]
    },
    {
     "name": "stderr",
     "output_type": "stream",
     "text": [
      "Teacher training 18/30: 100%|███████████████████████████████████████████████████████| 13/13 [00:14<00:00,  1.08s/batch]\n"
     ]
    },
    {
     "name": "stdout",
     "output_type": "stream",
     "text": [
      "Epoch 17, Loss: 0.967036458162161\n",
      "0.06553600000000002\n",
      "0.052428800000000025\n",
      "Saved checkpoint as: teacher_cpt_epoch17.pth.tar\n"
     ]
    },
    {
     "name": "stderr",
     "output_type": "stream",
     "text": [
      "Teacher training 19/30: 100%|███████████████████████████████████████████████████████| 13/13 [00:14<00:00,  1.11s/batch]\n"
     ]
    },
    {
     "name": "stdout",
     "output_type": "stream",
     "text": [
      "Epoch 18, Loss: 0.8706308740835923\n",
      "0.052428800000000025\n",
      "Saved checkpoint as: teacher_cpt_epoch18.pth.tar\n"
     ]
    },
    {
     "name": "stderr",
     "output_type": "stream",
     "text": [
      "Teacher training 20/30: 100%|███████████████████████████████████████████████████████| 13/13 [00:14<00:00,  1.08s/batch]\n"
     ]
    },
    {
     "name": "stdout",
     "output_type": "stream",
     "text": [
      "Epoch 19, Loss: 0.9074276318916907\n",
      "0.052428800000000025\n",
      "0.04194304000000002\n",
      "Saved checkpoint as: teacher_cpt_epoch19.pth.tar\n"
     ]
    },
    {
     "name": "stderr",
     "output_type": "stream",
     "text": [
      "Teacher training 21/30: 100%|███████████████████████████████████████████████████████| 13/13 [00:14<00:00,  1.09s/batch]\n"
     ]
    },
    {
     "name": "stdout",
     "output_type": "stream",
     "text": [
      "Epoch 20, Loss: 0.9146444568267236\n",
      "0.2\n",
      "0.16000000000000003\n",
      "Saved checkpoint as: teacher_cpt_epoch20.pth.tar\n"
     ]
    },
    {
     "name": "stderr",
     "output_type": "stream",
     "text": [
      "Teacher training 22/30: 100%|███████████████████████████████████████████████████████| 13/13 [00:14<00:00,  1.10s/batch]\n"
     ]
    },
    {
     "name": "stdout",
     "output_type": "stream",
     "text": [
      "Epoch 21, Loss: 0.9169239126718961\n",
      "0.16000000000000003\n",
      "0.12800000000000003\n",
      "Saved checkpoint as: teacher_cpt_epoch21.pth.tar\n"
     ]
    },
    {
     "name": "stderr",
     "output_type": "stream",
     "text": [
      "Teacher training 23/30: 100%|███████████████████████████████████████████████████████| 13/13 [00:14<00:00,  1.08s/batch]\n"
     ]
    },
    {
     "name": "stdout",
     "output_type": "stream",
     "text": [
      "Epoch 22, Loss: 0.9340435908390925\n",
      "0.12800000000000003\n",
      "0.10240000000000003\n",
      "Saved checkpoint as: teacher_cpt_epoch22.pth.tar\n"
     ]
    },
    {
     "name": "stderr",
     "output_type": "stream",
     "text": [
      "Teacher training 24/30: 100%|███████████████████████████████████████████████████████| 13/13 [00:14<00:00,  1.13s/batch]\n"
     ]
    },
    {
     "name": "stdout",
     "output_type": "stream",
     "text": [
      "Epoch 23, Loss: 0.948619021819188\n",
      "0.10240000000000003\n",
      "0.08192000000000003\n",
      "Saved checkpoint as: teacher_cpt_epoch23.pth.tar\n"
     ]
    },
    {
     "name": "stderr",
     "output_type": "stream",
     "text": [
      "Teacher training 25/30: 100%|███████████████████████████████████████████████████████| 13/13 [00:14<00:00,  1.10s/batch]\n"
     ]
    },
    {
     "name": "stdout",
     "output_type": "stream",
     "text": [
      "Epoch 24, Loss: 0.8947783571023208\n",
      "0.08192000000000003\n",
      "Saved checkpoint as: teacher_cpt_epoch24.pth.tar\n"
     ]
    },
    {
     "name": "stderr",
     "output_type": "stream",
     "text": [
      "Teacher training 26/30: 100%|███████████████████████████████████████████████████████| 13/13 [00:14<00:00,  1.14s/batch]\n"
     ]
    },
    {
     "name": "stdout",
     "output_type": "stream",
     "text": [
      "Epoch 25, Loss: 0.9546682284428523\n",
      "0.08192000000000003\n",
      "0.06553600000000002\n",
      "Saved checkpoint as: teacher_cpt_epoch25.pth.tar\n"
     ]
    },
    {
     "name": "stderr",
     "output_type": "stream",
     "text": [
      "Teacher training 27/30: 100%|███████████████████████████████████████████████████████| 13/13 [00:14<00:00,  1.12s/batch]\n"
     ]
    },
    {
     "name": "stdout",
     "output_type": "stream",
     "text": [
      "Epoch 26, Loss: 0.9178865047601553\n",
      "0.06553600000000002\n",
      "Saved checkpoint as: teacher_cpt_epoch26.pth.tar\n"
     ]
    },
    {
     "name": "stderr",
     "output_type": "stream",
     "text": [
      "Teacher training 28/30: 100%|███████████████████████████████████████████████████████| 13/13 [00:14<00:00,  1.12s/batch]\n"
     ]
    },
    {
     "name": "stdout",
     "output_type": "stream",
     "text": [
      "Epoch 27, Loss: 0.9196117015985342\n",
      "0.06553600000000002\n",
      "0.052428800000000025\n",
      "Saved checkpoint as: teacher_cpt_epoch27.pth.tar\n"
     ]
    },
    {
     "name": "stderr",
     "output_type": "stream",
     "text": [
      "Teacher training 29/30: 100%|███████████████████████████████████████████████████████| 13/13 [00:14<00:00,  1.10s/batch]\n"
     ]
    },
    {
     "name": "stdout",
     "output_type": "stream",
     "text": [
      "Epoch 28, Loss: 0.9097139514409579\n",
      "0.052428800000000025\n",
      "0.04194304000000002\n",
      "Saved checkpoint as: teacher_cpt_epoch28.pth.tar\n"
     ]
    },
    {
     "name": "stderr",
     "output_type": "stream",
     "text": [
      "Teacher training 30/30: 100%|███████████████████████████████████████████████████████| 13/13 [00:13<00:00,  1.07s/batch]"
     ]
    },
    {
     "name": "stdout",
     "output_type": "stream",
     "text": [
      "Epoch 29, Loss: 0.9074011399195745\n",
      "0.04194304000000002\n",
      "0.033554432000000016\n",
      "Saved checkpoint as: teacher_cpt_epoch29.pth.tar\n",
      "Finished Training Teacher\n"
     ]
    },
    {
     "name": "stderr",
     "output_type": "stream",
     "text": [
      "\n"
     ]
    },
    {
     "data": {
      "text/plain": [
       "[0.9309324484605056,\n",
       " 0.9048870114179758,\n",
       " 0.916037733738239,\n",
       " 0.9461117249268752,\n",
       " 0.9066048906399653,\n",
       " 0.9129062845156743,\n",
       " 0.9473911477969243,\n",
       " 0.9305558250500605,\n",
       " 0.9127581761433528,\n",
       " 0.9387812843689551,\n",
       " 0.9187215291536771,\n",
       " 0.926487569625561,\n",
       " 0.9080602205716647,\n",
       " 0.9119133490782517,\n",
       " 0.8910804941104009,\n",
       " 0.8921115948603704,\n",
       " 0.8998681077590356,\n",
       " 0.967036458162161,\n",
       " 0.8706308740835923,\n",
       " 0.9074276318916907,\n",
       " 0.9146444568267236,\n",
       " 0.9169239126718961,\n",
       " 0.9340435908390925,\n",
       " 0.948619021819188,\n",
       " 0.8947783571023208,\n",
       " 0.9546682284428523,\n",
       " 0.9178865047601553,\n",
       " 0.9196117015985342,\n",
       " 0.9097139514409579,\n",
       " 0.9074011399195745]"
      ]
     },
     "execution_count": 24,
     "metadata": {},
     "output_type": "execute_result"
    }
   ],
   "source": [
    "test_train_teaher(teacher_student.teacher, feature_extractor, train_loader, device, torch_optimizer.NovoGrad(\n",
    "    teacher_student.teacher.parameters(),\n",
    "    lr= 1e-3,\n",
    "    betas=(0.9, 0.999),\n",
    "    eps=1e-8,\n",
    "    weight_decay=0,\n",
    "    grad_averaging=False,\n",
    "    amsgrad=False,\n",
    "), 30, 'NovoGrad')"
   ]
  },
  {
   "cell_type": "code",
   "execution_count": 25,
   "id": "7d223d9b-88ec-4167-961b-4d552bfe19b9",
   "metadata": {
    "scrolled": true
   },
   "outputs": [
    {
     "name": "stderr",
     "output_type": "stream",
     "text": [
      "Teacher training 1/30: 100%|████████████████████████████████████████████████████████| 13/13 [00:13<00:00,  1.07s/batch]\n"
     ]
    },
    {
     "name": "stdout",
     "output_type": "stream",
     "text": [
      "Epoch 0, Loss: 0.8923682845555819\n",
      "0.2\n",
      "0.16000000000000003\n",
      "Saved checkpoint as: teacher_cpt_epoch0.pth.tar\n"
     ]
    },
    {
     "name": "stderr",
     "output_type": "stream",
     "text": [
      "Teacher training 2/30: 100%|████████████████████████████████████████████████████████| 13/13 [00:14<00:00,  1.08s/batch]\n"
     ]
    },
    {
     "name": "stdout",
     "output_type": "stream",
     "text": [
      "Epoch 1, Loss: 0.90032081420605\n",
      "0.16000000000000003\n",
      "0.12800000000000003\n",
      "Saved checkpoint as: teacher_cpt_epoch1.pth.tar\n"
     ]
    },
    {
     "name": "stderr",
     "output_type": "stream",
     "text": [
      "Teacher training 3/30: 100%|████████████████████████████████████████████████████████| 13/13 [00:18<00:00,  1.40s/batch]\n"
     ]
    },
    {
     "name": "stdout",
     "output_type": "stream",
     "text": [
      "Epoch 2, Loss: 0.8651947195713336\n",
      "0.12800000000000003\n",
      "Saved checkpoint as: teacher_cpt_epoch2.pth.tar\n"
     ]
    },
    {
     "name": "stderr",
     "output_type": "stream",
     "text": [
      "Teacher training 4/30: 100%|████████████████████████████████████████████████████████| 13/13 [00:17<00:00,  1.35s/batch]\n"
     ]
    },
    {
     "name": "stdout",
     "output_type": "stream",
     "text": [
      "Epoch 3, Loss: 0.9121337441297678\n",
      "0.12800000000000003\n",
      "0.10240000000000003\n",
      "Saved checkpoint as: teacher_cpt_epoch3.pth.tar\n"
     ]
    },
    {
     "name": "stderr",
     "output_type": "stream",
     "text": [
      "Teacher training 5/30: 100%|████████████████████████████████████████████████████████| 13/13 [00:17<00:00,  1.38s/batch]\n"
     ]
    },
    {
     "name": "stdout",
     "output_type": "stream",
     "text": [
      "Epoch 4, Loss: 0.8814574021559495\n",
      "0.10240000000000003\n",
      "Saved checkpoint as: teacher_cpt_epoch4.pth.tar\n"
     ]
    },
    {
     "name": "stderr",
     "output_type": "stream",
     "text": [
      "Teacher training 6/30: 100%|████████████████████████████████████████████████████████| 13/13 [00:18<00:00,  1.39s/batch]\n"
     ]
    },
    {
     "name": "stdout",
     "output_type": "stream",
     "text": [
      "Epoch 5, Loss: 0.884370492054866\n",
      "0.10240000000000003\n",
      "0.08192000000000003\n",
      "Saved checkpoint as: teacher_cpt_epoch5.pth.tar\n"
     ]
    },
    {
     "name": "stderr",
     "output_type": "stream",
     "text": [
      "Teacher training 7/30: 100%|████████████████████████████████████████████████████████| 13/13 [00:18<00:00,  1.39s/batch]\n"
     ]
    },
    {
     "name": "stdout",
     "output_type": "stream",
     "text": [
      "Epoch 6, Loss: 0.8989930565540607\n",
      "0.08192000000000003\n",
      "0.06553600000000002\n",
      "Saved checkpoint as: teacher_cpt_epoch6.pth.tar\n"
     ]
    },
    {
     "name": "stderr",
     "output_type": "stream",
     "text": [
      "Teacher training 8/30: 100%|████████████████████████████████████████████████████████| 13/13 [00:18<00:00,  1.40s/batch]\n"
     ]
    },
    {
     "name": "stdout",
     "output_type": "stream",
     "text": [
      "Epoch 7, Loss: 0.9025656947722802\n",
      "0.06553600000000002\n",
      "0.052428800000000025\n",
      "Saved checkpoint as: teacher_cpt_epoch7.pth.tar\n"
     ]
    },
    {
     "name": "stderr",
     "output_type": "stream",
     "text": [
      "Teacher training 9/30: 100%|████████████████████████████████████████████████████████| 13/13 [00:17<00:00,  1.38s/batch]\n"
     ]
    },
    {
     "name": "stdout",
     "output_type": "stream",
     "text": [
      "Epoch 8, Loss: 0.8649937602189871\n",
      "0.052428800000000025\n",
      "Saved checkpoint as: teacher_cpt_epoch8.pth.tar\n"
     ]
    },
    {
     "name": "stderr",
     "output_type": "stream",
     "text": [
      "Teacher training 10/30: 100%|███████████████████████████████████████████████████████| 13/13 [00:17<00:00,  1.38s/batch]\n"
     ]
    },
    {
     "name": "stdout",
     "output_type": "stream",
     "text": [
      "Epoch 9, Loss: 0.8858696268155024\n",
      "0.052428800000000025\n",
      "0.04194304000000002\n",
      "Saved checkpoint as: teacher_cpt_epoch9.pth.tar\n"
     ]
    },
    {
     "name": "stderr",
     "output_type": "stream",
     "text": [
      "Teacher training 11/30: 100%|███████████████████████████████████████████████████████| 13/13 [00:17<00:00,  1.38s/batch]\n"
     ]
    },
    {
     "name": "stdout",
     "output_type": "stream",
     "text": [
      "Epoch 10, Loss: 0.8913012055250314\n",
      "0.2\n",
      "0.16000000000000003\n",
      "Saved checkpoint as: teacher_cpt_epoch10.pth.tar\n"
     ]
    },
    {
     "name": "stderr",
     "output_type": "stream",
     "text": [
      "Teacher training 12/30: 100%|███████████████████████████████████████████████████████| 13/13 [00:18<00:00,  1.41s/batch]\n"
     ]
    },
    {
     "name": "stdout",
     "output_type": "stream",
     "text": [
      "Epoch 11, Loss: 0.9005631758616521\n",
      "0.16000000000000003\n",
      "0.12800000000000003\n",
      "Saved checkpoint as: teacher_cpt_epoch11.pth.tar\n"
     ]
    },
    {
     "name": "stderr",
     "output_type": "stream",
     "text": [
      "Teacher training 13/30: 100%|███████████████████████████████████████████████████████| 13/13 [00:17<00:00,  1.38s/batch]\n"
     ]
    },
    {
     "name": "stdout",
     "output_type": "stream",
     "text": [
      "Epoch 12, Loss: 0.9041335399334247\n",
      "0.12800000000000003\n",
      "0.10240000000000003\n",
      "Saved checkpoint as: teacher_cpt_epoch12.pth.tar\n"
     ]
    },
    {
     "name": "stderr",
     "output_type": "stream",
     "text": [
      "Teacher training 14/30: 100%|███████████████████████████████████████████████████████| 13/13 [00:18<00:00,  1.40s/batch]\n"
     ]
    },
    {
     "name": "stdout",
     "output_type": "stream",
     "text": [
      "Epoch 13, Loss: 0.8956165772217971\n",
      "0.10240000000000003\n",
      "0.08192000000000003\n",
      "Saved checkpoint as: teacher_cpt_epoch13.pth.tar\n"
     ]
    },
    {
     "name": "stderr",
     "output_type": "stream",
     "text": [
      "Teacher training 15/30: 100%|███████████████████████████████████████████████████████| 13/13 [00:17<00:00,  1.38s/batch]\n"
     ]
    },
    {
     "name": "stdout",
     "output_type": "stream",
     "text": [
      "Epoch 14, Loss: 0.8846643429536086\n",
      "0.08192000000000003\n",
      "0.06553600000000002\n",
      "Saved checkpoint as: teacher_cpt_epoch14.pth.tar\n"
     ]
    },
    {
     "name": "stderr",
     "output_type": "stream",
     "text": [
      "Teacher training 16/30: 100%|███████████████████████████████████████████████████████| 13/13 [00:17<00:00,  1.37s/batch]\n"
     ]
    },
    {
     "name": "stdout",
     "output_type": "stream",
     "text": [
      "Epoch 15, Loss: 0.9061159812487088\n",
      "0.06553600000000002\n",
      "0.052428800000000025\n",
      "Saved checkpoint as: teacher_cpt_epoch15.pth.tar\n"
     ]
    },
    {
     "name": "stderr",
     "output_type": "stream",
     "text": [
      "Teacher training 17/30: 100%|███████████████████████████████████████████████████████| 13/13 [00:17<00:00,  1.38s/batch]\n"
     ]
    },
    {
     "name": "stdout",
     "output_type": "stream",
     "text": [
      "Epoch 16, Loss: 0.8729605032847478\n",
      "0.052428800000000025\n",
      "Saved checkpoint as: teacher_cpt_epoch16.pth.tar\n"
     ]
    },
    {
     "name": "stderr",
     "output_type": "stream",
     "text": [
      "Teacher training 18/30: 100%|███████████████████████████████████████████████████████| 13/13 [00:18<00:00,  1.42s/batch]\n"
     ]
    },
    {
     "name": "stdout",
     "output_type": "stream",
     "text": [
      "Epoch 17, Loss: 0.8619175324073205\n",
      "0.052428800000000025\n",
      "0.04194304000000002\n",
      "Saved checkpoint as: teacher_cpt_epoch17.pth.tar\n"
     ]
    },
    {
     "name": "stderr",
     "output_type": "stream",
     "text": [
      "Teacher training 19/30: 100%|███████████████████████████████████████████████████████| 13/13 [00:18<00:00,  1.42s/batch]\n"
     ]
    },
    {
     "name": "stdout",
     "output_type": "stream",
     "text": [
      "Epoch 18, Loss: 0.8776518840056199\n",
      "0.04194304000000002\n",
      "0.033554432000000016\n",
      "Saved checkpoint as: teacher_cpt_epoch18.pth.tar\n"
     ]
    },
    {
     "name": "stderr",
     "output_type": "stream",
     "text": [
      "Teacher training 20/30: 100%|███████████████████████████████████████████████████████| 13/13 [00:18<00:00,  1.42s/batch]\n"
     ]
    },
    {
     "name": "stdout",
     "output_type": "stream",
     "text": [
      "Epoch 19, Loss: 0.9050515844271734\n",
      "0.033554432000000016\n",
      "0.026843545600000015\n",
      "Saved checkpoint as: teacher_cpt_epoch19.pth.tar\n"
     ]
    },
    {
     "name": "stderr",
     "output_type": "stream",
     "text": [
      "Teacher training 21/30: 100%|███████████████████████████████████████████████████████| 13/13 [00:18<00:00,  1.44s/batch]\n"
     ]
    },
    {
     "name": "stdout",
     "output_type": "stream",
     "text": [
      "Epoch 20, Loss: 0.8917949795722961\n",
      "0.2\n",
      "0.16000000000000003\n",
      "Saved checkpoint as: teacher_cpt_epoch20.pth.tar\n"
     ]
    },
    {
     "name": "stderr",
     "output_type": "stream",
     "text": [
      "Teacher training 22/30: 100%|███████████████████████████████████████████████████████| 13/13 [00:18<00:00,  1.39s/batch]\n"
     ]
    },
    {
     "name": "stdout",
     "output_type": "stream",
     "text": [
      "Epoch 21, Loss: 0.8482889028695914\n",
      "0.16000000000000003\n",
      "Saved checkpoint as: teacher_cpt_epoch21.pth.tar\n"
     ]
    },
    {
     "name": "stderr",
     "output_type": "stream",
     "text": [
      "Teacher training 23/30: 100%|███████████████████████████████████████████████████████| 13/13 [00:18<00:00,  1.42s/batch]\n"
     ]
    },
    {
     "name": "stdout",
     "output_type": "stream",
     "text": [
      "Epoch 22, Loss: 0.9312457717381991\n",
      "0.16000000000000003\n",
      "0.12800000000000003\n",
      "Saved checkpoint as: teacher_cpt_epoch22.pth.tar\n"
     ]
    },
    {
     "name": "stderr",
     "output_type": "stream",
     "text": [
      "Teacher training 24/30: 100%|███████████████████████████████████████████████████████| 13/13 [00:18<00:00,  1.43s/batch]\n"
     ]
    },
    {
     "name": "stdout",
     "output_type": "stream",
     "text": [
      "Epoch 23, Loss: 0.9427472077883207\n",
      "0.12800000000000003\n",
      "0.10240000000000003\n",
      "Saved checkpoint as: teacher_cpt_epoch23.pth.tar\n"
     ]
    },
    {
     "name": "stderr",
     "output_type": "stream",
     "text": [
      "Teacher training 25/30: 100%|███████████████████████████████████████████████████████| 13/13 [00:17<00:00,  1.35s/batch]\n"
     ]
    },
    {
     "name": "stdout",
     "output_type": "stream",
     "text": [
      "Epoch 24, Loss: 0.9089902501839858\n",
      "0.10240000000000003\n",
      "Saved checkpoint as: teacher_cpt_epoch24.pth.tar\n"
     ]
    },
    {
     "name": "stderr",
     "output_type": "stream",
     "text": [
      "Teacher training 26/30: 100%|███████████████████████████████████████████████████████| 13/13 [00:17<00:00,  1.38s/batch]\n"
     ]
    },
    {
     "name": "stdout",
     "output_type": "stream",
     "text": [
      "Epoch 25, Loss: 0.9306323757538428\n",
      "0.10240000000000003\n",
      "0.08192000000000003\n",
      "Saved checkpoint as: teacher_cpt_epoch25.pth.tar\n"
     ]
    },
    {
     "name": "stderr",
     "output_type": "stream",
     "text": [
      "Teacher training 27/30: 100%|███████████████████████████████████████████████████████| 13/13 [00:17<00:00,  1.38s/batch]\n"
     ]
    },
    {
     "name": "stdout",
     "output_type": "stream",
     "text": [
      "Epoch 26, Loss: 0.8815688857665429\n",
      "0.08192000000000003\n",
      "Saved checkpoint as: teacher_cpt_epoch26.pth.tar\n"
     ]
    },
    {
     "name": "stderr",
     "output_type": "stream",
     "text": [
      "Teacher training 28/30: 100%|███████████████████████████████████████████████████████| 13/13 [00:18<00:00,  1.40s/batch]\n"
     ]
    },
    {
     "name": "stdout",
     "output_type": "stream",
     "text": [
      "Epoch 27, Loss: 0.9407733036921575\n",
      "0.08192000000000003\n",
      "0.06553600000000002\n",
      "Saved checkpoint as: teacher_cpt_epoch27.pth.tar\n"
     ]
    },
    {
     "name": "stderr",
     "output_type": "stream",
     "text": [
      "Teacher training 29/30: 100%|███████████████████████████████████████████████████████| 13/13 [00:17<00:00,  1.38s/batch]\n"
     ]
    },
    {
     "name": "stdout",
     "output_type": "stream",
     "text": [
      "Epoch 28, Loss: 0.871811046050145\n",
      "0.06553600000000002\n",
      "Saved checkpoint as: teacher_cpt_epoch28.pth.tar\n"
     ]
    },
    {
     "name": "stderr",
     "output_type": "stream",
     "text": [
      "Teacher training 30/30: 100%|███████████████████████████████████████████████████████| 13/13 [00:17<00:00,  1.38s/batch]"
     ]
    },
    {
     "name": "stdout",
     "output_type": "stream",
     "text": [
      "Epoch 29, Loss: 0.9032995104789734\n",
      "0.06553600000000002\n",
      "0.052428800000000025\n",
      "Saved checkpoint as: teacher_cpt_epoch29.pth.tar\n",
      "Finished Training Teacher\n"
     ]
    },
    {
     "name": "stderr",
     "output_type": "stream",
     "text": [
      "\n"
     ]
    },
    {
     "data": {
      "text/plain": [
       "[0.8923682845555819,\n",
       " 0.90032081420605,\n",
       " 0.8651947195713336,\n",
       " 0.9121337441297678,\n",
       " 0.8814574021559495,\n",
       " 0.884370492054866,\n",
       " 0.8989930565540607,\n",
       " 0.9025656947722802,\n",
       " 0.8649937602189871,\n",
       " 0.8858696268155024,\n",
       " 0.8913012055250314,\n",
       " 0.9005631758616521,\n",
       " 0.9041335399334247,\n",
       " 0.8956165772217971,\n",
       " 0.8846643429536086,\n",
       " 0.9061159812487088,\n",
       " 0.8729605032847478,\n",
       " 0.8619175324073205,\n",
       " 0.8776518840056199,\n",
       " 0.9050515844271734,\n",
       " 0.8917949795722961,\n",
       " 0.8482889028695914,\n",
       " 0.9312457717381991,\n",
       " 0.9427472077883207,\n",
       " 0.9089902501839858,\n",
       " 0.9306323757538428,\n",
       " 0.8815688857665429,\n",
       " 0.9407733036921575,\n",
       " 0.871811046050145,\n",
       " 0.9032995104789734]"
      ]
     },
     "execution_count": 25,
     "metadata": {},
     "output_type": "execute_result"
    }
   ],
   "source": [
    "test_train_teaher(teacher_student.teacher, feature_extractor, train_loader, device, torch_optimizer.PID(\n",
    "    teacher_student.teacher.parameters(),\n",
    "    lr=1e-3,\n",
    "    momentum=0,\n",
    "    dampening=0,\n",
    "    weight_decay=1e-2,\n",
    "    integral=5.0,\n",
    "    derivative=10.0,\n",
    "), 30, 'PID')"
   ]
  },
  {
   "cell_type": "code",
   "execution_count": 26,
   "id": "cb6f8048-93d1-4a84-a7b8-6aa8688e4143",
   "metadata": {},
   "outputs": [
    {
     "name": "stderr",
     "output_type": "stream",
     "text": [
      "Teacher training 1/30: 100%|████████████████████████████████████████████████████████| 13/13 [00:18<00:00,  1.39s/batch]\n"
     ]
    },
    {
     "name": "stdout",
     "output_type": "stream",
     "text": [
      "Epoch 0, Loss: 0.9189286094445449\n",
      "0.2\n",
      "0.16000000000000003\n",
      "Saved checkpoint as: teacher_cpt_epoch0.pth.tar\n"
     ]
    },
    {
     "name": "stderr",
     "output_type": "stream",
     "text": [
      "Teacher training 2/30: 100%|████████████████████████████████████████████████████████| 13/13 [00:18<00:00,  1.40s/batch]\n"
     ]
    },
    {
     "name": "stdout",
     "output_type": "stream",
     "text": [
      "Epoch 1, Loss: 0.8497533981616681\n",
      "0.16000000000000003\n",
      "Saved checkpoint as: teacher_cpt_epoch1.pth.tar\n"
     ]
    },
    {
     "name": "stderr",
     "output_type": "stream",
     "text": [
      "Teacher training 3/30: 100%|████████████████████████████████████████████████████████| 13/13 [00:18<00:00,  1.42s/batch]\n"
     ]
    },
    {
     "name": "stdout",
     "output_type": "stream",
     "text": [
      "Epoch 2, Loss: 0.9372001932217524\n",
      "0.16000000000000003\n",
      "0.12800000000000003\n",
      "Saved checkpoint as: teacher_cpt_epoch2.pth.tar\n"
     ]
    },
    {
     "name": "stderr",
     "output_type": "stream",
     "text": [
      "Teacher training 4/30: 100%|████████████████████████████████████████████████████████| 13/13 [00:18<00:00,  1.40s/batch]\n"
     ]
    },
    {
     "name": "stdout",
     "output_type": "stream",
     "text": [
      "Epoch 3, Loss: 0.8696131981336154\n",
      "0.12800000000000003\n",
      "Saved checkpoint as: teacher_cpt_epoch3.pth.tar\n"
     ]
    },
    {
     "name": "stderr",
     "output_type": "stream",
     "text": [
      "Teacher training 5/30: 100%|████████████████████████████████████████████████████████| 13/13 [00:18<00:00,  1.40s/batch]\n"
     ]
    },
    {
     "name": "stdout",
     "output_type": "stream",
     "text": [
      "Epoch 4, Loss: 0.8719171698276813\n",
      "0.12800000000000003\n",
      "0.10240000000000003\n",
      "Saved checkpoint as: teacher_cpt_epoch4.pth.tar\n"
     ]
    },
    {
     "name": "stderr",
     "output_type": "stream",
     "text": [
      "Teacher training 6/30: 100%|████████████████████████████████████████████████████████| 13/13 [00:18<00:00,  1.41s/batch]\n"
     ]
    },
    {
     "name": "stdout",
     "output_type": "stream",
     "text": [
      "Epoch 5, Loss: 0.8758702553235568\n",
      "0.10240000000000003\n",
      "0.08192000000000003\n",
      "Saved checkpoint as: teacher_cpt_epoch5.pth.tar\n"
     ]
    },
    {
     "name": "stderr",
     "output_type": "stream",
     "text": [
      "Teacher training 7/30: 100%|████████████████████████████████████████████████████████| 13/13 [00:18<00:00,  1.40s/batch]\n"
     ]
    },
    {
     "name": "stdout",
     "output_type": "stream",
     "text": [
      "Epoch 6, Loss: 0.8620004470531757\n",
      "0.08192000000000003\n",
      "0.06553600000000002\n",
      "Saved checkpoint as: teacher_cpt_epoch6.pth.tar\n"
     ]
    },
    {
     "name": "stderr",
     "output_type": "stream",
     "text": [
      "Teacher training 8/30: 100%|████████████████████████████████████████████████████████| 13/13 [00:18<00:00,  1.40s/batch]\n"
     ]
    },
    {
     "name": "stdout",
     "output_type": "stream",
     "text": [
      "Epoch 7, Loss: 0.9050925282331613\n",
      "0.06553600000000002\n",
      "0.052428800000000025\n",
      "Saved checkpoint as: teacher_cpt_epoch7.pth.tar\n"
     ]
    },
    {
     "name": "stderr",
     "output_type": "stream",
     "text": [
      "Teacher training 9/30: 100%|████████████████████████████████████████████████████████| 13/13 [03:12<00:00, 14.78s/batch]\n"
     ]
    },
    {
     "name": "stdout",
     "output_type": "stream",
     "text": [
      "Epoch 8, Loss: 0.884283198760106\n",
      "0.052428800000000025\n",
      "Saved checkpoint as: teacher_cpt_epoch8.pth.tar\n"
     ]
    },
    {
     "name": "stderr",
     "output_type": "stream",
     "text": [
      "Teacher training 10/30: 100%|███████████████████████████████████████████████████████| 13/13 [02:50<00:00, 13.09s/batch]\n"
     ]
    },
    {
     "name": "stdout",
     "output_type": "stream",
     "text": [
      "Epoch 9, Loss: 0.8912343428685114\n",
      "0.052428800000000025\n",
      "0.04194304000000002\n",
      "Saved checkpoint as: teacher_cpt_epoch9.pth.tar\n"
     ]
    },
    {
     "name": "stderr",
     "output_type": "stream",
     "text": [
      "Teacher training 11/30: 100%|███████████████████████████████████████████████████████| 13/13 [00:24<00:00,  1.87s/batch]\n"
     ]
    },
    {
     "name": "stdout",
     "output_type": "stream",
     "text": [
      "Epoch 10, Loss: 0.8946274243868314\n",
      "0.2\n",
      "0.16000000000000003\n",
      "Saved checkpoint as: teacher_cpt_epoch10.pth.tar\n"
     ]
    },
    {
     "name": "stderr",
     "output_type": "stream",
     "text": [
      "Teacher training 12/30: 100%|███████████████████████████████████████████████████████| 13/13 [00:31<00:00,  2.45s/batch]\n"
     ]
    },
    {
     "name": "stdout",
     "output_type": "stream",
     "text": [
      "Epoch 11, Loss: 0.8759760214732244\n",
      "0.16000000000000003\n",
      "Saved checkpoint as: teacher_cpt_epoch11.pth.tar\n"
     ]
    },
    {
     "name": "stderr",
     "output_type": "stream",
     "text": [
      "Teacher training 13/30: 100%|███████████████████████████████████████████████████████| 13/13 [00:48<00:00,  3.74s/batch]\n"
     ]
    },
    {
     "name": "stdout",
     "output_type": "stream",
     "text": [
      "Epoch 12, Loss: 0.8935548250491803\n",
      "0.16000000000000003\n",
      "0.12800000000000003\n",
      "Saved checkpoint as: teacher_cpt_epoch12.pth.tar\n"
     ]
    },
    {
     "name": "stderr",
     "output_type": "stream",
     "text": [
      "Teacher training 14/30: 100%|███████████████████████████████████████████████████████| 13/13 [00:14<00:00,  1.10s/batch]\n"
     ]
    },
    {
     "name": "stdout",
     "output_type": "stream",
     "text": [
      "Epoch 13, Loss: 0.8446951370972854\n",
      "0.12800000000000003\n",
      "Saved checkpoint as: teacher_cpt_epoch13.pth.tar\n"
     ]
    },
    {
     "name": "stderr",
     "output_type": "stream",
     "text": [
      "Teacher training 15/30: 100%|███████████████████████████████████████████████████████| 13/13 [00:14<00:00,  1.14s/batch]\n"
     ]
    },
    {
     "name": "stdout",
     "output_type": "stream",
     "text": [
      "Epoch 14, Loss: 0.8858614839040316\n",
      "0.12800000000000003\n",
      "0.10240000000000003\n",
      "Saved checkpoint as: teacher_cpt_epoch14.pth.tar\n"
     ]
    },
    {
     "name": "stderr",
     "output_type": "stream",
     "text": [
      "Teacher training 16/30: 100%|███████████████████████████████████████████████████████| 13/13 [00:14<00:00,  1.12s/batch]\n"
     ]
    },
    {
     "name": "stdout",
     "output_type": "stream",
     "text": [
      "Epoch 15, Loss: 0.908172451532804\n",
      "0.10240000000000003\n",
      "0.08192000000000003\n",
      "Saved checkpoint as: teacher_cpt_epoch15.pth.tar\n"
     ]
    },
    {
     "name": "stderr",
     "output_type": "stream",
     "text": [
      "Teacher training 17/30: 100%|███████████████████████████████████████████████████████| 13/13 [00:13<00:00,  1.08s/batch]\n"
     ]
    },
    {
     "name": "stdout",
     "output_type": "stream",
     "text": [
      "Epoch 16, Loss: 0.8752316236495972\n",
      "0.08192000000000003\n",
      "Saved checkpoint as: teacher_cpt_epoch16.pth.tar\n"
     ]
    },
    {
     "name": "stderr",
     "output_type": "stream",
     "text": [
      "Teacher training 18/30: 100%|███████████████████████████████████████████████████████| 13/13 [00:13<00:00,  1.05s/batch]\n"
     ]
    },
    {
     "name": "stdout",
     "output_type": "stream",
     "text": [
      "Epoch 17, Loss: 0.9168955637858465\n",
      "0.08192000000000003\n",
      "0.06553600000000002\n",
      "Saved checkpoint as: teacher_cpt_epoch17.pth.tar\n"
     ]
    },
    {
     "name": "stderr",
     "output_type": "stream",
     "text": [
      "Teacher training 19/30: 100%|███████████████████████████████████████████████████████| 13/13 [00:13<00:00,  1.07s/batch]\n"
     ]
    },
    {
     "name": "stdout",
     "output_type": "stream",
     "text": [
      "Epoch 18, Loss: 0.8994825528218195\n",
      "0.06553600000000002\n",
      "0.052428800000000025\n",
      "Saved checkpoint as: teacher_cpt_epoch18.pth.tar\n"
     ]
    },
    {
     "name": "stderr",
     "output_type": "stream",
     "text": [
      "Teacher training 20/30: 100%|███████████████████████████████████████████████████████| 13/13 [00:13<00:00,  1.06s/batch]\n"
     ]
    },
    {
     "name": "stdout",
     "output_type": "stream",
     "text": [
      "Epoch 19, Loss: 0.918315419783959\n",
      "0.052428800000000025\n",
      "0.04194304000000002\n",
      "Saved checkpoint as: teacher_cpt_epoch19.pth.tar\n"
     ]
    },
    {
     "name": "stderr",
     "output_type": "stream",
     "text": [
      "Teacher training 21/30: 100%|███████████████████████████████████████████████████████| 13/13 [00:13<00:00,  1.06s/batch]\n"
     ]
    },
    {
     "name": "stdout",
     "output_type": "stream",
     "text": [
      "Epoch 20, Loss: 0.9121481684538034\n",
      "0.2\n",
      "0.16000000000000003\n",
      "Saved checkpoint as: teacher_cpt_epoch20.pth.tar\n"
     ]
    },
    {
     "name": "stderr",
     "output_type": "stream",
     "text": [
      "Teacher training 22/30: 100%|███████████████████████████████████████████████████████| 13/13 [00:13<00:00,  1.06s/batch]\n"
     ]
    },
    {
     "name": "stdout",
     "output_type": "stream",
     "text": [
      "Epoch 21, Loss: 0.875032209433042\n",
      "0.16000000000000003\n",
      "Saved checkpoint as: teacher_cpt_epoch21.pth.tar\n"
     ]
    },
    {
     "name": "stderr",
     "output_type": "stream",
     "text": [
      "Teacher training 23/30: 100%|███████████████████████████████████████████████████████| 13/13 [00:13<00:00,  1.07s/batch]\n"
     ]
    },
    {
     "name": "stdout",
     "output_type": "stream",
     "text": [
      "Epoch 22, Loss: 0.9238145076311551\n",
      "0.16000000000000003\n",
      "0.12800000000000003\n",
      "Saved checkpoint as: teacher_cpt_epoch22.pth.tar\n"
     ]
    },
    {
     "name": "stderr",
     "output_type": "stream",
     "text": [
      "Teacher training 24/30: 100%|███████████████████████████████████████████████████████| 13/13 [00:13<00:00,  1.05s/batch]\n"
     ]
    },
    {
     "name": "stdout",
     "output_type": "stream",
     "text": [
      "Epoch 23, Loss: 0.8915685369418218\n",
      "0.12800000000000003\n",
      "Saved checkpoint as: teacher_cpt_epoch23.pth.tar\n"
     ]
    },
    {
     "name": "stderr",
     "output_type": "stream",
     "text": [
      "Teacher training 25/30: 100%|███████████████████████████████████████████████████████| 13/13 [00:14<00:00,  1.09s/batch]\n"
     ]
    },
    {
     "name": "stdout",
     "output_type": "stream",
     "text": [
      "Epoch 24, Loss: 0.9002165106626657\n",
      "0.12800000000000003\n",
      "0.10240000000000003\n",
      "Saved checkpoint as: teacher_cpt_epoch24.pth.tar\n"
     ]
    },
    {
     "name": "stderr",
     "output_type": "stream",
     "text": [
      "Teacher training 26/30: 100%|███████████████████████████████████████████████████████| 13/13 [00:15<00:00,  1.21s/batch]\n"
     ]
    },
    {
     "name": "stdout",
     "output_type": "stream",
     "text": [
      "Epoch 25, Loss: 0.9390414586433997\n",
      "0.10240000000000003\n",
      "0.08192000000000003\n",
      "Saved checkpoint as: teacher_cpt_epoch25.pth.tar\n"
     ]
    },
    {
     "name": "stderr",
     "output_type": "stream",
     "text": [
      "Teacher training 27/30: 100%|███████████████████████████████████████████████████████| 13/13 [00:14<00:00,  1.12s/batch]\n"
     ]
    },
    {
     "name": "stdout",
     "output_type": "stream",
     "text": [
      "Epoch 26, Loss: 0.8740779207302973\n",
      "0.08192000000000003\n",
      "Saved checkpoint as: teacher_cpt_epoch26.pth.tar\n"
     ]
    },
    {
     "name": "stderr",
     "output_type": "stream",
     "text": [
      "Teacher training 28/30: 100%|███████████████████████████████████████████████████████| 13/13 [00:14<00:00,  1.12s/batch]\n"
     ]
    },
    {
     "name": "stdout",
     "output_type": "stream",
     "text": [
      "Epoch 27, Loss: 0.9209709167480469\n",
      "0.08192000000000003\n",
      "0.06553600000000002\n",
      "Saved checkpoint as: teacher_cpt_epoch27.pth.tar\n"
     ]
    },
    {
     "name": "stderr",
     "output_type": "stream",
     "text": [
      "Teacher training 29/30: 100%|███████████████████████████████████████████████████████| 13/13 [00:14<00:00,  1.13s/batch]\n"
     ]
    },
    {
     "name": "stdout",
     "output_type": "stream",
     "text": [
      "Epoch 28, Loss: 0.8966217912160434\n",
      "0.06553600000000002\n",
      "Saved checkpoint as: teacher_cpt_epoch28.pth.tar\n"
     ]
    },
    {
     "name": "stderr",
     "output_type": "stream",
     "text": [
      "Teacher training 30/30: 100%|███████████████████████████████████████████████████████| 13/13 [00:14<00:00,  1.12s/batch]"
     ]
    },
    {
     "name": "stdout",
     "output_type": "stream",
     "text": [
      "Epoch 29, Loss: 0.8800218976460971\n",
      "0.06553600000000002\n",
      "0.052428800000000025\n",
      "Saved checkpoint as: teacher_cpt_epoch29.pth.tar\n",
      "Finished Training Teacher\n"
     ]
    },
    {
     "name": "stderr",
     "output_type": "stream",
     "text": [
      "\n"
     ]
    },
    {
     "data": {
      "text/plain": [
       "[0.9189286094445449,\n",
       " 0.8497533981616681,\n",
       " 0.9372001932217524,\n",
       " 0.8696131981336154,\n",
       " 0.8719171698276813,\n",
       " 0.8758702553235568,\n",
       " 0.8620004470531757,\n",
       " 0.9050925282331613,\n",
       " 0.884283198760106,\n",
       " 0.8912343428685114,\n",
       " 0.8946274243868314,\n",
       " 0.8759760214732244,\n",
       " 0.8935548250491803,\n",
       " 0.8446951370972854,\n",
       " 0.8858614839040316,\n",
       " 0.908172451532804,\n",
       " 0.8752316236495972,\n",
       " 0.9168955637858465,\n",
       " 0.8994825528218195,\n",
       " 0.918315419783959,\n",
       " 0.9121481684538034,\n",
       " 0.875032209433042,\n",
       " 0.9238145076311551,\n",
       " 0.8915685369418218,\n",
       " 0.9002165106626657,\n",
       " 0.9390414586433997,\n",
       " 0.8740779207302973,\n",
       " 0.9209709167480469,\n",
       " 0.8966217912160434,\n",
       " 0.8800218976460971]"
      ]
     },
     "execution_count": 26,
     "metadata": {},
     "output_type": "execute_result"
    }
   ],
   "source": [
    "test_train_teaher(teacher_student.teacher, feature_extractor, train_loader, device, torch_optimizer.QHAdam(\n",
    "    teacher_student.teacher.parameters(),\n",
    "    lr= 1e-3,\n",
    "    betas=(0.9, 0.999),\n",
    "    nus=(1.0, 1.0),\n",
    "    weight_decay=0,\n",
    "    decouple_weight_decay=False,\n",
    "    eps=1e-8,\n",
    "), 30, 'QHAdam')"
   ]
  },
  {
   "cell_type": "code",
   "execution_count": 21,
   "id": "2951f3e8-29fc-475a-a6b8-28c0a4e17bed",
   "metadata": {
    "editable": true,
    "scrolled": true,
    "slideshow": {
     "slide_type": ""
    },
    "tags": []
   },
   "outputs": [
    {
     "name": "stderr",
     "output_type": "stream",
     "text": [
      "C:\\Users\\Danila\\anaconda3\\Lib\\site-packages\\torchvision\\models\\_utils.py:208: UserWarning: The parameter 'pretrained' is deprecated since 0.13 and may be removed in the future, please use 'weights' instead.\n",
      "  warnings.warn(\n",
      "C:\\Users\\Danila\\anaconda3\\Lib\\site-packages\\torchvision\\models\\_utils.py:223: UserWarning: Arguments other than a weight enum or `None` for 'weights' are deprecated since 0.13 and may be removed in the future. The current behavior is equivalent to passing `weights=EfficientNet_B3_Weights.IMAGENET1K_V1`. You can also use `weights=EfficientNet_B3_Weights.DEFAULT` to get the most up-to-date weights.\n",
      "  warnings.warn(msg)\n",
      "Teacher training 1/30: 100%|████████████████████████████████████████████████████████| 13/13 [00:13<00:00,  1.03s/batch]\n"
     ]
    },
    {
     "name": "stdout",
     "output_type": "stream",
     "text": [
      "Epoch 0, Loss: 0.925029103572552\n",
      "0.2\n",
      "0.16000000000000003\n",
      "Saved checkpoint as: teacher_cpt_epoch0.pth.tar\n"
     ]
    },
    {
     "name": "stderr",
     "output_type": "stream",
     "text": [
      "Teacher training 2/30: 100%|████████████████████████████████████████████████████████| 13/13 [00:13<00:00,  1.01s/batch]\n"
     ]
    },
    {
     "name": "stdout",
     "output_type": "stream",
     "text": [
      "Epoch 1, Loss: 0.8495678076377282\n",
      "0.16000000000000003\n",
      "Saved checkpoint as: teacher_cpt_epoch1.pth.tar\n"
     ]
    },
    {
     "name": "stderr",
     "output_type": "stream",
     "text": [
      "Teacher training 3/30: 100%|████████████████████████████████████████████████████████| 13/13 [00:13<00:00,  1.01s/batch]\n"
     ]
    },
    {
     "name": "stdout",
     "output_type": "stream",
     "text": [
      "Epoch 2, Loss: 0.8893722387460562\n",
      "0.16000000000000003\n",
      "0.12800000000000003\n",
      "Saved checkpoint as: teacher_cpt_epoch2.pth.tar\n"
     ]
    },
    {
     "name": "stderr",
     "output_type": "stream",
     "text": [
      "Teacher training 4/30: 100%|████████████████████████████████████████████████████████| 13/13 [00:13<00:00,  1.03s/batch]\n"
     ]
    },
    {
     "name": "stdout",
     "output_type": "stream",
     "text": [
      "Epoch 3, Loss: 0.9298800321725699\n",
      "0.12800000000000003\n",
      "0.10240000000000003\n",
      "Saved checkpoint as: teacher_cpt_epoch3.pth.tar\n"
     ]
    },
    {
     "name": "stderr",
     "output_type": "stream",
     "text": [
      "Teacher training 5/30:  54%|██████████████████████████████▋                          | 7/13 [00:07<00:06,  1.12s/batch]\n"
     ]
    },
    {
     "ename": "KeyboardInterrupt",
     "evalue": "",
     "output_type": "error",
     "traceback": [
      "\u001b[1;31m---------------------------------------------------------------------------\u001b[0m",
      "\u001b[1;31mKeyboardInterrupt\u001b[0m                         Traceback (most recent call last)",
      "Cell \u001b[1;32mIn[21], line 1\u001b[0m\n\u001b[1;32m----> 1\u001b[0m test_train_teaher(teacher_student\u001b[38;5;241m.\u001b[39mteacher, feature_extractor, train_loader, device, torch_optimizer\u001b[38;5;241m.\u001b[39mAccSGD(\n\u001b[0;32m      2\u001b[0m     teacher_student\u001b[38;5;241m.\u001b[39mteacher\u001b[38;5;241m.\u001b[39mparameters(),\n\u001b[0;32m      3\u001b[0m     lr\u001b[38;5;241m=\u001b[39m\u001b[38;5;241m1e-3\u001b[39m,\n\u001b[0;32m      4\u001b[0m     kappa\u001b[38;5;241m=\u001b[39m\u001b[38;5;241m1000.0\u001b[39m,\n\u001b[0;32m      5\u001b[0m     xi\u001b[38;5;241m=\u001b[39m\u001b[38;5;241m10.0\u001b[39m,\n\u001b[0;32m      6\u001b[0m     small_const\u001b[38;5;241m=\u001b[39m\u001b[38;5;241m0.7\u001b[39m,\n\u001b[0;32m      7\u001b[0m     weight_decay\u001b[38;5;241m=\u001b[39m\u001b[38;5;241m0\u001b[39m\n\u001b[0;32m      8\u001b[0m ), \u001b[38;5;241m30\u001b[39m, \u001b[38;5;124m'\u001b[39m\u001b[38;5;124mAccSGDsecond\u001b[39m\u001b[38;5;124m'\u001b[39m)\n",
      "Cell \u001b[1;32mIn[19], line 11\u001b[0m, in \u001b[0;36mtest_train_teaher\u001b[1;34m(teacher, feature_extractor, train_loader, device, optimizer, epoch, filename)\u001b[0m\n\u001b[0;32m      9\u001b[0m \u001b[38;5;28;01mdef\u001b[39;00m \u001b[38;5;21mtest_train_teaher\u001b[39m(teacher, feature_extractor, train_loader, device, optimizer, epoch, filename):\n\u001b[0;32m     10\u001b[0m     feature_extractor, teacher_student \u001b[38;5;241m=\u001b[39m reset_teacher_extractor(models\u001b[38;5;241m.\u001b[39mefficientnet_b3(pretrained\u001b[38;5;241m=\u001b[39m\u001b[38;5;28;01mTrue\u001b[39;00m))\n\u001b[1;32m---> 11\u001b[0m     rl \u001b[38;5;241m=\u001b[39m train_teacher(teacher_student\u001b[38;5;241m.\u001b[39mteacher, feature_extractor, train_loader, device, optimizer, epoch, lrate\u001b[38;5;241m=\u001b[39m \u001b[38;5;241m0.2\u001b[39m)\n\u001b[0;32m     13\u001b[0m     save_loss(\u001b[38;5;124mf\u001b[39m\u001b[38;5;124m'\u001b[39m\u001b[38;5;124mr\u001b[39m\u001b[38;5;132;01m{\u001b[39;00mfilename\u001b[38;5;132;01m}\u001b[39;00m\u001b[38;5;124m.txt\u001b[39m\u001b[38;5;124m'\u001b[39m,rl)\n\u001b[0;32m     14\u001b[0m     \u001b[38;5;28;01mreturn\u001b[39;00m rl\n",
      "Cell \u001b[1;32mIn[5], line 19\u001b[0m, in \u001b[0;36mtrain_teacher\u001b[1;34m(teacher, feature_extractor, dataloader, device, optimizer, num_epochs, clip_value, lrate)\u001b[0m\n\u001b[0;32m     17\u001b[0m     optimizer\u001b[38;5;241m.\u001b[39mparam_groups[\u001b[38;5;241m0\u001b[39m][\u001b[38;5;124m'\u001b[39m\u001b[38;5;124mlr\u001b[39m\u001b[38;5;124m'\u001b[39m] \u001b[38;5;241m=\u001b[39m lrate\n\u001b[0;32m     18\u001b[0m running_loss \u001b[38;5;241m=\u001b[39m \u001b[38;5;241m0.0\u001b[39m\n\u001b[1;32m---> 19\u001b[0m \u001b[38;5;28;01mfor\u001b[39;00m images, labels \u001b[38;5;129;01min\u001b[39;00m tqdm(dataloader, desc\u001b[38;5;241m=\u001b[39m\u001b[38;5;124mf\u001b[39m\u001b[38;5;124m'\u001b[39m\u001b[38;5;124mTeacher training \u001b[39m\u001b[38;5;132;01m{\u001b[39;00mepoch\u001b[38;5;241m+\u001b[39m\u001b[38;5;241m1\u001b[39m\u001b[38;5;132;01m}\u001b[39;00m\u001b[38;5;124m/\u001b[39m\u001b[38;5;132;01m{\u001b[39;00mnum_epochs\u001b[38;5;132;01m}\u001b[39;00m\u001b[38;5;124m'\u001b[39m, unit\u001b[38;5;241m=\u001b[39m\u001b[38;5;124m'\u001b[39m\u001b[38;5;124mbatch\u001b[39m\u001b[38;5;124m'\u001b[39m):\n\u001b[0;32m     20\u001b[0m     images, labels \u001b[38;5;241m=\u001b[39m images\u001b[38;5;241m.\u001b[39mto(device), labels\u001b[38;5;241m.\u001b[39mto(device)\n\u001b[0;32m     21\u001b[0m     features \u001b[38;5;241m=\u001b[39m feature_extractor(images)\n",
      "File \u001b[1;32m~\\anaconda3\\Lib\\site-packages\\tqdm\\std.py:1178\u001b[0m, in \u001b[0;36mtqdm.__iter__\u001b[1;34m(self)\u001b[0m\n\u001b[0;32m   1175\u001b[0m time \u001b[38;5;241m=\u001b[39m \u001b[38;5;28mself\u001b[39m\u001b[38;5;241m.\u001b[39m_time\n\u001b[0;32m   1177\u001b[0m \u001b[38;5;28;01mtry\u001b[39;00m:\n\u001b[1;32m-> 1178\u001b[0m     \u001b[38;5;28;01mfor\u001b[39;00m obj \u001b[38;5;129;01min\u001b[39;00m iterable:\n\u001b[0;32m   1179\u001b[0m         \u001b[38;5;28;01myield\u001b[39;00m obj\n\u001b[0;32m   1180\u001b[0m         \u001b[38;5;66;03m# Update and possibly print the progressbar.\u001b[39;00m\n\u001b[0;32m   1181\u001b[0m         \u001b[38;5;66;03m# Note: does not call self.update(1) for speed optimisation.\u001b[39;00m\n",
      "File \u001b[1;32m~\\anaconda3\\Lib\\site-packages\\torch\\utils\\data\\dataloader.py:631\u001b[0m, in \u001b[0;36m_BaseDataLoaderIter.__next__\u001b[1;34m(self)\u001b[0m\n\u001b[0;32m    628\u001b[0m \u001b[38;5;28;01mif\u001b[39;00m \u001b[38;5;28mself\u001b[39m\u001b[38;5;241m.\u001b[39m_sampler_iter \u001b[38;5;129;01mis\u001b[39;00m \u001b[38;5;28;01mNone\u001b[39;00m:\n\u001b[0;32m    629\u001b[0m     \u001b[38;5;66;03m# TODO(https://github.com/pytorch/pytorch/issues/76750)\u001b[39;00m\n\u001b[0;32m    630\u001b[0m     \u001b[38;5;28mself\u001b[39m\u001b[38;5;241m.\u001b[39m_reset()  \u001b[38;5;66;03m# type: ignore[call-arg]\u001b[39;00m\n\u001b[1;32m--> 631\u001b[0m data \u001b[38;5;241m=\u001b[39m \u001b[38;5;28mself\u001b[39m\u001b[38;5;241m.\u001b[39m_next_data()\n\u001b[0;32m    632\u001b[0m \u001b[38;5;28mself\u001b[39m\u001b[38;5;241m.\u001b[39m_num_yielded \u001b[38;5;241m+\u001b[39m\u001b[38;5;241m=\u001b[39m \u001b[38;5;241m1\u001b[39m\n\u001b[0;32m    633\u001b[0m \u001b[38;5;28;01mif\u001b[39;00m \u001b[38;5;28mself\u001b[39m\u001b[38;5;241m.\u001b[39m_dataset_kind \u001b[38;5;241m==\u001b[39m _DatasetKind\u001b[38;5;241m.\u001b[39mIterable \u001b[38;5;129;01mand\u001b[39;00m \\\n\u001b[0;32m    634\u001b[0m         \u001b[38;5;28mself\u001b[39m\u001b[38;5;241m.\u001b[39m_IterableDataset_len_called \u001b[38;5;129;01mis\u001b[39;00m \u001b[38;5;129;01mnot\u001b[39;00m \u001b[38;5;28;01mNone\u001b[39;00m \u001b[38;5;129;01mand\u001b[39;00m \\\n\u001b[0;32m    635\u001b[0m         \u001b[38;5;28mself\u001b[39m\u001b[38;5;241m.\u001b[39m_num_yielded \u001b[38;5;241m>\u001b[39m \u001b[38;5;28mself\u001b[39m\u001b[38;5;241m.\u001b[39m_IterableDataset_len_called:\n",
      "File \u001b[1;32m~\\anaconda3\\Lib\\site-packages\\torch\\utils\\data\\dataloader.py:675\u001b[0m, in \u001b[0;36m_SingleProcessDataLoaderIter._next_data\u001b[1;34m(self)\u001b[0m\n\u001b[0;32m    673\u001b[0m \u001b[38;5;28;01mdef\u001b[39;00m \u001b[38;5;21m_next_data\u001b[39m(\u001b[38;5;28mself\u001b[39m):\n\u001b[0;32m    674\u001b[0m     index \u001b[38;5;241m=\u001b[39m \u001b[38;5;28mself\u001b[39m\u001b[38;5;241m.\u001b[39m_next_index()  \u001b[38;5;66;03m# may raise StopIteration\u001b[39;00m\n\u001b[1;32m--> 675\u001b[0m     data \u001b[38;5;241m=\u001b[39m \u001b[38;5;28mself\u001b[39m\u001b[38;5;241m.\u001b[39m_dataset_fetcher\u001b[38;5;241m.\u001b[39mfetch(index)  \u001b[38;5;66;03m# may raise StopIteration\u001b[39;00m\n\u001b[0;32m    676\u001b[0m     \u001b[38;5;28;01mif\u001b[39;00m \u001b[38;5;28mself\u001b[39m\u001b[38;5;241m.\u001b[39m_pin_memory:\n\u001b[0;32m    677\u001b[0m         data \u001b[38;5;241m=\u001b[39m _utils\u001b[38;5;241m.\u001b[39mpin_memory\u001b[38;5;241m.\u001b[39mpin_memory(data, \u001b[38;5;28mself\u001b[39m\u001b[38;5;241m.\u001b[39m_pin_memory_device)\n",
      "File \u001b[1;32m~\\anaconda3\\Lib\\site-packages\\torch\\utils\\data\\_utils\\fetch.py:49\u001b[0m, in \u001b[0;36m_MapDatasetFetcher.fetch\u001b[1;34m(self, possibly_batched_index)\u001b[0m\n\u001b[0;32m     47\u001b[0m \u001b[38;5;28;01mif\u001b[39;00m \u001b[38;5;28mself\u001b[39m\u001b[38;5;241m.\u001b[39mauto_collation:\n\u001b[0;32m     48\u001b[0m     \u001b[38;5;28;01mif\u001b[39;00m \u001b[38;5;28mhasattr\u001b[39m(\u001b[38;5;28mself\u001b[39m\u001b[38;5;241m.\u001b[39mdataset, \u001b[38;5;124m\"\u001b[39m\u001b[38;5;124m__getitems__\u001b[39m\u001b[38;5;124m\"\u001b[39m) \u001b[38;5;129;01mand\u001b[39;00m \u001b[38;5;28mself\u001b[39m\u001b[38;5;241m.\u001b[39mdataset\u001b[38;5;241m.\u001b[39m__getitems__:\n\u001b[1;32m---> 49\u001b[0m         data \u001b[38;5;241m=\u001b[39m \u001b[38;5;28mself\u001b[39m\u001b[38;5;241m.\u001b[39mdataset\u001b[38;5;241m.\u001b[39m__getitems__(possibly_batched_index)\n\u001b[0;32m     50\u001b[0m     \u001b[38;5;28;01melse\u001b[39;00m:\n\u001b[0;32m     51\u001b[0m         data \u001b[38;5;241m=\u001b[39m [\u001b[38;5;28mself\u001b[39m\u001b[38;5;241m.\u001b[39mdataset[idx] \u001b[38;5;28;01mfor\u001b[39;00m idx \u001b[38;5;129;01min\u001b[39;00m possibly_batched_index]\n",
      "File \u001b[1;32m~\\anaconda3\\Lib\\site-packages\\torch\\utils\\data\\dataset.py:397\u001b[0m, in \u001b[0;36mSubset.__getitems__\u001b[1;34m(self, indices)\u001b[0m\n\u001b[0;32m    393\u001b[0m \u001b[38;5;28;01mdef\u001b[39;00m \u001b[38;5;21m__getitems__\u001b[39m(\u001b[38;5;28mself\u001b[39m, indices: List[\u001b[38;5;28mint\u001b[39m]) \u001b[38;5;241m-\u001b[39m\u001b[38;5;241m>\u001b[39m List[T_co]:\n\u001b[0;32m    394\u001b[0m     \u001b[38;5;66;03m# add batched sampling support when parent dataset supports it.\u001b[39;00m\n\u001b[0;32m    395\u001b[0m     \u001b[38;5;66;03m# see torch.utils.data._utils.fetch._MapDatasetFetcher\u001b[39;00m\n\u001b[0;32m    396\u001b[0m     \u001b[38;5;28;01mif\u001b[39;00m \u001b[38;5;28mcallable\u001b[39m(\u001b[38;5;28mgetattr\u001b[39m(\u001b[38;5;28mself\u001b[39m\u001b[38;5;241m.\u001b[39mdataset, \u001b[38;5;124m\"\u001b[39m\u001b[38;5;124m__getitems__\u001b[39m\u001b[38;5;124m\"\u001b[39m, \u001b[38;5;28;01mNone\u001b[39;00m)):\n\u001b[1;32m--> 397\u001b[0m         \u001b[38;5;28;01mreturn\u001b[39;00m \u001b[38;5;28mself\u001b[39m\u001b[38;5;241m.\u001b[39mdataset\u001b[38;5;241m.\u001b[39m__getitems__([\u001b[38;5;28mself\u001b[39m\u001b[38;5;241m.\u001b[39mindices[idx] \u001b[38;5;28;01mfor\u001b[39;00m idx \u001b[38;5;129;01min\u001b[39;00m indices])  \u001b[38;5;66;03m# type: ignore[attr-defined]\u001b[39;00m\n\u001b[0;32m    398\u001b[0m     \u001b[38;5;28;01melse\u001b[39;00m:\n\u001b[0;32m    399\u001b[0m         \u001b[38;5;28;01mreturn\u001b[39;00m [\u001b[38;5;28mself\u001b[39m\u001b[38;5;241m.\u001b[39mdataset[\u001b[38;5;28mself\u001b[39m\u001b[38;5;241m.\u001b[39mindices[idx]] \u001b[38;5;28;01mfor\u001b[39;00m idx \u001b[38;5;129;01min\u001b[39;00m indices]\n",
      "File \u001b[1;32m~\\anaconda3\\Lib\\site-packages\\torch\\utils\\data\\dataset.py:399\u001b[0m, in \u001b[0;36mSubset.__getitems__\u001b[1;34m(self, indices)\u001b[0m\n\u001b[0;32m    397\u001b[0m     \u001b[38;5;28;01mreturn\u001b[39;00m \u001b[38;5;28mself\u001b[39m\u001b[38;5;241m.\u001b[39mdataset\u001b[38;5;241m.\u001b[39m__getitems__([\u001b[38;5;28mself\u001b[39m\u001b[38;5;241m.\u001b[39mindices[idx] \u001b[38;5;28;01mfor\u001b[39;00m idx \u001b[38;5;129;01min\u001b[39;00m indices])  \u001b[38;5;66;03m# type: ignore[attr-defined]\u001b[39;00m\n\u001b[0;32m    398\u001b[0m \u001b[38;5;28;01melse\u001b[39;00m:\n\u001b[1;32m--> 399\u001b[0m     \u001b[38;5;28;01mreturn\u001b[39;00m [\u001b[38;5;28mself\u001b[39m\u001b[38;5;241m.\u001b[39mdataset[\u001b[38;5;28mself\u001b[39m\u001b[38;5;241m.\u001b[39mindices[idx]] \u001b[38;5;28;01mfor\u001b[39;00m idx \u001b[38;5;129;01min\u001b[39;00m indices]\n",
      "File \u001b[1;32m~\\anaconda3\\Lib\\site-packages\\torch\\utils\\data\\dataset.py:399\u001b[0m, in \u001b[0;36m<listcomp>\u001b[1;34m(.0)\u001b[0m\n\u001b[0;32m    397\u001b[0m     \u001b[38;5;28;01mreturn\u001b[39;00m \u001b[38;5;28mself\u001b[39m\u001b[38;5;241m.\u001b[39mdataset\u001b[38;5;241m.\u001b[39m__getitems__([\u001b[38;5;28mself\u001b[39m\u001b[38;5;241m.\u001b[39mindices[idx] \u001b[38;5;28;01mfor\u001b[39;00m idx \u001b[38;5;129;01min\u001b[39;00m indices])  \u001b[38;5;66;03m# type: ignore[attr-defined]\u001b[39;00m\n\u001b[0;32m    398\u001b[0m \u001b[38;5;28;01melse\u001b[39;00m:\n\u001b[1;32m--> 399\u001b[0m     \u001b[38;5;28;01mreturn\u001b[39;00m [\u001b[38;5;28mself\u001b[39m\u001b[38;5;241m.\u001b[39mdataset[\u001b[38;5;28mself\u001b[39m\u001b[38;5;241m.\u001b[39mindices[idx]] \u001b[38;5;28;01mfor\u001b[39;00m idx \u001b[38;5;129;01min\u001b[39;00m indices]\n",
      "Cell \u001b[1;32mIn[3], line 75\u001b[0m, in \u001b[0;36mRealFakeDataset.__getitem__\u001b[1;34m(self, idx)\u001b[0m\n\u001b[0;32m     72\u001b[0m label \u001b[38;5;241m=\u001b[39m \u001b[38;5;28mself\u001b[39m\u001b[38;5;241m.\u001b[39mlabels[idx]\n\u001b[0;32m     74\u001b[0m \u001b[38;5;28;01mif\u001b[39;00m \u001b[38;5;28mself\u001b[39m\u001b[38;5;241m.\u001b[39mtransform:\n\u001b[1;32m---> 75\u001b[0m     image \u001b[38;5;241m=\u001b[39m \u001b[38;5;28mself\u001b[39m\u001b[38;5;241m.\u001b[39mtransform(image)\n\u001b[0;32m     77\u001b[0m \u001b[38;5;28;01mreturn\u001b[39;00m image, label\n",
      "File \u001b[1;32m~\\anaconda3\\Lib\\site-packages\\torchvision\\transforms\\transforms.py:95\u001b[0m, in \u001b[0;36mCompose.__call__\u001b[1;34m(self, img)\u001b[0m\n\u001b[0;32m     93\u001b[0m \u001b[38;5;28;01mdef\u001b[39;00m \u001b[38;5;21m__call__\u001b[39m(\u001b[38;5;28mself\u001b[39m, img):\n\u001b[0;32m     94\u001b[0m     \u001b[38;5;28;01mfor\u001b[39;00m t \u001b[38;5;129;01min\u001b[39;00m \u001b[38;5;28mself\u001b[39m\u001b[38;5;241m.\u001b[39mtransforms:\n\u001b[1;32m---> 95\u001b[0m         img \u001b[38;5;241m=\u001b[39m t(img)\n\u001b[0;32m     96\u001b[0m     \u001b[38;5;28;01mreturn\u001b[39;00m img\n",
      "File \u001b[1;32m~\\anaconda3\\Lib\\site-packages\\torch\\nn\\modules\\module.py:1511\u001b[0m, in \u001b[0;36mModule._wrapped_call_impl\u001b[1;34m(self, *args, **kwargs)\u001b[0m\n\u001b[0;32m   1509\u001b[0m     \u001b[38;5;28;01mreturn\u001b[39;00m \u001b[38;5;28mself\u001b[39m\u001b[38;5;241m.\u001b[39m_compiled_call_impl(\u001b[38;5;241m*\u001b[39margs, \u001b[38;5;241m*\u001b[39m\u001b[38;5;241m*\u001b[39mkwargs)  \u001b[38;5;66;03m# type: ignore[misc]\u001b[39;00m\n\u001b[0;32m   1510\u001b[0m \u001b[38;5;28;01melse\u001b[39;00m:\n\u001b[1;32m-> 1511\u001b[0m     \u001b[38;5;28;01mreturn\u001b[39;00m \u001b[38;5;28mself\u001b[39m\u001b[38;5;241m.\u001b[39m_call_impl(\u001b[38;5;241m*\u001b[39margs, \u001b[38;5;241m*\u001b[39m\u001b[38;5;241m*\u001b[39mkwargs)\n",
      "File \u001b[1;32m~\\anaconda3\\Lib\\site-packages\\torch\\nn\\modules\\module.py:1520\u001b[0m, in \u001b[0;36mModule._call_impl\u001b[1;34m(self, *args, **kwargs)\u001b[0m\n\u001b[0;32m   1515\u001b[0m \u001b[38;5;66;03m# If we don't have any hooks, we want to skip the rest of the logic in\u001b[39;00m\n\u001b[0;32m   1516\u001b[0m \u001b[38;5;66;03m# this function, and just call forward.\u001b[39;00m\n\u001b[0;32m   1517\u001b[0m \u001b[38;5;28;01mif\u001b[39;00m \u001b[38;5;129;01mnot\u001b[39;00m (\u001b[38;5;28mself\u001b[39m\u001b[38;5;241m.\u001b[39m_backward_hooks \u001b[38;5;129;01mor\u001b[39;00m \u001b[38;5;28mself\u001b[39m\u001b[38;5;241m.\u001b[39m_backward_pre_hooks \u001b[38;5;129;01mor\u001b[39;00m \u001b[38;5;28mself\u001b[39m\u001b[38;5;241m.\u001b[39m_forward_hooks \u001b[38;5;129;01mor\u001b[39;00m \u001b[38;5;28mself\u001b[39m\u001b[38;5;241m.\u001b[39m_forward_pre_hooks\n\u001b[0;32m   1518\u001b[0m         \u001b[38;5;129;01mor\u001b[39;00m _global_backward_pre_hooks \u001b[38;5;129;01mor\u001b[39;00m _global_backward_hooks\n\u001b[0;32m   1519\u001b[0m         \u001b[38;5;129;01mor\u001b[39;00m _global_forward_hooks \u001b[38;5;129;01mor\u001b[39;00m _global_forward_pre_hooks):\n\u001b[1;32m-> 1520\u001b[0m     \u001b[38;5;28;01mreturn\u001b[39;00m forward_call(\u001b[38;5;241m*\u001b[39margs, \u001b[38;5;241m*\u001b[39m\u001b[38;5;241m*\u001b[39mkwargs)\n\u001b[0;32m   1522\u001b[0m \u001b[38;5;28;01mtry\u001b[39;00m:\n\u001b[0;32m   1523\u001b[0m     result \u001b[38;5;241m=\u001b[39m \u001b[38;5;28;01mNone\u001b[39;00m\n",
      "File \u001b[1;32m~\\anaconda3\\Lib\\site-packages\\torchvision\\transforms\\transforms.py:354\u001b[0m, in \u001b[0;36mResize.forward\u001b[1;34m(self, img)\u001b[0m\n\u001b[0;32m    346\u001b[0m \u001b[38;5;28;01mdef\u001b[39;00m \u001b[38;5;21mforward\u001b[39m(\u001b[38;5;28mself\u001b[39m, img):\n\u001b[0;32m    347\u001b[0m \u001b[38;5;250m    \u001b[39m\u001b[38;5;124;03m\"\"\"\u001b[39;00m\n\u001b[0;32m    348\u001b[0m \u001b[38;5;124;03m    Args:\u001b[39;00m\n\u001b[0;32m    349\u001b[0m \u001b[38;5;124;03m        img (PIL Image or Tensor): Image to be scaled.\u001b[39;00m\n\u001b[1;32m   (...)\u001b[0m\n\u001b[0;32m    352\u001b[0m \u001b[38;5;124;03m        PIL Image or Tensor: Rescaled image.\u001b[39;00m\n\u001b[0;32m    353\u001b[0m \u001b[38;5;124;03m    \"\"\"\u001b[39;00m\n\u001b[1;32m--> 354\u001b[0m     \u001b[38;5;28;01mreturn\u001b[39;00m F\u001b[38;5;241m.\u001b[39mresize(img, \u001b[38;5;28mself\u001b[39m\u001b[38;5;241m.\u001b[39msize, \u001b[38;5;28mself\u001b[39m\u001b[38;5;241m.\u001b[39minterpolation, \u001b[38;5;28mself\u001b[39m\u001b[38;5;241m.\u001b[39mmax_size, \u001b[38;5;28mself\u001b[39m\u001b[38;5;241m.\u001b[39mantialias)\n",
      "File \u001b[1;32m~\\anaconda3\\Lib\\site-packages\\torchvision\\transforms\\functional.py:467\u001b[0m, in \u001b[0;36mresize\u001b[1;34m(img, size, interpolation, max_size, antialias)\u001b[0m\n\u001b[0;32m    465\u001b[0m         warnings\u001b[38;5;241m.\u001b[39mwarn(\u001b[38;5;124m\"\u001b[39m\u001b[38;5;124mAnti-alias option is always applied for PIL Image input. Argument antialias is ignored.\u001b[39m\u001b[38;5;124m\"\u001b[39m)\n\u001b[0;32m    466\u001b[0m     pil_interpolation \u001b[38;5;241m=\u001b[39m pil_modes_mapping[interpolation]\n\u001b[1;32m--> 467\u001b[0m     \u001b[38;5;28;01mreturn\u001b[39;00m F_pil\u001b[38;5;241m.\u001b[39mresize(img, size\u001b[38;5;241m=\u001b[39moutput_size, interpolation\u001b[38;5;241m=\u001b[39mpil_interpolation)\n\u001b[0;32m    469\u001b[0m \u001b[38;5;28;01mreturn\u001b[39;00m F_t\u001b[38;5;241m.\u001b[39mresize(img, size\u001b[38;5;241m=\u001b[39moutput_size, interpolation\u001b[38;5;241m=\u001b[39minterpolation\u001b[38;5;241m.\u001b[39mvalue, antialias\u001b[38;5;241m=\u001b[39mantialias)\n",
      "File \u001b[1;32m~\\anaconda3\\Lib\\site-packages\\torchvision\\transforms\\_functional_pil.py:250\u001b[0m, in \u001b[0;36mresize\u001b[1;34m(img, size, interpolation)\u001b[0m\n\u001b[0;32m    247\u001b[0m \u001b[38;5;28;01mif\u001b[39;00m \u001b[38;5;129;01mnot\u001b[39;00m (\u001b[38;5;28misinstance\u001b[39m(size, \u001b[38;5;28mlist\u001b[39m) \u001b[38;5;129;01mand\u001b[39;00m \u001b[38;5;28mlen\u001b[39m(size) \u001b[38;5;241m==\u001b[39m \u001b[38;5;241m2\u001b[39m):\n\u001b[0;32m    248\u001b[0m     \u001b[38;5;28;01mraise\u001b[39;00m \u001b[38;5;167;01mTypeError\u001b[39;00m(\u001b[38;5;124mf\u001b[39m\u001b[38;5;124m\"\u001b[39m\u001b[38;5;124mGot inappropriate size arg: \u001b[39m\u001b[38;5;132;01m{\u001b[39;00msize\u001b[38;5;132;01m}\u001b[39;00m\u001b[38;5;124m\"\u001b[39m)\n\u001b[1;32m--> 250\u001b[0m \u001b[38;5;28;01mreturn\u001b[39;00m img\u001b[38;5;241m.\u001b[39mresize(\u001b[38;5;28mtuple\u001b[39m(size[::\u001b[38;5;241m-\u001b[39m\u001b[38;5;241m1\u001b[39m]), interpolation)\n",
      "File \u001b[1;32m~\\anaconda3\\Lib\\site-packages\\PIL\\Image.py:2192\u001b[0m, in \u001b[0;36mImage.resize\u001b[1;34m(self, size, resample, box, reducing_gap)\u001b[0m\n\u001b[0;32m   2184\u001b[0m             \u001b[38;5;28mself\u001b[39m \u001b[38;5;241m=\u001b[39m Image\u001b[38;5;241m.\u001b[39mreduce(\u001b[38;5;28mself\u001b[39m, factor, box\u001b[38;5;241m=\u001b[39mreduce_box)\n\u001b[0;32m   2185\u001b[0m         box \u001b[38;5;241m=\u001b[39m (\n\u001b[0;32m   2186\u001b[0m             (box[\u001b[38;5;241m0\u001b[39m] \u001b[38;5;241m-\u001b[39m reduce_box[\u001b[38;5;241m0\u001b[39m]) \u001b[38;5;241m/\u001b[39m factor_x,\n\u001b[0;32m   2187\u001b[0m             (box[\u001b[38;5;241m1\u001b[39m] \u001b[38;5;241m-\u001b[39m reduce_box[\u001b[38;5;241m1\u001b[39m]) \u001b[38;5;241m/\u001b[39m factor_y,\n\u001b[0;32m   2188\u001b[0m             (box[\u001b[38;5;241m2\u001b[39m] \u001b[38;5;241m-\u001b[39m reduce_box[\u001b[38;5;241m0\u001b[39m]) \u001b[38;5;241m/\u001b[39m factor_x,\n\u001b[0;32m   2189\u001b[0m             (box[\u001b[38;5;241m3\u001b[39m] \u001b[38;5;241m-\u001b[39m reduce_box[\u001b[38;5;241m1\u001b[39m]) \u001b[38;5;241m/\u001b[39m factor_y,\n\u001b[0;32m   2190\u001b[0m         )\n\u001b[1;32m-> 2192\u001b[0m \u001b[38;5;28;01mreturn\u001b[39;00m \u001b[38;5;28mself\u001b[39m\u001b[38;5;241m.\u001b[39m_new(\u001b[38;5;28mself\u001b[39m\u001b[38;5;241m.\u001b[39mim\u001b[38;5;241m.\u001b[39mresize(size, resample, box))\n",
      "\u001b[1;31mKeyboardInterrupt\u001b[0m: "
     ]
    }
   ],
   "source": [
    "test_train_teaher(teacher_student.teacher, feature_extractor, train_loader, device, torch_optimizer.AccSGD(\n",
    "    teacher_student.teacher.parameters(),\n",
    "    lr=1e-3,\n",
    "    kappa=1000.0,\n",
    "    xi=10.0,\n",
    "    small_const=0.7,\n",
    "    weight_decay=0\n",
    "), 30, 'AccSGDsecond')"
   ]
  },
  {
   "cell_type": "code",
   "execution_count": 26,
   "id": "964b4548-7cd2-4d12-8c7c-1d272128e882",
   "metadata": {
    "editable": true,
    "slideshow": {
     "slide_type": ""
    },
    "tags": []
   },
   "outputs": [
    {
     "name": "stderr",
     "output_type": "stream",
     "text": [
      "C:\\Users\\Danila\\anaconda3\\Lib\\site-packages\\torchvision\\models\\_utils.py:208: UserWarning: The parameter 'pretrained' is deprecated since 0.13 and may be removed in the future, please use 'weights' instead.\n",
      "  warnings.warn(\n",
      "C:\\Users\\Danila\\anaconda3\\Lib\\site-packages\\torchvision\\models\\_utils.py:223: UserWarning: Arguments other than a weight enum or `None` for 'weights' are deprecated since 0.13 and may be removed in the future. The current behavior is equivalent to passing `weights=EfficientNet_B3_Weights.IMAGENET1K_V1`. You can also use `weights=EfficientNet_B3_Weights.DEFAULT` to get the most up-to-date weights.\n",
      "  warnings.warn(msg)\n",
      "Teacher training 1/30: 100%|████████████████████████████████████████████████████████| 13/13 [00:13<00:00,  1.02s/batch]\n"
     ]
    },
    {
     "name": "stdout",
     "output_type": "stream",
     "text": [
      "Epoch 0, Loss: 0.8294902902383071\n",
      "0.2\n",
      "0.16000000000000003\n",
      "Saved checkpoint as: teacher_cpt_epoch0.pth.tar\n"
     ]
    },
    {
     "name": "stderr",
     "output_type": "stream",
     "text": [
      "Teacher training 2/30: 100%|████████████████████████████████████████████████████████| 13/13 [00:13<00:00,  1.01s/batch]\n"
     ]
    },
    {
     "name": "stdout",
     "output_type": "stream",
     "text": [
      "Epoch 1, Loss: 0.9106303040797894\n",
      "0.16000000000000003\n",
      "0.12800000000000003\n",
      "Saved checkpoint as: teacher_cpt_epoch1.pth.tar\n"
     ]
    },
    {
     "name": "stderr",
     "output_type": "stream",
     "text": [
      "Teacher training 3/30: 100%|████████████████████████████████████████████████████████| 13/13 [00:13<00:00,  1.01s/batch]\n"
     ]
    },
    {
     "name": "stdout",
     "output_type": "stream",
     "text": [
      "Epoch 2, Loss: 0.8808027780972995\n",
      "0.12800000000000003\n",
      "Saved checkpoint as: teacher_cpt_epoch2.pth.tar\n"
     ]
    },
    {
     "name": "stderr",
     "output_type": "stream",
     "text": [
      "Teacher training 4/30: 100%|████████████████████████████████████████████████████████| 13/13 [00:13<00:00,  1.03s/batch]\n"
     ]
    },
    {
     "name": "stdout",
     "output_type": "stream",
     "text": [
      "Epoch 3, Loss: 0.8938885147754962\n",
      "0.12800000000000003\n",
      "0.10240000000000003\n",
      "Saved checkpoint as: teacher_cpt_epoch3.pth.tar\n"
     ]
    },
    {
     "name": "stderr",
     "output_type": "stream",
     "text": [
      "Teacher training 5/30:  85%|███████████████████████████████████████████████▍        | 11/13 [00:12<00:02,  1.10s/batch]\n"
     ]
    },
    {
     "ename": "KeyboardInterrupt",
     "evalue": "",
     "output_type": "error",
     "traceback": [
      "\u001b[1;31m---------------------------------------------------------------------------\u001b[0m",
      "\u001b[1;31mKeyboardInterrupt\u001b[0m                         Traceback (most recent call last)",
      "Cell \u001b[1;32mIn[26], line 1\u001b[0m\n\u001b[1;32m----> 1\u001b[0m test_train_teaher(teacher_student\u001b[38;5;241m.\u001b[39mteacher, feature_extractor, train_loader, device, torch_optimizer\u001b[38;5;241m.\u001b[39mRAdam(\n\u001b[0;32m      2\u001b[0m     teacher_student\u001b[38;5;241m.\u001b[39mteacher\u001b[38;5;241m.\u001b[39mparameters(),\n\u001b[0;32m      3\u001b[0m     lr\u001b[38;5;241m=\u001b[39m \u001b[38;5;241m1e-3\u001b[39m,\n\u001b[0;32m      4\u001b[0m     betas\u001b[38;5;241m=\u001b[39m(\u001b[38;5;241m0.9\u001b[39m, \u001b[38;5;241m0.999\u001b[39m),\n\u001b[0;32m      5\u001b[0m     eps\u001b[38;5;241m=\u001b[39m\u001b[38;5;241m1e-8\u001b[39m,\n\u001b[0;32m      6\u001b[0m     weight_decay\u001b[38;5;241m=\u001b[39m\u001b[38;5;241m0\u001b[39m,\n\u001b[0;32m      7\u001b[0m ), \u001b[38;5;241m30\u001b[39m, \u001b[38;5;124m'\u001b[39m\u001b[38;5;124mRAdam\u001b[39m\u001b[38;5;124m'\u001b[39m)\n",
      "Cell \u001b[1;32mIn[19], line 11\u001b[0m, in \u001b[0;36mtest_train_teaher\u001b[1;34m(teacher, feature_extractor, train_loader, device, optimizer, epoch, filename)\u001b[0m\n\u001b[0;32m      9\u001b[0m \u001b[38;5;28;01mdef\u001b[39;00m \u001b[38;5;21mtest_train_teaher\u001b[39m(teacher, feature_extractor, train_loader, device, optimizer, epoch, filename):\n\u001b[0;32m     10\u001b[0m     feature_extractor, teacher_student \u001b[38;5;241m=\u001b[39m reset_teacher_extractor(models\u001b[38;5;241m.\u001b[39mefficientnet_b3(pretrained\u001b[38;5;241m=\u001b[39m\u001b[38;5;28;01mTrue\u001b[39;00m))\n\u001b[1;32m---> 11\u001b[0m     rl \u001b[38;5;241m=\u001b[39m train_teacher(teacher_student\u001b[38;5;241m.\u001b[39mteacher, feature_extractor, train_loader, device, optimizer, epoch, lrate\u001b[38;5;241m=\u001b[39m \u001b[38;5;241m0.2\u001b[39m)\n\u001b[0;32m     13\u001b[0m     save_loss(\u001b[38;5;124mf\u001b[39m\u001b[38;5;124m'\u001b[39m\u001b[38;5;124mr\u001b[39m\u001b[38;5;132;01m{\u001b[39;00mfilename\u001b[38;5;132;01m}\u001b[39;00m\u001b[38;5;124m.txt\u001b[39m\u001b[38;5;124m'\u001b[39m,rl)\n\u001b[0;32m     14\u001b[0m     \u001b[38;5;28;01mreturn\u001b[39;00m rl\n",
      "Cell \u001b[1;32mIn[25], line 30\u001b[0m, in \u001b[0;36mtrain_teacher\u001b[1;34m(teacher, feature_extractor, dataloader, device, optimizer, num_epochs, clip_value, lrate)\u001b[0m\n\u001b[0;32m     27\u001b[0m     torch\u001b[38;5;241m.\u001b[39mnn\u001b[38;5;241m.\u001b[39mutils\u001b[38;5;241m.\u001b[39mclip_grad_norm_(teacher\u001b[38;5;241m.\u001b[39mparameters(), clip_value)\n\u001b[0;32m     28\u001b[0m     optimizer\u001b[38;5;241m.\u001b[39mstep()\n\u001b[1;32m---> 30\u001b[0m     running_loss \u001b[38;5;241m+\u001b[39m\u001b[38;5;241m=\u001b[39m loss\u001b[38;5;241m.\u001b[39mitem()\n\u001b[0;32m     31\u001b[0m     \u001b[38;5;66;03m# loss_list.append(loss.item())\u001b[39;00m\n\u001b[0;32m     32\u001b[0m \u001b[38;5;66;03m# scheduler.step()\u001b[39;00m\n\u001b[0;32m     33\u001b[0m running_loss_list\u001b[38;5;241m.\u001b[39mappend(running_loss\u001b[38;5;241m/\u001b[39m\u001b[38;5;28mlen\u001b[39m(dataloader))\n",
      "\u001b[1;31mKeyboardInterrupt\u001b[0m: "
     ]
    }
   ],
   "source": [
    "test_train_teaher(teacher_student.teacher, feature_extractor, train_loader, device, torch_optimizer.RAdam(\n",
    "    teacher_student.teacher.parameters(),\n",
    "    lr= 1e-3,\n",
    "    betas=(0.9, 0.999),\n",
    "    eps=1e-8,\n",
    "    weight_decay=0,\n",
    "), 30, 'RAdam')"
   ]
  },
  {
   "cell_type": "code",
   "execution_count": null,
   "id": "7a44e971-1915-44a7-a0a7-6519e119f8f6",
   "metadata": {
    "scrolled": true
   },
   "outputs": [],
   "source": [
    "test_train_teaher(teacher_student.teacher, feature_extractor, train_loader, device, torch_optimizer.Ranger(\n",
    "    teacher_student.teacher.parameters(),\n",
    "    lr=1e-3,\n",
    "    alpha=0.5,\n",
    "    k=6,\n",
    "    N_sma_threshhold=5,\n",
    "    betas=(.95, 0.999),\n",
    "    eps=1e-5,\n",
    "    weight_decay=0\n",
    "), 30, 'Ranger')"
   ]
  },
  {
   "cell_type": "code",
   "execution_count": null,
   "id": "efbc7277-463c-4ad0-8ed1-41d26f9985d2",
   "metadata": {
    "scrolled": true
   },
   "outputs": [],
   "source": [
    "test_train_teaher(teacher_student.teacher, feature_extractor, train_loader, device, torch_optimizer.RangerQH(\n",
    "    teacher_student.teacher.parameters(),\n",
    "    lr=1e-3,\n",
    "    betas=(0.9, 0.999),\n",
    "    nus=(.7, 1.0),\n",
    "    weight_decay=0.0,\n",
    "    k=6,\n",
    "    alpha=.5,\n",
    "    decouple_weight_decay=False,\n",
    "    eps=1e-8,\n",
    "), 30, 'RangerQH')"
   ]
  },
  {
   "cell_type": "code",
   "execution_count": null,
   "id": "ed16f7fe-0cec-4d7e-8a58-abdc07bc1f42",
   "metadata": {
    "scrolled": true
   },
   "outputs": [],
   "source": [
    "test_train_teaher(teacher_student.teacher, feature_extractor, train_loader, device, torch_optimizer.RangerVA(\n",
    "    teacher_student.teacher.parameters(),\n",
    "    lr=1e-3,\n",
    "    alpha=0.5,\n",
    "    k=6,\n",
    "    n_sma_threshhold=5,\n",
    "    betas=(.95, 0.999),\n",
    "    eps=1e-5,\n",
    "    weight_decay=0,\n",
    "    amsgrad=True,\n",
    "    transformer='softplus',\n",
    "    smooth=50,\n",
    "    grad_transformer='square'\n",
    "), 30, 'RangerVA')"
   ]
  },
  {
   "cell_type": "code",
   "execution_count": null,
   "id": "09dc6297-3813-4807-9ac1-151c775baefe",
   "metadata": {
    "scrolled": true
   },
   "outputs": [],
   "source": [
    "test_train_teaher(teacher_student.teacher, feature_extractor, train_loader, device, torch_optimizer.SGDP(\n",
    "    teacher_student.teacher.parameters(),\n",
    "    lr= 1e-3,\n",
    "    momentum=0,\n",
    "    dampening=0,\n",
    "    weight_decay=1e-2,\n",
    "    nesterov=False,\n",
    "    delta = 0.1,\n",
    "    wd_ratio = 0.1\n",
    "), 30, 'SGDP')"
   ]
  },
  {
   "cell_type": "code",
   "execution_count": null,
   "id": "bb294b8f-8a72-41cf-86ae-2379ba7597bc",
   "metadata": {
    "scrolled": true
   },
   "outputs": [],
   "source": [
    "test_train_teaher(teacher_student.teacher, feature_extractor, train_loader, device, torch_optimizer.SGDW(\n",
    "    teacher_student.teacher.parameters(),\n",
    "    lr= 1e-3,\n",
    "    momentum=0,\n",
    "    dampening=0,\n",
    "    weight_decay=1e-2,\n",
    "    nesterov=False,\n",
    "), 30, 'SGDW')"
   ]
  },
  {
   "cell_type": "code",
   "execution_count": null,
   "id": "a1f8200f-0277-4016-b1f4-3a61cacf1575",
   "metadata": {
    "scrolled": true
   },
   "outputs": [],
   "source": [
    "test_train_teaher(teacher_student.teacher, feature_extractor, train_loader, device, torch_optimizer.SWATS(\n",
    "    teacher_student.teacher.parameters(),\n",
    "    lr=1e-1,\n",
    "    betas=(0.9, 0.999),\n",
    "    eps=1e-3,\n",
    "    weight_decay= 0.0,\n",
    "    amsgrad=False,\n",
    "    nesterov=False,\n",
    "), 30, 'SWATS')"
   ]
  },
  {
   "cell_type": "code",
   "execution_count": null,
   "id": "562dbf14-a717-46d4-84c9-f2f83e06f6ee",
   "metadata": {
    "scrolled": true
   },
   "outputs": [],
   "source": [
    "test_train_teaher(teacher_student.teacher, feature_extractor, train_loader, device, torch_optimizer.Shampoo(\n",
    "    teacher_student.teacher.parameters(),\n",
    "    lr=1e-1,\n",
    "    momentum=0.0,\n",
    "    weight_decay=0.0,\n",
    "    epsilon=1e-4,\n",
    "    update_freq=1,\n",
    "), 30, 'Shampoo')"
   ]
  },
  {
   "cell_type": "code",
   "execution_count": null,
   "id": "74e5a96b-e106-436d-93cc-e64a0012f7e5",
   "metadata": {
    "scrolled": true
   },
   "outputs": [],
   "source": [
    "test_train_teaher(teacher_student.teacher, feature_extractor, train_loader, device, torch_optimizer.Yogi(\n",
    "    teacher_student.teacher.parameters(),\n",
    "    lr= 1e-2,\n",
    "    betas=(0.9, 0.999),\n",
    "    eps=1e-3,\n",
    "    initial_accumulator=1e-6,\n",
    "    weight_decay=0,\n",
    "), 30, 'Yogi')"
   ]
  },
  {
   "cell_type": "code",
   "execution_count": 24,
   "id": "abbe4705-ea0c-41f2-8941-6602644ed164",
   "metadata": {},
   "outputs": [
    {
     "data": {
      "image/png": "[encoded data removed]",
      "text/plain": [
       "<Figure size 2000x2000 with 1 Axes>"
      ]
     },
     "metadata": {},
     "output_type": "display_data"
    }
   ],
   "source": [
    "draw_loss_from_folder('loss/running/changing/')"
   ]
  },
  {
   "cell_type": "code",
   "execution_count": null,
   "id": "b4e67ceb-ca0a-4d81-aa38-5d7b88f9520f",
   "metadata": {
    "editable": true,
    "slideshow": {
     "slide_type": ""
    },
    "tags": []
   },
   "outputs": [],
   "source": []
  },
  {
   "cell_type": "code",
   "execution_count": null,
   "id": "79f7c679-37dd-4e99-8481-2c61cb1b12fc",
   "metadata": {},
   "outputs": [],
   "source": [
    "# eficient b3 yet the best\n",
    "draw_loss_graphs([adrt, rt1, rt2, srt, amrt2, apdrt2, yrt2, srt3, rAccSGD])"
   ]
  },
  {
   "cell_type": "code",
   "execution_count": null,
   "id": "f9df6a39-a3a4-4e47-b0ec-06818d7b3a6a",
   "metadata": {
    "scrolled": true
   },
   "outputs": [],
   "source": [
    "# Train the teacher network\n",
    "t1, rt = train_teacher(teacher_student.teacher, feature_extractor, train_loader, device, 60)\n",
    "loss_teacher.extend(t)\n",
    "running_loss_teacher.extend(rt)"
   ]
  },
  {
   "cell_type": "code",
   "execution_count": null,
   "id": "1e843437-651e-4879-b25f-a7b98a97bc2a",
   "metadata": {},
   "outputs": [],
   "source": [
    "# Train the student and augmenter\n"
   ]
  },
  {
   "cell_type": "code",
   "execution_count": null,
   "id": "b9fe8370-932d-4fd1-aa22-b726cb016b0f",
   "metadata": {
    "scrolled": true
   },
   "outputs": [],
   "source": [
    "# Train the binary classifier\n",
    "loss_classifier.extend(train_binary_classifier(teacher_student.teacher, teacher_student.student, binary_classifier.binary_classifier, feature_extractor, train_loader, device, 16))"
   ]
  },
  {
   "cell_type": "code",
   "execution_count": null,
   "id": "62e7c6fe-b618-43cf-9949-11fb620aec6b",
   "metadata": {},
   "outputs": [],
   "source": [
    "testacc = test_binary_classifier(teacher_student.teacher, teacher_student.student, binary_classifier.binary_classifier, feature_extractor, test_loader, device)\n",
    "add_log(f'Test dataset accuracy: {testacc}')"
   ]
  },
  {
   "cell_type": "code",
   "execution_count": null,
   "id": "0ed3bc0b-5f5d-4d40-8ca8-84cf7c61fd53",
   "metadata": {},
   "outputs": [],
   "source": [
    "testacc = test_teacher(teacher_student.teacher, feature_extractor, comb2_test_loader, device)\n",
    "add_log(f'Test dataset accuracy: {testacc}')"
   ]
  },
  {
   "cell_type": "code",
   "execution_count": null,
   "id": "039460a0-6fae-469a-b46c-3527b3d1fe7f",
   "metadata": {},
   "outputs": [],
   "source": [
    "save_loss('loss_teacher_clip_norm_nosheluder.txt', loss_teacher)"
   ]
  },
  {
   "cell_type": "code",
   "execution_count": null,
   "id": "8697215a-9264-48a3-ba05-d5d43209eeb4",
   "metadata": {},
   "outputs": [],
   "source": [
    "\n",
    "# for i in range(10):\n",
    "#     # Train the student network\n",
    "#     train_student(teacher_student.teacher, teacher_student.student, feature_extractor, augmenter, train_loader, device, 1, margin= 1.0)\n",
    "#     save_checkpoint(teacher_student.teacher, filename='student_cpt', epoch=i)\n",
    "    \n",
    "#     # Traun the augmenter\n",
    "#     train_augmenter(teacher_student.teacher, teacher_student.student, feature_extractor, augmenter, train_loader, device, 1)\n",
    "#     save_checkpoint(teacher_student.teacher, filename='augmenter_cpt', epoch=i)\n",
    "    "
   ]
  },
  {
   "cell_type": "code",
   "execution_count": null,
   "id": "8b6ab4b9-4b68-419d-bda8-e7339e2e84e9",
   "metadata": {},
   "outputs": [],
   "source": [
    "mytest_image_paths, mytest_labels = load_image_paths_and_labels('C:/Users/Danila/VSU/vsu_common_rep/vsu_common_rep/2year/2term/project/image_classification/content/mytestset/')\n",
    "mytest_dataset = RealFakeDataset(mytest_image_paths, mytest_labels, transform=transform)\n",
    "mytest_loader = DataLoader(mytest_dataset, batch_size=64, shuffle=False)"
   ]
  },
  {
   "cell_type": "code",
   "execution_count": null,
   "id": "9a1bd321-ba00-472d-ad12-0a6044383c44",
   "metadata": {},
   "outputs": [],
   "source": [
    "mytestacc = test_binary_classifier(teacher_student.teacher, teacher_student.student, binary_classifier.binary_classifier, feature_extractor, mytest_loader, device)\n",
    "add_log(f'My test dataset accuracy: {mytestacc}')"
   ]
  },
  {
   "cell_type": "code",
   "execution_count": null,
   "id": "c4b4ffca-0c29-4abc-85b6-7920043b843c",
   "metadata": {},
   "outputs": [],
   "source": [
    "comb_test_image_paths, comb_test_labels = load_image_paths_and_labels('C:/Users/Danila/VSU/vsu_common_rep/vsu_common_rep/2year/2term/project/image_classification/content/combined/')\n",
    "comb_test_dataset = RealFakeDataset(comb_test_image_paths, comb_test_labels, transform=transform)\n",
    "comb_test_loader = DataLoader(comb_test_dataset, batch_size=64, shuffle=False)"
   ]
  },
  {
   "cell_type": "code",
   "execution_count": null,
   "id": "e6d9efaf-9f43-4d36-9c18-ac1b20366650",
   "metadata": {},
   "outputs": [],
   "source": [
    "combtestacc = test_binary_classifier(teacher_student.teacher, teacher_student.student, binary_classifier.binary_classifier, feature_extractor, comb_test_loader, device)\n",
    "add_log(f'Combined test dataset accuracy: {combtestacc}')"
   ]
  },
  {
   "cell_type": "code",
   "execution_count": null,
   "id": "76aa7122-d0f1-4480-9189-bd8552aff30e",
   "metadata": {},
   "outputs": [],
   "source": [
    "comb2_test_image_paths, comb2_test_labels = load_image_paths_and_labels('C:/Users/Danila/VSU/vsu_common_rep/vsu_common_rep/2year/2term/project/image_classification/content/combined2/')\n",
    "comb2_test_dataset = RealFakeDataset(comb2_test_image_paths, comb_test_labels, transform=transform)\n",
    "comb2_test_loader = DataLoader(comb2_test_dataset, batch_size=64, shuffle=False)"
   ]
  },
  {
   "cell_type": "code",
   "execution_count": null,
   "id": "12ac77fe-81ae-4629-8dbf-f26d93d9f6ec",
   "metadata": {},
   "outputs": [],
   "source": [
    "comb2testacc = test_binary_classifier(teacher_student.teacher, teacher_student.student, binary_classifier.binary_classifier, feature_extractor, comb2_test_loader, device)\n",
    "add_log(f'Combined test dataset accuracy: {combtestacc}')"
   ]
  },
  {
   "cell_type": "code",
   "execution_count": null,
   "id": "6c6059f1-58c7-4e97-8b58-73342fdedd52",
   "metadata": {},
   "outputs": [],
   "source": [
    "print(len(comb_test_dataset))"
   ]
  },
  {
   "cell_type": "code",
   "execution_count": null,
   "id": "54016f26-1c27-4b15-92ff-8c5abb71eca6",
   "metadata": {},
   "outputs": [],
   "source": [
    "limage_paths, mytest_labels = load_image_paths_and_labels(\"D:progan_train/progan_train/\")\n",
    "lfull_dataset = RealFakeDataset(mytest_image_paths, mytest_labels, transform=transform)\n",
    "ltrain_size = int(0.2 * len(lfull_dataset))\n",
    "ltest_size = len(lfull_dataset) - ltrain_size\n",
    "ltrain_dataset, ltest_dataset = torch.utils.data.random_split(lfull_dataset, [ltrain_size, ltest_size])\n",
    "ltest_loader = DataLoader(ltest_dataset, batch_size=64, shuffle=False)"
   ]
  },
  {
   "cell_type": "code",
   "execution_count": null,
   "id": "df80a038-690a-4456-9704-766a2577c7a7",
   "metadata": {},
   "outputs": [],
   "source": [
    "ltestacc = test_binary_classifier(teacher_student.teacher, teacher_student.student, binary_classifier.binary_classifier, feature_extractor, ltest_loader, device)\n",
    "add_log(f'Large test dataset accuracy: {ltestacc}')"
   ]
  },
  {
   "cell_type": "code",
   "execution_count": null,
   "id": "ae993f64-d0bc-43c6-9632-e9764d2d93bc",
   "metadata": {},
   "outputs": [],
   "source": [
    "ltestaccteacher = test_teacher(teacher_student.teacher, feature_extractor, ltest_loader, device)\n",
    "add_log(f'Large test dataset accuracy: {ltestacc}')"
   ]
  },
  {
   "cell_type": "code",
   "execution_count": null,
   "id": "237887d0-fa3b-4d46-8faf-75af5f56927e",
   "metadata": {},
   "outputs": [],
   "source": [
    "save_checkpoint(teacher_student.teacher, filename='teacher_test_cpt', epoch=0)\n",
    "save_checkpoint(teacher_student.student, filename='student_test_cpt', epoch=0)\n",
    "save_checkpoint(augmenter.feature_augmenter, filename='augmenter_test_cpt', epoch=0)\n",
    "save_checkpoint(binary_classifier.binary_classifier, filename='bin_classifier_test_cpt', epoch=0)"
   ]
  },
  {
   "cell_type": "code",
   "execution_count": null,
   "id": "965a2958-db64-4a62-b4ab-ff85019e96c7",
   "metadata": {},
   "outputs": [],
   "source": [
    "load_checkpoint(teacher_student.student, 'models/student_cpt_epoch29.pth.tar')"
   ]
  },
  {
   "cell_type": "code",
   "execution_count": null,
   "id": "e685c1ac-31d2-42b6-b4b6-00250a0470c0",
   "metadata": {},
   "outputs": [],
   "source": [
    "load_checkpoint(teacher_student.teacher, 'models/teacher_cpt_epoch5.pth.tar')"
   ]
  },
  {
   "cell_type": "code",
   "execution_count": null,
   "id": "b68f1072-c785-4125-b1c7-d07fa65acfc6",
   "metadata": {},
   "outputs": [],
   "source": [
    "load_checkpoint(augmenter.feature_augmenter, 'models/augmenter_cpt_epoch29.pth.tar')"
   ]
  },
  {
   "cell_type": "code",
   "execution_count": null,
   "id": "bbf4bb50-963c-446c-97a0-38cceec115c1",
   "metadata": {},
   "outputs": [],
   "source": [
    "load_checkpoint(binary_classifier.binary_classifier, 'models/bin_classifier_cpt_epoch12.pth.tar')"
   ]
  },
  {
   "cell_type": "code",
   "execution_count": null,
   "id": "73ca8cff-f5d5-4c94-92c3-f22e77a13472",
   "metadata": {},
   "outputs": [],
   "source": []
  }
 ],
 "metadata": {
  "kernelspec": {
   "display_name": "Python 3 (ipykernel)",
   "language": "python",
   "name": "python3"
  },
  "language_info": {
   "codemirror_mode": {
    "name": "ipython",
    "version": 3
   },
   "file_extension": ".py",
   "mimetype": "text/x-python",
   "name": "python",
   "nbconvert_exporter": "python",
   "pygments_lexer": "ipython3",
   "version": "3.11.5"
  }
 },
 "nbformat": 4,
 "nbformat_minor": 5
}
