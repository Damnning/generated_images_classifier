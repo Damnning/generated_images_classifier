{
 "cells": [
  {
   "cell_type": "code",
   "execution_count": 4,
   "id": "22c4dec1-0be9-4309-9a72-2b0f62b80444",
   "metadata": {},
   "outputs": [],
   "source": [
    "import os\n",
    "from PIL import Image\n",
    "from tqdm import tqdm"
   ]
  },
  {
   "cell_type": "code",
   "execution_count": 8,
   "id": "f0212acc-404e-4da8-ba5d-ac4cca689550",
   "metadata": {},
   "outputs": [
    {
     "name": "stderr",
     "output_type": "stream",
     "text": [
      "Cropping images: 100%|███████████████████████████████████████████████████████████████| 699/699 [04:25<00:00,  2.63it/s]"
     ]
    },
    {
     "name": "stdout",
     "output_type": "stream",
     "text": [
      "All images have been cropped.\n"
     ]
    },
    {
     "name": "stderr",
     "output_type": "stream",
     "text": [
      "\n"
     ]
    }
   ],
   "source": [
    "def crop_image(image_path, output_path):\n",
    "    with Image.open(image_path) as img:\n",
    "        size = min(img.size)\n",
    "        cropped = img.crop((0, 0, size, size))\n",
    "        cropped.save(output_path)\n",
    "def crop_images_in_directory(input_directory, output_directory):\n",
    "    # Ensure output directory exists\n",
    "    if not os.path.exists(output_directory):\n",
    "        os.makedirs(output_directory)\n",
    "\n",
    "    # List all files in the input directory\n",
    "    files = [f for f in os.listdir(input_directory) if f.lower().endswith(('.png', '.jpg', '.jpeg', '.bmp', '.gif'))]\n",
    "\n",
    "    # Process each file with a progress bar\n",
    "    for filename in tqdm(files, desc=\"Cropping images\"):\n",
    "        input_path = os.path.join(input_directory, filename)\n",
    "        output_path = os.path.join(output_directory, filename)\n",
    "        crop_image(input_path, output_path)\n",
    "\n",
    "if __name__ == \"__main__\":\n",
    "    input_directory = \"input/\"\n",
    "    output_directory = \"output//\"\n",
    "\n",
    "    crop_images_in_directory(input_directory, output_directory)\n",
    "    print(\"All images have been cropped.\")"
   ]
  },
  {
   "cell_type": "code",
   "execution_count": null,
   "id": "a15f7095-3aff-4aa9-9878-d9e69133ddce",
   "metadata": {},
   "outputs": [],
   "source": []
  }
 ],
 "metadata": {
  "kernelspec": {
   "display_name": "Python 3 (ipykernel)",
   "language": "python",
   "name": "python3"
  },
  "language_info": {
   "codemirror_mode": {
    "name": "ipython",
    "version": 3
   },
   "file_extension": ".py",
   "mimetype": "text/x-python",
   "name": "python",
   "nbconvert_exporter": "python",
   "pygments_lexer": "ipython3",
   "version": "3.11.5"
  }
 },
 "nbformat": 4,
 "nbformat_minor": 5
}
