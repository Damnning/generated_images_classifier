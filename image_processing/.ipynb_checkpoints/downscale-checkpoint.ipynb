{
 "cells": [
  {
   "cell_type": "code",
   "execution_count": 10,
   "id": "12a4c5a0-9e49-41d0-b2f2-f66ee3f7db37",
   "metadata": {},
   "outputs": [
    {
     "name": "stderr",
     "output_type": "stream",
     "text": [
      "Downscaling images:   0%|                                                                     | 0/7059 [00:00<?, ?it/s]C:\\Users\\Danila\\AppData\\Local\\Temp\\ipykernel_23484\\2187689092.py:12: DeprecationWarning: ANTIALIAS is deprecated and will be removed in Pillow 10 (2023-07-01). Use LANCZOS or Resampling.LANCZOS instead.\n",
      "  img = img.resize((new_width, new_height), Image.ANTIALIAS)\n",
      "Downscaling images: 100%|██████████████████████████████████████████████████████████| 7059/7059 [05:20<00:00, 22.03it/s]"
     ]
    },
    {
     "name": "stdout",
     "output_type": "stream",
     "text": [
      "All images have been downscaled.\n"
     ]
    },
    {
     "name": "stderr",
     "output_type": "stream",
     "text": [
      "\n"
     ]
    }
   ],
   "source": [
    "import os\n",
    "from PIL import Image\n",
    "from tqdm import tqdm\n",
    "\n",
    "def downscale_image(image_path, output_path, scale_factor):\n",
    "    \"\"\"Downscale an image by a given scale factor.\"\"\"\n",
    "    with Image.open(image_path) as img:\n",
    "        # Calculate new dimensions\n",
    "        new_width = int(img.width * scale_factor)\n",
    "        new_height = int(img.height * scale_factor)\n",
    "        # Resize the image\n",
    "        img = img.resize((new_width, new_height), Image.ANTIALIAS)\n",
    "        # Save the downscaled image\n",
    "        img.save(output_path)\n",
    "\n",
    "def downscale_images_in_directory(input_directory, output_directory, scale_factor):\n",
    "    \"\"\"Downscale all images in the input directory and save them to the output directory.\"\"\"\n",
    "    # Ensure output directory exists\n",
    "    if not os.path.exists(output_directory):\n",
    "        os.makedirs(output_directory)\n",
    "\n",
    "    # List all files in the input directory\n",
    "    files = [f for f in os.listdir(input_directory) if f.lower().endswith(('.png', '.jpg', '.jpeg', '.bmp', '.gif'))]\n",
    "\n",
    "    # Process each file with a progress bar\n",
    "    for filename in tqdm(files, desc=\"Downscaling images\"):\n",
    "        input_path = os.path.join(input_directory, filename)\n",
    "        output_path = os.path.join(output_directory, filename)\n",
    "        downscale_image(input_path, output_path, scale_factor)\n",
    "\n",
    "if __name__ == \"__main__\":\n",
    "    input_directory = \"img/\"\n",
    "    output_directory = \"scaled/\"\n",
    "    scale_factor = 0.5  # Example scale factor to reduce size by 50%\n",
    "\n",
    "    downscale_images_in_directory(input_directory, output_directory, scale_factor)\n",
    "    print(\"All images have been downscaled.\")"
   ]
  },
  {
   "cell_type": "code",
   "execution_count": null,
   "id": "05d492a3-e503-4ff9-9849-c95de4d837a3",
   "metadata": {},
   "outputs": [],
   "source": []
  }
 ],
 "metadata": {
  "kernelspec": {
   "display_name": "Python 3 (ipykernel)",
   "language": "python",
   "name": "python3"
  },
  "language_info": {
   "codemirror_mode": {
    "name": "ipython",
    "version": 3
   },
   "file_extension": ".py",
   "mimetype": "text/x-python",
   "name": "python",
   "nbconvert_exporter": "python",
   "pygments_lexer": "ipython3",
   "version": "3.11.5"
  }
 },
 "nbformat": 4,
 "nbformat_minor": 5
}
